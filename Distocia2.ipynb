{
 "cells": [
  {
   "cell_type": "markdown",
   "metadata": {},
   "source": [
    "# Importando librarys"
   ]
  },
  {
   "cell_type": "code",
   "execution_count": 2,
   "metadata": {},
   "outputs": [],
   "source": [
    "import pandas as pd\n",
    "import numpy as np\n",
    "import matplotlib.pyplot as plt\n",
    "from sklearn.model_selection import train_test_split"
   ]
  },
  {
   "cell_type": "markdown",
   "metadata": {},
   "source": [
    "# Criando DataFrame"
   ]
  },
  {
   "cell_type": "code",
   "execution_count": 3,
   "metadata": {},
   "outputs": [
    {
     "data": {
      "text/html": [
       "<div>\n",
       "<style scoped>\n",
       "    .dataframe tbody tr th:only-of-type {\n",
       "        vertical-align: middle;\n",
       "    }\n",
       "\n",
       "    .dataframe tbody tr th {\n",
       "        vertical-align: top;\n",
       "    }\n",
       "\n",
       "    .dataframe thead th {\n",
       "        text-align: right;\n",
       "    }\n",
       "</style>\n",
       "<table border=\"1\" class=\"dataframe\">\n",
       "  <thead>\n",
       "    <tr style=\"text-align: right;\">\n",
       "      <th></th>\n",
       "      <th>NRO</th>\n",
       "      <th>Situação do parto</th>\n",
       "      <th>Bezerro deste parto</th>\n",
       "      <th>Tipo de prenhez</th>\n",
       "      <th>ECC</th>\n",
       "      <th>Multiparidade</th>\n",
       "      <th>IPC (mês)</th>\n",
       "      <th>PS (mês)</th>\n",
       "      <th>IEP (mês)</th>\n",
       "      <th>Nº SC</th>\n",
       "      <th>...</th>\n",
       "      <th>ST (%)</th>\n",
       "      <th>ES (%)</th>\n",
       "      <th>CCS 1000x células/ml</th>\n",
       "      <th>ECS</th>\n",
       "      <th>Data do parto</th>\n",
       "      <th>Estações do ano</th>\n",
       "      <th>ITU</th>\n",
       "      <th>Temp (ºC)</th>\n",
       "      <th>UR (%)</th>\n",
       "      <th>Precipitação (mm)</th>\n",
       "    </tr>\n",
       "  </thead>\n",
       "  <tbody>\n",
       "    <tr>\n",
       "      <th>0</th>\n",
       "      <td>0004X</td>\n",
       "      <td>Ajudado posicionado</td>\n",
       "      <td>Fêmea</td>\n",
       "      <td>TE/FIV</td>\n",
       "      <td>3.5</td>\n",
       "      <td>terceira</td>\n",
       "      <td>NaN</td>\n",
       "      <td>NaN</td>\n",
       "      <td>26.6</td>\n",
       "      <td>7</td>\n",
       "      <td>...</td>\n",
       "      <td>NaN</td>\n",
       "      <td>NaN</td>\n",
       "      <td>NaN</td>\n",
       "      <td>NaN</td>\n",
       "      <td>2013-09-10</td>\n",
       "      <td>inverno</td>\n",
       "      <td>69.385045</td>\n",
       "      <td>23.185208</td>\n",
       "      <td>50.503958</td>\n",
       "      <td>0.000000</td>\n",
       "    </tr>\n",
       "    <tr>\n",
       "      <th>1</th>\n",
       "      <td>0011X</td>\n",
       "      <td>Ajudado posicionado</td>\n",
       "      <td>Macho</td>\n",
       "      <td>TE/FIV</td>\n",
       "      <td>4.0</td>\n",
       "      <td>quarta</td>\n",
       "      <td>0.966667</td>\n",
       "      <td>1.433333</td>\n",
       "      <td>17.2</td>\n",
       "      <td>6</td>\n",
       "      <td>...</td>\n",
       "      <td>NaN</td>\n",
       "      <td>NaN</td>\n",
       "      <td>NaN</td>\n",
       "      <td>NaN</td>\n",
       "      <td>2013-02-09</td>\n",
       "      <td>verão</td>\n",
       "      <td>70.298804</td>\n",
       "      <td>22.152500</td>\n",
       "      <td>79.675000</td>\n",
       "      <td>0.000000</td>\n",
       "    </tr>\n",
       "    <tr>\n",
       "      <th>2</th>\n",
       "      <td>0024X</td>\n",
       "      <td>Normal</td>\n",
       "      <td>Macho</td>\n",
       "      <td>TE/FIV</td>\n",
       "      <td>3.5</td>\n",
       "      <td>quinta</td>\n",
       "      <td>2.133333</td>\n",
       "      <td>2.766667</td>\n",
       "      <td>20.1</td>\n",
       "      <td>6</td>\n",
       "      <td>...</td>\n",
       "      <td>NaN</td>\n",
       "      <td>NaN</td>\n",
       "      <td>NaN</td>\n",
       "      <td>NaN</td>\n",
       "      <td>2013-12-18</td>\n",
       "      <td>primavera</td>\n",
       "      <td>71.511700</td>\n",
       "      <td>23.753750</td>\n",
       "      <td>65.307500</td>\n",
       "      <td>2.979167</td>\n",
       "    </tr>\n",
       "    <tr>\n",
       "      <th>3</th>\n",
       "      <td>0042X</td>\n",
       "      <td>Normal</td>\n",
       "      <td>Fêmea</td>\n",
       "      <td>TE/FIV</td>\n",
       "      <td>3.0</td>\n",
       "      <td>sexta</td>\n",
       "      <td>NaN</td>\n",
       "      <td>NaN</td>\n",
       "      <td>17.4</td>\n",
       "      <td>6</td>\n",
       "      <td>...</td>\n",
       "      <td>NaN</td>\n",
       "      <td>NaN</td>\n",
       "      <td>NaN</td>\n",
       "      <td>NaN</td>\n",
       "      <td>2013-12-28</td>\n",
       "      <td>verão</td>\n",
       "      <td>74.514354</td>\n",
       "      <td>25.080625</td>\n",
       "      <td>75.368750</td>\n",
       "      <td>0.000000</td>\n",
       "    </tr>\n",
       "    <tr>\n",
       "      <th>4</th>\n",
       "      <td>0061X</td>\n",
       "      <td>Ajudado posicionado</td>\n",
       "      <td>Natimorto</td>\n",
       "      <td>IA</td>\n",
       "      <td>3.0</td>\n",
       "      <td>sexta</td>\n",
       "      <td>4.200000</td>\n",
       "      <td>4.200000</td>\n",
       "      <td>15.5</td>\n",
       "      <td>3</td>\n",
       "      <td>...</td>\n",
       "      <td>NaN</td>\n",
       "      <td>NaN</td>\n",
       "      <td>NaN</td>\n",
       "      <td>NaN</td>\n",
       "      <td>2014-03-02</td>\n",
       "      <td>verão</td>\n",
       "      <td>72.659058</td>\n",
       "      <td>23.683958</td>\n",
       "      <td>78.758333</td>\n",
       "      <td>0.458333</td>\n",
       "    </tr>\n",
       "  </tbody>\n",
       "</table>\n",
       "<p>5 rows × 30 columns</p>\n",
       "</div>"
      ],
      "text/plain": [
       "     NRO    Situação do parto Bezerro deste parto Tipo de prenhez  ECC  \\\n",
       "0  0004X  Ajudado posicionado               Fêmea          TE/FIV  3.5   \n",
       "1  0011X  Ajudado posicionado               Macho          TE/FIV  4.0   \n",
       "2  0024X               Normal               Macho          TE/FIV  3.5   \n",
       "3  0042X               Normal               Fêmea          TE/FIV  3.0   \n",
       "4  0061X  Ajudado posicionado           Natimorto              IA  3.0   \n",
       "\n",
       "  Multiparidade  IPC (mês)  PS (mês)  IEP (mês)  Nº SC  ...  ST (%)  ES (%)  \\\n",
       "0      terceira        NaN       NaN       26.6      7  ...     NaN     NaN   \n",
       "1        quarta   0.966667  1.433333       17.2      6  ...     NaN     NaN   \n",
       "2        quinta   2.133333  2.766667       20.1      6  ...     NaN     NaN   \n",
       "3         sexta        NaN       NaN       17.4      6  ...     NaN     NaN   \n",
       "4         sexta   4.200000  4.200000       15.5      3  ...     NaN     NaN   \n",
       "\n",
       "   CCS 1000x células/ml  ECS  Data do parto  Estações do ano        ITU  \\\n",
       "0                   NaN  NaN     2013-09-10          inverno  69.385045   \n",
       "1                   NaN  NaN     2013-02-09            verão  70.298804   \n",
       "2                   NaN  NaN     2013-12-18        primavera  71.511700   \n",
       "3                   NaN  NaN     2013-12-28            verão  74.514354   \n",
       "4                   NaN  NaN     2014-03-02            verão  72.659058   \n",
       "\n",
       "   Temp (ºC)     UR (%)  Precipitação (mm)  \n",
       "0  23.185208  50.503958           0.000000  \n",
       "1  22.152500  79.675000           0.000000  \n",
       "2  23.753750  65.307500           2.979167  \n",
       "3  25.080625  75.368750           0.000000  \n",
       "4  23.683958  78.758333           0.458333  \n",
       "\n",
       "[5 rows x 30 columns]"
      ]
     },
     "execution_count": 3,
     "metadata": {},
     "output_type": "execute_result"
    }
   ],
   "source": [
    "dados = pd.read_excel(\"Distocia.xlsx\", skiprows=1)\n",
    "dados.head()"
   ]
  },
  {
   "cell_type": "markdown",
   "metadata": {
    "tags": []
   },
   "source": [
    "## Limpando colunas que não são de interesse"
   ]
  },
  {
   "cell_type": "code",
   "execution_count": 4,
   "metadata": {},
   "outputs": [
    {
     "data": {
      "text/html": [
       "<div>\n",
       "<style scoped>\n",
       "    .dataframe tbody tr th:only-of-type {\n",
       "        vertical-align: middle;\n",
       "    }\n",
       "\n",
       "    .dataframe tbody tr th {\n",
       "        vertical-align: top;\n",
       "    }\n",
       "\n",
       "    .dataframe thead th {\n",
       "        text-align: right;\n",
       "    }\n",
       "</style>\n",
       "<table border=\"1\" class=\"dataframe\">\n",
       "  <thead>\n",
       "    <tr style=\"text-align: right;\">\n",
       "      <th></th>\n",
       "      <th>Situação do parto</th>\n",
       "      <th>Bezerro deste parto</th>\n",
       "      <th>Tipo de prenhez</th>\n",
       "      <th>ECC</th>\n",
       "      <th>Multiparidade</th>\n",
       "      <th>IPC (mês)</th>\n",
       "      <th>PS (mês)</th>\n",
       "      <th>IEP (mês)</th>\n",
       "      <th>Nº SC</th>\n",
       "      <th>PA (kg/L/lactação)</th>\n",
       "      <th>...</th>\n",
       "      <th>LACT (%)</th>\n",
       "      <th>ST (%)</th>\n",
       "      <th>ES (%)</th>\n",
       "      <th>CCS 1000x células/ml</th>\n",
       "      <th>ECS</th>\n",
       "      <th>Estações do ano</th>\n",
       "      <th>ITU</th>\n",
       "      <th>Temp (ºC)</th>\n",
       "      <th>UR (%)</th>\n",
       "      <th>Precipitação (mm)</th>\n",
       "    </tr>\n",
       "  </thead>\n",
       "  <tbody>\n",
       "    <tr>\n",
       "      <th>0</th>\n",
       "      <td>Ajudado posicionado</td>\n",
       "      <td>Fêmea</td>\n",
       "      <td>TE/FIV</td>\n",
       "      <td>3.5</td>\n",
       "      <td>terceira</td>\n",
       "      <td>NaN</td>\n",
       "      <td>NaN</td>\n",
       "      <td>26.6</td>\n",
       "      <td>7</td>\n",
       "      <td>825.024</td>\n",
       "      <td>...</td>\n",
       "      <td>NaN</td>\n",
       "      <td>NaN</td>\n",
       "      <td>NaN</td>\n",
       "      <td>NaN</td>\n",
       "      <td>NaN</td>\n",
       "      <td>inverno</td>\n",
       "      <td>69.385045</td>\n",
       "      <td>23.185208</td>\n",
       "      <td>50.503958</td>\n",
       "      <td>0.000000</td>\n",
       "    </tr>\n",
       "    <tr>\n",
       "      <th>1</th>\n",
       "      <td>Ajudado posicionado</td>\n",
       "      <td>Macho</td>\n",
       "      <td>TE/FIV</td>\n",
       "      <td>4.0</td>\n",
       "      <td>quarta</td>\n",
       "      <td>0.966667</td>\n",
       "      <td>1.433333</td>\n",
       "      <td>17.2</td>\n",
       "      <td>6</td>\n",
       "      <td>824.290</td>\n",
       "      <td>...</td>\n",
       "      <td>NaN</td>\n",
       "      <td>NaN</td>\n",
       "      <td>NaN</td>\n",
       "      <td>NaN</td>\n",
       "      <td>NaN</td>\n",
       "      <td>verão</td>\n",
       "      <td>70.298804</td>\n",
       "      <td>22.152500</td>\n",
       "      <td>79.675000</td>\n",
       "      <td>0.000000</td>\n",
       "    </tr>\n",
       "    <tr>\n",
       "      <th>2</th>\n",
       "      <td>Normal</td>\n",
       "      <td>Macho</td>\n",
       "      <td>TE/FIV</td>\n",
       "      <td>3.5</td>\n",
       "      <td>quinta</td>\n",
       "      <td>2.133333</td>\n",
       "      <td>2.766667</td>\n",
       "      <td>20.1</td>\n",
       "      <td>6</td>\n",
       "      <td>3046.213</td>\n",
       "      <td>...</td>\n",
       "      <td>NaN</td>\n",
       "      <td>NaN</td>\n",
       "      <td>NaN</td>\n",
       "      <td>NaN</td>\n",
       "      <td>NaN</td>\n",
       "      <td>primavera</td>\n",
       "      <td>71.511700</td>\n",
       "      <td>23.753750</td>\n",
       "      <td>65.307500</td>\n",
       "      <td>2.979167</td>\n",
       "    </tr>\n",
       "    <tr>\n",
       "      <th>3</th>\n",
       "      <td>Normal</td>\n",
       "      <td>Fêmea</td>\n",
       "      <td>TE/FIV</td>\n",
       "      <td>3.0</td>\n",
       "      <td>sexta</td>\n",
       "      <td>NaN</td>\n",
       "      <td>NaN</td>\n",
       "      <td>17.4</td>\n",
       "      <td>6</td>\n",
       "      <td>NaN</td>\n",
       "      <td>...</td>\n",
       "      <td>NaN</td>\n",
       "      <td>NaN</td>\n",
       "      <td>NaN</td>\n",
       "      <td>NaN</td>\n",
       "      <td>NaN</td>\n",
       "      <td>verão</td>\n",
       "      <td>74.514354</td>\n",
       "      <td>25.080625</td>\n",
       "      <td>75.368750</td>\n",
       "      <td>0.000000</td>\n",
       "    </tr>\n",
       "    <tr>\n",
       "      <th>4</th>\n",
       "      <td>Ajudado posicionado</td>\n",
       "      <td>Natimorto</td>\n",
       "      <td>IA</td>\n",
       "      <td>3.0</td>\n",
       "      <td>sexta</td>\n",
       "      <td>4.200000</td>\n",
       "      <td>4.200000</td>\n",
       "      <td>15.5</td>\n",
       "      <td>3</td>\n",
       "      <td>3679.795</td>\n",
       "      <td>...</td>\n",
       "      <td>NaN</td>\n",
       "      <td>NaN</td>\n",
       "      <td>NaN</td>\n",
       "      <td>NaN</td>\n",
       "      <td>NaN</td>\n",
       "      <td>verão</td>\n",
       "      <td>72.659058</td>\n",
       "      <td>23.683958</td>\n",
       "      <td>78.758333</td>\n",
       "      <td>0.458333</td>\n",
       "    </tr>\n",
       "  </tbody>\n",
       "</table>\n",
       "<p>5 rows × 28 columns</p>\n",
       "</div>"
      ],
      "text/plain": [
       "     Situação do parto Bezerro deste parto Tipo de prenhez  ECC Multiparidade  \\\n",
       "0  Ajudado posicionado               Fêmea          TE/FIV  3.5      terceira   \n",
       "1  Ajudado posicionado               Macho          TE/FIV  4.0        quarta   \n",
       "2               Normal               Macho          TE/FIV  3.5        quinta   \n",
       "3               Normal               Fêmea          TE/FIV  3.0         sexta   \n",
       "4  Ajudado posicionado           Natimorto              IA  3.0         sexta   \n",
       "\n",
       "   IPC (mês)  PS (mês)  IEP (mês)  Nº SC  PA (kg/L/lactação)  ...  LACT (%)  \\\n",
       "0        NaN       NaN       26.6      7             825.024  ...       NaN   \n",
       "1   0.966667  1.433333       17.2      6             824.290  ...       NaN   \n",
       "2   2.133333  2.766667       20.1      6            3046.213  ...       NaN   \n",
       "3        NaN       NaN       17.4      6                 NaN  ...       NaN   \n",
       "4   4.200000  4.200000       15.5      3            3679.795  ...       NaN   \n",
       "\n",
       "   ST (%)  ES (%)  CCS 1000x células/ml  ECS  Estações do ano        ITU  \\\n",
       "0     NaN     NaN                   NaN  NaN          inverno  69.385045   \n",
       "1     NaN     NaN                   NaN  NaN            verão  70.298804   \n",
       "2     NaN     NaN                   NaN  NaN        primavera  71.511700   \n",
       "3     NaN     NaN                   NaN  NaN            verão  74.514354   \n",
       "4     NaN     NaN                   NaN  NaN            verão  72.659058   \n",
       "\n",
       "   Temp (ºC)     UR (%)  Precipitação (mm)  \n",
       "0  23.185208  50.503958           0.000000  \n",
       "1  22.152500  79.675000           0.000000  \n",
       "2  23.753750  65.307500           2.979167  \n",
       "3  25.080625  75.368750           0.000000  \n",
       "4  23.683958  78.758333           0.458333  \n",
       "\n",
       "[5 rows x 28 columns]"
      ]
     },
     "execution_count": 4,
     "metadata": {},
     "output_type": "execute_result"
    }
   ],
   "source": [
    "dados.drop([\"NRO\", \"Data do parto\"], axis=1, inplace=True)\n",
    "dados.head()"
   ]
  },
  {
   "cell_type": "markdown",
   "metadata": {
    "tags": []
   },
   "source": [
    "## Este BD possui uma quantidade alta de Missing Values\n",
    "### Informações do banco de dados"
   ]
  },
  {
   "cell_type": "code",
   "execution_count": 5,
   "metadata": {
    "tags": []
   },
   "outputs": [
    {
     "name": "stdout",
     "output_type": "stream",
     "text": [
      "<class 'pandas.core.frame.DataFrame'>\n",
      "RangeIndex: 9120 entries, 0 to 9119\n",
      "Data columns (total 28 columns):\n",
      " #   Column                  Non-Null Count  Dtype  \n",
      "---  ------                  --------------  -----  \n",
      " 0   Situação do parto       9120 non-null   object \n",
      " 1   Bezerro deste parto     9120 non-null   object \n",
      " 2   Tipo de prenhez         9120 non-null   object \n",
      " 3   ECC                     8938 non-null   float64\n",
      " 4   Multiparidade           9119 non-null   object \n",
      " 5   IPC (mês)               7469 non-null   float64\n",
      " 6   PS (mês)                7469 non-null   float64\n",
      " 7   IEP (mês)               9112 non-null   float64\n",
      " 8   Nº SC                   9120 non-null   int64  \n",
      " 9   PA (kg/L/lactação)      8256 non-null   float64\n",
      " 10  PMD (kg/L/dia)          8256 non-null   float64\n",
      " 11  PLMD (4%G) (kg/L/dias)  4354 non-null   float64\n",
      " 12  DEL (dias)              8256 non-null   float64\n",
      " 13  PAT (kg/L/lactação)     8218 non-null   float64\n",
      " 14  PMDT (kg/L/dia)         8218 non-null   float64\n",
      " 15  DELA (dias)             8218 non-null   float64\n",
      " 16  GORD (%)                4993 non-null   float64\n",
      " 17  PROT (%)                4993 non-null   float64\n",
      " 18  LACT (%)                4993 non-null   float64\n",
      " 19  ST (%)                  4993 non-null   float64\n",
      " 20  ES (%)                  4993 non-null   float64\n",
      " 21  CCS 1000x células/ml    4993 non-null   float64\n",
      " 22  ECS                     4993 non-null   float64\n",
      " 23  Estações do ano         9120 non-null   object \n",
      " 24  ITU                     9120 non-null   float64\n",
      " 25  Temp (ºC)               9120 non-null   float64\n",
      " 26  UR (%)                  9120 non-null   float64\n",
      " 27  Precipitação (mm)       9118 non-null   float64\n",
      "dtypes: float64(22), int64(1), object(5)\n",
      "memory usage: 1.9+ MB\n"
     ]
    }
   ],
   "source": [
    "dados.info()"
   ]
  },
  {
   "cell_type": "markdown",
   "metadata": {},
   "source": [
    "# Análise inicial dos missing values\n",
    "## Percentual de missing values por variável e subdividido em grupos por variável numérica\n"
   ]
  },
  {
   "cell_type": "code",
   "execution_count": 6,
   "metadata": {
    "tags": []
   },
   "outputs": [
    {
     "name": "stdout",
     "output_type": "stream",
     "text": [
      "Situação do parto            0\n",
      "Bezerro deste parto          0\n",
      "Tipo de prenhez              0\n",
      "ECC                        182\n",
      "Multiparidade                1\n",
      "IPC (mês)                 1651\n",
      "PS (mês)                  1651\n",
      "IEP (mês)                    8\n",
      "Nº SC                        0\n",
      "PA (kg/L/lactação)         864\n",
      "PMD (kg/L/dia)             864\n",
      "PLMD (4%G) (kg/L/dias)    4766\n",
      "DEL (dias)                 864\n",
      "PAT (kg/L/lactação)        902\n",
      "PMDT (kg/L/dia)            902\n",
      "DELA (dias)                902\n",
      "GORD (%)                  4127\n",
      "PROT (%)                  4127\n",
      "LACT (%)                  4127\n",
      "ST (%)                    4127\n",
      "ES (%)                    4127\n",
      "CCS 1000x células/ml      4127\n",
      "ECS                       4127\n",
      "Estações do ano              0\n",
      "ITU                          0\n",
      "Temp (ºC)                    0\n",
      "UR (%)                       0\n",
      "Precipitação (mm)            2\n",
      "dtype: int64\n"
     ]
    }
   ],
   "source": [
    "print(dados.isnull().sum())"
   ]
  },
  {
   "cell_type": "code",
   "execution_count": 7,
   "metadata": {},
   "outputs": [
    {
     "data": {
      "text/html": [
       "<div>\n",
       "<style scoped>\n",
       "    .dataframe tbody tr th:only-of-type {\n",
       "        vertical-align: middle;\n",
       "    }\n",
       "\n",
       "    .dataframe tbody tr th {\n",
       "        vertical-align: top;\n",
       "    }\n",
       "\n",
       "    .dataframe thead th {\n",
       "        text-align: right;\n",
       "    }\n",
       "</style>\n",
       "<table border=\"1\" class=\"dataframe\">\n",
       "  <thead>\n",
       "    <tr style=\"text-align: right;\">\n",
       "      <th></th>\n",
       "      <th>Situação do parto</th>\n",
       "      <th>Bezerro deste parto</th>\n",
       "      <th>Tipo de prenhez</th>\n",
       "      <th>ECC</th>\n",
       "      <th>Multiparidade</th>\n",
       "      <th>IPC (mês)</th>\n",
       "      <th>PS (mês)</th>\n",
       "      <th>IEP (mês)</th>\n",
       "      <th>Nº SC</th>\n",
       "      <th>PA (kg/L/lactação)</th>\n",
       "      <th>...</th>\n",
       "      <th>LACT (%)</th>\n",
       "      <th>ST (%)</th>\n",
       "      <th>ES (%)</th>\n",
       "      <th>CCS 1000x células/ml</th>\n",
       "      <th>ECS</th>\n",
       "      <th>Estações do ano</th>\n",
       "      <th>ITU</th>\n",
       "      <th>Temp (ºC)</th>\n",
       "      <th>UR (%)</th>\n",
       "      <th>Precipitação (mm)</th>\n",
       "    </tr>\n",
       "    <tr>\n",
       "      <th>Situação do parto</th>\n",
       "      <th></th>\n",
       "      <th></th>\n",
       "      <th></th>\n",
       "      <th></th>\n",
       "      <th></th>\n",
       "      <th></th>\n",
       "      <th></th>\n",
       "      <th></th>\n",
       "      <th></th>\n",
       "      <th></th>\n",
       "      <th></th>\n",
       "      <th></th>\n",
       "      <th></th>\n",
       "      <th></th>\n",
       "      <th></th>\n",
       "      <th></th>\n",
       "      <th></th>\n",
       "      <th></th>\n",
       "      <th></th>\n",
       "      <th></th>\n",
       "      <th></th>\n",
       "    </tr>\n",
       "  </thead>\n",
       "  <tbody>\n",
       "    <tr>\n",
       "      <th>Ajudado difícil</th>\n",
       "      <td>0.0</td>\n",
       "      <td>0.0</td>\n",
       "      <td>0.0</td>\n",
       "      <td>0.009615</td>\n",
       "      <td>0.000000</td>\n",
       "      <td>0.211538</td>\n",
       "      <td>0.211538</td>\n",
       "      <td>0.001374</td>\n",
       "      <td>0.0</td>\n",
       "      <td>0.140110</td>\n",
       "      <td>...</td>\n",
       "      <td>0.549451</td>\n",
       "      <td>0.549451</td>\n",
       "      <td>0.549451</td>\n",
       "      <td>0.549451</td>\n",
       "      <td>0.556319</td>\n",
       "      <td>0.0</td>\n",
       "      <td>0.0</td>\n",
       "      <td>0.0</td>\n",
       "      <td>0.0</td>\n",
       "      <td>0.00000</td>\n",
       "    </tr>\n",
       "    <tr>\n",
       "      <th>Ajudado posicionado</th>\n",
       "      <td>0.0</td>\n",
       "      <td>0.0</td>\n",
       "      <td>0.0</td>\n",
       "      <td>0.004831</td>\n",
       "      <td>0.000000</td>\n",
       "      <td>0.171153</td>\n",
       "      <td>0.171498</td>\n",
       "      <td>0.000690</td>\n",
       "      <td>0.0</td>\n",
       "      <td>0.082816</td>\n",
       "      <td>...</td>\n",
       "      <td>0.444444</td>\n",
       "      <td>0.444444</td>\n",
       "      <td>0.444444</td>\n",
       "      <td>0.444444</td>\n",
       "      <td>0.438923</td>\n",
       "      <td>0.0</td>\n",
       "      <td>0.0</td>\n",
       "      <td>0.0</td>\n",
       "      <td>0.0</td>\n",
       "      <td>0.00069</td>\n",
       "    </tr>\n",
       "    <tr>\n",
       "      <th>Normal</th>\n",
       "      <td>0.0</td>\n",
       "      <td>0.0</td>\n",
       "      <td>0.0</td>\n",
       "      <td>0.029305</td>\n",
       "      <td>0.000182</td>\n",
       "      <td>0.182199</td>\n",
       "      <td>0.182017</td>\n",
       "      <td>0.000910</td>\n",
       "      <td>0.0</td>\n",
       "      <td>0.095013</td>\n",
       "      <td>...</td>\n",
       "      <td>0.443939</td>\n",
       "      <td>0.443939</td>\n",
       "      <td>0.443939</td>\n",
       "      <td>0.443939</td>\n",
       "      <td>0.445941</td>\n",
       "      <td>0.0</td>\n",
       "      <td>0.0</td>\n",
       "      <td>0.0</td>\n",
       "      <td>0.0</td>\n",
       "      <td>0.00000</td>\n",
       "    </tr>\n",
       "  </tbody>\n",
       "</table>\n",
       "<p>3 rows × 28 columns</p>\n",
       "</div>"
      ],
      "text/plain": [
       "                     Situação do parto  Bezerro deste parto  Tipo de prenhez  \\\n",
       "Situação do parto                                                              \n",
       "Ajudado difícil                    0.0                  0.0              0.0   \n",
       "Ajudado posicionado                0.0                  0.0              0.0   \n",
       "Normal                             0.0                  0.0              0.0   \n",
       "\n",
       "                          ECC  Multiparidade  IPC (mês)  PS (mês)  IEP (mês)  \\\n",
       "Situação do parto                                                              \n",
       "Ajudado difícil      0.009615       0.000000   0.211538  0.211538   0.001374   \n",
       "Ajudado posicionado  0.004831       0.000000   0.171153  0.171498   0.000690   \n",
       "Normal               0.029305       0.000182   0.182199  0.182017   0.000910   \n",
       "\n",
       "                     Nº SC  PA (kg/L/lactação)  ...  LACT (%)    ST (%)  \\\n",
       "Situação do parto                               ...                       \n",
       "Ajudado difícil        0.0            0.140110  ...  0.549451  0.549451   \n",
       "Ajudado posicionado    0.0            0.082816  ...  0.444444  0.444444   \n",
       "Normal                 0.0            0.095013  ...  0.443939  0.443939   \n",
       "\n",
       "                       ES (%)  CCS 1000x células/ml       ECS  \\\n",
       "Situação do parto                                               \n",
       "Ajudado difícil      0.549451              0.549451  0.556319   \n",
       "Ajudado posicionado  0.444444              0.444444  0.438923   \n",
       "Normal               0.443939              0.443939  0.445941   \n",
       "\n",
       "                     Estações do ano  ITU  Temp (ºC)  UR (%)  \\\n",
       "Situação do parto                                              \n",
       "Ajudado difícil                  0.0  0.0        0.0     0.0   \n",
       "Ajudado posicionado              0.0  0.0        0.0     0.0   \n",
       "Normal                           0.0  0.0        0.0     0.0   \n",
       "\n",
       "                     Precipitação (mm)  \n",
       "Situação do parto                       \n",
       "Ajudado difícil                0.00000  \n",
       "Ajudado posicionado            0.00069  \n",
       "Normal                         0.00000  \n",
       "\n",
       "[3 rows x 28 columns]"
      ]
     },
     "execution_count": 7,
     "metadata": {},
     "output_type": "execute_result"
    }
   ],
   "source": [
    "dados.isnull().groupby(dados['Situação do parto']).mean()"
   ]
  },
  {
   "cell_type": "code",
   "execution_count": 8,
   "metadata": {},
   "outputs": [
    {
     "data": {
      "text/html": [
       "<div>\n",
       "<style scoped>\n",
       "    .dataframe tbody tr th:only-of-type {\n",
       "        vertical-align: middle;\n",
       "    }\n",
       "\n",
       "    .dataframe tbody tr th {\n",
       "        vertical-align: top;\n",
       "    }\n",
       "\n",
       "    .dataframe thead th {\n",
       "        text-align: right;\n",
       "    }\n",
       "</style>\n",
       "<table border=\"1\" class=\"dataframe\">\n",
       "  <thead>\n",
       "    <tr style=\"text-align: right;\">\n",
       "      <th></th>\n",
       "      <th>ECC</th>\n",
       "      <th>IPC (mês)</th>\n",
       "      <th>PS (mês)</th>\n",
       "      <th>IEP (mês)</th>\n",
       "      <th>Nº SC</th>\n",
       "      <th>PA (kg/L/lactação)</th>\n",
       "      <th>PMD (kg/L/dia)</th>\n",
       "      <th>PLMD (4%G) (kg/L/dias)</th>\n",
       "      <th>DEL (dias)</th>\n",
       "      <th>PAT (kg/L/lactação)</th>\n",
       "      <th>...</th>\n",
       "      <th>PROT (%)</th>\n",
       "      <th>LACT (%)</th>\n",
       "      <th>ST (%)</th>\n",
       "      <th>ES (%)</th>\n",
       "      <th>CCS 1000x células/ml</th>\n",
       "      <th>ECS</th>\n",
       "      <th>ITU</th>\n",
       "      <th>Temp (ºC)</th>\n",
       "      <th>UR (%)</th>\n",
       "      <th>Precipitação (mm)</th>\n",
       "    </tr>\n",
       "    <tr>\n",
       "      <th>Situação do parto</th>\n",
       "      <th></th>\n",
       "      <th></th>\n",
       "      <th></th>\n",
       "      <th></th>\n",
       "      <th></th>\n",
       "      <th></th>\n",
       "      <th></th>\n",
       "      <th></th>\n",
       "      <th></th>\n",
       "      <th></th>\n",
       "      <th></th>\n",
       "      <th></th>\n",
       "      <th></th>\n",
       "      <th></th>\n",
       "      <th></th>\n",
       "      <th></th>\n",
       "      <th></th>\n",
       "      <th></th>\n",
       "      <th></th>\n",
       "      <th></th>\n",
       "      <th></th>\n",
       "    </tr>\n",
       "  </thead>\n",
       "  <tbody>\n",
       "    <tr>\n",
       "      <th>Ajudado difícil</th>\n",
       "      <td>0.009615</td>\n",
       "      <td>0.211538</td>\n",
       "      <td>0.211538</td>\n",
       "      <td>0.001374</td>\n",
       "      <td>0.0</td>\n",
       "      <td>0.140110</td>\n",
       "      <td>0.140110</td>\n",
       "      <td>0.633242</td>\n",
       "      <td>0.140110</td>\n",
       "      <td>0.144231</td>\n",
       "      <td>...</td>\n",
       "      <td>0.549451</td>\n",
       "      <td>0.549451</td>\n",
       "      <td>0.549451</td>\n",
       "      <td>0.549451</td>\n",
       "      <td>0.549451</td>\n",
       "      <td>0.556319</td>\n",
       "      <td>0.0</td>\n",
       "      <td>0.0</td>\n",
       "      <td>0.0</td>\n",
       "      <td>0.00000</td>\n",
       "    </tr>\n",
       "    <tr>\n",
       "      <th>Ajudado posicionado</th>\n",
       "      <td>0.004831</td>\n",
       "      <td>0.171153</td>\n",
       "      <td>0.171498</td>\n",
       "      <td>0.000690</td>\n",
       "      <td>0.0</td>\n",
       "      <td>0.082816</td>\n",
       "      <td>0.082816</td>\n",
       "      <td>0.503106</td>\n",
       "      <td>0.082816</td>\n",
       "      <td>0.086957</td>\n",
       "      <td>...</td>\n",
       "      <td>0.444444</td>\n",
       "      <td>0.444444</td>\n",
       "      <td>0.444444</td>\n",
       "      <td>0.444444</td>\n",
       "      <td>0.444444</td>\n",
       "      <td>0.438923</td>\n",
       "      <td>0.0</td>\n",
       "      <td>0.0</td>\n",
       "      <td>0.0</td>\n",
       "      <td>0.00069</td>\n",
       "    </tr>\n",
       "    <tr>\n",
       "      <th>Normal</th>\n",
       "      <td>0.029305</td>\n",
       "      <td>0.182199</td>\n",
       "      <td>0.182017</td>\n",
       "      <td>0.000910</td>\n",
       "      <td>0.0</td>\n",
       "      <td>0.095013</td>\n",
       "      <td>0.095013</td>\n",
       "      <td>0.518202</td>\n",
       "      <td>0.095013</td>\n",
       "      <td>0.099199</td>\n",
       "      <td>...</td>\n",
       "      <td>0.443939</td>\n",
       "      <td>0.443939</td>\n",
       "      <td>0.443939</td>\n",
       "      <td>0.443939</td>\n",
       "      <td>0.443939</td>\n",
       "      <td>0.445941</td>\n",
       "      <td>0.0</td>\n",
       "      <td>0.0</td>\n",
       "      <td>0.0</td>\n",
       "      <td>0.00000</td>\n",
       "    </tr>\n",
       "  </tbody>\n",
       "</table>\n",
       "<p>3 rows × 23 columns</p>\n",
       "</div>"
      ],
      "text/plain": [
       "                          ECC  IPC (mês)  PS (mês)  IEP (mês)  Nº SC  \\\n",
       "Situação do parto                                                      \n",
       "Ajudado difícil      0.009615   0.211538  0.211538   0.001374    0.0   \n",
       "Ajudado posicionado  0.004831   0.171153  0.171498   0.000690    0.0   \n",
       "Normal               0.029305   0.182199  0.182017   0.000910    0.0   \n",
       "\n",
       "                     PA (kg/L/lactação)  PMD (kg/L/dia)  \\\n",
       "Situação do parto                                         \n",
       "Ajudado difícil                0.140110        0.140110   \n",
       "Ajudado posicionado            0.082816        0.082816   \n",
       "Normal                         0.095013        0.095013   \n",
       "\n",
       "                     PLMD (4%G) (kg/L/dias)  DEL (dias)  PAT (kg/L/lactação)  \\\n",
       "Situação do parto                                                              \n",
       "Ajudado difícil                    0.633242    0.140110             0.144231   \n",
       "Ajudado posicionado                0.503106    0.082816             0.086957   \n",
       "Normal                             0.518202    0.095013             0.099199   \n",
       "\n",
       "                     ...  PROT (%)  LACT (%)    ST (%)    ES (%)  \\\n",
       "Situação do parto    ...                                           \n",
       "Ajudado difícil      ...  0.549451  0.549451  0.549451  0.549451   \n",
       "Ajudado posicionado  ...  0.444444  0.444444  0.444444  0.444444   \n",
       "Normal               ...  0.443939  0.443939  0.443939  0.443939   \n",
       "\n",
       "                     CCS 1000x células/ml       ECS  ITU  Temp (ºC)  UR (%)  \\\n",
       "Situação do parto                                                             \n",
       "Ajudado difícil                  0.549451  0.556319  0.0        0.0     0.0   \n",
       "Ajudado posicionado              0.444444  0.438923  0.0        0.0     0.0   \n",
       "Normal                           0.443939  0.445941  0.0        0.0     0.0   \n",
       "\n",
       "                     Precipitação (mm)  \n",
       "Situação do parto                       \n",
       "Ajudado difícil                0.00000  \n",
       "Ajudado posicionado            0.00069  \n",
       "Normal                         0.00000  \n",
       "\n",
       "[3 rows x 23 columns]"
      ]
     },
     "execution_count": 8,
     "metadata": {},
     "output_type": "execute_result"
    }
   ],
   "source": [
    "dados.select_dtypes(exclude=['object']).isnull().groupby(dados['Situação do parto']).mean()"
   ]
  },
  {
   "cell_type": "markdown",
   "metadata": {},
   "source": [
    "## É possível verificar uma quantidade grande de missing values, porém essas variáveis podem ser interessantes para analíse dos dados, portanto, iremos verificar como podemos tratar as mesmas"
   ]
  },
  {
   "cell_type": "markdown",
   "metadata": {
    "tags": []
   },
   "source": [
    "# Missing Values\n",
    "\n",
    "## Iremos tratar os missing values de 3 formas distintas e verificar qual retornou o melhor resultado para os testes\n",
    "\n",
    "### Primeiro método: Deletar linhas e colunas com missing values;\n",
    "### Segundo método: Imputar missing values com média ou mediana para variáveis contínuas e valor mais frequente para variáveis categóricas;\n",
    "### Terceiro método: Predizer valores para os missing values;"
   ]
  },
  {
   "cell_type": "markdown",
   "metadata": {},
   "source": [
    "# Primeiro método: Deletando linhas com missing values"
   ]
  },
  {
   "cell_type": "code",
   "execution_count": 9,
   "metadata": {},
   "outputs": [
    {
     "data": {
      "text/plain": [
       "(9120, 28)"
      ]
     },
     "execution_count": 9,
     "metadata": {},
     "output_type": "execute_result"
    }
   ],
   "source": [
    "df1 = dados.copy()\n",
    "df1.shape"
   ]
  },
  {
   "cell_type": "code",
   "execution_count": 10,
   "metadata": {},
   "outputs": [
    {
     "data": {
      "text/plain": [
       "(3518, 28)"
      ]
     },
     "execution_count": 10,
     "metadata": {},
     "output_type": "execute_result"
    }
   ],
   "source": [
    "df1.dropna(inplace=True)\n",
    "df1.reset_index(drop=True, inplace=True)\n",
    "# Drop igual a True para resetar a contagem do index\n",
    "df1.shape"
   ]
  },
  {
   "cell_type": "code",
   "execution_count": 13,
   "metadata": {
    "tags": []
   },
   "outputs": [
    {
     "data": {
      "text/html": [
       "<div>\n",
       "<style scoped>\n",
       "    .dataframe tbody tr th:only-of-type {\n",
       "        vertical-align: middle;\n",
       "    }\n",
       "\n",
       "    .dataframe tbody tr th {\n",
       "        vertical-align: top;\n",
       "    }\n",
       "\n",
       "    .dataframe thead th {\n",
       "        text-align: right;\n",
       "    }\n",
       "</style>\n",
       "<table border=\"1\" class=\"dataframe\">\n",
       "  <thead>\n",
       "    <tr style=\"text-align: right;\">\n",
       "      <th></th>\n",
       "      <th>Bezerro deste parto</th>\n",
       "      <th>Tipo de prenhez</th>\n",
       "      <th>ECC</th>\n",
       "      <th>Multiparidade</th>\n",
       "      <th>IPC (mês)</th>\n",
       "      <th>PS (mês)</th>\n",
       "      <th>IEP (mês)</th>\n",
       "      <th>Nº SC</th>\n",
       "      <th>PA (kg/L/lactação)</th>\n",
       "      <th>PMD (kg/L/dia)</th>\n",
       "      <th>...</th>\n",
       "      <th>LACT (%)</th>\n",
       "      <th>ST (%)</th>\n",
       "      <th>ES (%)</th>\n",
       "      <th>CCS 1000x células/ml</th>\n",
       "      <th>ECS</th>\n",
       "      <th>Estações do ano</th>\n",
       "      <th>ITU</th>\n",
       "      <th>Temp (ºC)</th>\n",
       "      <th>UR (%)</th>\n",
       "      <th>Precipitação (mm)</th>\n",
       "    </tr>\n",
       "    <tr>\n",
       "      <th>Situação do parto</th>\n",
       "      <th></th>\n",
       "      <th></th>\n",
       "      <th></th>\n",
       "      <th></th>\n",
       "      <th></th>\n",
       "      <th></th>\n",
       "      <th></th>\n",
       "      <th></th>\n",
       "      <th></th>\n",
       "      <th></th>\n",
       "      <th></th>\n",
       "      <th></th>\n",
       "      <th></th>\n",
       "      <th></th>\n",
       "      <th></th>\n",
       "      <th></th>\n",
       "      <th></th>\n",
       "      <th></th>\n",
       "      <th></th>\n",
       "      <th></th>\n",
       "      <th></th>\n",
       "    </tr>\n",
       "  </thead>\n",
       "  <tbody>\n",
       "    <tr>\n",
       "      <th>Ajudado difícil</th>\n",
       "      <td>728</td>\n",
       "      <td>728</td>\n",
       "      <td>721</td>\n",
       "      <td>728</td>\n",
       "      <td>574</td>\n",
       "      <td>574</td>\n",
       "      <td>727</td>\n",
       "      <td>728</td>\n",
       "      <td>626</td>\n",
       "      <td>626</td>\n",
       "      <td>...</td>\n",
       "      <td>328</td>\n",
       "      <td>328</td>\n",
       "      <td>328</td>\n",
       "      <td>328</td>\n",
       "      <td>323</td>\n",
       "      <td>728</td>\n",
       "      <td>728</td>\n",
       "      <td>728</td>\n",
       "      <td>728</td>\n",
       "      <td>728</td>\n",
       "    </tr>\n",
       "    <tr>\n",
       "      <th>Ajudado posicionado</th>\n",
       "      <td>2898</td>\n",
       "      <td>2898</td>\n",
       "      <td>2884</td>\n",
       "      <td>2898</td>\n",
       "      <td>2402</td>\n",
       "      <td>2401</td>\n",
       "      <td>2896</td>\n",
       "      <td>2898</td>\n",
       "      <td>2658</td>\n",
       "      <td>2658</td>\n",
       "      <td>...</td>\n",
       "      <td>1610</td>\n",
       "      <td>1610</td>\n",
       "      <td>1610</td>\n",
       "      <td>1610</td>\n",
       "      <td>1626</td>\n",
       "      <td>2898</td>\n",
       "      <td>2898</td>\n",
       "      <td>2898</td>\n",
       "      <td>2898</td>\n",
       "      <td>2896</td>\n",
       "    </tr>\n",
       "    <tr>\n",
       "      <th>Normal</th>\n",
       "      <td>5494</td>\n",
       "      <td>5494</td>\n",
       "      <td>5333</td>\n",
       "      <td>5493</td>\n",
       "      <td>4493</td>\n",
       "      <td>4494</td>\n",
       "      <td>5489</td>\n",
       "      <td>5494</td>\n",
       "      <td>4972</td>\n",
       "      <td>4972</td>\n",
       "      <td>...</td>\n",
       "      <td>3055</td>\n",
       "      <td>3055</td>\n",
       "      <td>3055</td>\n",
       "      <td>3055</td>\n",
       "      <td>3044</td>\n",
       "      <td>5494</td>\n",
       "      <td>5494</td>\n",
       "      <td>5494</td>\n",
       "      <td>5494</td>\n",
       "      <td>5494</td>\n",
       "    </tr>\n",
       "  </tbody>\n",
       "</table>\n",
       "<p>3 rows × 27 columns</p>\n",
       "</div>"
      ],
      "text/plain": [
       "                     Bezerro deste parto  Tipo de prenhez   ECC  \\\n",
       "Situação do parto                                                 \n",
       "Ajudado difícil                      728              728   721   \n",
       "Ajudado posicionado                 2898             2898  2884   \n",
       "Normal                              5494             5494  5333   \n",
       "\n",
       "                     Multiparidade  IPC (mês)  PS (mês)  IEP (mês)  Nº SC  \\\n",
       "Situação do parto                                                           \n",
       "Ajudado difícil                728        574       574        727    728   \n",
       "Ajudado posicionado           2898       2402      2401       2896   2898   \n",
       "Normal                        5493       4493      4494       5489   5494   \n",
       "\n",
       "                     PA (kg/L/lactação)  PMD (kg/L/dia)  ...  LACT (%)  \\\n",
       "Situação do parto                                        ...             \n",
       "Ajudado difícil                     626             626  ...       328   \n",
       "Ajudado posicionado                2658            2658  ...      1610   \n",
       "Normal                             4972            4972  ...      3055   \n",
       "\n",
       "                     ST (%)  ES (%)  CCS 1000x células/ml   ECS  \\\n",
       "Situação do parto                                                 \n",
       "Ajudado difícil         328     328                   328   323   \n",
       "Ajudado posicionado    1610    1610                  1610  1626   \n",
       "Normal                 3055    3055                  3055  3044   \n",
       "\n",
       "                     Estações do ano   ITU  Temp (ºC)  UR (%)  \\\n",
       "Situação do parto                                               \n",
       "Ajudado difícil                  728   728        728     728   \n",
       "Ajudado posicionado             2898  2898       2898    2898   \n",
       "Normal                          5494  5494       5494    5494   \n",
       "\n",
       "                     Precipitação (mm)  \n",
       "Situação do parto                       \n",
       "Ajudado difícil                    728  \n",
       "Ajudado posicionado               2896  \n",
       "Normal                            5494  \n",
       "\n",
       "[3 rows x 27 columns]"
      ]
     },
     "execution_count": 13,
     "metadata": {},
     "output_type": "execute_result"
    }
   ],
   "source": [
    "dados.groupby(dados['Situação do parto']).count()"
   ]
  },
  {
   "cell_type": "code",
   "execution_count": 14,
   "metadata": {
    "tags": []
   },
   "outputs": [
    {
     "data": {
      "text/html": [
       "<div>\n",
       "<style scoped>\n",
       "    .dataframe tbody tr th:only-of-type {\n",
       "        vertical-align: middle;\n",
       "    }\n",
       "\n",
       "    .dataframe tbody tr th {\n",
       "        vertical-align: top;\n",
       "    }\n",
       "\n",
       "    .dataframe thead th {\n",
       "        text-align: right;\n",
       "    }\n",
       "</style>\n",
       "<table border=\"1\" class=\"dataframe\">\n",
       "  <thead>\n",
       "    <tr style=\"text-align: right;\">\n",
       "      <th></th>\n",
       "      <th>Bezerro deste parto</th>\n",
       "      <th>Tipo de prenhez</th>\n",
       "      <th>ECC</th>\n",
       "      <th>Multiparidade</th>\n",
       "      <th>IPC (mês)</th>\n",
       "      <th>PS (mês)</th>\n",
       "      <th>IEP (mês)</th>\n",
       "      <th>Nº SC</th>\n",
       "      <th>PA (kg/L/lactação)</th>\n",
       "      <th>PMD (kg/L/dia)</th>\n",
       "      <th>...</th>\n",
       "      <th>LACT (%)</th>\n",
       "      <th>ST (%)</th>\n",
       "      <th>ES (%)</th>\n",
       "      <th>CCS 1000x células/ml</th>\n",
       "      <th>ECS</th>\n",
       "      <th>Estações do ano</th>\n",
       "      <th>ITU</th>\n",
       "      <th>Temp (ºC)</th>\n",
       "      <th>UR (%)</th>\n",
       "      <th>Precipitação (mm)</th>\n",
       "    </tr>\n",
       "    <tr>\n",
       "      <th>Situação do parto</th>\n",
       "      <th></th>\n",
       "      <th></th>\n",
       "      <th></th>\n",
       "      <th></th>\n",
       "      <th></th>\n",
       "      <th></th>\n",
       "      <th></th>\n",
       "      <th></th>\n",
       "      <th></th>\n",
       "      <th></th>\n",
       "      <th></th>\n",
       "      <th></th>\n",
       "      <th></th>\n",
       "      <th></th>\n",
       "      <th></th>\n",
       "      <th></th>\n",
       "      <th></th>\n",
       "      <th></th>\n",
       "      <th></th>\n",
       "      <th></th>\n",
       "      <th></th>\n",
       "    </tr>\n",
       "  </thead>\n",
       "  <tbody>\n",
       "    <tr>\n",
       "      <th>Ajudado difícil</th>\n",
       "      <td>226</td>\n",
       "      <td>226</td>\n",
       "      <td>226</td>\n",
       "      <td>226</td>\n",
       "      <td>226</td>\n",
       "      <td>226</td>\n",
       "      <td>226</td>\n",
       "      <td>226</td>\n",
       "      <td>226</td>\n",
       "      <td>226</td>\n",
       "      <td>...</td>\n",
       "      <td>226</td>\n",
       "      <td>226</td>\n",
       "      <td>226</td>\n",
       "      <td>226</td>\n",
       "      <td>226</td>\n",
       "      <td>226</td>\n",
       "      <td>226</td>\n",
       "      <td>226</td>\n",
       "      <td>226</td>\n",
       "      <td>226</td>\n",
       "    </tr>\n",
       "    <tr>\n",
       "      <th>Ajudado posicionado</th>\n",
       "      <td>1197</td>\n",
       "      <td>1197</td>\n",
       "      <td>1197</td>\n",
       "      <td>1197</td>\n",
       "      <td>1197</td>\n",
       "      <td>1197</td>\n",
       "      <td>1197</td>\n",
       "      <td>1197</td>\n",
       "      <td>1197</td>\n",
       "      <td>1197</td>\n",
       "      <td>...</td>\n",
       "      <td>1197</td>\n",
       "      <td>1197</td>\n",
       "      <td>1197</td>\n",
       "      <td>1197</td>\n",
       "      <td>1197</td>\n",
       "      <td>1197</td>\n",
       "      <td>1197</td>\n",
       "      <td>1197</td>\n",
       "      <td>1197</td>\n",
       "      <td>1197</td>\n",
       "    </tr>\n",
       "    <tr>\n",
       "      <th>Normal</th>\n",
       "      <td>2095</td>\n",
       "      <td>2095</td>\n",
       "      <td>2095</td>\n",
       "      <td>2095</td>\n",
       "      <td>2095</td>\n",
       "      <td>2095</td>\n",
       "      <td>2095</td>\n",
       "      <td>2095</td>\n",
       "      <td>2095</td>\n",
       "      <td>2095</td>\n",
       "      <td>...</td>\n",
       "      <td>2095</td>\n",
       "      <td>2095</td>\n",
       "      <td>2095</td>\n",
       "      <td>2095</td>\n",
       "      <td>2095</td>\n",
       "      <td>2095</td>\n",
       "      <td>2095</td>\n",
       "      <td>2095</td>\n",
       "      <td>2095</td>\n",
       "      <td>2095</td>\n",
       "    </tr>\n",
       "  </tbody>\n",
       "</table>\n",
       "<p>3 rows × 27 columns</p>\n",
       "</div>"
      ],
      "text/plain": [
       "                     Bezerro deste parto  Tipo de prenhez   ECC  \\\n",
       "Situação do parto                                                 \n",
       "Ajudado difícil                      226              226   226   \n",
       "Ajudado posicionado                 1197             1197  1197   \n",
       "Normal                              2095             2095  2095   \n",
       "\n",
       "                     Multiparidade  IPC (mês)  PS (mês)  IEP (mês)  Nº SC  \\\n",
       "Situação do parto                                                           \n",
       "Ajudado difícil                226        226       226        226    226   \n",
       "Ajudado posicionado           1197       1197      1197       1197   1197   \n",
       "Normal                        2095       2095      2095       2095   2095   \n",
       "\n",
       "                     PA (kg/L/lactação)  PMD (kg/L/dia)  ...  LACT (%)  \\\n",
       "Situação do parto                                        ...             \n",
       "Ajudado difícil                     226             226  ...       226   \n",
       "Ajudado posicionado                1197            1197  ...      1197   \n",
       "Normal                             2095            2095  ...      2095   \n",
       "\n",
       "                     ST (%)  ES (%)  CCS 1000x células/ml   ECS  \\\n",
       "Situação do parto                                                 \n",
       "Ajudado difícil         226     226                   226   226   \n",
       "Ajudado posicionado    1197    1197                  1197  1197   \n",
       "Normal                 2095    2095                  2095  2095   \n",
       "\n",
       "                     Estações do ano   ITU  Temp (ºC)  UR (%)  \\\n",
       "Situação do parto                                               \n",
       "Ajudado difícil                  226   226        226     226   \n",
       "Ajudado posicionado             1197  1197       1197    1197   \n",
       "Normal                          2095  2095       2095    2095   \n",
       "\n",
       "                     Precipitação (mm)  \n",
       "Situação do parto                       \n",
       "Ajudado difícil                    226  \n",
       "Ajudado posicionado               1197  \n",
       "Normal                            2095  \n",
       "\n",
       "[3 rows x 27 columns]"
      ]
     },
     "execution_count": 14,
     "metadata": {},
     "output_type": "execute_result"
    }
   ],
   "source": [
    "\n",
    "df1.groupby(df1['Situação do parto']).count()"
   ]
  },
  {
   "cell_type": "markdown",
   "metadata": {},
   "source": [
    "## Sobraram 3518 linhas para análise"
   ]
  },
  {
   "cell_type": "markdown",
   "metadata": {},
   "source": [
    "# Métodos para análise de dados que serão utilizados\n",
    "## K-NN\n",
    "## Decision Tree\n",
    "## Suporte Vector Machine\n",
    "## Naive Bayes\n",
    "## K-means\n",
    "## Random Forest"
   ]
  },
  {
   "cell_type": "markdown",
   "metadata": {},
   "source": [
    "# K-NN\n",
    "\n",
    "## K - Nearest Neighbors é um algoritmo simples que armazena todos os casos disponíveis e classifica novos casos por maioria de votos de seus vizinhos k."
   ]
  },
  {
   "cell_type": "markdown",
   "metadata": {},
   "source": [
    "## Criando variáveis Dummies para trabalhar com dados categóricos para as variáveis \"Bezerro deste parto\", \"Tipo de prenhez\", \"Multiparidade\", \"Estações do ano\""
   ]
  },
  {
   "cell_type": "code",
   "execution_count": 15,
   "metadata": {},
   "outputs": [
    {
     "data": {
      "text/plain": [
       "Fêmea                  1623\n",
       "Macho                  1555\n",
       "Natimorto               154\n",
       "aborto                   80\n",
       "Macho-Fêmea              25\n",
       "Natimorto-Natimorto      19\n",
       "Macho-Macho              19\n",
       "Fêmea-Fêmea              18\n",
       "Macho-Natimorto          13\n",
       "Fêmea-Natimorto          11\n",
       "Fêmea-Macho               1\n",
       "Name: Bezerro deste parto, dtype: int64"
      ]
     },
     "execution_count": 15,
     "metadata": {},
     "output_type": "execute_result"
    }
   ],
   "source": [
    "df1[\"Bezerro deste parto\"].value_counts()"
   ]
  },
  {
   "cell_type": "code",
   "execution_count": 16,
   "metadata": {},
   "outputs": [
    {
     "data": {
      "text/plain": [
       "IA        2682\n",
       "TE/FIV     836\n",
       "Name: Tipo de prenhez, dtype: int64"
      ]
     },
     "execution_count": 16,
     "metadata": {},
     "output_type": "execute_result"
    }
   ],
   "source": [
    "df1[\"Tipo de prenhez\"].value_counts()"
   ]
  },
  {
   "cell_type": "code",
   "execution_count": 17,
   "metadata": {},
   "outputs": [
    {
     "data": {
      "text/plain": [
       "primeira    1577\n",
       "segunda     1053\n",
       "terceira     562\n",
       "quarta       205\n",
       "quinta        81\n",
       "sexta         31\n",
       "sextima        7\n",
       "oitava         2\n",
       "Name: Multiparidade, dtype: int64"
      ]
     },
     "execution_count": 17,
     "metadata": {},
     "output_type": "execute_result"
    }
   ],
   "source": [
    "df1[\"Multiparidade\"].value_counts()"
   ]
  },
  {
   "cell_type": "code",
   "execution_count": 18,
   "metadata": {},
   "outputs": [
    {
     "data": {
      "text/plain": [
       "inverno      1066\n",
       "outono        947\n",
       "verão         801\n",
       "primavera     704\n",
       "Name: Estações do ano, dtype: int64"
      ]
     },
     "execution_count": 18,
     "metadata": {},
     "output_type": "execute_result"
    }
   ],
   "source": [
    "df1[\"Estações do ano\"].value_counts()"
   ]
  },
  {
   "cell_type": "code",
   "execution_count": 19,
   "metadata": {},
   "outputs": [
    {
     "data": {
      "text/html": [
       "<div>\n",
       "<style scoped>\n",
       "    .dataframe tbody tr th:only-of-type {\n",
       "        vertical-align: middle;\n",
       "    }\n",
       "\n",
       "    .dataframe tbody tr th {\n",
       "        vertical-align: top;\n",
       "    }\n",
       "\n",
       "    .dataframe thead th {\n",
       "        text-align: right;\n",
       "    }\n",
       "</style>\n",
       "<table border=\"1\" class=\"dataframe\">\n",
       "  <thead>\n",
       "    <tr style=\"text-align: right;\">\n",
       "      <th></th>\n",
       "      <th>Situação do parto</th>\n",
       "      <th>ECC</th>\n",
       "      <th>IPC (mês)</th>\n",
       "      <th>PS (mês)</th>\n",
       "      <th>IEP (mês)</th>\n",
       "      <th>Nº SC</th>\n",
       "      <th>PA (kg/L/lactação)</th>\n",
       "      <th>PMD (kg/L/dia)</th>\n",
       "      <th>PLMD (4%G) (kg/L/dias)</th>\n",
       "      <th>DEL (dias)</th>\n",
       "      <th>...</th>\n",
       "      <th>Multiparidade_primeira</th>\n",
       "      <th>Multiparidade_quarta</th>\n",
       "      <th>Multiparidade_quinta</th>\n",
       "      <th>Multiparidade_segunda</th>\n",
       "      <th>Multiparidade_sexta</th>\n",
       "      <th>Multiparidade_sextima</th>\n",
       "      <th>Multiparidade_terceira</th>\n",
       "      <th>Estações do ano_outono</th>\n",
       "      <th>Estações do ano_primavera</th>\n",
       "      <th>Estações do ano_verão</th>\n",
       "    </tr>\n",
       "  </thead>\n",
       "  <tbody>\n",
       "    <tr>\n",
       "      <th>0</th>\n",
       "      <td>Normal</td>\n",
       "      <td>3.5</td>\n",
       "      <td>3.533333</td>\n",
       "      <td>3.533333</td>\n",
       "      <td>10.8</td>\n",
       "      <td>1</td>\n",
       "      <td>14097.126</td>\n",
       "      <td>41.584</td>\n",
       "      <td>39.899848</td>\n",
       "      <td>339.003607</td>\n",
       "      <td>...</td>\n",
       "      <td>0</td>\n",
       "      <td>0</td>\n",
       "      <td>0</td>\n",
       "      <td>0</td>\n",
       "      <td>0</td>\n",
       "      <td>0</td>\n",
       "      <td>0</td>\n",
       "      <td>1</td>\n",
       "      <td>0</td>\n",
       "      <td>0</td>\n",
       "    </tr>\n",
       "    <tr>\n",
       "      <th>1</th>\n",
       "      <td>Ajudado posicionado</td>\n",
       "      <td>4.0</td>\n",
       "      <td>1.733333</td>\n",
       "      <td>21.300000</td>\n",
       "      <td>19.7</td>\n",
       "      <td>6</td>\n",
       "      <td>22553.597</td>\n",
       "      <td>31.280</td>\n",
       "      <td>28.042520</td>\n",
       "      <td>721.022922</td>\n",
       "      <td>...</td>\n",
       "      <td>0</td>\n",
       "      <td>0</td>\n",
       "      <td>0</td>\n",
       "      <td>0</td>\n",
       "      <td>1</td>\n",
       "      <td>0</td>\n",
       "      <td>0</td>\n",
       "      <td>0</td>\n",
       "      <td>0</td>\n",
       "      <td>1</td>\n",
       "    </tr>\n",
       "    <tr>\n",
       "      <th>2</th>\n",
       "      <td>Normal</td>\n",
       "      <td>3.5</td>\n",
       "      <td>1.000000</td>\n",
       "      <td>4.966667</td>\n",
       "      <td>17.8</td>\n",
       "      <td>7</td>\n",
       "      <td>7753.593</td>\n",
       "      <td>20.350</td>\n",
       "      <td>18.304825</td>\n",
       "      <td>381.011941</td>\n",
       "      <td>...</td>\n",
       "      <td>0</td>\n",
       "      <td>0</td>\n",
       "      <td>0</td>\n",
       "      <td>0</td>\n",
       "      <td>1</td>\n",
       "      <td>0</td>\n",
       "      <td>0</td>\n",
       "      <td>0</td>\n",
       "      <td>0</td>\n",
       "      <td>1</td>\n",
       "    </tr>\n",
       "    <tr>\n",
       "      <th>3</th>\n",
       "      <td>Normal</td>\n",
       "      <td>3.0</td>\n",
       "      <td>1.733333</td>\n",
       "      <td>9.400000</td>\n",
       "      <td>15.6</td>\n",
       "      <td>5</td>\n",
       "      <td>11908.983</td>\n",
       "      <td>40.233</td>\n",
       "      <td>49.225076</td>\n",
       "      <td>296.000373</td>\n",
       "      <td>...</td>\n",
       "      <td>0</td>\n",
       "      <td>0</td>\n",
       "      <td>0</td>\n",
       "      <td>0</td>\n",
       "      <td>1</td>\n",
       "      <td>0</td>\n",
       "      <td>0</td>\n",
       "      <td>1</td>\n",
       "      <td>0</td>\n",
       "      <td>0</td>\n",
       "    </tr>\n",
       "    <tr>\n",
       "      <th>4</th>\n",
       "      <td>Ajudado posicionado</td>\n",
       "      <td>3.0</td>\n",
       "      <td>1.366667</td>\n",
       "      <td>3.366667</td>\n",
       "      <td>11.0</td>\n",
       "      <td>1</td>\n",
       "      <td>10529.525</td>\n",
       "      <td>36.060</td>\n",
       "      <td>31.895070</td>\n",
       "      <td>292.000139</td>\n",
       "      <td>...</td>\n",
       "      <td>0</td>\n",
       "      <td>0</td>\n",
       "      <td>0</td>\n",
       "      <td>0</td>\n",
       "      <td>0</td>\n",
       "      <td>1</td>\n",
       "      <td>0</td>\n",
       "      <td>0</td>\n",
       "      <td>0</td>\n",
       "      <td>1</td>\n",
       "    </tr>\n",
       "  </tbody>\n",
       "</table>\n",
       "<p>5 rows × 45 columns</p>\n",
       "</div>"
      ],
      "text/plain": [
       "     Situação do parto  ECC  IPC (mês)   PS (mês)  IEP (mês)  Nº SC  \\\n",
       "0               Normal  3.5   3.533333   3.533333       10.8      1   \n",
       "1  Ajudado posicionado  4.0   1.733333  21.300000       19.7      6   \n",
       "2               Normal  3.5   1.000000   4.966667       17.8      7   \n",
       "3               Normal  3.0   1.733333   9.400000       15.6      5   \n",
       "4  Ajudado posicionado  3.0   1.366667   3.366667       11.0      1   \n",
       "\n",
       "   PA (kg/L/lactação)  PMD (kg/L/dia)  PLMD (4%G) (kg/L/dias)  DEL (dias)  \\\n",
       "0           14097.126          41.584               39.899848  339.003607   \n",
       "1           22553.597          31.280               28.042520  721.022922   \n",
       "2            7753.593          20.350               18.304825  381.011941   \n",
       "3           11908.983          40.233               49.225076  296.000373   \n",
       "4           10529.525          36.060               31.895070  292.000139   \n",
       "\n",
       "   ...  Multiparidade_primeira  Multiparidade_quarta  Multiparidade_quinta  \\\n",
       "0  ...                       0                     0                     0   \n",
       "1  ...                       0                     0                     0   \n",
       "2  ...                       0                     0                     0   \n",
       "3  ...                       0                     0                     0   \n",
       "4  ...                       0                     0                     0   \n",
       "\n",
       "   Multiparidade_segunda  Multiparidade_sexta  Multiparidade_sextima  \\\n",
       "0                      0                    0                      0   \n",
       "1                      0                    1                      0   \n",
       "2                      0                    1                      0   \n",
       "3                      0                    1                      0   \n",
       "4                      0                    0                      1   \n",
       "\n",
       "   Multiparidade_terceira  Estações do ano_outono  Estações do ano_primavera  \\\n",
       "0                       0                       1                          0   \n",
       "1                       0                       0                          0   \n",
       "2                       0                       0                          0   \n",
       "3                       0                       1                          0   \n",
       "4                       0                       0                          0   \n",
       "\n",
       "   Estações do ano_verão  \n",
       "0                      0  \n",
       "1                      1  \n",
       "2                      1  \n",
       "3                      0  \n",
       "4                      1  \n",
       "\n",
       "[5 rows x 45 columns]"
      ]
     },
     "execution_count": 19,
     "metadata": {},
     "output_type": "execute_result"
    }
   ],
   "source": [
    "df1 = pd.get_dummies(df1, columns=[\"Bezerro deste parto\", \"Tipo de prenhez\", \"Multiparidade\", \"Estações do ano\"], drop_first=True)\n",
    "\n",
    "df1.head()"
   ]
  },
  {
   "cell_type": "code",
   "execution_count": 20,
   "metadata": {},
   "outputs": [],
   "source": [
    "X = df1.drop(columns='Situação do parto').copy()\n",
    "y = df1['Situação do parto'].copy()"
   ]
  },
  {
   "cell_type": "markdown",
   "metadata": {},
   "source": [
    "## Sem padronização dos valores"
   ]
  },
  {
   "cell_type": "code",
   "execution_count": 21,
   "metadata": {},
   "outputs": [
    {
     "data": {
      "text/plain": [
       "([<matplotlib.axis.XTick at 0x2c1d36fa0d0>,\n",
       "  <matplotlib.axis.XTick at 0x2c1d36fa070>,\n",
       "  <matplotlib.axis.XTick at 0x2c1d4654ca0>,\n",
       "  <matplotlib.axis.XTick at 0x2c1d42dcfd0>,\n",
       "  <matplotlib.axis.XTick at 0x2c1d42fd520>,\n",
       "  <matplotlib.axis.XTick at 0x2c1d42fdac0>,\n",
       "  <matplotlib.axis.XTick at 0x2c1d43010a0>,\n",
       "  <matplotlib.axis.XTick at 0x2c1d4301640>,\n",
       "  <matplotlib.axis.XTick at 0x2c1d4301be0>,\n",
       "  <matplotlib.axis.XTick at 0x2c1d43071c0>,\n",
       "  <matplotlib.axis.XTick at 0x2c1d4307760>,\n",
       "  <matplotlib.axis.XTick at 0x2c1d43016a0>,\n",
       "  <matplotlib.axis.XTick at 0x2c1d42fd160>],\n",
       " <a list of 13 Text xticklabel objects>)"
      ]
     },
     "execution_count": 21,
     "metadata": {},
     "output_type": "execute_result"
    },
    {
     "data": {
      "image/png": "[encoded data removed]",
      "text/plain": [
       "<Figure size 432x288 with 1 Axes>"
      ]
     },
     "metadata": {
      "needs_background": "light"
     },
     "output_type": "display_data"
    }
   ],
   "source": [
    "from sklearn.neighbors import KNeighborsClassifier\n",
    "\n",
    "X_train, X_test, y_train, y_test = train_test_split(X, y, random_state=0)\n",
    "\n",
    "k_range = range(1,60)\n",
    "scores = []\n",
    "\n",
    "for k in k_range:\n",
    "    knn = KNeighborsClassifier(n_neighbors = k)\n",
    "    knn.fit(X_train, y_train)\n",
    "    scores.append(knn.score(X_test, y_test))\n",
    "\n",
    "%matplotlib inline\n",
    "plt.figure()\n",
    "plt.xlabel('k')\n",
    "plt.ylabel('Accuracy')\n",
    "plt.scatter(k_range, scores)\n",
    "plt.xticks(range(0,65,5))"
   ]
  },
  {
   "cell_type": "markdown",
   "metadata": {},
   "source": [
    "## Com padronização dos valores"
   ]
  },
  {
   "cell_type": "code",
   "execution_count": 22,
   "metadata": {},
   "outputs": [
    {
     "data": {
      "text/plain": [
       "([<matplotlib.axis.XTick at 0x2c1d370f340>,\n",
       "  <matplotlib.axis.XTick at 0x2c1d370f4c0>,\n",
       "  <matplotlib.axis.XTick at 0x2c1d36f70d0>,\n",
       "  <matplotlib.axis.XTick at 0x2c1d376c3d0>,\n",
       "  <matplotlib.axis.XTick at 0x2c1d376c8e0>,\n",
       "  <matplotlib.axis.XTick at 0x2c1d376ce80>,\n",
       "  <matplotlib.axis.XTick at 0x2c1d3773460>,\n",
       "  <matplotlib.axis.XTick at 0x2c1d376c5e0>,\n",
       "  <matplotlib.axis.XTick at 0x2c1d37730a0>,\n",
       "  <matplotlib.axis.XTick at 0x2c1d3773df0>,\n",
       "  <matplotlib.axis.XTick at 0x2c1d37763d0>,\n",
       "  <matplotlib.axis.XTick at 0x2c1d3776970>,\n",
       "  <matplotlib.axis.XTick at 0x2c1d3776f10>],\n",
       " <a list of 13 Text xticklabel objects>)"
      ]
     },
     "execution_count": 22,
     "metadata": {},
     "output_type": "execute_result"
    },
    {
     "data": {
      "image/png": "[encoded data removed]",
      "text/plain": [
       "<Figure size 432x288 with 1 Axes>"
      ]
     },
     "metadata": {
      "needs_background": "light"
     },
     "output_type": "display_data"
    }
   ],
   "source": [
    "from sklearn.preprocessing import MinMaxScaler\n",
    "\n",
    "scaler = MinMaxScaler()\n",
    "\n",
    "X_train_scaled = scaler.fit_transform(X_train)\n",
    "X_test_scaled = scaler.transform(X_test)\n",
    "\n",
    "k_range = range(1,60)\n",
    "scores = []\n",
    "\n",
    "for k in k_range:\n",
    "    knn = KNeighborsClassifier(n_neighbors = k)\n",
    "    knn.fit(X_train_scaled, y_train)\n",
    "    scores.append(knn.score(X_test_scaled, y_test))\n",
    "\n",
    "%matplotlib inline\n",
    "plt.figure()\n",
    "plt.xlabel('k')\n",
    "plt.ylabel('Accuracy')\n",
    "plt.scatter(k_range, scores)\n",
    "plt.xticks(range(0,65,5))"
   ]
  },
  {
   "cell_type": "markdown",
   "metadata": {},
   "source": [
    "# Suporte Vector Machine\n",
    "\n",
    "## Neste algoritmo, cada dado é plotado como um ponto em um espaço n-dimensional (onde n é o número de características que se tem) com o valor de cada característica sendo o valor de uma coordenada particular. Depois encontra-se um(a) linha/plano que divida os dados em grupos diferentes de classificadores."
   ]
  },
  {
   "cell_type": "markdown",
   "metadata": {},
   "source": [
    "## Sem padronização dos valores"
   ]
  },
  {
   "cell_type": "code",
   "execution_count": 23,
   "metadata": {
    "tags": []
   },
   "outputs": [
    {
     "name": "stdout",
     "output_type": "stream",
     "text": [
      "Support Vector Classifier:\n",
      "\n",
      "RBF kernel, gamma = 0.01, C = 0.10, Accuracy = 0.59\n",
      "RBF kernel, gamma = 0.01, C = 1.00, Accuracy = 0.59\n",
      "RBF kernel, gamma = 0.01, C = 15.00, Accuracy = 0.59\n",
      "RBF kernel, gamma = 0.01, C = 250.00, Accuracy = 0.59\n",
      "RBF kernel, gamma = 1.00, C = 0.10, Accuracy = 0.59\n",
      "RBF kernel, gamma = 1.00, C = 1.00, Accuracy = 0.59\n",
      "RBF kernel, gamma = 1.00, C = 15.00, Accuracy = 0.59\n",
      "RBF kernel, gamma = 1.00, C = 250.00, Accuracy = 0.59\n",
      "RBF kernel, gamma = 5.00, C = 0.10, Accuracy = 0.59\n",
      "RBF kernel, gamma = 5.00, C = 1.00, Accuracy = 0.59\n",
      "RBF kernel, gamma = 5.00, C = 15.00, Accuracy = 0.59\n",
      "RBF kernel, gamma = 5.00, C = 250.00, Accuracy = 0.59\n",
      "RBF kernel, gamma = 10.00, C = 0.10, Accuracy = 0.59\n",
      "RBF kernel, gamma = 10.00, C = 1.00, Accuracy = 0.59\n",
      "RBF kernel, gamma = 10.00, C = 15.00, Accuracy = 0.59\n",
      "RBF kernel, gamma = 10.00, C = 250.00, Accuracy = 0.59\n"
     ]
    }
   ],
   "source": [
    "from sklearn.svm import SVC\n",
    "\n",
    "X_train, X_test, y_train, y_test = train_test_split(X, y, random_state=0)\n",
    "\n",
    "print('Support Vector Classifier:\\n')\n",
    "for gamma in [0.01, 1, 5, 10]:\n",
    "    for C in [0.1, 1, 15, 250]:\n",
    "        classificador = SVC(kernel = 'rbf', gamma = gamma, C = C).fit(X_train, y_train)\n",
    "        print('RBF kernel, gamma = {:.2f}, C = {:.2f}, Accuracy = {:.2f}'.format(gamma, C, classificador.score(X_test, y_test)))\n"
   ]
  },
  {
   "cell_type": "code",
   "execution_count": 24,
   "metadata": {
    "tags": []
   },
   "outputs": [
    {
     "name": "stdout",
     "output_type": "stream",
     "text": [
      "Support Vector Classifier:\n",
      "\n"
     ]
    },
    {
     "name": "stderr",
     "output_type": "stream",
     "text": [
      "D:\\Anaconda3\\envs\\PyCoursera\\lib\\site-packages\\sklearn\\svm\\_base.py:946: ConvergenceWarning: Liblinear failed to converge, increase the number of iterations.\n",
      "  warnings.warn(\"Liblinear failed to converge, increase \"\n"
     ]
    },
    {
     "name": "stdout",
     "output_type": "stream",
     "text": [
      "Linear kernel, C = 1.00, Accuracy = 0.24\n"
     ]
    },
    {
     "name": "stderr",
     "output_type": "stream",
     "text": [
      "D:\\Anaconda3\\envs\\PyCoursera\\lib\\site-packages\\sklearn\\svm\\_base.py:946: ConvergenceWarning: Liblinear failed to converge, increase the number of iterations.\n",
      "  warnings.warn(\"Liblinear failed to converge, increase \"\n"
     ]
    },
    {
     "name": "stdout",
     "output_type": "stream",
     "text": [
      "Linear kernel, C = 5.00, Accuracy = 0.24\n"
     ]
    },
    {
     "name": "stderr",
     "output_type": "stream",
     "text": [
      "D:\\Anaconda3\\envs\\PyCoursera\\lib\\site-packages\\sklearn\\svm\\_base.py:946: ConvergenceWarning: Liblinear failed to converge, increase the number of iterations.\n",
      "  warnings.warn(\"Liblinear failed to converge, increase \"\n"
     ]
    },
    {
     "name": "stdout",
     "output_type": "stream",
     "text": [
      "Linear kernel, C = 10.00, Accuracy = 0.24\n"
     ]
    },
    {
     "name": "stderr",
     "output_type": "stream",
     "text": [
      "D:\\Anaconda3\\envs\\PyCoursera\\lib\\site-packages\\sklearn\\svm\\_base.py:946: ConvergenceWarning: Liblinear failed to converge, increase the number of iterations.\n",
      "  warnings.warn(\"Liblinear failed to converge, increase \"\n"
     ]
    },
    {
     "name": "stdout",
     "output_type": "stream",
     "text": [
      "Linear kernel, C = 15.00, Accuracy = 0.24\n"
     ]
    },
    {
     "name": "stderr",
     "output_type": "stream",
     "text": [
      "D:\\Anaconda3\\envs\\PyCoursera\\lib\\site-packages\\sklearn\\svm\\_base.py:946: ConvergenceWarning: Liblinear failed to converge, increase the number of iterations.\n",
      "  warnings.warn(\"Liblinear failed to converge, increase \"\n"
     ]
    },
    {
     "name": "stdout",
     "output_type": "stream",
     "text": [
      "Linear kernel, C = 100.00, Accuracy = 0.24\n",
      "Linear kernel, C = 250.00, Accuracy = 0.24\n"
     ]
    },
    {
     "name": "stderr",
     "output_type": "stream",
     "text": [
      "D:\\Anaconda3\\envs\\PyCoursera\\lib\\site-packages\\sklearn\\svm\\_base.py:946: ConvergenceWarning: Liblinear failed to converge, increase the number of iterations.\n",
      "  warnings.warn(\"Liblinear failed to converge, increase \"\n"
     ]
    }
   ],
   "source": [
    "from sklearn.svm import LinearSVC\n",
    "\n",
    "X_train, X_test, y_train, y_test = train_test_split(X, y, random_state=0)\n",
    "\n",
    "C = [1, 5, 10, 15, 100, 250]\n",
    "\n",
    "print('Support Vector Classifier:\\n')\n",
    "for i in C:\n",
    "    svc = LinearSVC(C=i, random_state=0).fit(X_train, y_train)\n",
    "    print('Linear kernel, C = {:.2f}, Accuracy = {:.2f}'.format(i, svc.score(X_test, y_test)))"
   ]
  },
  {
   "cell_type": "markdown",
   "metadata": {},
   "source": [
    "## Com padronização dos valores"
   ]
  },
  {
   "cell_type": "code",
   "execution_count": 25,
   "metadata": {
    "tags": []
   },
   "outputs": [
    {
     "name": "stdout",
     "output_type": "stream",
     "text": [
      "Support Vector Classifier:\n",
      "\n",
      "RBF kernel, gamma = 0.01, C = 0.10, Accuracy = 0.59\n",
      "RBF kernel, gamma = 0.01, C = 1.00, Accuracy = 0.59\n",
      "RBF kernel, gamma = 0.01, C = 15.00, Accuracy = 0.59\n",
      "RBF kernel, gamma = 0.01, C = 250.00, Accuracy = 0.58\n",
      "RBF kernel, gamma = 1.00, C = 0.10, Accuracy = 0.60\n",
      "RBF kernel, gamma = 1.00, C = 1.00, Accuracy = 0.60\n",
      "RBF kernel, gamma = 1.00, C = 15.00, Accuracy = 0.53\n",
      "RBF kernel, gamma = 1.00, C = 250.00, Accuracy = 0.51\n",
      "RBF kernel, gamma = 5.00, C = 0.10, Accuracy = 0.59\n",
      "RBF kernel, gamma = 5.00, C = 1.00, Accuracy = 0.60\n",
      "RBF kernel, gamma = 5.00, C = 15.00, Accuracy = 0.53\n",
      "RBF kernel, gamma = 5.00, C = 250.00, Accuracy = 0.52\n",
      "RBF kernel, gamma = 10.00, C = 0.10, Accuracy = 0.59\n",
      "RBF kernel, gamma = 10.00, C = 1.00, Accuracy = 0.59\n",
      "RBF kernel, gamma = 10.00, C = 15.00, Accuracy = 0.55\n",
      "RBF kernel, gamma = 10.00, C = 250.00, Accuracy = 0.55\n"
     ]
    }
   ],
   "source": [
    "from sklearn.svm import SVC\n",
    "from sklearn.preprocessing import MinMaxScaler\n",
    "\n",
    "X_train, X_test, y_train, y_test = train_test_split(X, y, random_state=0)\n",
    "scaler = MinMaxScaler()\n",
    "\n",
    "X_train_scaled = scaler.fit_transform(X_train)\n",
    "X_test_scaled = scaler.transform(X_test)\n",
    "\n",
    "print('Support Vector Classifier:\\n')\n",
    "for gamma in [0.01, 1, 5, 10]:\n",
    "    for C in [0.1, 1, 15, 250]:\n",
    "        classificador = SVC(kernel = 'rbf', gamma = gamma, C = C).fit(X_train_scaled, y_train)\n",
    "        print('RBF kernel, gamma = {:.2f}, C = {:.2f}, Accuracy = {:.2f}'.format(gamma, C, classificador.score(X_test_scaled, y_test)))"
   ]
  },
  {
   "cell_type": "code",
   "execution_count": 54,
   "metadata": {
    "tags": []
   },
   "outputs": [
    {
     "name": "stdout",
     "output_type": "stream",
     "text": [
      "Support Vector Classifier:\n",
      "\n",
      "Linear kernel, C = 1.00, Accuracy = 0.61\n",
      "Linear kernel, C = 5.00, Accuracy = 0.62\n"
     ]
    },
    {
     "name": "stderr",
     "output_type": "stream",
     "text": [
      "D:\\Anaconda3\\envs\\PyCoursera\\lib\\site-packages\\sklearn\\svm\\_base.py:946: ConvergenceWarning: Liblinear failed to converge, increase the number of iterations.\n",
      "  warnings.warn(\"Liblinear failed to converge, increase \"\n"
     ]
    },
    {
     "name": "stdout",
     "output_type": "stream",
     "text": [
      "Linear kernel, C = 10.00, Accuracy = 0.62\n"
     ]
    },
    {
     "name": "stderr",
     "output_type": "stream",
     "text": [
      "D:\\Anaconda3\\envs\\PyCoursera\\lib\\site-packages\\sklearn\\svm\\_base.py:946: ConvergenceWarning: Liblinear failed to converge, increase the number of iterations.\n",
      "  warnings.warn(\"Liblinear failed to converge, increase \"\n"
     ]
    },
    {
     "name": "stdout",
     "output_type": "stream",
     "text": [
      "Linear kernel, C = 15.00, Accuracy = 0.62\n"
     ]
    },
    {
     "name": "stderr",
     "output_type": "stream",
     "text": [
      "D:\\Anaconda3\\envs\\PyCoursera\\lib\\site-packages\\sklearn\\svm\\_base.py:946: ConvergenceWarning: Liblinear failed to converge, increase the number of iterations.\n",
      "  warnings.warn(\"Liblinear failed to converge, increase \"\n"
     ]
    },
    {
     "name": "stdout",
     "output_type": "stream",
     "text": [
      "Linear kernel, C = 100.00, Accuracy = 0.62\n",
      "Linear kernel, C = 250.00, Accuracy = 0.54\n"
     ]
    },
    {
     "name": "stderr",
     "output_type": "stream",
     "text": [
      "D:\\Anaconda3\\envs\\PyCoursera\\lib\\site-packages\\sklearn\\svm\\_base.py:946: ConvergenceWarning: Liblinear failed to converge, increase the number of iterations.\n",
      "  warnings.warn(\"Liblinear failed to converge, increase \"\n"
     ]
    }
   ],
   "source": [
    "from sklearn.svm import LinearSVC\n",
    "from sklearn.preprocessing import MinMaxScaler\n",
    "\n",
    "X_train, X_test, y_train, y_test = train_test_split(X, y, random_state=0)\n",
    "scaler = MinMaxScaler()\n",
    "\n",
    "X_train_scaled = scaler.fit_transform(X_train)\n",
    "X_test_scaled = scaler.transform(X_test)\n",
    "\n",
    "C = [1, 5, 10, 15, 100, 250]\n",
    "\n",
    "print('Support Vector Classifier:\\n')\n",
    "for i in C:\n",
    "    svc = LinearSVC(C=i, random_state=0, max_iter=3000).fit(X_train_scaled, y_train)\n",
    "    print('Linear kernel, C = {:.2f}, Accuracy = {:.2f}'.format(i, svc.score(X_test_scaled, y_test)))"
   ]
  },
  {
   "cell_type": "markdown",
   "metadata": {},
   "source": [
    "# Naive Bayes\n",
    "\n",
    "## É uma técnica de classificação baseada no teorema de Bayes que assume a independência entre preditores. Em termos simples, um classificador em Naive Bayes assume que a presença de uma característica particular em uma classe não é relacionada com a presença de nenhuma outra característica. "
   ]
  },
  {
   "cell_type": "code",
   "execution_count": 27,
   "metadata": {
    "tags": []
   },
   "outputs": [
    {
     "name": "stdout",
     "output_type": "stream",
     "text": [
      "0.5647727272727273\n"
     ]
    }
   ],
   "source": [
    "from sklearn.naive_bayes import GaussianNB\n",
    "\n",
    "X_train, X_test, y_train, y_test = train_test_split(X, y, random_state=0)\n",
    "\n",
    "classificador_NB = GaussianNB().fit(X_train, y_train)\n",
    "print(classificador_NB.score(X_test, y_test))"
   ]
  },
  {
   "cell_type": "markdown",
   "metadata": {},
   "source": [
    "# Decision Tree\n",
    "\n",
    "## A idéia deste algoritmo é dividir os dados em grupos distintos com a melhor precisão possível para estimar valores baseados nesta distribuição."
   ]
  },
  {
   "cell_type": "code",
   "execution_count": 28,
   "metadata": {
    "tags": []
   },
   "outputs": [
    {
     "name": "stdout",
     "output_type": "stream",
     "text": [
      "Decision Tree:\n",
      "\n",
      "Com número máximo de ramos igual a 2, nos retornou accuracy de 0.60 no conjunto de dados Treino\n",
      "Com número máximo de ramos igual a 2, nos retornou accuracy de 0.59 no conjunto de dados Teste\n",
      "\n",
      "Com número máximo de ramos igual a 3, nos retornou accuracy de 0.61 no conjunto de dados Treino\n",
      "Com número máximo de ramos igual a 3, nos retornou accuracy de 0.57 no conjunto de dados Teste\n",
      "\n",
      "Com número máximo de ramos igual a 4, nos retornou accuracy de 0.63 no conjunto de dados Treino\n",
      "Com número máximo de ramos igual a 4, nos retornou accuracy de 0.59 no conjunto de dados Teste\n",
      "\n",
      "Com número máximo de ramos igual a 5, nos retornou accuracy de 0.64 no conjunto de dados Treino\n",
      "Com número máximo de ramos igual a 5, nos retornou accuracy de 0.59 no conjunto de dados Teste\n",
      "\n",
      "Com número máximo de ramos igual a 6, nos retornou accuracy de 0.66 no conjunto de dados Treino\n",
      "Com número máximo de ramos igual a 6, nos retornou accuracy de 0.60 no conjunto de dados Teste\n",
      "\n",
      "Com número máximo de ramos igual a 7, nos retornou accuracy de 0.68 no conjunto de dados Treino\n",
      "Com número máximo de ramos igual a 7, nos retornou accuracy de 0.56 no conjunto de dados Teste\n",
      "\n",
      "Com número máximo de ramos igual a 8, nos retornou accuracy de 0.72 no conjunto de dados Treino\n",
      "Com número máximo de ramos igual a 8, nos retornou accuracy de 0.56 no conjunto de dados Teste\n",
      "\n",
      "Com número máximo de ramos igual a 9, nos retornou accuracy de 0.75 no conjunto de dados Treino\n",
      "Com número máximo de ramos igual a 9, nos retornou accuracy de 0.56 no conjunto de dados Teste\n",
      "\n",
      "Com número máximo de ramos igual a 10, nos retornou accuracy de 0.77 no conjunto de dados Treino\n",
      "Com número máximo de ramos igual a 10, nos retornou accuracy de 0.54 no conjunto de dados Teste\n"
     ]
    }
   ],
   "source": [
    "from sklearn.tree import DecisionTreeClassifier\n",
    "from sklearn.metrics import accuracy_score\n",
    "\n",
    "X_train, X_test, y_train, y_test = train_test_split(X, y, random_state=0)\n",
    "\n",
    "depths = [2,3,4,5,6,7,8,9,10]\n",
    "\n",
    "print(\"Decision Tree:\")\n",
    "for i in depths:\n",
    "    classificador = DecisionTreeClassifier(max_depth=i, random_state=0).fit(X_train, y_train)\n",
    "    print(\"\\nCom número máximo de ramos igual a {}, nos retornou accuracy de {:.2f} no conjunto de dados Treino\".format(i, classificador.score(X_train, y_train)))\n",
    "    print(\"Com número máximo de ramos igual a {}, nos retornou accuracy de {:.2f} no conjunto de dados Teste\".format(i, classificador.score(X_test, y_test)))\n",
    "    #tree_predicted = classificador.predict(X_test)\n",
    "    #print(\"accuracy {:.2f}\".format(accuracy_score(y_test, tree_predicted)))"
   ]
  },
  {
   "cell_type": "markdown",
   "metadata": {},
   "source": [
    "# Random Forest"
   ]
  },
  {
   "cell_type": "code",
   "execution_count": 29,
   "metadata": {
    "tags": []
   },
   "outputs": [
    {
     "name": "stdout",
     "output_type": "stream",
     "text": [
      "Random Forest:\n",
      "\n",
      "Com número máximo de características igual a 2, nos retornou accuracy de 1.00 no conjunto de dados Treino\n",
      "Com número máximo de características igual a 2, nos retornou accuracy de 0.59 no conjunto de dados Teste\n",
      "\n",
      "Com número máximo de características igual a 3, nos retornou accuracy de 1.00 no conjunto de dados Treino\n",
      "Com número máximo de características igual a 3, nos retornou accuracy de 0.59 no conjunto de dados Teste\n",
      "\n",
      "Com número máximo de características igual a 4, nos retornou accuracy de 1.00 no conjunto de dados Treino\n",
      "Com número máximo de características igual a 4, nos retornou accuracy de 0.59 no conjunto de dados Teste\n",
      "\n",
      "Com número máximo de características igual a 5, nos retornou accuracy de 1.00 no conjunto de dados Treino\n",
      "Com número máximo de características igual a 5, nos retornou accuracy de 0.59 no conjunto de dados Teste\n",
      "\n",
      "Com número máximo de características igual a 6, nos retornou accuracy de 1.00 no conjunto de dados Treino\n",
      "Com número máximo de características igual a 6, nos retornou accuracy de 0.59 no conjunto de dados Teste\n",
      "\n",
      "Com número máximo de características igual a 8, nos retornou accuracy de 1.00 no conjunto de dados Treino\n",
      "Com número máximo de características igual a 8, nos retornou accuracy de 0.59 no conjunto de dados Teste\n",
      "\n",
      "Com número máximo de características igual a 10, nos retornou accuracy de 1.00 no conjunto de dados Treino\n",
      "Com número máximo de características igual a 10, nos retornou accuracy de 0.58 no conjunto de dados Teste\n"
     ]
    }
   ],
   "source": [
    "from sklearn.ensemble import RandomForestClassifier\n",
    "\n",
    "X_train, X_test, y_train, y_test = train_test_split(X, y, random_state=0)\n",
    "\n",
    "features = [2,3,4,5,6,8,10]\n",
    "\n",
    "print(\"Random Forest:\")\n",
    "for i in features:\n",
    "    classificador = RandomForestClassifier(max_features=i, random_state=0).fit(X_train, y_train)\n",
    "    print(\"\\nCom número máximo de características igual a {}, nos retornou accuracy de {:.2f} no conjunto de dados Treino\".format(i, classificador.score(X_train, y_train)))\n",
    "    print(\"Com número máximo de características igual a {}, nos retornou accuracy de {:.2f} no conjunto de dados Teste\".format(i, classificador.score(X_test, y_test)))"
   ]
  },
  {
   "cell_type": "markdown",
   "metadata": {},
   "source": [
    "# K-means\n",
    "\n",
    "## A idéia do k-means é resolver o problema através de agrupamentos, clusters."
   ]
  },
  {
   "cell_type": "code",
   "execution_count": 30,
   "metadata": {
    "tags": []
   },
   "outputs": [
    {
     "name": "stdout",
     "output_type": "stream",
     "text": [
      "Acurácia nos dados de treino 0.41\n"
     ]
    }
   ],
   "source": [
    "from sklearn.cluster import KMeans\n",
    "\n",
    "X_train, X_test, y_train, y_test = train_test_split(X, y, random_state=0)\n",
    "\n",
    "k_means = KMeans(n_clusters=3, random_state=0).fit(X_train)\n",
    "predicted = k_means.predict(X_train)\n",
    "\n",
    "df_teste = pd.DataFrame(data = predicted, index=y_train)\n",
    "df_teste.reset_index(inplace=True)\n",
    "\n",
    "df_teste.replace({'Normal':1, 'Ajudado posicionado':0, 'Ajudado difícil':2}, inplace=True)\n",
    "tam2 = df_teste.shape[0]\n",
    "tam1 = df_teste[df_teste['Situação do parto'] == df_teste[0]].shape[0]\n",
    "\n",
    "print('Acurácia nos dados de treino {:.2f}'.format(tam1/tam2))"
   ]
  },
  {
   "cell_type": "markdown",
   "metadata": {},
   "source": [
    "# Foi possível verificar que nenhum dos teste apresentados nos retornou um bom resultado em relação a acurácia do teste. Portanto, agora iremos trabalhar com o segundo método para tratativas dos missing values.\n",
    "\n",
    "# Segundo método: Imputar missing values com média ou mediana para variáveis contínuas e valor mais frequente para variáveis categóricas"
   ]
  },
  {
   "cell_type": "code",
   "execution_count": 41,
   "metadata": {},
   "outputs": [],
   "source": [
    "df2 = dados.copy()"
   ]
  },
  {
   "cell_type": "code",
   "execution_count": 34,
   "metadata": {
    "tags": []
   },
   "outputs": [
    {
     "data": {
      "text/html": [
       "<div>\n",
       "<style scoped>\n",
       "    .dataframe tbody tr th:only-of-type {\n",
       "        vertical-align: middle;\n",
       "    }\n",
       "\n",
       "    .dataframe tbody tr th {\n",
       "        vertical-align: top;\n",
       "    }\n",
       "\n",
       "    .dataframe thead th {\n",
       "        text-align: right;\n",
       "    }\n",
       "</style>\n",
       "<table border=\"1\" class=\"dataframe\">\n",
       "  <thead>\n",
       "    <tr style=\"text-align: right;\">\n",
       "      <th></th>\n",
       "      <th>ECC</th>\n",
       "      <th>IPC (mês)</th>\n",
       "      <th>PS (mês)</th>\n",
       "      <th>IEP (mês)</th>\n",
       "      <th>Nº SC</th>\n",
       "      <th>PA (kg/L/lactação)</th>\n",
       "      <th>PMD (kg/L/dia)</th>\n",
       "      <th>PLMD (4%G) (kg/L/dias)</th>\n",
       "      <th>DEL (dias)</th>\n",
       "      <th>PAT (kg/L/lactação)</th>\n",
       "      <th>...</th>\n",
       "      <th>PROT (%)</th>\n",
       "      <th>LACT (%)</th>\n",
       "      <th>ST (%)</th>\n",
       "      <th>ES (%)</th>\n",
       "      <th>CCS 1000x células/ml</th>\n",
       "      <th>ECS</th>\n",
       "      <th>ITU</th>\n",
       "      <th>Temp (ºC)</th>\n",
       "      <th>UR (%)</th>\n",
       "      <th>Precipitação (mm)</th>\n",
       "    </tr>\n",
       "  </thead>\n",
       "  <tbody>\n",
       "    <tr>\n",
       "      <th>count</th>\n",
       "      <td>8938.000000</td>\n",
       "      <td>7469.000000</td>\n",
       "      <td>7469.000000</td>\n",
       "      <td>9112.000000</td>\n",
       "      <td>9120.000000</td>\n",
       "      <td>8256.000000</td>\n",
       "      <td>8256.000000</td>\n",
       "      <td>4354.000000</td>\n",
       "      <td>8256.000000</td>\n",
       "      <td>8218.000000</td>\n",
       "      <td>...</td>\n",
       "      <td>4993.000000</td>\n",
       "      <td>4993.000000</td>\n",
       "      <td>4993.000000</td>\n",
       "      <td>4993.000000</td>\n",
       "      <td>4993.000000</td>\n",
       "      <td>4993.000000</td>\n",
       "      <td>9120.000000</td>\n",
       "      <td>9120.000000</td>\n",
       "      <td>9120.000000</td>\n",
       "      <td>9118.000000</td>\n",
       "    </tr>\n",
       "    <tr>\n",
       "      <th>mean</th>\n",
       "      <td>3.196856</td>\n",
       "      <td>1.924483</td>\n",
       "      <td>7.375566</td>\n",
       "      <td>9.034734</td>\n",
       "      <td>3.032346</td>\n",
       "      <td>11954.715814</td>\n",
       "      <td>33.325894</td>\n",
       "      <td>31.512599</td>\n",
       "      <td>361.513455</td>\n",
       "      <td>32088.942261</td>\n",
       "      <td>...</td>\n",
       "      <td>2.997270</td>\n",
       "      <td>4.651612</td>\n",
       "      <td>12.225368</td>\n",
       "      <td>8.719317</td>\n",
       "      <td>285.859804</td>\n",
       "      <td>2.340076</td>\n",
       "      <td>69.477052</td>\n",
       "      <td>22.024651</td>\n",
       "      <td>72.984265</td>\n",
       "      <td>0.818081</td>\n",
       "    </tr>\n",
       "    <tr>\n",
       "      <th>std</th>\n",
       "      <td>0.282625</td>\n",
       "      <td>1.519986</td>\n",
       "      <td>5.984447</td>\n",
       "      <td>8.360083</td>\n",
       "      <td>2.400000</td>\n",
       "      <td>5067.861187</td>\n",
       "      <td>7.036547</td>\n",
       "      <td>8.189379</td>\n",
       "      <td>153.236249</td>\n",
       "      <td>17160.058650</td>\n",
       "      <td>...</td>\n",
       "      <td>0.313644</td>\n",
       "      <td>0.229243</td>\n",
       "      <td>1.084865</td>\n",
       "      <td>0.674325</td>\n",
       "      <td>944.933615</td>\n",
       "      <td>2.041661</td>\n",
       "      <td>4.515342</td>\n",
       "      <td>3.149421</td>\n",
       "      <td>13.922783</td>\n",
       "      <td>4.123740</td>\n",
       "    </tr>\n",
       "    <tr>\n",
       "      <th>min</th>\n",
       "      <td>2.000000</td>\n",
       "      <td>0.000000</td>\n",
       "      <td>0.133333</td>\n",
       "      <td>0.000000</td>\n",
       "      <td>0.000000</td>\n",
       "      <td>3.142000</td>\n",
       "      <td>0.136000</td>\n",
       "      <td>0.138244</td>\n",
       "      <td>0.003300</td>\n",
       "      <td>59.640000</td>\n",
       "      <td>...</td>\n",
       "      <td>2.200000</td>\n",
       "      <td>1.920000</td>\n",
       "      <td>7.990000</td>\n",
       "      <td>6.490000</td>\n",
       "      <td>1.000000</td>\n",
       "      <td>0.000000</td>\n",
       "      <td>46.400000</td>\n",
       "      <td>0.000000</td>\n",
       "      <td>0.000000</td>\n",
       "      <td>0.000000</td>\n",
       "    </tr>\n",
       "    <tr>\n",
       "      <th>25%</th>\n",
       "      <td>3.000000</td>\n",
       "      <td>1.166667</td>\n",
       "      <td>3.066667</td>\n",
       "      <td>0.000000</td>\n",
       "      <td>1.000000</td>\n",
       "      <td>8967.207500</td>\n",
       "      <td>29.285500</td>\n",
       "      <td>26.590539</td>\n",
       "      <td>281.006639</td>\n",
       "      <td>19141.019000</td>\n",
       "      <td>...</td>\n",
       "      <td>2.780000</td>\n",
       "      <td>4.550000</td>\n",
       "      <td>11.590000</td>\n",
       "      <td>8.410000</td>\n",
       "      <td>22.000000</td>\n",
       "      <td>1.000000</td>\n",
       "      <td>66.077965</td>\n",
       "      <td>19.800000</td>\n",
       "      <td>63.950000</td>\n",
       "      <td>0.000000</td>\n",
       "    </tr>\n",
       "    <tr>\n",
       "      <th>50%</th>\n",
       "      <td>3.000000</td>\n",
       "      <td>1.733333</td>\n",
       "      <td>5.600000</td>\n",
       "      <td>11.200000</td>\n",
       "      <td>2.000000</td>\n",
       "      <td>11672.355500</td>\n",
       "      <td>33.761500</td>\n",
       "      <td>31.454059</td>\n",
       "      <td>335.006767</td>\n",
       "      <td>30002.487000</td>\n",
       "      <td>...</td>\n",
       "      <td>2.950000</td>\n",
       "      <td>4.670000</td>\n",
       "      <td>12.180000</td>\n",
       "      <td>8.640000</td>\n",
       "      <td>44.000000</td>\n",
       "      <td>2.000000</td>\n",
       "      <td>70.298804</td>\n",
       "      <td>22.164375</td>\n",
       "      <td>73.412083</td>\n",
       "      <td>0.000000</td>\n",
       "    </tr>\n",
       "    <tr>\n",
       "      <th>75%</th>\n",
       "      <td>3.500000</td>\n",
       "      <td>2.333333</td>\n",
       "      <td>9.833333</td>\n",
       "      <td>14.600000</td>\n",
       "      <td>4.000000</td>\n",
       "      <td>14694.035750</td>\n",
       "      <td>37.859500</td>\n",
       "      <td>36.318514</td>\n",
       "      <td>441.004926</td>\n",
       "      <td>42573.862250</td>\n",
       "      <td>...</td>\n",
       "      <td>3.170000</td>\n",
       "      <td>4.800000</td>\n",
       "      <td>12.780000</td>\n",
       "      <td>8.900000</td>\n",
       "      <td>121.000000</td>\n",
       "      <td>3.000000</td>\n",
       "      <td>73.007275</td>\n",
       "      <td>24.220208</td>\n",
       "      <td>83.369375</td>\n",
       "      <td>0.062500</td>\n",
       "    </tr>\n",
       "    <tr>\n",
       "      <th>max</th>\n",
       "      <td>4.500000</td>\n",
       "      <td>25.566667</td>\n",
       "      <td>58.333333</td>\n",
       "      <td>79.800000</td>\n",
       "      <td>22.000000</td>\n",
       "      <td>44604.612000</td>\n",
       "      <td>60.408000</td>\n",
       "      <td>86.888032</td>\n",
       "      <td>1386.006226</td>\n",
       "      <td>121225.972000</td>\n",
       "      <td>...</td>\n",
       "      <td>5.650000</td>\n",
       "      <td>5.270000</td>\n",
       "      <td>23.580000</td>\n",
       "      <td>16.030000</td>\n",
       "      <td>9999.000000</td>\n",
       "      <td>9.000000</td>\n",
       "      <td>87.207073</td>\n",
       "      <td>38.387895</td>\n",
       "      <td>144.917647</td>\n",
       "      <td>69.100000</td>\n",
       "    </tr>\n",
       "  </tbody>\n",
       "</table>\n",
       "<p>8 rows × 23 columns</p>\n",
       "</div>"
      ],
      "text/plain": [
       "               ECC    IPC (mês)     PS (mês)    IEP (mês)        Nº SC  \\\n",
       "count  8938.000000  7469.000000  7469.000000  9112.000000  9120.000000   \n",
       "mean      3.196856     1.924483     7.375566     9.034734     3.032346   \n",
       "std       0.282625     1.519986     5.984447     8.360083     2.400000   \n",
       "min       2.000000     0.000000     0.133333     0.000000     0.000000   \n",
       "25%       3.000000     1.166667     3.066667     0.000000     1.000000   \n",
       "50%       3.000000     1.733333     5.600000    11.200000     2.000000   \n",
       "75%       3.500000     2.333333     9.833333    14.600000     4.000000   \n",
       "max       4.500000    25.566667    58.333333    79.800000    22.000000   \n",
       "\n",
       "       PA (kg/L/lactação)  PMD (kg/L/dia)  PLMD (4%G) (kg/L/dias)  \\\n",
       "count         8256.000000     8256.000000             4354.000000   \n",
       "mean         11954.715814       33.325894               31.512599   \n",
       "std           5067.861187        7.036547                8.189379   \n",
       "min              3.142000        0.136000                0.138244   \n",
       "25%           8967.207500       29.285500               26.590539   \n",
       "50%          11672.355500       33.761500               31.454059   \n",
       "75%          14694.035750       37.859500               36.318514   \n",
       "max          44604.612000       60.408000               86.888032   \n",
       "\n",
       "        DEL (dias)  PAT (kg/L/lactação)  ...     PROT (%)     LACT (%)  \\\n",
       "count  8256.000000          8218.000000  ...  4993.000000  4993.000000   \n",
       "mean    361.513455         32088.942261  ...     2.997270     4.651612   \n",
       "std     153.236249         17160.058650  ...     0.313644     0.229243   \n",
       "min       0.003300            59.640000  ...     2.200000     1.920000   \n",
       "25%     281.006639         19141.019000  ...     2.780000     4.550000   \n",
       "50%     335.006767         30002.487000  ...     2.950000     4.670000   \n",
       "75%     441.004926         42573.862250  ...     3.170000     4.800000   \n",
       "max    1386.006226        121225.972000  ...     5.650000     5.270000   \n",
       "\n",
       "            ST (%)       ES (%)  CCS 1000x células/ml          ECS  \\\n",
       "count  4993.000000  4993.000000           4993.000000  4993.000000   \n",
       "mean     12.225368     8.719317            285.859804     2.340076   \n",
       "std       1.084865     0.674325            944.933615     2.041661   \n",
       "min       7.990000     6.490000              1.000000     0.000000   \n",
       "25%      11.590000     8.410000             22.000000     1.000000   \n",
       "50%      12.180000     8.640000             44.000000     2.000000   \n",
       "75%      12.780000     8.900000            121.000000     3.000000   \n",
       "max      23.580000    16.030000           9999.000000     9.000000   \n",
       "\n",
       "               ITU    Temp (ºC)       UR (%)  Precipitação (mm)  \n",
       "count  9120.000000  9120.000000  9120.000000        9118.000000  \n",
       "mean     69.477052    22.024651    72.984265           0.818081  \n",
       "std       4.515342     3.149421    13.922783           4.123740  \n",
       "min      46.400000     0.000000     0.000000           0.000000  \n",
       "25%      66.077965    19.800000    63.950000           0.000000  \n",
       "50%      70.298804    22.164375    73.412083           0.000000  \n",
       "75%      73.007275    24.220208    83.369375           0.062500  \n",
       "max      87.207073    38.387895   144.917647          69.100000  \n",
       "\n",
       "[8 rows x 23 columns]"
      ]
     },
     "execution_count": 34,
     "metadata": {},
     "output_type": "execute_result"
    }
   ],
   "source": [
    "df2.describe()\n",
    "# Típico summary() no R"
   ]
  },
  {
   "cell_type": "markdown",
   "metadata": {},
   "source": [
    "## Irei substituir os missing values pela média geral de cada variável numérica"
   ]
  },
  {
   "cell_type": "code",
   "execution_count": 42,
   "metadata": {},
   "outputs": [],
   "source": [
    "names = df2.select_dtypes(['float']).columns\n",
    "for i in names:\n",
    "    df2[i].replace(np.NaN, df2[i].mean(), inplace=True)"
   ]
  },
  {
   "cell_type": "markdown",
   "metadata": {},
   "source": [
    "## Irei substituir os missing values pelo valor mais frequente de cada variável categórica"
   ]
  },
  {
   "cell_type": "code",
   "execution_count": 44,
   "metadata": {
    "tags": []
   },
   "outputs": [],
   "source": [
    "df2['Multiparidade'].fillna('primeira', inplace=True)\n",
    "# Substituido pelo valor mais frequente"
   ]
  },
  {
   "cell_type": "code",
   "execution_count": 45,
   "metadata": {},
   "outputs": [
    {
     "name": "stdout",
     "output_type": "stream",
     "text": [
      "<class 'pandas.core.frame.DataFrame'>\n",
      "RangeIndex: 9120 entries, 0 to 9119\n",
      "Data columns (total 28 columns):\n",
      " #   Column                  Non-Null Count  Dtype  \n",
      "---  ------                  --------------  -----  \n",
      " 0   Situação do parto       9120 non-null   object \n",
      " 1   Bezerro deste parto     9120 non-null   object \n",
      " 2   Tipo de prenhez         9120 non-null   object \n",
      " 3   ECC                     9120 non-null   float64\n",
      " 4   Multiparidade           9120 non-null   object \n",
      " 5   IPC (mês)               9120 non-null   float64\n",
      " 6   PS (mês)                9120 non-null   float64\n",
      " 7   IEP (mês)               9120 non-null   float64\n",
      " 8   Nº SC                   9120 non-null   int64  \n",
      " 9   PA (kg/L/lactação)      9120 non-null   float64\n",
      " 10  PMD (kg/L/dia)          9120 non-null   float64\n",
      " 11  PLMD (4%G) (kg/L/dias)  9120 non-null   float64\n",
      " 12  DEL (dias)              9120 non-null   float64\n",
      " 13  PAT (kg/L/lactação)     9120 non-null   float64\n",
      " 14  PMDT (kg/L/dia)         9120 non-null   float64\n",
      " 15  DELA (dias)             9120 non-null   float64\n",
      " 16  GORD (%)                9120 non-null   float64\n",
      " 17  PROT (%)                9120 non-null   float64\n",
      " 18  LACT (%)                9120 non-null   float64\n",
      " 19  ST (%)                  9120 non-null   float64\n",
      " 20  ES (%)                  9120 non-null   float64\n",
      " 21  CCS 1000x células/ml    9120 non-null   float64\n",
      " 22  ECS                     9120 non-null   float64\n",
      " 23  Estações do ano         9120 non-null   object \n",
      " 24  ITU                     9120 non-null   float64\n",
      " 25  Temp (ºC)               9120 non-null   float64\n",
      " 26  UR (%)                  9120 non-null   float64\n",
      " 27  Precipitação (mm)       9120 non-null   float64\n",
      "dtypes: float64(22), int64(1), object(5)\n",
      "memory usage: 1.9+ MB\n"
     ]
    }
   ],
   "source": [
    "df2.info()"
   ]
  },
  {
   "cell_type": "markdown",
   "metadata": {
    "tags": []
   },
   "source": [
    "## Criando variáveis Dummies para trabalhar com dados categóricos para as variáveis \"Bezerro deste parto\", \"Tipo de prenhez\", \"Multiparidade\", \"Estações do ano\""
   ]
  },
  {
   "cell_type": "code",
   "execution_count": 46,
   "metadata": {},
   "outputs": [
    {
     "data": {
      "text/html": [
       "<div>\n",
       "<style scoped>\n",
       "    .dataframe tbody tr th:only-of-type {\n",
       "        vertical-align: middle;\n",
       "    }\n",
       "\n",
       "    .dataframe tbody tr th {\n",
       "        vertical-align: top;\n",
       "    }\n",
       "\n",
       "    .dataframe thead th {\n",
       "        text-align: right;\n",
       "    }\n",
       "</style>\n",
       "<table border=\"1\" class=\"dataframe\">\n",
       "  <thead>\n",
       "    <tr style=\"text-align: right;\">\n",
       "      <th></th>\n",
       "      <th>Situação do parto</th>\n",
       "      <th>ECC</th>\n",
       "      <th>IPC (mês)</th>\n",
       "      <th>PS (mês)</th>\n",
       "      <th>IEP (mês)</th>\n",
       "      <th>Nº SC</th>\n",
       "      <th>PA (kg/L/lactação)</th>\n",
       "      <th>PMD (kg/L/dia)</th>\n",
       "      <th>PLMD (4%G) (kg/L/dias)</th>\n",
       "      <th>DEL (dias)</th>\n",
       "      <th>...</th>\n",
       "      <th>Multiparidade_primeira</th>\n",
       "      <th>Multiparidade_quarta</th>\n",
       "      <th>Multiparidade_quinta</th>\n",
       "      <th>Multiparidade_segunda</th>\n",
       "      <th>Multiparidade_sexta</th>\n",
       "      <th>Multiparidade_sextima</th>\n",
       "      <th>Multiparidade_terceira</th>\n",
       "      <th>Estações do ano_outono</th>\n",
       "      <th>Estações do ano_primavera</th>\n",
       "      <th>Estações do ano_verão</th>\n",
       "    </tr>\n",
       "  </thead>\n",
       "  <tbody>\n",
       "    <tr>\n",
       "      <th>0</th>\n",
       "      <td>Ajudado posicionado</td>\n",
       "      <td>3.5</td>\n",
       "      <td>1.924483</td>\n",
       "      <td>7.375566</td>\n",
       "      <td>26.6</td>\n",
       "      <td>7</td>\n",
       "      <td>825.024000</td>\n",
       "      <td>23.572000</td>\n",
       "      <td>31.512599</td>\n",
       "      <td>35.000170</td>\n",
       "      <td>...</td>\n",
       "      <td>0</td>\n",
       "      <td>0</td>\n",
       "      <td>0</td>\n",
       "      <td>0</td>\n",
       "      <td>0</td>\n",
       "      <td>0</td>\n",
       "      <td>1</td>\n",
       "      <td>0</td>\n",
       "      <td>0</td>\n",
       "      <td>0</td>\n",
       "    </tr>\n",
       "    <tr>\n",
       "      <th>1</th>\n",
       "      <td>Ajudado posicionado</td>\n",
       "      <td>4.0</td>\n",
       "      <td>0.966667</td>\n",
       "      <td>1.433333</td>\n",
       "      <td>17.2</td>\n",
       "      <td>6</td>\n",
       "      <td>824.290000</td>\n",
       "      <td>9.931000</td>\n",
       "      <td>31.512599</td>\n",
       "      <td>83.001712</td>\n",
       "      <td>...</td>\n",
       "      <td>0</td>\n",
       "      <td>1</td>\n",
       "      <td>0</td>\n",
       "      <td>0</td>\n",
       "      <td>0</td>\n",
       "      <td>0</td>\n",
       "      <td>0</td>\n",
       "      <td>0</td>\n",
       "      <td>0</td>\n",
       "      <td>1</td>\n",
       "    </tr>\n",
       "    <tr>\n",
       "      <th>2</th>\n",
       "      <td>Normal</td>\n",
       "      <td>3.5</td>\n",
       "      <td>2.133333</td>\n",
       "      <td>2.766667</td>\n",
       "      <td>20.1</td>\n",
       "      <td>6</td>\n",
       "      <td>3046.213000</td>\n",
       "      <td>29.574000</td>\n",
       "      <td>31.512599</td>\n",
       "      <td>103.003077</td>\n",
       "      <td>...</td>\n",
       "      <td>0</td>\n",
       "      <td>0</td>\n",
       "      <td>1</td>\n",
       "      <td>0</td>\n",
       "      <td>0</td>\n",
       "      <td>0</td>\n",
       "      <td>0</td>\n",
       "      <td>0</td>\n",
       "      <td>1</td>\n",
       "      <td>0</td>\n",
       "    </tr>\n",
       "    <tr>\n",
       "      <th>3</th>\n",
       "      <td>Normal</td>\n",
       "      <td>3.0</td>\n",
       "      <td>1.924483</td>\n",
       "      <td>7.375566</td>\n",
       "      <td>17.4</td>\n",
       "      <td>6</td>\n",
       "      <td>11954.715814</td>\n",
       "      <td>33.325894</td>\n",
       "      <td>31.512599</td>\n",
       "      <td>361.513455</td>\n",
       "      <td>...</td>\n",
       "      <td>0</td>\n",
       "      <td>0</td>\n",
       "      <td>0</td>\n",
       "      <td>0</td>\n",
       "      <td>1</td>\n",
       "      <td>0</td>\n",
       "      <td>0</td>\n",
       "      <td>0</td>\n",
       "      <td>0</td>\n",
       "      <td>1</td>\n",
       "    </tr>\n",
       "    <tr>\n",
       "      <th>4</th>\n",
       "      <td>Ajudado posicionado</td>\n",
       "      <td>3.0</td>\n",
       "      <td>4.200000</td>\n",
       "      <td>4.200000</td>\n",
       "      <td>15.5</td>\n",
       "      <td>3</td>\n",
       "      <td>3679.795000</td>\n",
       "      <td>28.748000</td>\n",
       "      <td>31.512599</td>\n",
       "      <td>128.001774</td>\n",
       "      <td>...</td>\n",
       "      <td>0</td>\n",
       "      <td>0</td>\n",
       "      <td>0</td>\n",
       "      <td>0</td>\n",
       "      <td>1</td>\n",
       "      <td>0</td>\n",
       "      <td>0</td>\n",
       "      <td>0</td>\n",
       "      <td>0</td>\n",
       "      <td>1</td>\n",
       "    </tr>\n",
       "  </tbody>\n",
       "</table>\n",
       "<p>5 rows × 46 columns</p>\n",
       "</div>"
      ],
      "text/plain": [
       "     Situação do parto  ECC  IPC (mês)  PS (mês)  IEP (mês)  Nº SC  \\\n",
       "0  Ajudado posicionado  3.5   1.924483  7.375566       26.6      7   \n",
       "1  Ajudado posicionado  4.0   0.966667  1.433333       17.2      6   \n",
       "2               Normal  3.5   2.133333  2.766667       20.1      6   \n",
       "3               Normal  3.0   1.924483  7.375566       17.4      6   \n",
       "4  Ajudado posicionado  3.0   4.200000  4.200000       15.5      3   \n",
       "\n",
       "   PA (kg/L/lactação)  PMD (kg/L/dia)  PLMD (4%G) (kg/L/dias)  DEL (dias)  \\\n",
       "0          825.024000       23.572000               31.512599   35.000170   \n",
       "1          824.290000        9.931000               31.512599   83.001712   \n",
       "2         3046.213000       29.574000               31.512599  103.003077   \n",
       "3        11954.715814       33.325894               31.512599  361.513455   \n",
       "4         3679.795000       28.748000               31.512599  128.001774   \n",
       "\n",
       "   ...  Multiparidade_primeira  Multiparidade_quarta  Multiparidade_quinta  \\\n",
       "0  ...                       0                     0                     0   \n",
       "1  ...                       0                     1                     0   \n",
       "2  ...                       0                     0                     1   \n",
       "3  ...                       0                     0                     0   \n",
       "4  ...                       0                     0                     0   \n",
       "\n",
       "   Multiparidade_segunda  Multiparidade_sexta  Multiparidade_sextima  \\\n",
       "0                      0                    0                      0   \n",
       "1                      0                    0                      0   \n",
       "2                      0                    0                      0   \n",
       "3                      0                    1                      0   \n",
       "4                      0                    1                      0   \n",
       "\n",
       "   Multiparidade_terceira  Estações do ano_outono  Estações do ano_primavera  \\\n",
       "0                       1                       0                          0   \n",
       "1                       0                       0                          0   \n",
       "2                       0                       0                          1   \n",
       "3                       0                       0                          0   \n",
       "4                       0                       0                          0   \n",
       "\n",
       "   Estações do ano_verão  \n",
       "0                      0  \n",
       "1                      1  \n",
       "2                      0  \n",
       "3                      1  \n",
       "4                      1  \n",
       "\n",
       "[5 rows x 46 columns]"
      ]
     },
     "execution_count": 46,
     "metadata": {},
     "output_type": "execute_result"
    }
   ],
   "source": [
    "df2 = pd.get_dummies(df2, columns=[\"Bezerro deste parto\", \"Tipo de prenhez\", \"Multiparidade\", \"Estações do ano\"], drop_first=True)\n",
    "\n",
    "df2.head()"
   ]
  },
  {
   "cell_type": "code",
   "execution_count": 47,
   "metadata": {},
   "outputs": [],
   "source": [
    "X = df2.drop(columns='Situação do parto').copy()\n",
    "y = df2['Situação do parto'].copy()"
   ]
  },
  {
   "cell_type": "markdown",
   "metadata": {},
   "source": [
    "# K-NN\n",
    "\n",
    "## Sem padronização dos valores"
   ]
  },
  {
   "cell_type": "code",
   "execution_count": 48,
   "metadata": {},
   "outputs": [
    {
     "data": {
      "text/plain": [
       "([<matplotlib.axis.XTick at 0x2c1d3e27b80>,\n",
       "  <matplotlib.axis.XTick at 0x2c1d3e27df0>,\n",
       "  <matplotlib.axis.XTick at 0x2c1d3ec7f70>,\n",
       "  <matplotlib.axis.XTick at 0x2c1d3e33fd0>,\n",
       "  <matplotlib.axis.XTick at 0x2c1d3edc520>,\n",
       "  <matplotlib.axis.XTick at 0x2c1d3edca30>,\n",
       "  <matplotlib.axis.XTick at 0x2c1d3edcf40>,\n",
       "  <matplotlib.axis.XTick at 0x2c1d3ee7490>,\n",
       "  <matplotlib.axis.XTick at 0x2c1d3ee79a0>,\n",
       "  <matplotlib.axis.XTick at 0x2c1d3ee7eb0>,\n",
       "  <matplotlib.axis.XTick at 0x2c1d3eef400>,\n",
       "  <matplotlib.axis.XTick at 0x2c1d3ee7a90>,\n",
       "  <matplotlib.axis.XTick at 0x2c1d3edcb20>],\n",
       " <a list of 13 Text xticklabel objects>)"
      ]
     },
     "execution_count": 48,
     "metadata": {},
     "output_type": "execute_result"
    },
    {
     "data": {
      "image/png": "[encoded data removed]",
      "text/plain": [
       "<Figure size 432x288 with 1 Axes>"
      ]
     },
     "metadata": {
      "needs_background": "light"
     },
     "output_type": "display_data"
    }
   ],
   "source": [
    "from sklearn.neighbors import KNeighborsClassifier\n",
    "\n",
    "X_train, X_test, y_train, y_test = train_test_split(X, y, random_state=0)\n",
    "\n",
    "k_range = range(1,60)\n",
    "scores = []\n",
    "\n",
    "for k in k_range:\n",
    "    knn = KNeighborsClassifier(n_neighbors = k)\n",
    "    knn.fit(X_train, y_train)\n",
    "    scores.append(knn.score(X_test, y_test))\n",
    "\n",
    "%matplotlib inline\n",
    "plt.figure()\n",
    "plt.xlabel('k')\n",
    "plt.ylabel('Accuracy')\n",
    "plt.scatter(k_range, scores)\n",
    "plt.xticks(range(0,65,5))"
   ]
  },
  {
   "cell_type": "markdown",
   "metadata": {},
   "source": [
    "## Com padronização dos valores"
   ]
  },
  {
   "cell_type": "code",
   "execution_count": 49,
   "metadata": {},
   "outputs": [
    {
     "data": {
      "text/plain": [
       "([<matplotlib.axis.XTick at 0x2c1d3ef80a0>,\n",
       "  <matplotlib.axis.XTick at 0x2c1d3ef81f0>,\n",
       "  <matplotlib.axis.XTick at 0x2c1d3efc2b0>,\n",
       "  <matplotlib.axis.XTick at 0x2c1d3e56100>,\n",
       "  <matplotlib.axis.XTick at 0x2c1d3e56610>,\n",
       "  <matplotlib.axis.XTick at 0x2c1d3e56bb0>,\n",
       "  <matplotlib.axis.XTick at 0x2c1d3e6d190>,\n",
       "  <matplotlib.axis.XTick at 0x2c1d3e6d730>,\n",
       "  <matplotlib.axis.XTick at 0x2c1d3e6dcd0>,\n",
       "  <matplotlib.axis.XTick at 0x2c1d3e862b0>,\n",
       "  <matplotlib.axis.XTick at 0x2c1d3e86850>,\n",
       "  <matplotlib.axis.XTick at 0x2c1d3e6d790>,\n",
       "  <matplotlib.axis.XTick at 0x2c1d3e56250>],\n",
       " <a list of 13 Text xticklabel objects>)"
      ]
     },
     "execution_count": 49,
     "metadata": {},
     "output_type": "execute_result"
    },
    {
     "data": {
      "image/png": "[encoded data removed]",
      "text/plain": [
       "<Figure size 432x288 with 1 Axes>"
      ]
     },
     "metadata": {
      "needs_background": "light"
     },
     "output_type": "display_data"
    }
   ],
   "source": [
    "from sklearn.preprocessing import MinMaxScaler\n",
    "\n",
    "scaler = MinMaxScaler()\n",
    "\n",
    "X_train_scaled = scaler.fit_transform(X_train)\n",
    "X_test_scaled = scaler.transform(X_test)\n",
    "\n",
    "k_range = range(1,60)\n",
    "scores = []\n",
    "\n",
    "for k in k_range:\n",
    "    knn = KNeighborsClassifier(n_neighbors = k)\n",
    "    knn.fit(X_train_scaled, y_train)\n",
    "    scores.append(knn.score(X_test_scaled, y_test))\n",
    "\n",
    "%matplotlib inline\n",
    "plt.figure()\n",
    "plt.xlabel('k')\n",
    "plt.ylabel('Accuracy')\n",
    "plt.scatter(k_range, scores)\n",
    "plt.xticks(range(0,65,5))"
   ]
  },
  {
   "cell_type": "markdown",
   "metadata": {},
   "source": [
    "# Suporte Vector Machine\n",
    "\n",
    "## Sem padronização dos valores"
   ]
  },
  {
   "cell_type": "code",
   "execution_count": 50,
   "metadata": {
    "tags": []
   },
   "outputs": [
    {
     "name": "stdout",
     "output_type": "stream",
     "text": [
      "Support Vector Classifier:\n",
      "\n",
      "RBF kernel, gamma = 0.01, C = 0.10, Accuracy = 0.62\n",
      "RBF kernel, gamma = 0.01, C = 1.00, Accuracy = 0.61\n",
      "RBF kernel, gamma = 0.01, C = 15.00, Accuracy = 0.60\n",
      "RBF kernel, gamma = 0.01, C = 250.00, Accuracy = 0.60\n",
      "RBF kernel, gamma = 1.00, C = 0.10, Accuracy = 0.62\n",
      "RBF kernel, gamma = 1.00, C = 1.00, Accuracy = 0.62\n",
      "RBF kernel, gamma = 1.00, C = 15.00, Accuracy = 0.62\n",
      "RBF kernel, gamma = 1.00, C = 250.00, Accuracy = 0.62\n",
      "RBF kernel, gamma = 5.00, C = 0.10, Accuracy = 0.62\n",
      "RBF kernel, gamma = 5.00, C = 1.00, Accuracy = 0.62\n",
      "RBF kernel, gamma = 5.00, C = 15.00, Accuracy = 0.62\n",
      "RBF kernel, gamma = 5.00, C = 250.00, Accuracy = 0.62\n",
      "RBF kernel, gamma = 10.00, C = 0.10, Accuracy = 0.62\n",
      "RBF kernel, gamma = 10.00, C = 1.00, Accuracy = 0.62\n",
      "RBF kernel, gamma = 10.00, C = 15.00, Accuracy = 0.62\n",
      "RBF kernel, gamma = 10.00, C = 250.00, Accuracy = 0.62\n"
     ]
    }
   ],
   "source": [
    "from sklearn.svm import SVC\n",
    "\n",
    "X_train, X_test, y_train, y_test = train_test_split(X, y, random_state=0)\n",
    "\n",
    "print('Support Vector Classifier:\\n')\n",
    "for gamma in [0.01, 1, 5, 10]:\n",
    "    for C in [0.1, 1, 15, 250]:\n",
    "        classificador = SVC(kernel = 'rbf', gamma = gamma, C = C).fit(X_train, y_train)\n",
    "        print('RBF kernel, gamma = {:.2f}, C = {:.2f}, Accuracy = {:.2f}'.format(gamma, C, classificador.score(X_test, y_test)))"
   ]
  },
  {
   "cell_type": "code",
   "execution_count": 52,
   "metadata": {
    "tags": []
   },
   "outputs": [
    {
     "name": "stdout",
     "output_type": "stream",
     "text": [
      "Support Vector Classifier:\n",
      "\n"
     ]
    },
    {
     "name": "stderr",
     "output_type": "stream",
     "text": [
      "D:\\Anaconda3\\envs\\PyCoursera\\lib\\site-packages\\sklearn\\svm\\_base.py:946: ConvergenceWarning: Liblinear failed to converge, increase the number of iterations.\n",
      "  warnings.warn(\"Liblinear failed to converge, increase \"\n"
     ]
    },
    {
     "name": "stdout",
     "output_type": "stream",
     "text": [
      "Linear kernel, C = 1.00, Accuracy = 0.60\n"
     ]
    },
    {
     "name": "stderr",
     "output_type": "stream",
     "text": [
      "D:\\Anaconda3\\envs\\PyCoursera\\lib\\site-packages\\sklearn\\svm\\_base.py:946: ConvergenceWarning: Liblinear failed to converge, increase the number of iterations.\n",
      "  warnings.warn(\"Liblinear failed to converge, increase \"\n"
     ]
    },
    {
     "name": "stdout",
     "output_type": "stream",
     "text": [
      "Linear kernel, C = 5.00, Accuracy = 0.61\n"
     ]
    },
    {
     "name": "stderr",
     "output_type": "stream",
     "text": [
      "D:\\Anaconda3\\envs\\PyCoursera\\lib\\site-packages\\sklearn\\svm\\_base.py:946: ConvergenceWarning: Liblinear failed to converge, increase the number of iterations.\n",
      "  warnings.warn(\"Liblinear failed to converge, increase \"\n"
     ]
    },
    {
     "name": "stdout",
     "output_type": "stream",
     "text": [
      "Linear kernel, C = 10.00, Accuracy = 0.61\n"
     ]
    },
    {
     "name": "stderr",
     "output_type": "stream",
     "text": [
      "D:\\Anaconda3\\envs\\PyCoursera\\lib\\site-packages\\sklearn\\svm\\_base.py:946: ConvergenceWarning: Liblinear failed to converge, increase the number of iterations.\n",
      "  warnings.warn(\"Liblinear failed to converge, increase \"\n"
     ]
    },
    {
     "name": "stdout",
     "output_type": "stream",
     "text": [
      "Linear kernel, C = 15.00, Accuracy = 0.61\n"
     ]
    },
    {
     "name": "stderr",
     "output_type": "stream",
     "text": [
      "D:\\Anaconda3\\envs\\PyCoursera\\lib\\site-packages\\sklearn\\svm\\_base.py:946: ConvergenceWarning: Liblinear failed to converge, increase the number of iterations.\n",
      "  warnings.warn(\"Liblinear failed to converge, increase \"\n"
     ]
    },
    {
     "name": "stdout",
     "output_type": "stream",
     "text": [
      "Linear kernel, C = 100.00, Accuracy = 0.61\n",
      "Linear kernel, C = 250.00, Accuracy = 0.61\n"
     ]
    },
    {
     "name": "stderr",
     "output_type": "stream",
     "text": [
      "D:\\Anaconda3\\envs\\PyCoursera\\lib\\site-packages\\sklearn\\svm\\_base.py:946: ConvergenceWarning: Liblinear failed to converge, increase the number of iterations.\n",
      "  warnings.warn(\"Liblinear failed to converge, increase \"\n"
     ]
    }
   ],
   "source": [
    "from sklearn.svm import LinearSVC\n",
    "\n",
    "X_train, X_test, y_train, y_test = train_test_split(X, y, random_state=0)\n",
    "\n",
    "C = [1, 5, 10, 15, 100, 250]\n",
    "\n",
    "print('Support Vector Classifier:\\n')\n",
    "for i in C:\n",
    "    svc = LinearSVC(C=i, random_state=0, max_iter=2000).fit(X_train, y_train)\n",
    "    print('Linear kernel, C = {:.2f}, Accuracy = {:.2f}'.format(i, svc.score(X_test, y_test)))"
   ]
  },
  {
   "cell_type": "markdown",
   "metadata": {},
   "source": [
    "## Com padronização dos valores"
   ]
  },
  {
   "cell_type": "code",
   "execution_count": 55,
   "metadata": {
    "tags": []
   },
   "outputs": [
    {
     "name": "stdout",
     "output_type": "stream",
     "text": [
      "Support Vector Classifier:\n",
      "\n",
      "RBF kernel, gamma = 0.01, C = 0.10, Accuracy = 0.62\n",
      "RBF kernel, gamma = 0.01, C = 1.00, Accuracy = 0.62\n",
      "RBF kernel, gamma = 0.01, C = 15.00, Accuracy = 0.62\n",
      "RBF kernel, gamma = 0.01, C = 250.00, Accuracy = 0.61\n",
      "RBF kernel, gamma = 1.00, C = 0.10, Accuracy = 0.62\n",
      "RBF kernel, gamma = 1.00, C = 1.00, Accuracy = 0.61\n",
      "RBF kernel, gamma = 1.00, C = 15.00, Accuracy = 0.58\n",
      "RBF kernel, gamma = 1.00, C = 250.00, Accuracy = 0.52\n",
      "RBF kernel, gamma = 5.00, C = 0.10, Accuracy = 0.62\n",
      "RBF kernel, gamma = 5.00, C = 1.00, Accuracy = 0.61\n",
      "RBF kernel, gamma = 5.00, C = 15.00, Accuracy = 0.54\n",
      "RBF kernel, gamma = 5.00, C = 250.00, Accuracy = 0.51\n",
      "RBF kernel, gamma = 10.00, C = 0.10, Accuracy = 0.62\n",
      "RBF kernel, gamma = 10.00, C = 1.00, Accuracy = 0.61\n",
      "RBF kernel, gamma = 10.00, C = 15.00, Accuracy = 0.55\n",
      "RBF kernel, gamma = 10.00, C = 250.00, Accuracy = 0.54\n"
     ]
    }
   ],
   "source": [
    "from sklearn.svm import SVC\n",
    "from sklearn.preprocessing import MinMaxScaler\n",
    "\n",
    "X_train, X_test, y_train, y_test = train_test_split(X, y, random_state=0)\n",
    "scaler = MinMaxScaler()\n",
    "\n",
    "X_train_scaled = scaler.fit_transform(X_train)\n",
    "X_test_scaled = scaler.transform(X_test)\n",
    "\n",
    "print('Support Vector Classifier:\\n')\n",
    "for gamma in [0.01, 1, 5, 10]:\n",
    "    for C in [0.1, 1, 15, 250]:\n",
    "        classificador = SVC(kernel = 'rbf', gamma = gamma, C = C).fit(X_train_scaled, y_train)\n",
    "        print('RBF kernel, gamma = {:.2f}, C = {:.2f}, Accuracy = {:.2f}'.format(gamma, C, classificador.score(X_test_scaled, y_test)))"
   ]
  },
  {
   "cell_type": "code",
   "execution_count": 57,
   "metadata": {
    "tags": []
   },
   "outputs": [
    {
     "name": "stdout",
     "output_type": "stream",
     "text": [
      "Support Vector Classifier:\n",
      "\n",
      "Linear kernel, C = 1.00, Accuracy = 0.61\n",
      "Linear kernel, C = 5.00, Accuracy = 0.62\n"
     ]
    },
    {
     "name": "stderr",
     "output_type": "stream",
     "text": [
      "D:\\Anaconda3\\envs\\PyCoursera\\lib\\site-packages\\sklearn\\svm\\_base.py:946: ConvergenceWarning: Liblinear failed to converge, increase the number of iterations.\n",
      "  warnings.warn(\"Liblinear failed to converge, increase \"\n"
     ]
    },
    {
     "name": "stdout",
     "output_type": "stream",
     "text": [
      "Linear kernel, C = 10.00, Accuracy = 0.62\n"
     ]
    },
    {
     "name": "stderr",
     "output_type": "stream",
     "text": [
      "D:\\Anaconda3\\envs\\PyCoursera\\lib\\site-packages\\sklearn\\svm\\_base.py:946: ConvergenceWarning: Liblinear failed to converge, increase the number of iterations.\n",
      "  warnings.warn(\"Liblinear failed to converge, increase \"\n"
     ]
    },
    {
     "name": "stdout",
     "output_type": "stream",
     "text": [
      "Linear kernel, C = 15.00, Accuracy = 0.62\n"
     ]
    },
    {
     "name": "stderr",
     "output_type": "stream",
     "text": [
      "D:\\Anaconda3\\envs\\PyCoursera\\lib\\site-packages\\sklearn\\svm\\_base.py:946: ConvergenceWarning: Liblinear failed to converge, increase the number of iterations.\n",
      "  warnings.warn(\"Liblinear failed to converge, increase \"\n"
     ]
    },
    {
     "name": "stdout",
     "output_type": "stream",
     "text": [
      "Linear kernel, C = 100.00, Accuracy = 0.60\n",
      "Linear kernel, C = 250.00, Accuracy = 0.44\n"
     ]
    },
    {
     "name": "stderr",
     "output_type": "stream",
     "text": [
      "D:\\Anaconda3\\envs\\PyCoursera\\lib\\site-packages\\sklearn\\svm\\_base.py:946: ConvergenceWarning: Liblinear failed to converge, increase the number of iterations.\n",
      "  warnings.warn(\"Liblinear failed to converge, increase \"\n"
     ]
    }
   ],
   "source": [
    "from sklearn.svm import LinearSVC\n",
    "from sklearn.preprocessing import MinMaxScaler\n",
    "\n",
    "X_train, X_test, y_train, y_test = train_test_split(X, y, random_state=0)\n",
    "scaler = MinMaxScaler()\n",
    "\n",
    "X_train_scaled = scaler.fit_transform(X_train)\n",
    "X_test_scaled = scaler.transform(X_test)\n",
    "\n",
    "C = [1, 5, 10, 15, 100, 250]\n",
    "\n",
    "print('Support Vector Classifier:\\n')\n",
    "for i in C:\n",
    "    svc = LinearSVC(C=i, random_state=0, max_iter=2000).fit(X_train_scaled, y_train)\n",
    "    print('Linear kernel, C = {:.2f}, Accuracy = {:.2f}'.format(i, svc.score(X_test_scaled, y_test)))"
   ]
  },
  {
   "cell_type": "markdown",
   "metadata": {},
   "source": [
    "# Naive Bayes"
   ]
  },
  {
   "cell_type": "code",
   "execution_count": 58,
   "metadata": {
    "tags": []
   },
   "outputs": [
    {
     "name": "stdout",
     "output_type": "stream",
     "text": [
      "0.5491228070175439\n"
     ]
    }
   ],
   "source": [
    "from sklearn.naive_bayes import GaussianNB\n",
    "\n",
    "X_train, X_test, y_train, y_test = train_test_split(X, y, random_state=0)\n",
    "\n",
    "classificador_NB = GaussianNB().fit(X_train, y_train)\n",
    "print(classificador_NB.score(X_test, y_test))"
   ]
  },
  {
   "cell_type": "markdown",
   "metadata": {},
   "source": [
    "# Decision Tree"
   ]
  },
  {
   "cell_type": "code",
   "execution_count": 59,
   "metadata": {
    "tags": []
   },
   "outputs": [
    {
     "name": "stdout",
     "output_type": "stream",
     "text": [
      "Decision Tree:\n",
      "\n",
      "Com número máximo de ramos igual a 2, nos retornou accuracy de 0.60 no conjunto de dados Treino\n",
      "Com número máximo de ramos igual a 2, nos retornou accuracy de 0.62 no conjunto de dados Teste\n",
      "\n",
      "Com número máximo de ramos igual a 3, nos retornou accuracy de 0.60 no conjunto de dados Treino\n",
      "Com número máximo de ramos igual a 3, nos retornou accuracy de 0.61 no conjunto de dados Teste\n",
      "\n",
      "Com número máximo de ramos igual a 4, nos retornou accuracy de 0.61 no conjunto de dados Treino\n",
      "Com número máximo de ramos igual a 4, nos retornou accuracy de 0.62 no conjunto de dados Teste\n",
      "\n",
      "Com número máximo de ramos igual a 5, nos retornou accuracy de 0.61 no conjunto de dados Treino\n",
      "Com número máximo de ramos igual a 5, nos retornou accuracy de 0.62 no conjunto de dados Teste\n",
      "\n",
      "Com número máximo de ramos igual a 6, nos retornou accuracy de 0.62 no conjunto de dados Treino\n",
      "Com número máximo de ramos igual a 6, nos retornou accuracy de 0.61 no conjunto de dados Teste\n",
      "\n",
      "Com número máximo de ramos igual a 7, nos retornou accuracy de 0.64 no conjunto de dados Treino\n",
      "Com número máximo de ramos igual a 7, nos retornou accuracy de 0.61 no conjunto de dados Teste\n",
      "\n",
      "Com número máximo de ramos igual a 8, nos retornou accuracy de 0.65 no conjunto de dados Treino\n",
      "Com número máximo de ramos igual a 8, nos retornou accuracy de 0.60 no conjunto de dados Teste\n",
      "\n",
      "Com número máximo de ramos igual a 9, nos retornou accuracy de 0.67 no conjunto de dados Treino\n",
      "Com número máximo de ramos igual a 9, nos retornou accuracy de 0.60 no conjunto de dados Teste\n",
      "\n",
      "Com número máximo de ramos igual a 10, nos retornou accuracy de 0.68 no conjunto de dados Treino\n",
      "Com número máximo de ramos igual a 10, nos retornou accuracy de 0.60 no conjunto de dados Teste\n"
     ]
    }
   ],
   "source": [
    "from sklearn.tree import DecisionTreeClassifier\n",
    "from sklearn.metrics import accuracy_score\n",
    "\n",
    "X_train, X_test, y_train, y_test = train_test_split(X, y, random_state=0)\n",
    "\n",
    "depths = [2,3,4,5,6,7,8,9,10]\n",
    "\n",
    "print(\"Decision Tree:\")\n",
    "for i in depths:\n",
    "    classificador = DecisionTreeClassifier(max_depth=i, random_state=0).fit(X_train, y_train)\n",
    "    print(\"\\nCom número máximo de ramos igual a {}, nos retornou accuracy de {:.2f} no conjunto de dados Treino\".format(i, classificador.score(X_train, y_train)))\n",
    "    print(\"Com número máximo de ramos igual a {}, nos retornou accuracy de {:.2f} no conjunto de dados Teste\".format(i, classificador.score(X_test, y_test)))"
   ]
  },
  {
   "cell_type": "markdown",
   "metadata": {},
   "source": [
    "# Random Forest"
   ]
  },
  {
   "cell_type": "code",
   "execution_count": 60,
   "metadata": {
    "tags": []
   },
   "outputs": [
    {
     "name": "stdout",
     "output_type": "stream",
     "text": [
      "Random Forest:\n",
      "\n",
      "Com número máximo de características igual a 2, nos retornou accuracy de 1.00 no conjunto de dados Treino\n",
      "Com número máximo de características igual a 2, nos retornou accuracy de 0.62 no conjunto de dados Teste\n",
      "\n",
      "Com número máximo de características igual a 3, nos retornou accuracy de 1.00 no conjunto de dados Treino\n",
      "Com número máximo de características igual a 3, nos retornou accuracy de 0.61 no conjunto de dados Teste\n",
      "\n",
      "Com número máximo de características igual a 4, nos retornou accuracy de 1.00 no conjunto de dados Treino\n",
      "Com número máximo de características igual a 4, nos retornou accuracy de 0.61 no conjunto de dados Teste\n",
      "\n",
      "Com número máximo de características igual a 5, nos retornou accuracy de 1.00 no conjunto de dados Treino\n",
      "Com número máximo de características igual a 5, nos retornou accuracy de 0.61 no conjunto de dados Teste\n",
      "\n",
      "Com número máximo de características igual a 6, nos retornou accuracy de 1.00 no conjunto de dados Treino\n",
      "Com número máximo de características igual a 6, nos retornou accuracy de 0.61 no conjunto de dados Teste\n",
      "\n",
      "Com número máximo de características igual a 8, nos retornou accuracy de 1.00 no conjunto de dados Treino\n",
      "Com número máximo de características igual a 8, nos retornou accuracy de 0.61 no conjunto de dados Teste\n",
      "\n",
      "Com número máximo de características igual a 10, nos retornou accuracy de 1.00 no conjunto de dados Treino\n",
      "Com número máximo de características igual a 10, nos retornou accuracy de 0.62 no conjunto de dados Teste\n"
     ]
    }
   ],
   "source": [
    "from sklearn.ensemble import RandomForestClassifier\n",
    "\n",
    "X_train, X_test, y_train, y_test = train_test_split(X, y, random_state=0)\n",
    "\n",
    "features = [2,3,4,5,6,8,10]\n",
    "\n",
    "print(\"Random Forest:\")\n",
    "for i in features:\n",
    "    classificador = RandomForestClassifier(max_features=i, random_state=0).fit(X_train, y_train)\n",
    "    print(\"\\nCom número máximo de características igual a {}, nos retornou accuracy de {:.2f} no conjunto de dados Treino\".format(i, classificador.score(X_train, y_train)))\n",
    "    print(\"Com número máximo de características igual a {}, nos retornou accuracy de {:.2f} no conjunto de dados Teste\".format(i, classificador.score(X_test, y_test)))"
   ]
  },
  {
   "cell_type": "markdown",
   "metadata": {},
   "source": [
    "# K-Means"
   ]
  },
  {
   "cell_type": "code",
   "execution_count": 61,
   "metadata": {
    "tags": []
   },
   "outputs": [
    {
     "name": "stdout",
     "output_type": "stream",
     "text": [
      "Acurácia nos dados de treino 0.35\n"
     ]
    }
   ],
   "source": [
    "from sklearn.cluster import KMeans\n",
    "\n",
    "X_train, X_test, y_train, y_test = train_test_split(X, y, random_state=0)\n",
    "\n",
    "k_means = KMeans(n_clusters=3, random_state=0).fit(X_train)\n",
    "predicted = k_means.predict(X_train)\n",
    "\n",
    "df_teste = pd.DataFrame(data = predicted, index=y_train)\n",
    "df_teste.reset_index(inplace=True)\n",
    "\n",
    "df_teste.replace({'Normal':1, 'Ajudado posicionado':0, 'Ajudado difícil':2}, inplace=True)\n",
    "tam2 = df_teste.shape[0]\n",
    "tam1 = df_teste[df_teste['Situação do parto'] == df_teste[0]].shape[0]\n",
    "\n",
    "print('Acurácia nos dados de treino {:.2f}'.format(tam1/tam2))"
   ]
  },
  {
   "cell_type": "markdown",
   "metadata": {},
   "source": [
    "# Foi possível verificar que nenhum dos teste apresentados nos retornou um bom resultado em relação a acurácia do teste, mesmo imputando a média de cada variável. Portanto, agora iremos trabalhar com o terceiro método para tratativas dos missing values.\n",
    "\n",
    "# Terceiro método: Predizer valores para os missing values;"
   ]
  },
  {
   "cell_type": "code",
   "execution_count": 62,
   "metadata": {},
   "outputs": [
    {
     "data": {
      "image/png": "[encoded data removed]",
      "text/plain": [
       "<Figure size 1800x720 with 2 Axes>"
      ]
     },
     "metadata": {
      "needs_background": "light"
     },
     "output_type": "display_data"
    }
   ],
   "source": [
    "import matplotlib\n",
    "import missingno as msno\n",
    "\n",
    "%matplotlib inline\n",
    "\n",
    "missingdata_dados = dados.columns[dados.isnull().any()].tolist()\n",
    "msno.matrix(dados[missingdata_dados])\n",
    "\n",
    "plt.savefig(\"missing1.png\", format='png')"
   ]
  },
  {
   "cell_type": "code",
   "execution_count": 63,
   "metadata": {},
   "outputs": [
    {
     "data": {
      "text/plain": [
       "<matplotlib.axes._subplots.AxesSubplot at 0x2c1d3b09c10>"
      ]
     },
     "execution_count": 63,
     "metadata": {},
     "output_type": "execute_result"
    },
    {
     "data": {
      "image/png": "[encoded data removed]",
      "text/plain": [
       "<Figure size 2160x1296 with 3 Axes>"
      ]
     },
     "metadata": {
      "needs_background": "light"
     },
     "output_type": "display_data"
    }
   ],
   "source": [
    "msno.bar(dados[missingdata_dados], color=\"blue\", log=True, figsize=(30,18))"
   ]
  },
  {
   "cell_type": "code",
   "execution_count": 65,
   "metadata": {},
   "outputs": [
    {
     "data": {
      "text/plain": [
       "<matplotlib.axes._subplots.AxesSubplot at 0x2c1e29d2a60>"
      ]
     },
     "execution_count": 65,
     "metadata": {},
     "output_type": "execute_result"
    },
    {
     "data": {
      "image/png": "[encoded data removed]",
      "text/plain": [
       "<Figure size 1440x1440 with 2 Axes>"
      ]
     },
     "metadata": {
      "needs_background": "light"
     },
     "output_type": "display_data"
    }
   ],
   "source": [
    "msno.heatmap(dados[missingdata_dados], figsize=(20,20))"
   ]
  },
  {
   "cell_type": "code",
   "execution_count": 64,
   "metadata": {},
   "outputs": [],
   "source": [
    "tabela = pd.read_excel(\"Distocia.xlsx\", skiprows=1)\n",
    "tabela = tabela.sort_values('Data do parto')"
   ]
  },
  {
   "cell_type": "code",
   "execution_count": 66,
   "metadata": {},
   "outputs": [
    {
     "data": {
      "image/png": "[encoded data removed]",
      "text/plain": [
       "<Figure size 1800x720 with 2 Axes>"
      ]
     },
     "metadata": {
      "needs_background": "light"
     },
     "output_type": "display_data"
    }
   ],
   "source": [
    "import matplotlib\n",
    "import missingno as msno\n",
    "\n",
    "%matplotlib inline\n",
    "missingdata_tabela = tabela.columns[tabela.isnull().any()].tolist()\n",
    "msno.matrix(tabela[missingdata_tabela])\n",
    "\n",
    "plt.savefig(\"missing2.png\", format='png')"
   ]
  },
  {
   "cell_type": "code",
   "execution_count": 67,
   "metadata": {},
   "outputs": [
    {
     "data": {
      "text/plain": [
       "3468"
      ]
     },
     "execution_count": 67,
     "metadata": {},
     "output_type": "execute_result"
    }
   ],
   "source": [
    "tabela_nan = tabela.isna()\n",
    "#tabela_ECS = tabela['ECS']\n",
    "count = 0\n",
    "for i in tabela_nan['ECS']:\n",
    "    if i == True:\n",
    "        count += 1\n",
    "    else:\n",
    "        break\n",
    "count"
   ]
  },
  {
   "cell_type": "code",
   "execution_count": 68,
   "metadata": {},
   "outputs": [],
   "source": [
    "tabela = tabela.iloc[3468:]"
   ]
  },
  {
   "cell_type": "code",
   "execution_count": 69,
   "metadata": {},
   "outputs": [
    {
     "data": {
      "text/plain": [
       "(5652, 30)"
      ]
     },
     "execution_count": 69,
     "metadata": {},
     "output_type": "execute_result"
    }
   ],
   "source": [
    "tabela.shape"
   ]
  },
  {
   "cell_type": "code",
   "execution_count": 70,
   "metadata": {},
   "outputs": [
    {
     "data": {
      "image/png": "[encoded data removed]",
      "text/plain": [
       "<Figure size 1800x720 with 2 Axes>"
      ]
     },
     "metadata": {
      "needs_background": "light"
     },
     "output_type": "display_data"
    }
   ],
   "source": [
    "import matplotlib\n",
    "import missingno as msno\n",
    "\n",
    "%matplotlib inline\n",
    "missingdata_tabela = tabela.columns[tabela.isnull().any()].tolist()\n",
    "msno.matrix(tabela[missingdata_tabela])\n",
    "\n",
    "plt.savefig(\"missing3.png\", format='png')"
   ]
  },
  {
   "cell_type": "code",
   "execution_count": 71,
   "metadata": {},
   "outputs": [
    {
     "name": "stdout",
     "output_type": "stream",
     "text": [
      "<class 'pandas.core.frame.DataFrame'>\n",
      "Int64Index: 5652 entries, 3708 to 8345\n",
      "Data columns (total 30 columns):\n",
      " #   Column                  Non-Null Count  Dtype         \n",
      "---  ------                  --------------  -----         \n",
      " 0   NRO                     5652 non-null   object        \n",
      " 1   Situação do parto       5652 non-null   object        \n",
      " 2   Bezerro deste parto     5652 non-null   object        \n",
      " 3   Tipo de prenhez         5652 non-null   object        \n",
      " 4   ECC                     5536 non-null   float64       \n",
      " 5   Multiparidade           5652 non-null   object        \n",
      " 6   IPC (mês)               4442 non-null   float64       \n",
      " 7   PS (mês)                4441 non-null   float64       \n",
      " 8   IEP (mês)               5649 non-null   float64       \n",
      " 9   Nº SC                   5652 non-null   int64         \n",
      " 10  PA (kg/L/lactação)      5097 non-null   float64       \n",
      " 11  PMD (kg/L/dia)          5097 non-null   float64       \n",
      " 12  PLMD (4%G) (kg/L/dias)  4347 non-null   float64       \n",
      " 13  DEL (dias)              5097 non-null   float64       \n",
      " 14  PAT (kg/L/lactação)     5078 non-null   float64       \n",
      " 15  PMDT (kg/L/dia)         5078 non-null   float64       \n",
      " 16  DELA (dias)             5078 non-null   float64       \n",
      " 17  GORD (%)                4983 non-null   float64       \n",
      " 18  PROT (%)                4983 non-null   float64       \n",
      " 19  LACT (%)                4983 non-null   float64       \n",
      " 20  ST (%)                  4983 non-null   float64       \n",
      " 21  ES (%)                  4983 non-null   float64       \n",
      " 22  CCS 1000x células/ml    4983 non-null   float64       \n",
      " 23  ECS                     4993 non-null   float64       \n",
      " 24  Data do parto           5652 non-null   datetime64[ns]\n",
      " 25  Estações do ano         5652 non-null   object        \n",
      " 26  ITU                     5652 non-null   float64       \n",
      " 27  Temp (ºC)               5652 non-null   float64       \n",
      " 28  UR (%)                  5652 non-null   float64       \n",
      " 29  Precipitação (mm)       5651 non-null   float64       \n",
      "dtypes: datetime64[ns](1), float64(22), int64(1), object(6)\n",
      "memory usage: 1.3+ MB\n"
     ]
    }
   ],
   "source": [
    "tabela.info()"
   ]
  },
  {
   "cell_type": "markdown",
   "metadata": {},
   "source": [
    "# Vou predizer somente essas observações utilizando o pacote MICE no R e depois volto para analisar meu banco de dados"
   ]
  },
  {
   "cell_type": "code",
   "execution_count": 72,
   "metadata": {},
   "outputs": [],
   "source": [
    "tabela.to_excel(\"Distocia_reduzida.xlsx\")"
   ]
  },
  {
   "cell_type": "markdown",
   "metadata": {},
   "source": [
    "# Utilizando o banco de dados completo foi utilizado o pacote MICE do R para predizer os valores faltantes, sendo gerado 5 tabelas distintas. "
   ]
  },
  {
   "cell_type": "code",
   "execution_count": 17,
   "metadata": {},
   "outputs": [],
   "source": [
    "tabela1 = pd.read_excel(\"Distocia_full_1.xlsx\")"
   ]
  },
  {
   "cell_type": "code",
   "execution_count": 19,
   "metadata": {},
   "outputs": [
    {
     "data": {
      "text/html": [
       "<div>\n",
       "<style scoped>\n",
       "    .dataframe tbody tr th:only-of-type {\n",
       "        vertical-align: middle;\n",
       "    }\n",
       "\n",
       "    .dataframe tbody tr th {\n",
       "        vertical-align: top;\n",
       "    }\n",
       "\n",
       "    .dataframe thead th {\n",
       "        text-align: right;\n",
       "    }\n",
       "</style>\n",
       "<table border=\"1\" class=\"dataframe\">\n",
       "  <thead>\n",
       "    <tr style=\"text-align: right;\">\n",
       "      <th></th>\n",
       "      <th>stdp</th>\n",
       "      <th>bzdp</th>\n",
       "      <th>tpdp</th>\n",
       "      <th>ecc</th>\n",
       "      <th>mltp</th>\n",
       "      <th>ipc</th>\n",
       "      <th>ps</th>\n",
       "      <th>iep</th>\n",
       "      <th>ncs</th>\n",
       "      <th>pa</th>\n",
       "      <th>...</th>\n",
       "      <th>lact</th>\n",
       "      <th>st</th>\n",
       "      <th>es</th>\n",
       "      <th>ccs</th>\n",
       "      <th>ecs</th>\n",
       "      <th>esda</th>\n",
       "      <th>itu</th>\n",
       "      <th>temp</th>\n",
       "      <th>ur</th>\n",
       "      <th>prcp</th>\n",
       "    </tr>\n",
       "  </thead>\n",
       "  <tbody>\n",
       "    <tr>\n",
       "      <th>0</th>\n",
       "      <td>Ajudado posicionado</td>\n",
       "      <td>Fêmea</td>\n",
       "      <td>TE/FIV</td>\n",
       "      <td>3.5</td>\n",
       "      <td>terceira</td>\n",
       "      <td>1.466667</td>\n",
       "      <td>1.333333</td>\n",
       "      <td>26.6</td>\n",
       "      <td>7</td>\n",
       "      <td>825.024</td>\n",
       "      <td>...</td>\n",
       "      <td>4.34</td>\n",
       "      <td>10.64</td>\n",
       "      <td>7.68</td>\n",
       "      <td>38</td>\n",
       "      <td>0</td>\n",
       "      <td>inverno</td>\n",
       "      <td>69.385045</td>\n",
       "      <td>23.185208</td>\n",
       "      <td>50.503958</td>\n",
       "      <td>0.000000</td>\n",
       "    </tr>\n",
       "    <tr>\n",
       "      <th>1</th>\n",
       "      <td>Ajudado posicionado</td>\n",
       "      <td>Macho</td>\n",
       "      <td>TE/FIV</td>\n",
       "      <td>4.0</td>\n",
       "      <td>quarta</td>\n",
       "      <td>0.966667</td>\n",
       "      <td>1.433333</td>\n",
       "      <td>17.2</td>\n",
       "      <td>6</td>\n",
       "      <td>824.290</td>\n",
       "      <td>...</td>\n",
       "      <td>4.14</td>\n",
       "      <td>13.01</td>\n",
       "      <td>8.22</td>\n",
       "      <td>9862</td>\n",
       "      <td>9</td>\n",
       "      <td>verão</td>\n",
       "      <td>70.298804</td>\n",
       "      <td>22.152500</td>\n",
       "      <td>79.675000</td>\n",
       "      <td>0.000000</td>\n",
       "    </tr>\n",
       "    <tr>\n",
       "      <th>2</th>\n",
       "      <td>Normal</td>\n",
       "      <td>Macho</td>\n",
       "      <td>TE/FIV</td>\n",
       "      <td>3.5</td>\n",
       "      <td>quinta</td>\n",
       "      <td>2.133333</td>\n",
       "      <td>2.766667</td>\n",
       "      <td>20.1</td>\n",
       "      <td>6</td>\n",
       "      <td>3046.213</td>\n",
       "      <td>...</td>\n",
       "      <td>4.60</td>\n",
       "      <td>11.84</td>\n",
       "      <td>8.45</td>\n",
       "      <td>513</td>\n",
       "      <td>0</td>\n",
       "      <td>primavera</td>\n",
       "      <td>71.511700</td>\n",
       "      <td>23.753750</td>\n",
       "      <td>65.307500</td>\n",
       "      <td>2.979167</td>\n",
       "    </tr>\n",
       "    <tr>\n",
       "      <th>3</th>\n",
       "      <td>Normal</td>\n",
       "      <td>Fêmea</td>\n",
       "      <td>TE/FIV</td>\n",
       "      <td>3.0</td>\n",
       "      <td>sexta</td>\n",
       "      <td>2.100000</td>\n",
       "      <td>2.700000</td>\n",
       "      <td>17.4</td>\n",
       "      <td>6</td>\n",
       "      <td>3361.543</td>\n",
       "      <td>...</td>\n",
       "      <td>4.84</td>\n",
       "      <td>11.98</td>\n",
       "      <td>8.99</td>\n",
       "      <td>15</td>\n",
       "      <td>2</td>\n",
       "      <td>verão</td>\n",
       "      <td>74.514354</td>\n",
       "      <td>25.080625</td>\n",
       "      <td>75.368750</td>\n",
       "      <td>0.000000</td>\n",
       "    </tr>\n",
       "    <tr>\n",
       "      <th>4</th>\n",
       "      <td>Ajudado posicionado</td>\n",
       "      <td>Natimorto</td>\n",
       "      <td>IA</td>\n",
       "      <td>3.0</td>\n",
       "      <td>sexta</td>\n",
       "      <td>4.200000</td>\n",
       "      <td>4.200000</td>\n",
       "      <td>15.5</td>\n",
       "      <td>3</td>\n",
       "      <td>3679.795</td>\n",
       "      <td>...</td>\n",
       "      <td>4.77</td>\n",
       "      <td>13.30</td>\n",
       "      <td>8.69</td>\n",
       "      <td>25</td>\n",
       "      <td>3</td>\n",
       "      <td>verão</td>\n",
       "      <td>72.659058</td>\n",
       "      <td>23.683958</td>\n",
       "      <td>78.758333</td>\n",
       "      <td>0.458333</td>\n",
       "    </tr>\n",
       "  </tbody>\n",
       "</table>\n",
       "<p>5 rows × 28 columns</p>\n",
       "</div>"
      ],
      "text/plain": [
       "                  stdp       bzdp    tpdp  ecc      mltp       ipc        ps  \\\n",
       "0  Ajudado posicionado      Fêmea  TE/FIV  3.5  terceira  1.466667  1.333333   \n",
       "1  Ajudado posicionado      Macho  TE/FIV  4.0    quarta  0.966667  1.433333   \n",
       "2               Normal      Macho  TE/FIV  3.5    quinta  2.133333  2.766667   \n",
       "3               Normal      Fêmea  TE/FIV  3.0     sexta  2.100000  2.700000   \n",
       "4  Ajudado posicionado  Natimorto      IA  3.0     sexta  4.200000  4.200000   \n",
       "\n",
       "    iep  ncs        pa  ...  lact     st    es   ccs  ecs       esda  \\\n",
       "0  26.6    7   825.024  ...  4.34  10.64  7.68    38    0    inverno   \n",
       "1  17.2    6   824.290  ...  4.14  13.01  8.22  9862    9      verão   \n",
       "2  20.1    6  3046.213  ...  4.60  11.84  8.45   513    0  primavera   \n",
       "3  17.4    6  3361.543  ...  4.84  11.98  8.99    15    2      verão   \n",
       "4  15.5    3  3679.795  ...  4.77  13.30  8.69    25    3      verão   \n",
       "\n",
       "         itu       temp         ur      prcp  \n",
       "0  69.385045  23.185208  50.503958  0.000000  \n",
       "1  70.298804  22.152500  79.675000  0.000000  \n",
       "2  71.511700  23.753750  65.307500  2.979167  \n",
       "3  74.514354  25.080625  75.368750  0.000000  \n",
       "4  72.659058  23.683958  78.758333  0.458333  \n",
       "\n",
       "[5 rows x 28 columns]"
      ]
     },
     "execution_count": 19,
     "metadata": {},
     "output_type": "execute_result"
    }
   ],
   "source": [
    "tabela1.head()"
   ]
  },
  {
   "cell_type": "markdown",
   "metadata": {},
   "source": [
    "## Trabalhando com a tabela 1"
   ]
  },
  {
   "cell_type": "code",
   "execution_count": 21,
   "metadata": {},
   "outputs": [
    {
     "name": "stdout",
     "output_type": "stream",
     "text": [
      "<class 'pandas.core.frame.DataFrame'>\n",
      "RangeIndex: 9120 entries, 0 to 9119\n",
      "Data columns (total 28 columns):\n",
      " #   Column  Non-Null Count  Dtype  \n",
      "---  ------  --------------  -----  \n",
      " 0   stdp    9120 non-null   object \n",
      " 1   bzdp    9120 non-null   object \n",
      " 2   tpdp    9120 non-null   object \n",
      " 3   ecc     9120 non-null   float64\n",
      " 4   mltp    9120 non-null   object \n",
      " 5   ipc     9120 non-null   float64\n",
      " 6   ps      9120 non-null   float64\n",
      " 7   iep     9120 non-null   float64\n",
      " 8   ncs     9120 non-null   int64  \n",
      " 9   pa      9120 non-null   float64\n",
      " 10  pmd     9120 non-null   float64\n",
      " 11  plmd    9120 non-null   float64\n",
      " 12  del     9120 non-null   float64\n",
      " 13  pat     9120 non-null   float64\n",
      " 14  pmdt    9120 non-null   float64\n",
      " 15  dela    9120 non-null   float64\n",
      " 16  gord    9120 non-null   float64\n",
      " 17  prot    9120 non-null   float64\n",
      " 18  lact    9120 non-null   float64\n",
      " 19  st      9120 non-null   float64\n",
      " 20  es      9120 non-null   float64\n",
      " 21  ccs     9120 non-null   int64  \n",
      " 22  ecs     9120 non-null   int64  \n",
      " 23  esda    9120 non-null   object \n",
      " 24  itu     9120 non-null   float64\n",
      " 25  temp    9120 non-null   float64\n",
      " 26  ur      9120 non-null   float64\n",
      " 27  prcp    9120 non-null   float64\n",
      "dtypes: float64(20), int64(3), object(5)\n",
      "memory usage: 1.9+ MB\n"
     ]
    }
   ],
   "source": [
    "tabela1.info()"
   ]
  },
  {
   "cell_type": "code",
   "execution_count": 22,
   "metadata": {},
   "outputs": [],
   "source": [
    "tabela1 = pd.get_dummies(tabela1, columns=[\"bzdp\", \"tpdp\", \"mltp\", \"esda\"], drop_first=True)"
   ]
  },
  {
   "cell_type": "code",
   "execution_count": 23,
   "metadata": {},
   "outputs": [
    {
     "data": {
      "text/html": [
       "<div>\n",
       "<style scoped>\n",
       "    .dataframe tbody tr th:only-of-type {\n",
       "        vertical-align: middle;\n",
       "    }\n",
       "\n",
       "    .dataframe tbody tr th {\n",
       "        vertical-align: top;\n",
       "    }\n",
       "\n",
       "    .dataframe thead th {\n",
       "        text-align: right;\n",
       "    }\n",
       "</style>\n",
       "<table border=\"1\" class=\"dataframe\">\n",
       "  <thead>\n",
       "    <tr style=\"text-align: right;\">\n",
       "      <th></th>\n",
       "      <th>stdp</th>\n",
       "      <th>ecc</th>\n",
       "      <th>ipc</th>\n",
       "      <th>ps</th>\n",
       "      <th>iep</th>\n",
       "      <th>ncs</th>\n",
       "      <th>pa</th>\n",
       "      <th>pmd</th>\n",
       "      <th>plmd</th>\n",
       "      <th>del</th>\n",
       "      <th>...</th>\n",
       "      <th>mltp_primeira</th>\n",
       "      <th>mltp_quarta</th>\n",
       "      <th>mltp_quinta</th>\n",
       "      <th>mltp_segunda</th>\n",
       "      <th>mltp_sexta</th>\n",
       "      <th>mltp_sextima</th>\n",
       "      <th>mltp_terceira</th>\n",
       "      <th>esda_outono</th>\n",
       "      <th>esda_primavera</th>\n",
       "      <th>esda_verão</th>\n",
       "    </tr>\n",
       "  </thead>\n",
       "  <tbody>\n",
       "    <tr>\n",
       "      <th>0</th>\n",
       "      <td>Ajudado posicionado</td>\n",
       "      <td>3.5</td>\n",
       "      <td>1.466667</td>\n",
       "      <td>1.333333</td>\n",
       "      <td>26.6</td>\n",
       "      <td>7</td>\n",
       "      <td>825.024</td>\n",
       "      <td>23.572</td>\n",
       "      <td>19.937645</td>\n",
       "      <td>35.000170</td>\n",
       "      <td>...</td>\n",
       "      <td>0</td>\n",
       "      <td>0</td>\n",
       "      <td>0</td>\n",
       "      <td>0</td>\n",
       "      <td>0</td>\n",
       "      <td>0</td>\n",
       "      <td>1</td>\n",
       "      <td>0</td>\n",
       "      <td>0</td>\n",
       "      <td>0</td>\n",
       "    </tr>\n",
       "    <tr>\n",
       "      <th>1</th>\n",
       "      <td>Ajudado posicionado</td>\n",
       "      <td>4.0</td>\n",
       "      <td>0.966667</td>\n",
       "      <td>1.433333</td>\n",
       "      <td>17.2</td>\n",
       "      <td>6</td>\n",
       "      <td>824.290</td>\n",
       "      <td>9.931</td>\n",
       "      <td>16.070698</td>\n",
       "      <td>83.001712</td>\n",
       "      <td>...</td>\n",
       "      <td>0</td>\n",
       "      <td>1</td>\n",
       "      <td>0</td>\n",
       "      <td>0</td>\n",
       "      <td>0</td>\n",
       "      <td>0</td>\n",
       "      <td>0</td>\n",
       "      <td>0</td>\n",
       "      <td>0</td>\n",
       "      <td>1</td>\n",
       "    </tr>\n",
       "    <tr>\n",
       "      <th>2</th>\n",
       "      <td>Normal</td>\n",
       "      <td>3.5</td>\n",
       "      <td>2.133333</td>\n",
       "      <td>2.766667</td>\n",
       "      <td>20.1</td>\n",
       "      <td>6</td>\n",
       "      <td>3046.213</td>\n",
       "      <td>29.574</td>\n",
       "      <td>28.304565</td>\n",
       "      <td>103.003077</td>\n",
       "      <td>...</td>\n",
       "      <td>0</td>\n",
       "      <td>0</td>\n",
       "      <td>1</td>\n",
       "      <td>0</td>\n",
       "      <td>0</td>\n",
       "      <td>0</td>\n",
       "      <td>0</td>\n",
       "      <td>0</td>\n",
       "      <td>1</td>\n",
       "      <td>0</td>\n",
       "    </tr>\n",
       "    <tr>\n",
       "      <th>3</th>\n",
       "      <td>Normal</td>\n",
       "      <td>3.0</td>\n",
       "      <td>2.100000</td>\n",
       "      <td>2.700000</td>\n",
       "      <td>17.4</td>\n",
       "      <td>6</td>\n",
       "      <td>3361.543</td>\n",
       "      <td>28.314</td>\n",
       "      <td>25.456485</td>\n",
       "      <td>25.001097</td>\n",
       "      <td>...</td>\n",
       "      <td>0</td>\n",
       "      <td>0</td>\n",
       "      <td>0</td>\n",
       "      <td>0</td>\n",
       "      <td>1</td>\n",
       "      <td>0</td>\n",
       "      <td>0</td>\n",
       "      <td>0</td>\n",
       "      <td>0</td>\n",
       "      <td>1</td>\n",
       "    </tr>\n",
       "    <tr>\n",
       "      <th>4</th>\n",
       "      <td>Ajudado posicionado</td>\n",
       "      <td>3.0</td>\n",
       "      <td>4.200000</td>\n",
       "      <td>4.200000</td>\n",
       "      <td>15.5</td>\n",
       "      <td>3</td>\n",
       "      <td>3679.795</td>\n",
       "      <td>28.748</td>\n",
       "      <td>31.066656</td>\n",
       "      <td>128.001774</td>\n",
       "      <td>...</td>\n",
       "      <td>0</td>\n",
       "      <td>0</td>\n",
       "      <td>0</td>\n",
       "      <td>0</td>\n",
       "      <td>1</td>\n",
       "      <td>0</td>\n",
       "      <td>0</td>\n",
       "      <td>0</td>\n",
       "      <td>0</td>\n",
       "      <td>1</td>\n",
       "    </tr>\n",
       "  </tbody>\n",
       "</table>\n",
       "<p>5 rows × 46 columns</p>\n",
       "</div>"
      ],
      "text/plain": [
       "                  stdp  ecc       ipc        ps   iep  ncs        pa     pmd  \\\n",
       "0  Ajudado posicionado  3.5  1.466667  1.333333  26.6    7   825.024  23.572   \n",
       "1  Ajudado posicionado  4.0  0.966667  1.433333  17.2    6   824.290   9.931   \n",
       "2               Normal  3.5  2.133333  2.766667  20.1    6  3046.213  29.574   \n",
       "3               Normal  3.0  2.100000  2.700000  17.4    6  3361.543  28.314   \n",
       "4  Ajudado posicionado  3.0  4.200000  4.200000  15.5    3  3679.795  28.748   \n",
       "\n",
       "        plmd         del  ...  mltp_primeira  mltp_quarta  mltp_quinta  \\\n",
       "0  19.937645   35.000170  ...              0            0            0   \n",
       "1  16.070698   83.001712  ...              0            1            0   \n",
       "2  28.304565  103.003077  ...              0            0            1   \n",
       "3  25.456485   25.001097  ...              0            0            0   \n",
       "4  31.066656  128.001774  ...              0            0            0   \n",
       "\n",
       "   mltp_segunda  mltp_sexta  mltp_sextima  mltp_terceira  esda_outono  \\\n",
       "0             0           0             0              1            0   \n",
       "1             0           0             0              0            0   \n",
       "2             0           0             0              0            0   \n",
       "3             0           1             0              0            0   \n",
       "4             0           1             0              0            0   \n",
       "\n",
       "   esda_primavera  esda_verão  \n",
       "0               0           0  \n",
       "1               0           1  \n",
       "2               1           0  \n",
       "3               0           1  \n",
       "4               0           1  \n",
       "\n",
       "[5 rows x 46 columns]"
      ]
     },
     "execution_count": 23,
     "metadata": {},
     "output_type": "execute_result"
    }
   ],
   "source": [
    "tabela1.head()"
   ]
  },
  {
   "cell_type": "code",
   "execution_count": 30,
   "metadata": {},
   "outputs": [],
   "source": [
    "X = tabela1.drop(columns='stdp').copy()\n",
    "y = tabela1['stdp'].copy()"
   ]
  },
  {
   "cell_type": "markdown",
   "metadata": {},
   "source": [
    "# K-NN sem padronização"
   ]
  },
  {
   "cell_type": "code",
   "execution_count": 31,
   "metadata": {},
   "outputs": [
    {
     "data": {
      "text/plain": [
       "([<matplotlib.axis.XTick at 0x18f19c51520>,\n",
       "  <matplotlib.axis.XTick at 0x18f19c516a0>,\n",
       "  <matplotlib.axis.XTick at 0x18f19c3b6d0>,\n",
       "  <matplotlib.axis.XTick at 0x18f19d197c0>,\n",
       "  <matplotlib.axis.XTick at 0x18f19d19cd0>,\n",
       "  <matplotlib.axis.XTick at 0x18f19d1e2b0>,\n",
       "  <matplotlib.axis.XTick at 0x18f19d1e850>,\n",
       "  <matplotlib.axis.XTick at 0x18f19d1edf0>,\n",
       "  <matplotlib.axis.XTick at 0x18f19d253d0>,\n",
       "  <matplotlib.axis.XTick at 0x18f19d25970>,\n",
       "  <matplotlib.axis.XTick at 0x18f19d25f10>,\n",
       "  <matplotlib.axis.XTick at 0x18f19d25430>,\n",
       "  <matplotlib.axis.XTick at 0x18f19d19e20>],\n",
       " <a list of 13 Text xticklabel objects>)"
      ]
     },
     "execution_count": 31,
     "metadata": {},
     "output_type": "execute_result"
    },
    {
     "data": {
      "image/png": "[encoded data removed]",
      "text/plain": [
       "<Figure size 432x288 with 1 Axes>"
      ]
     },
     "metadata": {
      "needs_background": "light"
     },
     "output_type": "display_data"
    }
   ],
   "source": [
    "from sklearn.model_selection import train_test_split\n",
    "from sklearn.neighbors import KNeighborsClassifier\n",
    "\n",
    "X_train, X_test, y_train, y_test = train_test_split(X, y, random_state=0)\n",
    "\n",
    "k_range = range(1,60)\n",
    "scores = []\n",
    "\n",
    "for k in k_range:\n",
    "    knn = KNeighborsClassifier(n_neighbors = k)\n",
    "    knn.fit(X_train, y_train)\n",
    "    scores.append(knn.score(X_test, y_test))\n",
    "\n",
    "%matplotlib inline\n",
    "plt.figure()\n",
    "plt.xlabel('k')\n",
    "plt.ylabel('Accuracy')\n",
    "plt.scatter(k_range, scores)\n",
    "plt.xticks(range(0,65,5))"
   ]
  },
  {
   "cell_type": "markdown",
   "metadata": {},
   "source": [
    "# K-NN com padronização"
   ]
  },
  {
   "cell_type": "code",
   "execution_count": 32,
   "metadata": {},
   "outputs": [
    {
     "data": {
      "text/plain": [
       "([<matplotlib.axis.XTick at 0x18f19cd6490>,\n",
       "  <matplotlib.axis.XTick at 0x18f19cd6700>,\n",
       "  <matplotlib.axis.XTick at 0x18f19cd6df0>,\n",
       "  <matplotlib.axis.XTick at 0x18f19d57dc0>,\n",
       "  <matplotlib.axis.XTick at 0x18f19d5b310>,\n",
       "  <matplotlib.axis.XTick at 0x18f19d5b8b0>,\n",
       "  <matplotlib.axis.XTick at 0x18f19d5be50>,\n",
       "  <matplotlib.axis.XTick at 0x18f19d69430>,\n",
       "  <matplotlib.axis.XTick at 0x18f19d699d0>,\n",
       "  <matplotlib.axis.XTick at 0x18f19d69f70>,\n",
       "  <matplotlib.axis.XTick at 0x18f19d6d550>,\n",
       "  <matplotlib.axis.XTick at 0x18f19d69520>,\n",
       "  <matplotlib.axis.XTick at 0x18f19d57f10>],\n",
       " <a list of 13 Text xticklabel objects>)"
      ]
     },
     "execution_count": 32,
     "metadata": {},
     "output_type": "execute_result"
    },
    {
     "data": {
      "image/png": "[encoded data removed]",
      "text/plain": [
       "<Figure size 432x288 with 1 Axes>"
      ]
     },
     "metadata": {
      "needs_background": "light"
     },
     "output_type": "display_data"
    }
   ],
   "source": [
    "from sklearn.preprocessing import MinMaxScaler\n",
    "\n",
    "scaler = MinMaxScaler()\n",
    "\n",
    "X_train_scaled = scaler.fit_transform(X_train)\n",
    "X_test_scaled = scaler.transform(X_test)\n",
    "\n",
    "k_range = range(1,60)\n",
    "scores = []\n",
    "\n",
    "for k in k_range:\n",
    "    knn = KNeighborsClassifier(n_neighbors = k)\n",
    "    knn.fit(X_train_scaled, y_train)\n",
    "    scores.append(knn.score(X_test_scaled, y_test))\n",
    "\n",
    "%matplotlib inline\n",
    "plt.figure()\n",
    "plt.xlabel('k')\n",
    "plt.ylabel('Accuracy')\n",
    "plt.scatter(k_range, scores)\n",
    "plt.xticks(range(0,65,5))"
   ]
  },
  {
   "cell_type": "markdown",
   "metadata": {},
   "source": [
    "## Não houve melhora perceptível em relação ao banco de dados original"
   ]
  },
  {
   "cell_type": "markdown",
   "metadata": {},
   "source": [
    "# SVC sem padronização"
   ]
  },
  {
   "cell_type": "code",
   "execution_count": 33,
   "metadata": {},
   "outputs": [
    {
     "name": "stdout",
     "output_type": "stream",
     "text": [
      "Support Vector Classifier:\n",
      "\n",
      "RBF kernel, gamma = 0.01, C = 0.10, Accuracy = 0.62\n",
      "RBF kernel, gamma = 0.01, C = 1.00, Accuracy = 0.62\n",
      "RBF kernel, gamma = 0.01, C = 15.00, Accuracy = 0.62\n",
      "RBF kernel, gamma = 0.01, C = 250.00, Accuracy = 0.62\n",
      "RBF kernel, gamma = 1.00, C = 0.10, Accuracy = 0.62\n",
      "RBF kernel, gamma = 1.00, C = 1.00, Accuracy = 0.62\n",
      "RBF kernel, gamma = 1.00, C = 15.00, Accuracy = 0.62\n",
      "RBF kernel, gamma = 1.00, C = 250.00, Accuracy = 0.62\n",
      "RBF kernel, gamma = 5.00, C = 0.10, Accuracy = 0.62\n",
      "RBF kernel, gamma = 5.00, C = 1.00, Accuracy = 0.62\n",
      "RBF kernel, gamma = 5.00, C = 15.00, Accuracy = 0.62\n",
      "RBF kernel, gamma = 5.00, C = 250.00, Accuracy = 0.62\n",
      "RBF kernel, gamma = 10.00, C = 0.10, Accuracy = 0.62\n",
      "RBF kernel, gamma = 10.00, C = 1.00, Accuracy = 0.62\n",
      "RBF kernel, gamma = 10.00, C = 15.00, Accuracy = 0.62\n",
      "RBF kernel, gamma = 10.00, C = 250.00, Accuracy = 0.62\n"
     ]
    }
   ],
   "source": [
    "from sklearn.svm import SVC\n",
    "\n",
    "print('Support Vector Classifier:\\n')\n",
    "for gamma in [0.01, 1, 5, 10]:\n",
    "    for C in [0.1, 1, 15, 250]:\n",
    "        classificador = SVC(kernel = 'rbf', gamma = gamma, C = C).fit(X_train, y_train)\n",
    "        print('RBF kernel, gamma = {:.2f}, C = {:.2f}, Accuracy = {:.2f}'.format(gamma, C, classificador.score(X_test, y_test)))"
   ]
  },
  {
   "cell_type": "code",
   "execution_count": 34,
   "metadata": {},
   "outputs": [
    {
     "name": "stdout",
     "output_type": "stream",
     "text": [
      "Support Vector Classifier:\n",
      "\n"
     ]
    },
    {
     "name": "stderr",
     "output_type": "stream",
     "text": [
      "D:\\Anaconda3\\envs\\PyCoursera\\lib\\site-packages\\sklearn\\svm\\_base.py:946: ConvergenceWarning: Liblinear failed to converge, increase the number of iterations.\n",
      "  warnings.warn(\"Liblinear failed to converge, increase \"\n"
     ]
    },
    {
     "name": "stdout",
     "output_type": "stream",
     "text": [
      "Linear kernel, C = 1.00, Accuracy = 0.61\n"
     ]
    },
    {
     "name": "stderr",
     "output_type": "stream",
     "text": [
      "D:\\Anaconda3\\envs\\PyCoursera\\lib\\site-packages\\sklearn\\svm\\_base.py:946: ConvergenceWarning: Liblinear failed to converge, increase the number of iterations.\n",
      "  warnings.warn(\"Liblinear failed to converge, increase \"\n"
     ]
    },
    {
     "name": "stdout",
     "output_type": "stream",
     "text": [
      "Linear kernel, C = 5.00, Accuracy = 0.61\n"
     ]
    },
    {
     "name": "stderr",
     "output_type": "stream",
     "text": [
      "D:\\Anaconda3\\envs\\PyCoursera\\lib\\site-packages\\sklearn\\svm\\_base.py:946: ConvergenceWarning: Liblinear failed to converge, increase the number of iterations.\n",
      "  warnings.warn(\"Liblinear failed to converge, increase \"\n"
     ]
    },
    {
     "name": "stdout",
     "output_type": "stream",
     "text": [
      "Linear kernel, C = 10.00, Accuracy = 0.61\n"
     ]
    },
    {
     "name": "stderr",
     "output_type": "stream",
     "text": [
      "D:\\Anaconda3\\envs\\PyCoursera\\lib\\site-packages\\sklearn\\svm\\_base.py:946: ConvergenceWarning: Liblinear failed to converge, increase the number of iterations.\n",
      "  warnings.warn(\"Liblinear failed to converge, increase \"\n"
     ]
    },
    {
     "name": "stdout",
     "output_type": "stream",
     "text": [
      "Linear kernel, C = 15.00, Accuracy = 0.61\n"
     ]
    },
    {
     "name": "stderr",
     "output_type": "stream",
     "text": [
      "D:\\Anaconda3\\envs\\PyCoursera\\lib\\site-packages\\sklearn\\svm\\_base.py:946: ConvergenceWarning: Liblinear failed to converge, increase the number of iterations.\n",
      "  warnings.warn(\"Liblinear failed to converge, increase \"\n"
     ]
    },
    {
     "name": "stdout",
     "output_type": "stream",
     "text": [
      "Linear kernel, C = 100.00, Accuracy = 0.61\n",
      "Linear kernel, C = 250.00, Accuracy = 0.61\n"
     ]
    },
    {
     "name": "stderr",
     "output_type": "stream",
     "text": [
      "D:\\Anaconda3\\envs\\PyCoursera\\lib\\site-packages\\sklearn\\svm\\_base.py:946: ConvergenceWarning: Liblinear failed to converge, increase the number of iterations.\n",
      "  warnings.warn(\"Liblinear failed to converge, increase \"\n"
     ]
    }
   ],
   "source": [
    "from sklearn.svm import LinearSVC\n",
    "\n",
    "C = [1, 5, 10, 15, 100, 250]\n",
    "\n",
    "print('Support Vector Classifier:\\n')\n",
    "for i in C:\n",
    "    svc = LinearSVC(C=i, random_state=0).fit(X_train, y_train)\n",
    "    print('Linear kernel, C = {:.2f}, Accuracy = {:.2f}'.format(i, svc.score(X_test, y_test)))"
   ]
  },
  {
   "cell_type": "markdown",
   "metadata": {},
   "source": [
    "# SVC com padronização"
   ]
  },
  {
   "cell_type": "code",
   "execution_count": 36,
   "metadata": {},
   "outputs": [
    {
     "name": "stdout",
     "output_type": "stream",
     "text": [
      "Support Vector Classifier:\n",
      "\n",
      "RBF kernel, gamma = 0.01, C = 0.10, Accuracy = 0.62\n",
      "RBF kernel, gamma = 0.01, C = 1.00, Accuracy = 0.62\n",
      "RBF kernel, gamma = 0.01, C = 15.00, Accuracy = 0.62\n",
      "RBF kernel, gamma = 0.01, C = 250.00, Accuracy = 0.61\n",
      "RBF kernel, gamma = 1.00, C = 0.10, Accuracy = 0.62\n",
      "RBF kernel, gamma = 1.00, C = 1.00, Accuracy = 0.61\n",
      "RBF kernel, gamma = 1.00, C = 15.00, Accuracy = 0.56\n",
      "RBF kernel, gamma = 1.00, C = 250.00, Accuracy = 0.50\n",
      "RBF kernel, gamma = 5.00, C = 0.10, Accuracy = 0.62\n",
      "RBF kernel, gamma = 5.00, C = 1.00, Accuracy = 0.61\n",
      "RBF kernel, gamma = 5.00, C = 15.00, Accuracy = 0.54\n",
      "RBF kernel, gamma = 5.00, C = 250.00, Accuracy = 0.53\n",
      "RBF kernel, gamma = 10.00, C = 0.10, Accuracy = 0.62\n",
      "RBF kernel, gamma = 10.00, C = 1.00, Accuracy = 0.60\n",
      "RBF kernel, gamma = 10.00, C = 15.00, Accuracy = 0.56\n",
      "RBF kernel, gamma = 10.00, C = 250.00, Accuracy = 0.55\n"
     ]
    }
   ],
   "source": [
    "from sklearn.svm import SVC\n",
    "from sklearn.preprocessing import MinMaxScaler\n",
    "\n",
    "scaler = MinMaxScaler()\n",
    "\n",
    "X_train_scaled = scaler.fit_transform(X_train)\n",
    "X_test_scaled = scaler.transform(X_test)\n",
    "\n",
    "print('Support Vector Classifier:\\n')\n",
    "for gamma in [0.01, 1, 5, 10]:\n",
    "    for C in [0.1, 1, 15, 250]:\n",
    "        classificador = SVC(kernel = 'rbf', gamma = gamma, C = C).fit(X_train_scaled, y_train)\n",
    "        print('RBF kernel, gamma = {:.2f}, C = {:.2f}, Accuracy = {:.2f}'.format(gamma, C, classificador.score(X_test_scaled, y_test)))"
   ]
  },
  {
   "cell_type": "code",
   "execution_count": 37,
   "metadata": {},
   "outputs": [
    {
     "name": "stdout",
     "output_type": "stream",
     "text": [
      "Support Vector Classifier:\n",
      "\n",
      "Linear kernel, C = 1.00, Accuracy = 0.62\n"
     ]
    },
    {
     "name": "stderr",
     "output_type": "stream",
     "text": [
      "D:\\Anaconda3\\envs\\PyCoursera\\lib\\site-packages\\sklearn\\svm\\_base.py:946: ConvergenceWarning: Liblinear failed to converge, increase the number of iterations.\n",
      "  warnings.warn(\"Liblinear failed to converge, increase \"\n"
     ]
    },
    {
     "name": "stdout",
     "output_type": "stream",
     "text": [
      "Linear kernel, C = 5.00, Accuracy = 0.62\n"
     ]
    },
    {
     "name": "stderr",
     "output_type": "stream",
     "text": [
      "D:\\Anaconda3\\envs\\PyCoursera\\lib\\site-packages\\sklearn\\svm\\_base.py:946: ConvergenceWarning: Liblinear failed to converge, increase the number of iterations.\n",
      "  warnings.warn(\"Liblinear failed to converge, increase \"\n"
     ]
    },
    {
     "name": "stdout",
     "output_type": "stream",
     "text": [
      "Linear kernel, C = 10.00, Accuracy = 0.62\n"
     ]
    },
    {
     "name": "stderr",
     "output_type": "stream",
     "text": [
      "D:\\Anaconda3\\envs\\PyCoursera\\lib\\site-packages\\sklearn\\svm\\_base.py:946: ConvergenceWarning: Liblinear failed to converge, increase the number of iterations.\n",
      "  warnings.warn(\"Liblinear failed to converge, increase \"\n"
     ]
    },
    {
     "name": "stdout",
     "output_type": "stream",
     "text": [
      "Linear kernel, C = 15.00, Accuracy = 0.62\n"
     ]
    },
    {
     "name": "stderr",
     "output_type": "stream",
     "text": [
      "D:\\Anaconda3\\envs\\PyCoursera\\lib\\site-packages\\sklearn\\svm\\_base.py:946: ConvergenceWarning: Liblinear failed to converge, increase the number of iterations.\n",
      "  warnings.warn(\"Liblinear failed to converge, increase \"\n"
     ]
    },
    {
     "name": "stdout",
     "output_type": "stream",
     "text": [
      "Linear kernel, C = 100.00, Accuracy = 0.60\n",
      "Linear kernel, C = 250.00, Accuracy = 0.61\n"
     ]
    },
    {
     "name": "stderr",
     "output_type": "stream",
     "text": [
      "D:\\Anaconda3\\envs\\PyCoursera\\lib\\site-packages\\sklearn\\svm\\_base.py:946: ConvergenceWarning: Liblinear failed to converge, increase the number of iterations.\n",
      "  warnings.warn(\"Liblinear failed to converge, increase \"\n"
     ]
    }
   ],
   "source": [
    "C = [1, 5, 10, 15, 100, 250]\n",
    "\n",
    "print('Support Vector Classifier:\\n')\n",
    "for i in C:\n",
    "    svc = LinearSVC(C=i, random_state=0).fit(X_train_scaled, y_train)\n",
    "    print('Linear kernel, C = {:.2f}, Accuracy = {:.2f}'.format(i, svc.score(X_test_scaled, y_test)))"
   ]
  },
  {
   "cell_type": "markdown",
   "metadata": {},
   "source": [
    "# Naive Bayes"
   ]
  },
  {
   "cell_type": "code",
   "execution_count": 38,
   "metadata": {},
   "outputs": [
    {
     "name": "stdout",
     "output_type": "stream",
     "text": [
      "0.5640350877192982\n"
     ]
    }
   ],
   "source": [
    "from sklearn.naive_bayes import GaussianNB\n",
    "\n",
    "X_train, X_test, y_train, y_test = train_test_split(X, y, random_state=0)\n",
    "\n",
    "classificador_NB = GaussianNB().fit(X_train, y_train)\n",
    "print(classificador_NB.score(X_test, y_test))"
   ]
  },
  {
   "cell_type": "markdown",
   "metadata": {},
   "source": [
    "# Decision Tree"
   ]
  },
  {
   "cell_type": "code",
   "execution_count": 45,
   "metadata": {},
   "outputs": [
    {
     "name": "stdout",
     "output_type": "stream",
     "text": [
      "Decision Tree:\n",
      "\n",
      "Com número máximo de ramos igual a 2, nos retornou accuracy de 0.60 no conjunto de dados Treino\n",
      "Com número máximo de ramos igual a 2, nos retornou accuracy de 0.62 no conjunto de dados Teste\n",
      "\n",
      "Com número máximo de ramos igual a 3, nos retornou accuracy de 0.60 no conjunto de dados Treino\n",
      "Com número máximo de ramos igual a 3, nos retornou accuracy de 0.61 no conjunto de dados Teste\n",
      "\n",
      "Com número máximo de ramos igual a 4, nos retornou accuracy de 0.61 no conjunto de dados Treino\n",
      "Com número máximo de ramos igual a 4, nos retornou accuracy de 0.62 no conjunto de dados Teste\n",
      "\n",
      "Com número máximo de ramos igual a 5, nos retornou accuracy de 0.62 no conjunto de dados Treino\n",
      "Com número máximo de ramos igual a 5, nos retornou accuracy de 0.61 no conjunto de dados Teste\n",
      "\n",
      "Com número máximo de ramos igual a 6, nos retornou accuracy de 0.62 no conjunto de dados Treino\n",
      "Com número máximo de ramos igual a 6, nos retornou accuracy de 0.61 no conjunto de dados Teste\n",
      "\n",
      "Com número máximo de ramos igual a 7, nos retornou accuracy de 0.64 no conjunto de dados Treino\n",
      "Com número máximo de ramos igual a 7, nos retornou accuracy de 0.60 no conjunto de dados Teste\n",
      "\n",
      "Com número máximo de ramos igual a 8, nos retornou accuracy de 0.65 no conjunto de dados Treino\n",
      "Com número máximo de ramos igual a 8, nos retornou accuracy de 0.60 no conjunto de dados Teste\n",
      "\n",
      "Com número máximo de ramos igual a 9, nos retornou accuracy de 0.67 no conjunto de dados Treino\n",
      "Com número máximo de ramos igual a 9, nos retornou accuracy de 0.60 no conjunto de dados Teste\n",
      "\n",
      "Com número máximo de ramos igual a 10, nos retornou accuracy de 0.68 no conjunto de dados Treino\n",
      "Com número máximo de ramos igual a 10, nos retornou accuracy de 0.60 no conjunto de dados Teste\n",
      "\n",
      "Com número máximo de ramos igual a 15, nos retornou accuracy de 0.83 no conjunto de dados Treino\n",
      "Com número máximo de ramos igual a 15, nos retornou accuracy de 0.55 no conjunto de dados Teste\n",
      "\n",
      "Com número máximo de ramos igual a 20, nos retornou accuracy de 0.92 no conjunto de dados Treino\n",
      "Com número máximo de ramos igual a 20, nos retornou accuracy de 0.54 no conjunto de dados Teste\n"
     ]
    }
   ],
   "source": [
    "from sklearn.tree import DecisionTreeClassifier\n",
    "from sklearn.metrics import accuracy_score\n",
    "\n",
    "X_train, X_test, y_train, y_test = train_test_split(X, y, random_state=0)\n",
    "\n",
    "depths = [2,3,4,5,6,7,8,9,10,15,20]\n",
    "\n",
    "print(\"Decision Tree:\")\n",
    "for i in depths:\n",
    "    classificador = DecisionTreeClassifier(max_depth=i, random_state=0).fit(X_train, y_train)\n",
    "    print(\"\\nCom número máximo de ramos igual a {}, nos retornou accuracy de {:.2f} no conjunto de dados Treino\".format(i, classificador.score(X_train, y_train)))\n",
    "    print(\"Com número máximo de ramos igual a {}, nos retornou accuracy de {:.2f} no conjunto de dados Teste\".format(i, classificador.score(X_test, y_test)))"
   ]
  },
  {
   "cell_type": "markdown",
   "metadata": {},
   "source": [
    "# Random Forest"
   ]
  },
  {
   "cell_type": "code",
   "execution_count": 47,
   "metadata": {},
   "outputs": [
    {
     "name": "stdout",
     "output_type": "stream",
     "text": [
      "Random Forest:\n",
      "\n",
      "Com número máximo de características igual a 2, nos retornou accuracy de 1.00 no conjunto de dados Treino\n",
      "Com número máximo de características igual a 2, nos retornou accuracy de 0.62 no conjunto de dados Teste\n",
      "\n",
      "Com número máximo de características igual a 3, nos retornou accuracy de 1.00 no conjunto de dados Treino\n",
      "Com número máximo de características igual a 3, nos retornou accuracy de 0.61 no conjunto de dados Teste\n",
      "\n",
      "Com número máximo de características igual a 4, nos retornou accuracy de 1.00 no conjunto de dados Treino\n",
      "Com número máximo de características igual a 4, nos retornou accuracy de 0.61 no conjunto de dados Teste\n",
      "\n",
      "Com número máximo de características igual a 5, nos retornou accuracy de 1.00 no conjunto de dados Treino\n",
      "Com número máximo de características igual a 5, nos retornou accuracy de 0.61 no conjunto de dados Teste\n",
      "\n",
      "Com número máximo de características igual a 6, nos retornou accuracy de 1.00 no conjunto de dados Treino\n",
      "Com número máximo de características igual a 6, nos retornou accuracy de 0.61 no conjunto de dados Teste\n",
      "\n",
      "Com número máximo de características igual a 8, nos retornou accuracy de 1.00 no conjunto de dados Treino\n",
      "Com número máximo de características igual a 8, nos retornou accuracy de 0.61 no conjunto de dados Teste\n",
      "\n",
      "Com número máximo de características igual a 10, nos retornou accuracy de 1.00 no conjunto de dados Treino\n",
      "Com número máximo de características igual a 10, nos retornou accuracy de 0.61 no conjunto de dados Teste\n",
      "\n",
      "Com número máximo de características igual a 15, nos retornou accuracy de 1.00 no conjunto de dados Treino\n",
      "Com número máximo de características igual a 15, nos retornou accuracy de 0.61 no conjunto de dados Teste\n",
      "\n",
      "Com número máximo de características igual a 20, nos retornou accuracy de 1.00 no conjunto de dados Treino\n",
      "Com número máximo de características igual a 20, nos retornou accuracy de 0.60 no conjunto de dados Teste\n"
     ]
    }
   ],
   "source": [
    "from sklearn.ensemble import RandomForestClassifier\n",
    "\n",
    "X_train, X_test, y_train, y_test = train_test_split(X, y, random_state=0)\n",
    "\n",
    "features = [2,3,4,5,6,8,10,15,20]\n",
    "\n",
    "print(\"Random Forest:\")\n",
    "for i in features:\n",
    "    classificador = RandomForestClassifier(max_features=i, random_state=0).fit(X_train, y_train)\n",
    "    print(\"\\nCom número máximo de características igual a {}, nos retornou accuracy de {:.2f} no conjunto de dados Treino\".format(i, classificador.score(X_train, y_train)))\n",
    "    print(\"Com número máximo de características igual a {}, nos retornou accuracy de {:.2f} no conjunto de dados Teste\".format(i, classificador.score(X_test, y_test)))"
   ]
  },
  {
   "cell_type": "markdown",
   "metadata": {},
   "source": [
    "# K-means"
   ]
  },
  {
   "cell_type": "code",
   "execution_count": 49,
   "metadata": {},
   "outputs": [
    {
     "name": "stdout",
     "output_type": "stream",
     "text": [
      "Acurácia nos dados de treino 0.27\n"
     ]
    }
   ],
   "source": [
    "from sklearn.cluster import KMeans\n",
    "\n",
    "k_means = KMeans(n_clusters=3, random_state=0).fit(X_train)\n",
    "predicted = k_means.predict(X_train)\n",
    "\n",
    "df_teste = pd.DataFrame(data = predicted, index=y_train)\n",
    "df_teste.reset_index(inplace=True)\n",
    "\n",
    "df_teste.replace({'Normal':1, 'Ajudado posicionado':0, 'Ajudado difícil':2}, inplace=True)\n",
    "tam2 = df_teste.shape[0]\n",
    "tam1 = df_teste[df_teste['stdp'] == df_teste[0]].shape[0]\n",
    "\n",
    "print('Acurácia nos dados de treino {:.2f}'.format(tam1/tam2))"
   ]
  },
  {
   "cell_type": "markdown",
   "metadata": {},
   "source": [
    "## Não foi possível encontrar melhora significativa entre o teste com o banco de dados contendo missing values e este banco de dados com valores preditos para os missing values"
   ]
  },
  {
   "cell_type": "markdown",
   "metadata": {},
   "source": [
    "# Testar utilizando tabela2"
   ]
  },
  {
   "cell_type": "code",
   "execution_count": 73,
   "metadata": {},
   "outputs": [],
   "source": [
    "tabela2 = pd.read_excel(\"Distocia_full_2.xlsx\")\n",
    "\n",
    "tabela2 = pd.get_dummies(tabela2, columns=[\"bzdp\", \"tpdp\", \"mltp\", \"esda\"], drop_first=True)\n",
    "\n",
    "X = tabela2.drop(columns='stdp').copy()\n",
    "y = tabela2['stdp'].copy()"
   ]
  },
  {
   "cell_type": "markdown",
   "metadata": {},
   "source": [
    "# K-NN sem padronização\n"
   ]
  },
  {
   "cell_type": "code",
   "execution_count": 54,
   "metadata": {},
   "outputs": [
    {
     "data": {
      "text/plain": [
       "([<matplotlib.axis.XTick at 0x18f19c9c520>,\n",
       "  <matplotlib.axis.XTick at 0x18f19c9ca30>,\n",
       "  <matplotlib.axis.XTick at 0x18f19c7ab50>,\n",
       "  <matplotlib.axis.XTick at 0x18f19719dc0>,\n",
       "  <matplotlib.axis.XTick at 0x18f197198e0>,\n",
       "  <matplotlib.axis.XTick at 0x18f19705d90>,\n",
       "  <matplotlib.axis.XTick at 0x18f19705790>,\n",
       "  <matplotlib.axis.XTick at 0x18f197067f0>,\n",
       "  <matplotlib.axis.XTick at 0x18f19706490>,\n",
       "  <matplotlib.axis.XTick at 0x18f194520d0>,\n",
       "  <matplotlib.axis.XTick at 0x18f197060d0>,\n",
       "  <matplotlib.axis.XTick at 0x18f19719640>,\n",
       "  <matplotlib.axis.XTick at 0x18f19452490>],\n",
       " <a list of 13 Text xticklabel objects>)"
      ]
     },
     "execution_count": 54,
     "metadata": {},
     "output_type": "execute_result"
    },
    {
     "data": {
      "image/png": "[encoded data removed]",
      "text/plain": [
       "<Figure size 432x288 with 1 Axes>"
      ]
     },
     "metadata": {
      "needs_background": "light"
     },
     "output_type": "display_data"
    }
   ],
   "source": [
    "X_train, X_test, y_train, y_test = train_test_split(X, y, random_state=0)\n",
    "\n",
    "k_range = range(1,60)\n",
    "scores = []\n",
    "\n",
    "for k in k_range:\n",
    "    knn = KNeighborsClassifier(n_neighbors = k)\n",
    "    knn.fit(X_train, y_train)\n",
    "    scores.append(knn.score(X_test, y_test))\n",
    "\n",
    "%matplotlib inline\n",
    "plt.figure()\n",
    "plt.xlabel('k')\n",
    "plt.ylabel('Accuracy')\n",
    "plt.scatter(k_range, scores)\n",
    "plt.xticks(range(0,65,5))"
   ]
  },
  {
   "cell_type": "markdown",
   "metadata": {},
   "source": [
    "# K-NN com padronização"
   ]
  },
  {
   "cell_type": "code",
   "execution_count": 55,
   "metadata": {},
   "outputs": [
    {
     "data": {
      "text/plain": [
       "([<matplotlib.axis.XTick at 0x18f1971c6d0>,\n",
       "  <matplotlib.axis.XTick at 0x18f1971cd30>,\n",
       "  <matplotlib.axis.XTick at 0x18f19c9e580>,\n",
       "  <matplotlib.axis.XTick at 0x18f1b95e250>,\n",
       "  <matplotlib.axis.XTick at 0x18f1b959790>,\n",
       "  <matplotlib.axis.XTick at 0x18f1b959610>,\n",
       "  <matplotlib.axis.XTick at 0x18f1b9592b0>,\n",
       "  <matplotlib.axis.XTick at 0x18f1b54bee0>,\n",
       "  <matplotlib.axis.XTick at 0x18f18669b50>,\n",
       "  <matplotlib.axis.XTick at 0x18f19729130>,\n",
       "  <matplotlib.axis.XTick at 0x18f19729e50>,\n",
       "  <matplotlib.axis.XTick at 0x18f1b54bbe0>,\n",
       "  <matplotlib.axis.XTick at 0x18f1b959eb0>],\n",
       " <a list of 13 Text xticklabel objects>)"
      ]
     },
     "execution_count": 55,
     "metadata": {},
     "output_type": "execute_result"
    },
    {
     "data": {
      "image/png": "[encoded data removed]",
      "text/plain": [
       "<Figure size 432x288 with 1 Axes>"
      ]
     },
     "metadata": {
      "needs_background": "light"
     },
     "output_type": "display_data"
    }
   ],
   "source": [
    "scaler = MinMaxScaler()\n",
    "\n",
    "X_train_scaled = scaler.fit_transform(X_train)\n",
    "X_test_scaled = scaler.transform(X_test)\n",
    "\n",
    "k_range = range(1,60)\n",
    "scores = []\n",
    "\n",
    "for k in k_range:\n",
    "    knn = KNeighborsClassifier(n_neighbors = k)\n",
    "    knn.fit(X_train_scaled, y_train)\n",
    "    scores.append(knn.score(X_test_scaled, y_test))\n",
    "\n",
    "%matplotlib inline\n",
    "plt.figure()\n",
    "plt.xlabel('k')\n",
    "plt.ylabel('Accuracy')\n",
    "plt.scatter(k_range, scores)\n",
    "plt.xticks(range(0,65,5))"
   ]
  },
  {
   "cell_type": "markdown",
   "metadata": {},
   "source": [
    "# SVC com padronização\n",
    "\n"
   ]
  },
  {
   "cell_type": "code",
   "execution_count": 74,
   "metadata": {},
   "outputs": [
    {
     "name": "stdout",
     "output_type": "stream",
     "text": [
      "Support Vector Classifier:\n",
      "\n",
      "RBF kernel, gamma = 0.01, C = 0.10, Accuracy = 0.62\n",
      "RBF kernel, gamma = 0.01, C = 1.00, Accuracy = 0.62\n",
      "RBF kernel, gamma = 0.01, C = 15.00, Accuracy = 0.62\n",
      "RBF kernel, gamma = 0.01, C = 250.00, Accuracy = 0.61\n",
      "RBF kernel, gamma = 1.00, C = 0.10, Accuracy = 0.62\n",
      "RBF kernel, gamma = 1.00, C = 1.00, Accuracy = 0.61\n",
      "RBF kernel, gamma = 1.00, C = 15.00, Accuracy = 0.58\n",
      "RBF kernel, gamma = 1.00, C = 250.00, Accuracy = 0.52\n",
      "RBF kernel, gamma = 5.00, C = 0.10, Accuracy = 0.62\n",
      "RBF kernel, gamma = 5.00, C = 1.00, Accuracy = 0.61\n",
      "RBF kernel, gamma = 5.00, C = 15.00, Accuracy = 0.54\n",
      "RBF kernel, gamma = 5.00, C = 250.00, Accuracy = 0.51\n",
      "RBF kernel, gamma = 10.00, C = 0.10, Accuracy = 0.62\n",
      "RBF kernel, gamma = 10.00, C = 1.00, Accuracy = 0.61\n",
      "RBF kernel, gamma = 10.00, C = 15.00, Accuracy = 0.55\n",
      "RBF kernel, gamma = 10.00, C = 250.00, Accuracy = 0.54\n"
     ]
    }
   ],
   "source": [
    "from sklearn.svm import SVC\n",
    "from sklearn.preprocessing import MinMaxScaler\n",
    "\n",
    "scaler = MinMaxScaler()\n",
    "\n",
    "X_train_scaled = scaler.fit_transform(X_train)\n",
    "X_test_scaled = scaler.transform(X_test)\n",
    "\n",
    "print('Support Vector Classifier:\\n')\n",
    "for gamma in [0.01, 1, 5, 10]:\n",
    "    for C in [0.1, 1, 15, 250]:\n",
    "        classificador = SVC(kernel = 'rbf', gamma = gamma, C = C).fit(X_train_scaled, y_train)\n",
    "        print('RBF kernel, gamma = {:.2f}, C = {:.2f}, Accuracy = {:.2f}'.format(gamma, C, classificador.score(X_test_scaled, y_test)))\n"
   ]
  },
  {
   "cell_type": "code",
   "execution_count": 75,
   "metadata": {},
   "outputs": [
    {
     "name": "stdout",
     "output_type": "stream",
     "text": [
      "Support Vector Classifier:\n",
      "\n",
      "Linear kernel, C = 1.00, Accuracy = 0.61\n"
     ]
    },
    {
     "name": "stderr",
     "output_type": "stream",
     "text": [
      "D:\\Anaconda3\\envs\\PyCoursera\\lib\\site-packages\\sklearn\\svm\\_base.py:946: ConvergenceWarning: Liblinear failed to converge, increase the number of iterations.\n",
      "  warnings.warn(\"Liblinear failed to converge, increase \"\n"
     ]
    },
    {
     "name": "stdout",
     "output_type": "stream",
     "text": [
      "Linear kernel, C = 5.00, Accuracy = 0.62\n"
     ]
    },
    {
     "name": "stderr",
     "output_type": "stream",
     "text": [
      "D:\\Anaconda3\\envs\\PyCoursera\\lib\\site-packages\\sklearn\\svm\\_base.py:946: ConvergenceWarning: Liblinear failed to converge, increase the number of iterations.\n",
      "  warnings.warn(\"Liblinear failed to converge, increase \"\n"
     ]
    },
    {
     "name": "stdout",
     "output_type": "stream",
     "text": [
      "Linear kernel, C = 10.00, Accuracy = 0.62\n"
     ]
    },
    {
     "name": "stderr",
     "output_type": "stream",
     "text": [
      "D:\\Anaconda3\\envs\\PyCoursera\\lib\\site-packages\\sklearn\\svm\\_base.py:946: ConvergenceWarning: Liblinear failed to converge, increase the number of iterations.\n",
      "  warnings.warn(\"Liblinear failed to converge, increase \"\n"
     ]
    },
    {
     "name": "stdout",
     "output_type": "stream",
     "text": [
      "Linear kernel, C = 15.00, Accuracy = 0.62\n"
     ]
    },
    {
     "name": "stderr",
     "output_type": "stream",
     "text": [
      "D:\\Anaconda3\\envs\\PyCoursera\\lib\\site-packages\\sklearn\\svm\\_base.py:946: ConvergenceWarning: Liblinear failed to converge, increase the number of iterations.\n",
      "  warnings.warn(\"Liblinear failed to converge, increase \"\n"
     ]
    },
    {
     "name": "stdout",
     "output_type": "stream",
     "text": [
      "Linear kernel, C = 100.00, Accuracy = 0.61\n",
      "Linear kernel, C = 250.00, Accuracy = 0.62\n"
     ]
    },
    {
     "name": "stderr",
     "output_type": "stream",
     "text": [
      "D:\\Anaconda3\\envs\\PyCoursera\\lib\\site-packages\\sklearn\\svm\\_base.py:946: ConvergenceWarning: Liblinear failed to converge, increase the number of iterations.\n",
      "  warnings.warn(\"Liblinear failed to converge, increase \"\n"
     ]
    }
   ],
   "source": [
    "C = [1, 5, 10, 15, 100, 250]\n",
    "\n",
    "print('Support Vector Classifier:\\n')\n",
    "for i in C:\n",
    "    svc = LinearSVC(C=i, random_state=0).fit(X_train_scaled, y_train)\n",
    "    print('Linear kernel, C = {:.2f}, Accuracy = {:.2f}'.format(i, svc.score(X_test_scaled, y_test)))"
   ]
  },
  {
   "cell_type": "markdown",
   "metadata": {},
   "source": [
    "# SVC sem padronização\n",
    "\n"
   ]
  },
  {
   "cell_type": "code",
   "execution_count": 76,
   "metadata": {},
   "outputs": [
    {
     "name": "stdout",
     "output_type": "stream",
     "text": [
      "Support Vector Classifier:\n",
      "\n",
      "RBF kernel, gamma = 0.01, C = 0.10, Accuracy = 0.62\n",
      "RBF kernel, gamma = 0.01, C = 1.00, Accuracy = 0.61\n",
      "RBF kernel, gamma = 0.01, C = 15.00, Accuracy = 0.60\n",
      "RBF kernel, gamma = 0.01, C = 250.00, Accuracy = 0.60\n",
      "RBF kernel, gamma = 1.00, C = 0.10, Accuracy = 0.62\n",
      "RBF kernel, gamma = 1.00, C = 1.00, Accuracy = 0.62\n",
      "RBF kernel, gamma = 1.00, C = 15.00, Accuracy = 0.62\n",
      "RBF kernel, gamma = 1.00, C = 250.00, Accuracy = 0.62\n",
      "RBF kernel, gamma = 5.00, C = 0.10, Accuracy = 0.62\n",
      "RBF kernel, gamma = 5.00, C = 1.00, Accuracy = 0.62\n",
      "RBF kernel, gamma = 5.00, C = 15.00, Accuracy = 0.62\n",
      "RBF kernel, gamma = 5.00, C = 250.00, Accuracy = 0.62\n",
      "RBF kernel, gamma = 10.00, C = 0.10, Accuracy = 0.62\n",
      "RBF kernel, gamma = 10.00, C = 1.00, Accuracy = 0.62\n",
      "RBF kernel, gamma = 10.00, C = 15.00, Accuracy = 0.62\n",
      "RBF kernel, gamma = 10.00, C = 250.00, Accuracy = 0.62\n"
     ]
    }
   ],
   "source": [
    "print('Support Vector Classifier:\\n')\n",
    "for gamma in [0.01, 1, 5, 10]:\n",
    "    for C in [0.1, 1, 15, 250]:\n",
    "        classificador = SVC(kernel = 'rbf', gamma = gamma, C = C).fit(X_train, y_train)\n",
    "        print('RBF kernel, gamma = {:.2f}, C = {:.2f}, Accuracy = {:.2f}'.format(gamma, C, classificador.score(X_test, y_test)))"
   ]
  },
  {
   "cell_type": "code",
   "execution_count": 77,
   "metadata": {},
   "outputs": [
    {
     "name": "stdout",
     "output_type": "stream",
     "text": [
      "Support Vector Classifier:\n",
      "\n"
     ]
    },
    {
     "name": "stderr",
     "output_type": "stream",
     "text": [
      "D:\\Anaconda3\\envs\\PyCoursera\\lib\\site-packages\\sklearn\\svm\\_base.py:946: ConvergenceWarning: Liblinear failed to converge, increase the number of iterations.\n",
      "  warnings.warn(\"Liblinear failed to converge, increase \"\n"
     ]
    },
    {
     "name": "stdout",
     "output_type": "stream",
     "text": [
      "Linear kernel, C = 1.00, Accuracy = 0.33\n"
     ]
    },
    {
     "name": "stderr",
     "output_type": "stream",
     "text": [
      "D:\\Anaconda3\\envs\\PyCoursera\\lib\\site-packages\\sklearn\\svm\\_base.py:946: ConvergenceWarning: Liblinear failed to converge, increase the number of iterations.\n",
      "  warnings.warn(\"Liblinear failed to converge, increase \"\n"
     ]
    },
    {
     "name": "stdout",
     "output_type": "stream",
     "text": [
      "Linear kernel, C = 5.00, Accuracy = 0.38\n"
     ]
    },
    {
     "name": "stderr",
     "output_type": "stream",
     "text": [
      "D:\\Anaconda3\\envs\\PyCoursera\\lib\\site-packages\\sklearn\\svm\\_base.py:946: ConvergenceWarning: Liblinear failed to converge, increase the number of iterations.\n",
      "  warnings.warn(\"Liblinear failed to converge, increase \"\n"
     ]
    },
    {
     "name": "stdout",
     "output_type": "stream",
     "text": [
      "Linear kernel, C = 10.00, Accuracy = 0.38\n"
     ]
    },
    {
     "name": "stderr",
     "output_type": "stream",
     "text": [
      "D:\\Anaconda3\\envs\\PyCoursera\\lib\\site-packages\\sklearn\\svm\\_base.py:946: ConvergenceWarning: Liblinear failed to converge, increase the number of iterations.\n",
      "  warnings.warn(\"Liblinear failed to converge, increase \"\n"
     ]
    },
    {
     "name": "stdout",
     "output_type": "stream",
     "text": [
      "Linear kernel, C = 15.00, Accuracy = 0.38\n"
     ]
    },
    {
     "name": "stderr",
     "output_type": "stream",
     "text": [
      "D:\\Anaconda3\\envs\\PyCoursera\\lib\\site-packages\\sklearn\\svm\\_base.py:946: ConvergenceWarning: Liblinear failed to converge, increase the number of iterations.\n",
      "  warnings.warn(\"Liblinear failed to converge, increase \"\n"
     ]
    },
    {
     "name": "stdout",
     "output_type": "stream",
     "text": [
      "Linear kernel, C = 100.00, Accuracy = 0.38\n",
      "Linear kernel, C = 250.00, Accuracy = 0.38\n"
     ]
    },
    {
     "name": "stderr",
     "output_type": "stream",
     "text": [
      "D:\\Anaconda3\\envs\\PyCoursera\\lib\\site-packages\\sklearn\\svm\\_base.py:946: ConvergenceWarning: Liblinear failed to converge, increase the number of iterations.\n",
      "  warnings.warn(\"Liblinear failed to converge, increase \"\n"
     ]
    }
   ],
   "source": [
    "from sklearn.svm import LinearSVC\n",
    "\n",
    "C = [1, 5, 10, 15, 100, 250]\n",
    "\n",
    "print('Support Vector Classifier:\\n')\n",
    "for i in C:\n",
    "    svc = LinearSVC(C=i, random_state=0).fit(X_train, y_train)\n",
    "    print('Linear kernel, C = {:.2f}, Accuracy = {:.2f}'.format(i, svc.score(X_test, y_test))) "
   ]
  },
  {
   "cell_type": "markdown",
   "metadata": {},
   "source": [
    "# Naive Bayes\n",
    "\n"
   ]
  },
  {
   "cell_type": "code",
   "execution_count": 58,
   "metadata": {},
   "outputs": [
    {
     "name": "stdout",
     "output_type": "stream",
     "text": [
      "0.5627192982456141\n"
     ]
    }
   ],
   "source": [
    "classificador_NB = GaussianNB().fit(X_train, y_train)\n",
    "print(classificador_NB.score(X_test, y_test))"
   ]
  },
  {
   "cell_type": "markdown",
   "metadata": {},
   "source": [
    "# Decision Tree\n",
    "\n"
   ]
  },
  {
   "cell_type": "code",
   "execution_count": 59,
   "metadata": {},
   "outputs": [
    {
     "name": "stdout",
     "output_type": "stream",
     "text": [
      "Decision Tree:\n",
      "\n",
      "Com número máximo de ramos igual a 2, nos retornou accuracy de 0.60 no conjunto de dados Treino\n",
      "Com número máximo de ramos igual a 2, nos retornou accuracy de 0.62 no conjunto de dados Teste\n",
      "\n",
      "Com número máximo de ramos igual a 3, nos retornou accuracy de 0.60 no conjunto de dados Treino\n",
      "Com número máximo de ramos igual a 3, nos retornou accuracy de 0.61 no conjunto de dados Teste\n",
      "\n",
      "Com número máximo de ramos igual a 4, nos retornou accuracy de 0.61 no conjunto de dados Treino\n",
      "Com número máximo de ramos igual a 4, nos retornou accuracy de 0.62 no conjunto de dados Teste\n",
      "\n",
      "Com número máximo de ramos igual a 5, nos retornou accuracy de 0.62 no conjunto de dados Treino\n",
      "Com número máximo de ramos igual a 5, nos retornou accuracy de 0.62 no conjunto de dados Teste\n",
      "\n",
      "Com número máximo de ramos igual a 6, nos retornou accuracy de 0.62 no conjunto de dados Treino\n",
      "Com número máximo de ramos igual a 6, nos retornou accuracy de 0.60 no conjunto de dados Teste\n",
      "\n",
      "Com número máximo de ramos igual a 7, nos retornou accuracy de 0.64 no conjunto de dados Treino\n",
      "Com número máximo de ramos igual a 7, nos retornou accuracy de 0.60 no conjunto de dados Teste\n",
      "\n",
      "Com número máximo de ramos igual a 8, nos retornou accuracy de 0.66 no conjunto de dados Treino\n",
      "Com número máximo de ramos igual a 8, nos retornou accuracy de 0.60 no conjunto de dados Teste\n",
      "\n",
      "Com número máximo de ramos igual a 9, nos retornou accuracy de 0.67 no conjunto de dados Treino\n",
      "Com número máximo de ramos igual a 9, nos retornou accuracy de 0.60 no conjunto de dados Teste\n",
      "\n",
      "Com número máximo de ramos igual a 10, nos retornou accuracy de 0.69 no conjunto de dados Treino\n",
      "Com número máximo de ramos igual a 10, nos retornou accuracy de 0.59 no conjunto de dados Teste\n",
      "\n",
      "Com número máximo de ramos igual a 15, nos retornou accuracy de 0.83 no conjunto de dados Treino\n",
      "Com número máximo de ramos igual a 15, nos retornou accuracy de 0.56 no conjunto de dados Teste\n",
      "\n",
      "Com número máximo de ramos igual a 20, nos retornou accuracy de 0.93 no conjunto de dados Treino\n",
      "Com número máximo de ramos igual a 20, nos retornou accuracy de 0.54 no conjunto de dados Teste\n"
     ]
    }
   ],
   "source": [
    "from sklearn.tree import DecisionTreeClassifier\n",
    "from sklearn.metrics import accuracy_score\n",
    "\n",
    "depths = [2,3,4,5,6,7,8,9,10,15,20]\n",
    "\n",
    "print(\"Decision Tree:\")\n",
    "for i in depths:\n",
    "    classificador = DecisionTreeClassifier(max_depth=i, random_state=0).fit(X_train, y_train)\n",
    "    print(\"\\nCom número máximo de ramos igual a {}, nos retornou accuracy de {:.2f} no conjunto de dados Treino\".format(i, classificador.score(X_train, y_train)))\n",
    "    print(\"Com número máximo de ramos igual a {}, nos retornou accuracy de {:.2f} no conjunto de dados Teste\".format(i, classificador.score(X_test, y_test)))\n",
    "    "
   ]
  },
  {
   "cell_type": "markdown",
   "metadata": {},
   "source": [
    "# Random Forest\n",
    "\n"
   ]
  },
  {
   "cell_type": "code",
   "execution_count": 60,
   "metadata": {},
   "outputs": [
    {
     "name": "stdout",
     "output_type": "stream",
     "text": [
      "Random Forest:\n",
      "\n",
      "Com número máximo de características igual a 2, nos retornou accuracy de 1.00 no conjunto de dados Treino\n",
      "Com número máximo de características igual a 2, nos retornou accuracy de 0.61 no conjunto de dados Teste\n",
      "\n",
      "Com número máximo de características igual a 3, nos retornou accuracy de 1.00 no conjunto de dados Treino\n",
      "Com número máximo de características igual a 3, nos retornou accuracy de 0.61 no conjunto de dados Teste\n",
      "\n",
      "Com número máximo de características igual a 4, nos retornou accuracy de 1.00 no conjunto de dados Treino\n",
      "Com número máximo de características igual a 4, nos retornou accuracy de 0.61 no conjunto de dados Teste\n",
      "\n",
      "Com número máximo de características igual a 5, nos retornou accuracy de 1.00 no conjunto de dados Treino\n",
      "Com número máximo de características igual a 5, nos retornou accuracy de 0.61 no conjunto de dados Teste\n",
      "\n",
      "Com número máximo de características igual a 6, nos retornou accuracy de 1.00 no conjunto de dados Treino\n",
      "Com número máximo de características igual a 6, nos retornou accuracy de 0.62 no conjunto de dados Teste\n",
      "\n",
      "Com número máximo de características igual a 8, nos retornou accuracy de 1.00 no conjunto de dados Treino\n",
      "Com número máximo de características igual a 8, nos retornou accuracy de 0.61 no conjunto de dados Teste\n",
      "\n",
      "Com número máximo de características igual a 10, nos retornou accuracy de 1.00 no conjunto de dados Treino\n",
      "Com número máximo de características igual a 10, nos retornou accuracy de 0.60 no conjunto de dados Teste\n",
      "\n",
      "Com número máximo de características igual a 15, nos retornou accuracy de 1.00 no conjunto de dados Treino\n",
      "Com número máximo de características igual a 15, nos retornou accuracy de 0.61 no conjunto de dados Teste\n",
      "\n",
      "Com número máximo de características igual a 20, nos retornou accuracy de 1.00 no conjunto de dados Treino\n",
      "Com número máximo de características igual a 20, nos retornou accuracy de 0.60 no conjunto de dados Teste\n"
     ]
    }
   ],
   "source": [
    "from sklearn.ensemble import RandomForestClassifier\n",
    "\n",
    "features = [2,3,4,5,6,8,10,15,20]\n",
    "\n",
    "print(\"Random Forest:\")\n",
    "for i in features:\n",
    "    classificador = RandomForestClassifier(max_features=i, random_state=0).fit(X_train, y_train)\n",
    "    print(\"\\nCom número máximo de características igual a {}, nos retornou accuracy de {:.2f} no conjunto de dados Treino\".format(i, classificador.score(X_train, y_train)))\n",
    "    print(\"Com número máximo de características igual a {}, nos retornou accuracy de {:.2f} no conjunto de dados Teste\".format(i, classificador.score(X_test, y_test)))\n",
    "    "
   ]
  },
  {
   "cell_type": "markdown",
   "metadata": {},
   "source": [
    "# K-means\n",
    "\n"
   ]
  },
  {
   "cell_type": "code",
   "execution_count": 61,
   "metadata": {},
   "outputs": [
    {
     "name": "stdout",
     "output_type": "stream",
     "text": [
      "Acurácia nos dados de treino 0.31\n"
     ]
    }
   ],
   "source": [
    "from sklearn.cluster import KMeans\n",
    "\n",
    "k_means = KMeans(n_clusters=3, random_state=0).fit(X_train)\n",
    "predicted = k_means.predict(X_train)\n",
    "\n",
    "df_teste = pd.DataFrame(data = predicted, index=y_train)\n",
    "df_teste.reset_index(inplace=True)\n",
    "\n",
    "df_teste.replace({'Normal':1, 'Ajudado posicionado':0, 'Ajudado difícil':2}, inplace=True)\n",
    "tam2 = df_teste.shape[0]\n",
    "tam1 = df_teste[df_teste['stdp'] == df_teste[0]].shape[0]\n",
    "\n",
    "print('Acurácia nos dados de treino {:.2f}'.format(tam1/tam2))"
   ]
  },
  {
   "cell_type": "markdown",
   "metadata": {},
   "source": [
    "# Usando a tabela reduzida"
   ]
  },
  {
   "cell_type": "code",
   "execution_count": 78,
   "metadata": {},
   "outputs": [],
   "source": [
    "tabela = pd.read_excel(\"Distocia_reduzidoR.xlsx\")"
   ]
  },
  {
   "cell_type": "code",
   "execution_count": 79,
   "metadata": {},
   "outputs": [
    {
     "name": "stdout",
     "output_type": "stream",
     "text": [
      "<class 'pandas.core.frame.DataFrame'>\n",
      "RangeIndex: 5652 entries, 0 to 5651\n",
      "Data columns (total 28 columns):\n",
      " #   Column  Non-Null Count  Dtype  \n",
      "---  ------  --------------  -----  \n",
      " 0   stdp    5652 non-null   object \n",
      " 1   bzdp    5652 non-null   object \n",
      " 2   tpdp    5652 non-null   object \n",
      " 3   ecc     5652 non-null   float64\n",
      " 4   mltp    5652 non-null   object \n",
      " 5   ipc     5652 non-null   float64\n",
      " 6   ps      5652 non-null   float64\n",
      " 7   iep     5652 non-null   float64\n",
      " 8   ncs     5652 non-null   int64  \n",
      " 9   pa      5652 non-null   float64\n",
      " 10  pmd     5652 non-null   float64\n",
      " 11  plmd    5652 non-null   float64\n",
      " 12  del     5652 non-null   float64\n",
      " 13  pat     5652 non-null   float64\n",
      " 14  pmdt    5652 non-null   float64\n",
      " 15  dela    5652 non-null   float64\n",
      " 16  gord    5652 non-null   float64\n",
      " 17  prot    5652 non-null   float64\n",
      " 18  lact    5652 non-null   float64\n",
      " 19  st      5652 non-null   float64\n",
      " 20  es      5652 non-null   float64\n",
      " 21  ccs     5652 non-null   int64  \n",
      " 22  ecs     5652 non-null   int64  \n",
      " 23  esda    5652 non-null   object \n",
      " 24  itu     5652 non-null   float64\n",
      " 25  temp    5652 non-null   float64\n",
      " 26  ur      5652 non-null   float64\n",
      " 27  prcp    5652 non-null   float64\n",
      "dtypes: float64(20), int64(3), object(5)\n",
      "memory usage: 1.2+ MB\n"
     ]
    }
   ],
   "source": [
    "tabela.info()"
   ]
  },
  {
   "cell_type": "code",
   "execution_count": 177,
   "metadata": {},
   "outputs": [],
   "source": [
    "tabela = pd.get_dummies(tabela, columns=[\"bzdp\", \"tpdp\", \"mltp\", \"esda\"], drop_first=True)"
   ]
  },
  {
   "cell_type": "code",
   "execution_count": 179,
   "metadata": {},
   "outputs": [],
   "source": [
    "y = tabela['stdp']\n",
    "X = tabela.drop('stdp', axis=1)"
   ]
  },
  {
   "cell_type": "markdown",
   "metadata": {},
   "source": [
    "# K-NN sem padronização"
   ]
  },
  {
   "cell_type": "code",
   "execution_count": 182,
   "metadata": {},
   "outputs": [
    {
     "data": {
      "text/plain": [
       "([<matplotlib.axis.XTick at 0x18f27e691f0>,\n",
       "  <matplotlib.axis.XTick at 0x18f27e695e0>,\n",
       "  <matplotlib.axis.XTick at 0x18f1c02e370>,\n",
       "  <matplotlib.axis.XTick at 0x18f27e37280>,\n",
       "  <matplotlib.axis.XTick at 0x18f27e37310>,\n",
       "  <matplotlib.axis.XTick at 0x18f2b040fa0>,\n",
       "  <matplotlib.axis.XTick at 0x18f2b040a00>,\n",
       "  <matplotlib.axis.XTick at 0x18f2b040b20>,\n",
       "  <matplotlib.axis.XTick at 0x18f27e229a0>,\n",
       "  <matplotlib.axis.XTick at 0x18f27e22040>,\n",
       "  <matplotlib.axis.XTick at 0x18f27ef7cd0>,\n",
       "  <matplotlib.axis.XTick at 0x18f27e22fd0>,\n",
       "  <matplotlib.axis.XTick at 0x18f27e37940>],\n",
       " <a list of 13 Text xticklabel objects>)"
      ]
     },
     "execution_count": 182,
     "metadata": {},
     "output_type": "execute_result"
    },
    {
     "data": {
      "image/png": "[encoded data removed]",
      "text/plain": [
       "<Figure size 432x288 with 1 Axes>"
      ]
     },
     "metadata": {
      "needs_background": "light"
     },
     "output_type": "display_data"
    }
   ],
   "source": [
    "from sklearn.neighbors import KNeighborsClassifier\n",
    "from sklearn.model_selection import train_test_split\n",
    "\n",
    "X_train, X_test, y_train, y_test = train_test_split(X, y, random_state=0)\n",
    "\n",
    "k_range = range(1,60)\n",
    "scores = []\n",
    "\n",
    "for k in k_range:\n",
    "    knn = KNeighborsClassifier(n_neighbors = k)\n",
    "    knn.fit(X_train, y_train)\n",
    "    scores.append(knn.score(X_test, y_test))\n",
    "\n",
    "%matplotlib inline\n",
    "plt.figure()\n",
    "plt.xlabel('k')\n",
    "plt.ylabel('Accuracy')\n",
    "plt.scatter(k_range, scores)\n",
    "plt.xticks(range(0,65,5))"
   ]
  },
  {
   "cell_type": "markdown",
   "metadata": {},
   "source": [
    "# K-NN com padronização"
   ]
  },
  {
   "cell_type": "code",
   "execution_count": 184,
   "metadata": {},
   "outputs": [
    {
     "data": {
      "text/plain": [
       "([<matplotlib.axis.XTick at 0x18f2a2f9970>,\n",
       "  <matplotlib.axis.XTick at 0x18f2a2f9d00>,\n",
       "  <matplotlib.axis.XTick at 0x18f2a2f9ee0>,\n",
       "  <matplotlib.axis.XTick at 0x18f2aea2a90>,\n",
       "  <matplotlib.axis.XTick at 0x18f2aea2280>,\n",
       "  <matplotlib.axis.XTick at 0x18f2b0f52e0>,\n",
       "  <matplotlib.axis.XTick at 0x18f2b0f5df0>,\n",
       "  <matplotlib.axis.XTick at 0x18f2b0f55b0>,\n",
       "  <matplotlib.axis.XTick at 0x18f2ada5670>,\n",
       "  <matplotlib.axis.XTick at 0x18f2ada5700>,\n",
       "  <matplotlib.axis.XTick at 0x18f27e06220>,\n",
       "  <matplotlib.axis.XTick at 0x18f27d1b040>,\n",
       "  <matplotlib.axis.XTick at 0x18f2aea2af0>],\n",
       " <a list of 13 Text xticklabel objects>)"
      ]
     },
     "execution_count": 184,
     "metadata": {},
     "output_type": "execute_result"
    },
    {
     "data": {
      "image/png": "[encoded data removed]",
      "text/plain": [
       "<Figure size 432x288 with 1 Axes>"
      ]
     },
     "metadata": {
      "needs_background": "light"
     },
     "output_type": "display_data"
    }
   ],
   "source": [
    "from sklearn.preprocessing import MinMaxScaler\n",
    "\n",
    "scaler = MinMaxScaler()\n",
    "\n",
    "X_train_scaled = scaler.fit_transform(X_train)\n",
    "X_test_scaled = scaler.transform(X_test)\n",
    "\n",
    "k_range = range(1,60)\n",
    "scores = []\n",
    "\n",
    "for k in k_range:\n",
    "    knn = KNeighborsClassifier(n_neighbors = k)\n",
    "    knn.fit(X_train_scaled, y_train)\n",
    "    scores.append(knn.score(X_test_scaled, y_test))\n",
    "\n",
    "%matplotlib inline\n",
    "plt.figure()\n",
    "plt.xlabel('k')\n",
    "plt.ylabel('Accuracy')\n",
    "plt.scatter(k_range, scores)\n",
    "plt.xticks(range(0,65,5))"
   ]
  },
  {
   "cell_type": "markdown",
   "metadata": {},
   "source": [
    "# SVC sem padronização"
   ]
  },
  {
   "cell_type": "code",
   "execution_count": 80,
   "metadata": {},
   "outputs": [
    {
     "name": "stdout",
     "output_type": "stream",
     "text": [
      "Support Vector Classifier:\n",
      "\n",
      "RBF kernel, gamma = 0.01, C = 0.10, Accuracy = 0.62\n",
      "RBF kernel, gamma = 0.01, C = 1.00, Accuracy = 0.61\n",
      "RBF kernel, gamma = 0.01, C = 15.00, Accuracy = 0.60\n",
      "RBF kernel, gamma = 0.01, C = 250.00, Accuracy = 0.60\n",
      "RBF kernel, gamma = 1.00, C = 0.10, Accuracy = 0.62\n",
      "RBF kernel, gamma = 1.00, C = 1.00, Accuracy = 0.62\n",
      "RBF kernel, gamma = 1.00, C = 15.00, Accuracy = 0.62\n",
      "RBF kernel, gamma = 1.00, C = 250.00, Accuracy = 0.62\n",
      "RBF kernel, gamma = 5.00, C = 0.10, Accuracy = 0.62\n",
      "RBF kernel, gamma = 5.00, C = 1.00, Accuracy = 0.62\n",
      "RBF kernel, gamma = 5.00, C = 15.00, Accuracy = 0.62\n",
      "RBF kernel, gamma = 5.00, C = 250.00, Accuracy = 0.62\n",
      "RBF kernel, gamma = 10.00, C = 0.10, Accuracy = 0.62\n",
      "RBF kernel, gamma = 10.00, C = 1.00, Accuracy = 0.62\n",
      "RBF kernel, gamma = 10.00, C = 15.00, Accuracy = 0.62\n",
      "RBF kernel, gamma = 10.00, C = 250.00, Accuracy = 0.62\n"
     ]
    }
   ],
   "source": [
    "print('Support Vector Classifier:\\n')\n",
    "for gamma in [0.01, 1, 5, 10]:\n",
    "    for C in [0.1, 1, 15, 250]:\n",
    "        classificador = SVC(kernel = 'rbf', gamma = gamma, C = C).fit(X_train, y_train)\n",
    "        print('RBF kernel, gamma = {:.2f}, C = {:.2f}, Accuracy = {:.2f}'.format(gamma, C, classificador.score(X_test, y_test)))"
   ]
  },
  {
   "cell_type": "code",
   "execution_count": 81,
   "metadata": {},
   "outputs": [
    {
     "name": "stdout",
     "output_type": "stream",
     "text": [
      "Support Vector Classifier:\n",
      "\n"
     ]
    },
    {
     "name": "stderr",
     "output_type": "stream",
     "text": [
      "D:\\Anaconda3\\envs\\PyCoursera\\lib\\site-packages\\sklearn\\svm\\_base.py:946: ConvergenceWarning: Liblinear failed to converge, increase the number of iterations.\n",
      "  warnings.warn(\"Liblinear failed to converge, increase \"\n"
     ]
    },
    {
     "name": "stdout",
     "output_type": "stream",
     "text": [
      "Linear kernel, C = 1.00, Accuracy = 0.33\n"
     ]
    },
    {
     "name": "stderr",
     "output_type": "stream",
     "text": [
      "D:\\Anaconda3\\envs\\PyCoursera\\lib\\site-packages\\sklearn\\svm\\_base.py:946: ConvergenceWarning: Liblinear failed to converge, increase the number of iterations.\n",
      "  warnings.warn(\"Liblinear failed to converge, increase \"\n"
     ]
    },
    {
     "name": "stdout",
     "output_type": "stream",
     "text": [
      "Linear kernel, C = 5.00, Accuracy = 0.38\n"
     ]
    },
    {
     "name": "stderr",
     "output_type": "stream",
     "text": [
      "D:\\Anaconda3\\envs\\PyCoursera\\lib\\site-packages\\sklearn\\svm\\_base.py:946: ConvergenceWarning: Liblinear failed to converge, increase the number of iterations.\n",
      "  warnings.warn(\"Liblinear failed to converge, increase \"\n"
     ]
    },
    {
     "name": "stdout",
     "output_type": "stream",
     "text": [
      "Linear kernel, C = 10.00, Accuracy = 0.38\n"
     ]
    },
    {
     "name": "stderr",
     "output_type": "stream",
     "text": [
      "D:\\Anaconda3\\envs\\PyCoursera\\lib\\site-packages\\sklearn\\svm\\_base.py:946: ConvergenceWarning: Liblinear failed to converge, increase the number of iterations.\n",
      "  warnings.warn(\"Liblinear failed to converge, increase \"\n"
     ]
    },
    {
     "name": "stdout",
     "output_type": "stream",
     "text": [
      "Linear kernel, C = 15.00, Accuracy = 0.38\n"
     ]
    },
    {
     "name": "stderr",
     "output_type": "stream",
     "text": [
      "D:\\Anaconda3\\envs\\PyCoursera\\lib\\site-packages\\sklearn\\svm\\_base.py:946: ConvergenceWarning: Liblinear failed to converge, increase the number of iterations.\n",
      "  warnings.warn(\"Liblinear failed to converge, increase \"\n"
     ]
    },
    {
     "name": "stdout",
     "output_type": "stream",
     "text": [
      "Linear kernel, C = 100.00, Accuracy = 0.38\n",
      "Linear kernel, C = 250.00, Accuracy = 0.38\n"
     ]
    },
    {
     "name": "stderr",
     "output_type": "stream",
     "text": [
      "D:\\Anaconda3\\envs\\PyCoursera\\lib\\site-packages\\sklearn\\svm\\_base.py:946: ConvergenceWarning: Liblinear failed to converge, increase the number of iterations.\n",
      "  warnings.warn(\"Liblinear failed to converge, increase \"\n"
     ]
    }
   ],
   "source": [
    "from sklearn.svm import LinearSVC\n",
    "\n",
    "C = [1, 5, 10, 15, 100, 250]\n",
    "\n",
    "print('Support Vector Classifier:\\n')\n",
    "for i in C:\n",
    "    svc = LinearSVC(C=i, random_state=0).fit(X_train, y_train)\n",
    "    print('Linear kernel, C = {:.2f}, Accuracy = {:.2f}'.format(i, svc.score(X_test, y_test))) "
   ]
  },
  {
   "cell_type": "markdown",
   "metadata": {},
   "source": [
    "# SVC com padronização"
   ]
  },
  {
   "cell_type": "code",
   "execution_count": 82,
   "metadata": {},
   "outputs": [
    {
     "name": "stdout",
     "output_type": "stream",
     "text": [
      "Support Vector Classifier:\n",
      "\n",
      "RBF kernel, gamma = 0.01, C = 0.10, Accuracy = 0.62\n",
      "RBF kernel, gamma = 0.01, C = 1.00, Accuracy = 0.62\n",
      "RBF kernel, gamma = 0.01, C = 15.00, Accuracy = 0.62\n",
      "RBF kernel, gamma = 0.01, C = 250.00, Accuracy = 0.61\n",
      "RBF kernel, gamma = 1.00, C = 0.10, Accuracy = 0.62\n",
      "RBF kernel, gamma = 1.00, C = 1.00, Accuracy = 0.61\n",
      "RBF kernel, gamma = 1.00, C = 15.00, Accuracy = 0.58\n",
      "RBF kernel, gamma = 1.00, C = 250.00, Accuracy = 0.52\n",
      "RBF kernel, gamma = 5.00, C = 0.10, Accuracy = 0.62\n",
      "RBF kernel, gamma = 5.00, C = 1.00, Accuracy = 0.61\n",
      "RBF kernel, gamma = 5.00, C = 15.00, Accuracy = 0.54\n",
      "RBF kernel, gamma = 5.00, C = 250.00, Accuracy = 0.51\n",
      "RBF kernel, gamma = 10.00, C = 0.10, Accuracy = 0.62\n",
      "RBF kernel, gamma = 10.00, C = 1.00, Accuracy = 0.61\n",
      "RBF kernel, gamma = 10.00, C = 15.00, Accuracy = 0.55\n",
      "RBF kernel, gamma = 10.00, C = 250.00, Accuracy = 0.54\n"
     ]
    }
   ],
   "source": [
    "from sklearn.svm import SVC\n",
    "from sklearn.preprocessing import MinMaxScaler\n",
    "\n",
    "scaler = MinMaxScaler()\n",
    "\n",
    "X_train_scaled = scaler.fit_transform(X_train)\n",
    "X_test_scaled = scaler.transform(X_test)\n",
    "\n",
    "print('Support Vector Classifier:\\n')\n",
    "for gamma in [0.01, 1, 5, 10]:\n",
    "    for C in [0.1, 1, 15, 250]:\n",
    "        classificador = SVC(kernel = 'rbf', gamma = gamma, C = C).fit(X_train_scaled, y_train)\n",
    "        print('RBF kernel, gamma = {:.2f}, C = {:.2f}, Accuracy = {:.2f}'.format(gamma, C, classificador.score(X_test_scaled, y_test)))"
   ]
  },
  {
   "cell_type": "code",
   "execution_count": 83,
   "metadata": {},
   "outputs": [
    {
     "name": "stdout",
     "output_type": "stream",
     "text": [
      "Support Vector Classifier:\n",
      "\n",
      "Linear kernel, C = 1.00, Accuracy = 0.61\n"
     ]
    },
    {
     "name": "stderr",
     "output_type": "stream",
     "text": [
      "D:\\Anaconda3\\envs\\PyCoursera\\lib\\site-packages\\sklearn\\svm\\_base.py:946: ConvergenceWarning: Liblinear failed to converge, increase the number of iterations.\n",
      "  warnings.warn(\"Liblinear failed to converge, increase \"\n"
     ]
    },
    {
     "name": "stdout",
     "output_type": "stream",
     "text": [
      "Linear kernel, C = 5.00, Accuracy = 0.62\n"
     ]
    },
    {
     "name": "stderr",
     "output_type": "stream",
     "text": [
      "D:\\Anaconda3\\envs\\PyCoursera\\lib\\site-packages\\sklearn\\svm\\_base.py:946: ConvergenceWarning: Liblinear failed to converge, increase the number of iterations.\n",
      "  warnings.warn(\"Liblinear failed to converge, increase \"\n"
     ]
    },
    {
     "name": "stdout",
     "output_type": "stream",
     "text": [
      "Linear kernel, C = 10.00, Accuracy = 0.62\n"
     ]
    },
    {
     "name": "stderr",
     "output_type": "stream",
     "text": [
      "D:\\Anaconda3\\envs\\PyCoursera\\lib\\site-packages\\sklearn\\svm\\_base.py:946: ConvergenceWarning: Liblinear failed to converge, increase the number of iterations.\n",
      "  warnings.warn(\"Liblinear failed to converge, increase \"\n"
     ]
    },
    {
     "name": "stdout",
     "output_type": "stream",
     "text": [
      "Linear kernel, C = 15.00, Accuracy = 0.62\n"
     ]
    },
    {
     "name": "stderr",
     "output_type": "stream",
     "text": [
      "D:\\Anaconda3\\envs\\PyCoursera\\lib\\site-packages\\sklearn\\svm\\_base.py:946: ConvergenceWarning: Liblinear failed to converge, increase the number of iterations.\n",
      "  warnings.warn(\"Liblinear failed to converge, increase \"\n"
     ]
    },
    {
     "name": "stdout",
     "output_type": "stream",
     "text": [
      "Linear kernel, C = 100.00, Accuracy = 0.61\n",
      "Linear kernel, C = 250.00, Accuracy = 0.62\n"
     ]
    },
    {
     "name": "stderr",
     "output_type": "stream",
     "text": [
      "D:\\Anaconda3\\envs\\PyCoursera\\lib\\site-packages\\sklearn\\svm\\_base.py:946: ConvergenceWarning: Liblinear failed to converge, increase the number of iterations.\n",
      "  warnings.warn(\"Liblinear failed to converge, increase \"\n"
     ]
    }
   ],
   "source": [
    "C = [1, 5, 10, 15, 100, 250]\n",
    "\n",
    "print('Support Vector Classifier:\\n')\n",
    "for i in C:\n",
    "    svc = LinearSVC(C=i, random_state=0).fit(X_train_scaled, y_train)\n",
    "    print('Linear kernel, C = {:.2f}, Accuracy = {:.2f}'.format(i, svc.score(X_test_scaled, y_test)))"
   ]
  },
  {
   "cell_type": "markdown",
   "metadata": {},
   "source": [
    "# Naive Bayes"
   ]
  },
  {
   "cell_type": "code",
   "execution_count": 187,
   "metadata": {},
   "outputs": [
    {
     "name": "stdout",
     "output_type": "stream",
     "text": [
      "0.5598018400566172\n"
     ]
    }
   ],
   "source": [
    "classificador_NB = GaussianNB().fit(X_train, y_train)\n",
    "print(classificador_NB.score(X_test, y_test))"
   ]
  },
  {
   "cell_type": "markdown",
   "metadata": {},
   "source": [
    "# Decision Tree"
   ]
  },
  {
   "cell_type": "code",
   "execution_count": 188,
   "metadata": {},
   "outputs": [
    {
     "name": "stdout",
     "output_type": "stream",
     "text": [
      "Decision Tree:\n",
      "\n",
      "Com número máximo de ramos igual a 2, nos retornou accuracy de 0.60 no conjunto de dados Treino\n",
      "Com número máximo de ramos igual a 2, nos retornou accuracy de 0.64 no conjunto de dados Teste\n",
      "\n",
      "Com número máximo de ramos igual a 3, nos retornou accuracy de 0.60 no conjunto de dados Treino\n",
      "Com número máximo de ramos igual a 3, nos retornou accuracy de 0.63 no conjunto de dados Teste\n",
      "\n",
      "Com número máximo de ramos igual a 4, nos retornou accuracy de 0.62 no conjunto de dados Treino\n",
      "Com número máximo de ramos igual a 4, nos retornou accuracy de 0.62 no conjunto de dados Teste\n",
      "\n",
      "Com número máximo de ramos igual a 5, nos retornou accuracy de 0.63 no conjunto de dados Treino\n",
      "Com número máximo de ramos igual a 5, nos retornou accuracy de 0.62 no conjunto de dados Teste\n",
      "\n",
      "Com número máximo de ramos igual a 6, nos retornou accuracy de 0.64 no conjunto de dados Treino\n",
      "Com número máximo de ramos igual a 6, nos retornou accuracy de 0.62 no conjunto de dados Teste\n",
      "\n",
      "Com número máximo de ramos igual a 7, nos retornou accuracy de 0.66 no conjunto de dados Treino\n",
      "Com número máximo de ramos igual a 7, nos retornou accuracy de 0.61 no conjunto de dados Teste\n",
      "\n",
      "Com número máximo de ramos igual a 8, nos retornou accuracy de 0.68 no conjunto de dados Treino\n",
      "Com número máximo de ramos igual a 8, nos retornou accuracy de 0.61 no conjunto de dados Teste\n",
      "\n",
      "Com número máximo de ramos igual a 9, nos retornou accuracy de 0.70 no conjunto de dados Treino\n",
      "Com número máximo de ramos igual a 9, nos retornou accuracy de 0.62 no conjunto de dados Teste\n",
      "\n",
      "Com número máximo de ramos igual a 10, nos retornou accuracy de 0.72 no conjunto de dados Treino\n",
      "Com número máximo de ramos igual a 10, nos retornou accuracy de 0.61 no conjunto de dados Teste\n",
      "\n",
      "Com número máximo de ramos igual a 15, nos retornou accuracy de 0.85 no conjunto de dados Treino\n",
      "Com número máximo de ramos igual a 15, nos retornou accuracy de 0.56 no conjunto de dados Teste\n",
      "\n",
      "Com número máximo de ramos igual a 20, nos retornou accuracy de 0.95 no conjunto de dados Treino\n",
      "Com número máximo de ramos igual a 20, nos retornou accuracy de 0.53 no conjunto de dados Teste\n"
     ]
    }
   ],
   "source": [
    "from sklearn.tree import DecisionTreeClassifier\n",
    "from sklearn.metrics import accuracy_score\n",
    "\n",
    "depths = [2,3,4,5,6,7,8,9,10,15,20]\n",
    "\n",
    "print(\"Decision Tree:\")\n",
    "for i in depths:\n",
    "    classificador = DecisionTreeClassifier(max_depth=i, random_state=0).fit(X_train, y_train)\n",
    "    print(\"\\nCom número máximo de ramos igual a {}, nos retornou accuracy de {:.2f} no conjunto de dados Treino\".format(i, classificador.score(X_train, y_train)))\n",
    "    print(\"Com número máximo de ramos igual a {}, nos retornou accuracy de {:.2f} no conjunto de dados Teste\".format(i, classificador.score(X_test, y_test)))\n",
    "   "
   ]
  },
  {
   "cell_type": "markdown",
   "metadata": {},
   "source": [
    "# Random Forest"
   ]
  },
  {
   "cell_type": "code",
   "execution_count": 189,
   "metadata": {},
   "outputs": [
    {
     "name": "stdout",
     "output_type": "stream",
     "text": [
      "Random Forest:\n",
      "\n",
      "Com número máximo de características igual a 2, nos retornou accuracy de 1.00 no conjunto de dados Treino\n",
      "Com número máximo de características igual a 2, nos retornou accuracy de 0.63 no conjunto de dados Teste\n",
      "\n",
      "Com número máximo de características igual a 3, nos retornou accuracy de 1.00 no conjunto de dados Treino\n",
      "Com número máximo de características igual a 3, nos retornou accuracy de 0.63 no conjunto de dados Teste\n",
      "\n",
      "Com número máximo de características igual a 4, nos retornou accuracy de 1.00 no conjunto de dados Treino\n",
      "Com número máximo de características igual a 4, nos retornou accuracy de 0.63 no conjunto de dados Teste\n",
      "\n",
      "Com número máximo de características igual a 5, nos retornou accuracy de 1.00 no conjunto de dados Treino\n",
      "Com número máximo de características igual a 5, nos retornou accuracy de 0.62 no conjunto de dados Teste\n",
      "\n",
      "Com número máximo de características igual a 6, nos retornou accuracy de 1.00 no conjunto de dados Treino\n",
      "Com número máximo de características igual a 6, nos retornou accuracy de 0.62 no conjunto de dados Teste\n",
      "\n",
      "Com número máximo de características igual a 8, nos retornou accuracy de 1.00 no conjunto de dados Treino\n",
      "Com número máximo de características igual a 8, nos retornou accuracy de 0.62 no conjunto de dados Teste\n",
      "\n",
      "Com número máximo de características igual a 10, nos retornou accuracy de 1.00 no conjunto de dados Treino\n",
      "Com número máximo de características igual a 10, nos retornou accuracy de 0.62 no conjunto de dados Teste\n",
      "\n",
      "Com número máximo de características igual a 15, nos retornou accuracy de 1.00 no conjunto de dados Treino\n",
      "Com número máximo de características igual a 15, nos retornou accuracy de 0.63 no conjunto de dados Teste\n",
      "\n",
      "Com número máximo de características igual a 20, nos retornou accuracy de 1.00 no conjunto de dados Treino\n",
      "Com número máximo de características igual a 20, nos retornou accuracy de 0.63 no conjunto de dados Teste\n"
     ]
    }
   ],
   "source": [
    "from sklearn.ensemble import RandomForestClassifier\n",
    "\n",
    "features = [2,3,4,5,6,8,10,15,20]\n",
    "\n",
    "print(\"Random Forest:\")\n",
    "for i in features:\n",
    "    classificador = RandomForestClassifier(max_features=i, random_state=0).fit(X_train, y_train)\n",
    "    print(\"\\nCom número máximo de características igual a {}, nos retornou accuracy de {:.2f} no conjunto de dados Treino\".format(i, classificador.score(X_train, y_train)))\n",
    "    print(\"Com número máximo de características igual a {}, nos retornou accuracy de {:.2f} no conjunto de dados Teste\".format(i, classificador.score(X_test, y_test)))\n",
    "    "
   ]
  },
  {
   "cell_type": "markdown",
   "metadata": {},
   "source": [
    "# K-means"
   ]
  },
  {
   "cell_type": "code",
   "execution_count": 198,
   "metadata": {},
   "outputs": [
    {
     "name": "stdout",
     "output_type": "stream",
     "text": [
      "Acurácia nos dados de treino 0.39\n"
     ]
    }
   ],
   "source": [
    "from sklearn.cluster import KMeans\n",
    "\n",
    "k_means = KMeans(n_clusters=3, random_state=0).fit(X_train)\n",
    "predicted = k_means.predict(X_train)\n",
    "\n",
    "df_teste = pd.DataFrame(data = predicted, index=y_train)\n",
    "df_teste.reset_index(inplace=True)\n",
    "\n",
    "df_teste.replace({'Normal':1, 'Ajudado posicionado':0, 'Ajudado difícil':2}, inplace=True)\n",
    "tam2 = df_teste.shape[0]\n",
    "tam1 = df_teste[df_teste['stdp'] == df_teste[0]].shape[0]\n",
    "\n",
    "print('Acurácia nos dados de treino {:.2f}'.format(tam1/tam2))"
   ]
  }
 ],
 "metadata": {
  "kernelspec": {
   "display_name": "Python 3.8.1 64-bit ('PyCoursera': conda)",
   "language": "python",
   "name": "python38164bitpycourseracondadfa3682252af46df98be458fbd01142a"
  },
  "language_info": {
   "codemirror_mode": {
    "name": "ipython",
    "version": 3
   },
   "file_extension": ".py",
   "mimetype": "text/x-python",
   "name": "python",
   "nbconvert_exporter": "python",
   "pygments_lexer": "ipython3",
   "version": "3.8.5"
  }
 },
 "nbformat": 4,
 "nbformat_minor": 2
}
