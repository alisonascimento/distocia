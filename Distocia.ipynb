{
 "metadata": {
  "language_info": {
   "codemirror_mode": {
    "name": "ipython",
    "version": 3
   },
   "file_extension": ".py",
   "mimetype": "text/x-python",
   "name": "python",
   "nbconvert_exporter": "python",
   "pygments_lexer": "ipython3",
   "version": "3.8.3-final"
  },
  "orig_nbformat": 2,
  "kernelspec": {
   "name": "python38164bitpycourseracondadfa3682252af46df98be458fbd01142a",
   "display_name": "Python 3.8.1 64-bit ('PyCoursera': conda)"
  }
 },
 "nbformat": 4,
 "nbformat_minor": 2,
 "cells": [
  {
   "source": [
    "# Importando librarys"
   ],
   "cell_type": "markdown",
   "metadata": {}
  },
  {
   "cell_type": "code",
   "execution_count": null,
   "metadata": {},
   "outputs": [],
   "source": [
    "import pandas as pd\n",
    "import numpy as np\n",
    "import matplotlib.pyplot as plt\n",
    "from sklearn.model_selection import train_test_split"
   ]
  },
  {
   "source": [
    "# Criando DataFrame"
   ],
   "cell_type": "markdown",
   "metadata": {}
  },
  {
   "cell_type": "code",
   "execution_count": null,
   "metadata": {},
   "outputs": [],
   "source": [
    "dados = pd.read_excel(\"Distocia.xlsx\", skiprows=1)\n",
    "dados.head()"
   ]
  },
  {
   "source": [
    "## Limpando colunas que não são de interesse"
   ],
   "cell_type": "markdown",
   "metadata": {
    "tags": []
   }
  },
  {
   "cell_type": "code",
   "execution_count": null,
   "metadata": {},
   "outputs": [],
   "source": [
    "dados.drop([\"NRO\", \"Data do parto\"], axis=1, inplace=True)\n",
    "dados.head()"
   ]
  },
  {
   "source": [
    "## Este BD possui uma quantidade alta de Missing Values\n",
    "### Informações do banco de dados"
   ],
   "cell_type": "markdown",
   "metadata": {
    "tags": []
   }
  },
  {
   "cell_type": "code",
   "execution_count": null,
   "metadata": {
    "tags": []
   },
   "outputs": [],
   "source": [
    "dados.info()"
   ]
  },
  {
   "source": [
    "# Análise inicial dos missing values\n",
    "## Percentual de missing values por variável e subdividido em grupos por variável numérica\n"
   ],
   "cell_type": "markdown",
   "metadata": {}
  },
  {
   "source": [
    "print(dados.isnull().sum())"
   ],
   "cell_type": "code",
   "metadata": {
    "tags": []
   },
   "execution_count": null,
   "outputs": []
  },
  {
   "cell_type": "code",
   "execution_count": null,
   "metadata": {},
   "outputs": [],
   "source": [
    "dados.isnull().groupby(dados['Situação do parto']).mean()"
   ]
  },
  {
   "cell_type": "code",
   "execution_count": null,
   "metadata": {},
   "outputs": [],
   "source": [
    "a = dados.select_dtypes(exclude=['object']).isnull().groupby(dados['Situação do parto']).mean()\n",
    "a"
   ]
  },
  {
   "source": [
    "## É possível verificar uma quantidade grande de missing values, porém essas variáveis podem ser interessantes para analíse dos dados, portanto, iremos verificar como podemos tratar as mesmas"
   ],
   "cell_type": "markdown",
   "metadata": {}
  },
  {
   "source": [
    "### Com query é possível trabalhar com comandos parecidos do SQL (& | > < != >= <=)"
   ],
   "cell_type": "markdown",
   "metadata": {}
  },
  {
   "cell_type": "code",
   "execution_count": null,
   "metadata": {},
   "outputs": [],
   "source": [
    "dados.query('ITU < 70')"
   ]
  },
  {
   "source": [
    "# Missing Values\n",
    "\n",
    "## Iremos tratar os missing values de 3 formas distintas e verificar qual retornou o melhor resultado para os testes\n",
    "\n",
    "### Primeiro método: Deletar linhas e colunas com missing values;\n",
    "### Segundo método: Imputar missing values com média ou mediana para variáveis contínuas e valor mais frequente para variáveis categóricas;\n",
    "### Terceiro método: Predizer valores para os missing values;"
   ],
   "cell_type": "markdown",
   "metadata": {
    "tags": []
   }
  },
  {
   "source": [
    "# Primeiro método: Deletando linhas com missing values"
   ],
   "cell_type": "markdown",
   "metadata": {}
  },
  {
   "cell_type": "code",
   "execution_count": null,
   "metadata": {},
   "outputs": [],
   "source": [
    "df1 = dados.copy()\n",
    "df1.shape"
   ]
  },
  {
   "cell_type": "code",
   "execution_count": null,
   "metadata": {},
   "outputs": [],
   "source": [
    "df1.dropna(inplace=True)\n",
    "df1.reset_index(drop=True, inplace=True)\n",
    "# Drop igual a True para resetar a contagem do index\n",
    "df1.shape"
   ]
  },
  {
   "cell_type": "code",
   "execution_count": null,
   "metadata": {
    "tags": []
   },
   "outputs": [],
   "source": [
    "b = dados.groupby(dados['Situação do parto']).count()\n",
    "b"
   ]
  },
  {
   "cell_type": "code",
   "execution_count": null,
   "metadata": {
    "tags": []
   },
   "outputs": [],
   "source": [
    "\n",
    "c = df1.groupby(df1['Situação do parto']).count()\n",
    "c"
   ]
  },
  {
   "source": [
    "## Sobraram 3518 linhas para análise"
   ],
   "cell_type": "markdown",
   "metadata": {}
  },
  {
   "source": [
    "# Métodos para análise de dados que serão utilizados\n",
    "## K-NN\n",
    "## Decision Tree\n",
    "## Suporte Vector Machine\n",
    "## Naive Bayes\n",
    "## K-means\n",
    "## Random Forest"
   ],
   "cell_type": "markdown",
   "metadata": {}
  },
  {
   "source": [
    "# K-NN\n",
    "\n",
    "## K - Nearest Neighbors é um algoritmo simples que armazena todos os casos disponíveis e classifica novos casos por maioria de votos de seus vizinhos k."
   ],
   "cell_type": "markdown",
   "metadata": {}
  },
  {
   "source": [
    "## Criando variáveis Dummies para trabalhar com dados categóricos para as variáveis \"Bezerro deste parto\", \"Tipo de prenhez\", \"Multiparidade\", \"Estações do ano\""
   ],
   "cell_type": "markdown",
   "metadata": {}
  },
  {
   "cell_type": "code",
   "execution_count": null,
   "metadata": {},
   "outputs": [],
   "source": [
    "df1[\"Bezerro deste parto\"].value_counts()"
   ]
  },
  {
   "cell_type": "code",
   "execution_count": null,
   "metadata": {},
   "outputs": [],
   "source": [
    "df1[\"Tipo de prenhez\"].value_counts()"
   ]
  },
  {
   "cell_type": "code",
   "execution_count": null,
   "metadata": {},
   "outputs": [],
   "source": [
    "df1[\"Multiparidade\"].value_counts()"
   ]
  },
  {
   "cell_type": "code",
   "execution_count": null,
   "metadata": {},
   "outputs": [],
   "source": [
    "df1[\"Estações do ano\"].value_counts()"
   ]
  },
  {
   "cell_type": "code",
   "execution_count": null,
   "metadata": {},
   "outputs": [],
   "source": [
    "df1 = pd.get_dummies(df1, columns=[\"Bezerro deste parto\", \"Tipo de prenhez\", \"Multiparidade\", \"Estações do ano\"], drop_first=True)\n",
    "\n",
    "df1.head()"
   ]
  },
  {
   "cell_type": "code",
   "execution_count": null,
   "metadata": {},
   "outputs": [],
   "source": [
    "X = df1.drop(columns='Situação do parto').copy()\n",
    "y = df1['Situação do parto'].copy()"
   ]
  },
  {
   "source": [
    "## Sem padronização dos valores"
   ],
   "cell_type": "markdown",
   "metadata": {}
  },
  {
   "cell_type": "code",
   "execution_count": null,
   "metadata": {},
   "outputs": [],
   "source": [
    "from sklearn.neighbors import KNeighborsClassifier\n",
    "\n",
    "X_train, X_test, y_train, y_test = train_test_split(X, y, random_state=0)\n",
    "\n",
    "k_range = range(1,60)\n",
    "scores = []\n",
    "\n",
    "for k in k_range:\n",
    "    knn = KNeighborsClassifier(n_neighbors = k)\n",
    "    knn.fit(X_train, y_train)\n",
    "    scores.append(knn.score(X_test, y_test))\n",
    "\n",
    "%matplotlib inline\n",
    "plt.figure()\n",
    "plt.xlabel('k')\n",
    "plt.ylabel('Accuracy')\n",
    "plt.scatter(k_range, scores)\n",
    "plt.xticks(range(0,65,5))"
   ]
  },
  {
   "source": [
    "## Com padronização dos valores"
   ],
   "cell_type": "markdown",
   "metadata": {}
  },
  {
   "cell_type": "code",
   "execution_count": null,
   "metadata": {},
   "outputs": [],
   "source": [
    "from sklearn.preprocessing import MinMaxScaler\n",
    "\n",
    "scaler = MinMaxScaler()\n",
    "\n",
    "X_train_scaled = scaler.fit_transform(X_train)\n",
    "X_test_scaled = scaler.transform(X_test)\n",
    "\n",
    "k_range = range(1,60)\n",
    "scores = []\n",
    "\n",
    "for k in k_range:\n",
    "    knn = KNeighborsClassifier(n_neighbors = k)\n",
    "    knn.fit(X_train_scaled, y_train)\n",
    "    scores.append(knn.score(X_test_scaled, y_test))\n",
    "\n",
    "%matplotlib inline\n",
    "plt.figure()\n",
    "plt.xlabel('k')\n",
    "plt.ylabel('Accuracy')\n",
    "plt.scatter(k_range, scores)\n",
    "plt.xticks(range(0,65,5))"
   ]
  },
  {
   "source": [
    "# Suporte Vector Machine\n",
    "\n",
    "## Neste algoritmo, cada dado é plotado como um ponto em um espaço n-dimensional (onde n é o número de características que se tem) com o valor de cada característica sendo o valor de uma coordenada particular. Depois encontra-se um(a) linha/plano que divida os dados em grupos diferentes de classificadores."
   ],
   "cell_type": "markdown",
   "metadata": {}
  },
  {
   "source": [
    "## Sem padronização dos valores"
   ],
   "cell_type": "markdown",
   "metadata": {}
  },
  {
   "cell_type": "code",
   "execution_count": null,
   "metadata": {
    "tags": []
   },
   "outputs": [],
   "source": [
    "from sklearn.svm import SVC\n",
    "\n",
    "X_train, X_test, y_train, y_test = train_test_split(X, y, random_state=0)\n",
    "\n",
    "print('Support Vector Classifier:\\n')\n",
    "for gamma in [0.01, 1, 5, 10]:\n",
    "    for C in [0.1, 1, 15, 250]:\n",
    "        classificador = SVC(kernel = 'rbf', gamma = gamma, C = C).fit(X_train, y_train)\n",
    "        print('RBF kernel, gamma = {:.2f}, C = {:.2f}, Accuracy = {:.2f}'.format(gamma, C, classificador.score(X_test, y_test)))\n"
   ]
  },
  {
   "cell_type": "code",
   "execution_count": null,
   "metadata": {
    "tags": []
   },
   "outputs": [],
   "source": [
    "from sklearn.svm import LinearSVC\n",
    "\n",
    "X_train, X_test, y_train, y_test = train_test_split(X, y, random_state=0)\n",
    "\n",
    "C = [1, 5, 10, 15, 100, 250]\n",
    "\n",
    "print('Support Vector Classifier:\\n')\n",
    "for i in C:\n",
    "    svc = LinearSVC(C=i, random_state=0).fit(X_train, y_train)\n",
    "    print('Linear kernel, C = {:.2f}, Accuracy = {:.2f}'.format(i, svc.score(X_test, y_test)))"
   ]
  },
  {
   "source": [
    "## Com padronização dos valores"
   ],
   "cell_type": "markdown",
   "metadata": {}
  },
  {
   "cell_type": "code",
   "execution_count": null,
   "metadata": {
    "tags": []
   },
   "outputs": [],
   "source": [
    "from sklearn.svm import SVC\n",
    "from sklearn.preprocessing import MinMaxScaler\n",
    "\n",
    "X_train, X_test, y_train, y_test = train_test_split(X, y, random_state=0)\n",
    "scaler = MinMaxScaler()\n",
    "\n",
    "X_train_scaled = scaler.fit_transform(X_train)\n",
    "X_test_scaled = scaler.transform(X_test)\n",
    "\n",
    "print('Support Vector Classifier:\\n')\n",
    "for gamma in [0.01, 1, 5, 10]:\n",
    "    for C in [0.1, 1, 15, 250]:\n",
    "        classificador = SVC(kernel = 'rbf', gamma = gamma, C = C).fit(X_train_scaled, y_train)\n",
    "        print('RBF kernel, gamma = {:.2f}, C = {:.2f}, Accuracy = {:.2f}'.format(gamma, C, classificador.score(X_test_scaled, y_test)))"
   ]
  },
  {
   "cell_type": "code",
   "execution_count": null,
   "metadata": {
    "tags": []
   },
   "outputs": [],
   "source": [
    "from sklearn.svm import LinearSVC\n",
    "from sklearn.preprocessing import MinMaxScaler\n",
    "\n",
    "X_train, X_test, y_train, y_test = train_test_split(X, y, random_state=0)\n",
    "scaler = MinMaxScaler()\n",
    "\n",
    "X_train_scaled = scaler.fit_transform(X_train)\n",
    "X_test_scaled = scaler.transform(X_test)\n",
    "\n",
    "C = [1, 5, 10, 15, 100, 250]\n",
    "\n",
    "print('Support Vector Classifier:\\n')\n",
    "for i in C:\n",
    "    svc = LinearSVC(C=i, random_state=0).fit(X_train_scaled, y_train)\n",
    "    print('Linear kernel, C = {:.2f}, Accuracy = {:.2f}'.format(i, svc.score(X_test_scaled, y_test)))"
   ]
  },
  {
   "source": [
    "# Naive Bayes\n",
    "\n",
    "## É uma técnica de classificação baseada no teorema de Bayes que assume a independência entre preditores. Em termos simples, um classificador em Naive Bayes assume que a presença de uma característica particular em uma classe não é relacionada com a presença de nenhuma outra característica. "
   ],
   "cell_type": "markdown",
   "metadata": {}
  },
  {
   "cell_type": "code",
   "execution_count": null,
   "metadata": {
    "tags": []
   },
   "outputs": [],
   "source": [
    "from sklearn.naive_bayes import GaussianNB\n",
    "\n",
    "X_train, X_test, y_train, y_test = train_test_split(X, y, random_state=0)\n",
    "\n",
    "classificador_NB = GaussianNB().fit(X_train, y_train)\n",
    "print(classificador_NB.score(X_test, y_test))"
   ]
  },
  {
   "source": [
    "# Decision Tree\n",
    "\n",
    "## A idéia deste algoritmo é dividir os dados em grupos distintos com a melhor precisão possível para estimar valores baseados nesta distribuição."
   ],
   "cell_type": "markdown",
   "metadata": {}
  },
  {
   "cell_type": "code",
   "execution_count": null,
   "metadata": {
    "tags": []
   },
   "outputs": [],
   "source": [
    "from sklearn.tree import DecisionTreeClassifier\n",
    "from sklearn.metrics import accuracy_score\n",
    "\n",
    "X_train, X_test, y_train, y_test = train_test_split(X, y, random_state=0)\n",
    "\n",
    "depths = [2,3,4,5,6,7,8,9,10]\n",
    "\n",
    "print(\"Decision Tree:\")\n",
    "for i in depths:\n",
    "    classificador = DecisionTreeClassifier(max_depth=i, random_state=0).fit(X_train, y_train)\n",
    "    print(\"\\nCom número máximo de ramos igual a {}, nos retornou accuracy de {:.2f} no conjunto de dados Treino\".format(i, classificador.score(X_train, y_train)))\n",
    "    print(\"Com número máximo de ramos igual a {}, nos retornou accuracy de {:.2f} no conjunto de dados Teste\".format(i, classificador.score(X_test, y_test)))\n",
    "    #tree_predicted = classificador.predict(X_test)\n",
    "    #print(\"accuracy {:.2f}\".format(accuracy_score(y_test, tree_predicted)))"
   ]
  },
  {
   "source": [
    "# Random Forest"
   ],
   "cell_type": "markdown",
   "metadata": {}
  },
  {
   "cell_type": "code",
   "execution_count": null,
   "metadata": {
    "tags": []
   },
   "outputs": [],
   "source": [
    "from sklearn.ensemble import RandomForestClassifier\n",
    "\n",
    "X_train, X_test, y_train, y_test = train_test_split(X, y, random_state=0)\n",
    "\n",
    "features = [2,3,4,5,6,8,10]\n",
    "\n",
    "print(\"Random Forest:\")\n",
    "for i in features:\n",
    "    classificador = RandomForestClassifier(max_features=i, random_state=0).fit(X_train, y_train)\n",
    "    print(\"\\nCom número máximo de características igual a {}, nos retornou accuracy de {:.2f} no conjunto de dados Treino\".format(i, classificador.score(X_train, y_train)))\n",
    "    print(\"Com número máximo de características igual a {}, nos retornou accuracy de {:.2f} no conjunto de dados Teste\".format(i, classificador.score(X_test, y_test)))"
   ]
  },
  {
   "source": [
    "# K-means\n",
    "\n",
    "## A idéia do k-means é resolver o problema através de agrupamentos, clusters."
   ],
   "cell_type": "markdown",
   "metadata": {}
  },
  {
   "cell_type": "code",
   "execution_count": null,
   "metadata": {
    "tags": []
   },
   "outputs": [],
   "source": [
    "from sklearn.cluster import KMeans\n",
    "\n",
    "X_train, X_test, y_train, y_test = train_test_split(X, y, random_state=0)\n",
    "\n",
    "k_means = KMeans(n_clusters=3, random_state=0).fit(X_train)\n",
    "predicted = k_means.predict(X_train)\n",
    "\n",
    "df_teste = pd.DataFrame(data = predicted, index=y_train)\n",
    "df_teste.reset_index(inplace=True)\n",
    "\n",
    "df_teste.replace({'Normal':1, 'Ajudado posicionado':0, 'Ajudado difícil':2}, inplace=True)\n",
    "tam2 = df_teste.shape[0]\n",
    "tam1 = df_teste[df_teste['Situação do parto'] == df_teste[0]].shape[0]\n",
    "\n",
    "print('Acurácia nos dados de treino {:.2f}'.format(tam1/tam2))"
   ]
  },
  {
   "source": [
    "# Foi possível verificar que nenhum dos teste apresentados nos retornou um bom resultado em relação a acurácia do teste. Portanto, agora iremos trabalhar com o segundo método para tratativas dos missing values.\n",
    "\n",
    "# Segundo método: Imputar missing values com média ou mediana para variáveis contínuas e valor mais frequente para variáveis categóricas"
   ],
   "cell_type": "markdown",
   "metadata": {}
  },
  {
   "cell_type": "code",
   "execution_count": null,
   "metadata": {},
   "outputs": [],
   "source": [
    "dados.shape"
   ]
  },
  {
   "cell_type": "code",
   "execution_count": null,
   "metadata": {},
   "outputs": [],
   "source": [
    "df2 = dados.copy()"
   ]
  },
  {
   "cell_type": "code",
   "execution_count": null,
   "metadata": {
    "tags": []
   },
   "outputs": [],
   "source": [
    "d = df2.describe()\n",
    "# Típico summary() no R\n",
    "# d.set_index('Situação do parto')\n",
    "# d = df2.groupby(df2['Situação do parto']).describe()\n",
    "# d.reset_index()\n",
    "d"
   ]
  },
  {
   "cell_type": "code",
   "execution_count": null,
   "metadata": {},
   "outputs": [],
   "source": [
    "df2.boxplot(column=['ECC', 'IPC (mês)', 'PS (mês)', 'IEP (mês)', 'Nº SC'])"
   ]
  },
  {
   "cell_type": "code",
   "execution_count": null,
   "metadata": {},
   "outputs": [],
   "source": [
    "df2.boxplot(column=['PA (kg/L/lactação)', 'PMD (kg/L/dia)', 'PLMD (4%G) (kg/L/dias)', 'DEL (dias)', 'PAT (kg/L/lactação)'])"
   ]
  },
  {
   "cell_type": "code",
   "execution_count": null,
   "metadata": {},
   "outputs": [],
   "source": [
    "df2.boxplot(column=['PMDT (kg/L/dia)', 'DELA (dias)', 'GORD (%)', 'PROT (%)', 'LACT (%)'])"
   ]
  },
  {
   "cell_type": "code",
   "execution_count": null,
   "metadata": {},
   "outputs": [],
   "source": [
    "df2.boxplot(column=['ST (%)', 'ES (%)', 'CCS 1000x células/ml', 'ECS'])"
   ]
  },
  {
   "cell_type": "code",
   "execution_count": null,
   "metadata": {},
   "outputs": [],
   "source": [
    "df2.boxplot(column=['Temp (ºC)', 'UR (%)', 'Precipitação (mm)'])"
   ]
  },
  {
   "cell_type": "code",
   "execution_count": null,
   "metadata": {},
   "outputs": [],
   "source": [
    "names = df2.select_dtypes(['float']).columns\n",
    "for i in names:\n",
    "    plt.figure()\n",
    "    df2[i].plot(kind = 'box')\n",
    "    #plt.savefig(i, format='png')\n"
   ]
  },
  {
   "cell_type": "code",
   "execution_count": null,
   "metadata": {},
   "outputs": [],
   "source": [
    "names = df2.select_dtypes(['float']).columns\n",
    "for i in ['Normal', 'Ajudado posicionado', 'Ajudado difícil']:\n",
    "    for j in names:\n",
    "        plt.figure()\n",
    "        df2[df2['Situação do parto']==i][j].plot(kind = 'box', title=i)"
   ]
  },
  {
   "cell_type": "code",
   "execution_count": null,
   "metadata": {},
   "outputs": [],
   "source": [
    "names = df2.select_dtypes(['float']).columns\n",
    "for i in ['Normal', 'Ajudado posicionado', 'Ajudado difícil']:\n",
    "    for j in names:\n",
    "        plt.figure()\n",
    "        plt.xlabel(j)\n",
    "        df2[df2['Situação do parto']==i][j].plot(kind = 'hist', title=i)"
   ]
  },
  {
   "cell_type": "code",
   "execution_count": null,
   "metadata": {},
   "outputs": [],
   "source": [
    "names = df2.select_dtypes(['float']).columns\n",
    "for j in names:\n",
    "    plt.figure()\n",
    "    plt.xlabel(j)\n",
    "    df2[j].plot(kind = 'hist')"
   ]
  },
  {
   "source": [
    "## Irei substituir os missing values pela média geral de cada variável numérica"
   ],
   "cell_type": "markdown",
   "metadata": {}
  },
  {
   "cell_type": "code",
   "execution_count": null,
   "metadata": {},
   "outputs": [],
   "source": [
    "names = df2.select_dtypes(['float']).columns\n",
    "for i in names:\n",
    "    df2[i].replace(np.NaN, df2[i].mean(), inplace=True)"
   ]
  },
  {
   "cell_type": "code",
   "execution_count": null,
   "metadata": {},
   "outputs": [],
   "source": [
    "df2.isnull().count()"
   ]
  },
  {
   "source": [
    "## Irei substituir os missing values pelo valor mais frequente de cada variável categórica"
   ],
   "cell_type": "markdown",
   "metadata": {}
  },
  {
   "cell_type": "code",
   "execution_count": null,
   "metadata": {
    "tags": []
   },
   "outputs": [],
   "source": [
    "# df2.info()\n",
    "# Somente Multiparidade contém valor missing\n",
    "# df2['Multiparidade'].value_counts()\n",
    "df2['Multiparidade'].fillna('primeira', inplace=True)\n",
    "# Substituido pelo valor mais frequente"
   ]
  },
  {
   "source": [
    "## Criando variáveis Dummies para trabalhar com dados categóricos para as variáveis \"Bezerro deste parto\", \"Tipo de prenhez\", \"Multiparidade\", \"Estações do ano\""
   ],
   "cell_type": "markdown",
   "metadata": {
    "tags": []
   }
  },
  {
   "cell_type": "code",
   "execution_count": 220,
   "metadata": {},
   "outputs": [
    {
     "output_type": "execute_result",
     "data": {
      "text/plain": "     Situação do parto  ECC  IPC (mês)  PS (mês)  IEP (mês)  Nº SC  \\\n0  Ajudado posicionado  3.5   1.924483  7.375566       26.6      7   \n1  Ajudado posicionado  4.0   0.966667  1.433333       17.2      6   \n2               Normal  3.5   2.133333  2.766667       20.1      6   \n3               Normal  3.0   1.924483  7.375566       17.4      6   \n4  Ajudado posicionado  3.0   4.200000  4.200000       15.5      3   \n\n   PA (kg/L/lactação)  PMD (kg/L/dia)  PLMD (4%G) (kg/L/dias)  DEL (dias)  \\\n0          825.024000       23.572000               31.512599   35.000170   \n1          824.290000        9.931000               31.512599   83.001712   \n2         3046.213000       29.574000               31.512599  103.003077   \n3        11954.715814       33.325894               31.512599  361.513455   \n4         3679.795000       28.748000               31.512599  128.001774   \n\n   ...  Multiparidade_primeira  Multiparidade_quarta  Multiparidade_quinta  \\\n0  ...                       0                     0                     0   \n1  ...                       0                     1                     0   \n2  ...                       0                     0                     1   \n3  ...                       0                     0                     0   \n4  ...                       0                     0                     0   \n\n   Multiparidade_segunda  Multiparidade_sexta  Multiparidade_sextima  \\\n0                      0                    0                      0   \n1                      0                    0                      0   \n2                      0                    0                      0   \n3                      0                    1                      0   \n4                      0                    1                      0   \n\n   Multiparidade_terceira  Estações do ano_outono  Estações do ano_primavera  \\\n0                       1                       0                          0   \n1                       0                       0                          0   \n2                       0                       0                          1   \n3                       0                       0                          0   \n4                       0                       0                          0   \n\n   Estações do ano_verão  \n0                      0  \n1                      1  \n2                      0  \n3                      1  \n4                      1  \n\n[5 rows x 46 columns]",
      "text/html": "<div>\n<style scoped>\n    .dataframe tbody tr th:only-of-type {\n        vertical-align: middle;\n    }\n\n    .dataframe tbody tr th {\n        vertical-align: top;\n    }\n\n    .dataframe thead th {\n        text-align: right;\n    }\n</style>\n<table border=\"1\" class=\"dataframe\">\n  <thead>\n    <tr style=\"text-align: right;\">\n      <th></th>\n      <th>Situação do parto</th>\n      <th>ECC</th>\n      <th>IPC (mês)</th>\n      <th>PS (mês)</th>\n      <th>IEP (mês)</th>\n      <th>Nº SC</th>\n      <th>PA (kg/L/lactação)</th>\n      <th>PMD (kg/L/dia)</th>\n      <th>PLMD (4%G) (kg/L/dias)</th>\n      <th>DEL (dias)</th>\n      <th>...</th>\n      <th>Multiparidade_primeira</th>\n      <th>Multiparidade_quarta</th>\n      <th>Multiparidade_quinta</th>\n      <th>Multiparidade_segunda</th>\n      <th>Multiparidade_sexta</th>\n      <th>Multiparidade_sextima</th>\n      <th>Multiparidade_terceira</th>\n      <th>Estações do ano_outono</th>\n      <th>Estações do ano_primavera</th>\n      <th>Estações do ano_verão</th>\n    </tr>\n  </thead>\n  <tbody>\n    <tr>\n      <th>0</th>\n      <td>Ajudado posicionado</td>\n      <td>3.5</td>\n      <td>1.924483</td>\n      <td>7.375566</td>\n      <td>26.6</td>\n      <td>7</td>\n      <td>825.024000</td>\n      <td>23.572000</td>\n      <td>31.512599</td>\n      <td>35.000170</td>\n      <td>...</td>\n      <td>0</td>\n      <td>0</td>\n      <td>0</td>\n      <td>0</td>\n      <td>0</td>\n      <td>0</td>\n      <td>1</td>\n      <td>0</td>\n      <td>0</td>\n      <td>0</td>\n    </tr>\n    <tr>\n      <th>1</th>\n      <td>Ajudado posicionado</td>\n      <td>4.0</td>\n      <td>0.966667</td>\n      <td>1.433333</td>\n      <td>17.2</td>\n      <td>6</td>\n      <td>824.290000</td>\n      <td>9.931000</td>\n      <td>31.512599</td>\n      <td>83.001712</td>\n      <td>...</td>\n      <td>0</td>\n      <td>1</td>\n      <td>0</td>\n      <td>0</td>\n      <td>0</td>\n      <td>0</td>\n      <td>0</td>\n      <td>0</td>\n      <td>0</td>\n      <td>1</td>\n    </tr>\n    <tr>\n      <th>2</th>\n      <td>Normal</td>\n      <td>3.5</td>\n      <td>2.133333</td>\n      <td>2.766667</td>\n      <td>20.1</td>\n      <td>6</td>\n      <td>3046.213000</td>\n      <td>29.574000</td>\n      <td>31.512599</td>\n      <td>103.003077</td>\n      <td>...</td>\n      <td>0</td>\n      <td>0</td>\n      <td>1</td>\n      <td>0</td>\n      <td>0</td>\n      <td>0</td>\n      <td>0</td>\n      <td>0</td>\n      <td>1</td>\n      <td>0</td>\n    </tr>\n    <tr>\n      <th>3</th>\n      <td>Normal</td>\n      <td>3.0</td>\n      <td>1.924483</td>\n      <td>7.375566</td>\n      <td>17.4</td>\n      <td>6</td>\n      <td>11954.715814</td>\n      <td>33.325894</td>\n      <td>31.512599</td>\n      <td>361.513455</td>\n      <td>...</td>\n      <td>0</td>\n      <td>0</td>\n      <td>0</td>\n      <td>0</td>\n      <td>1</td>\n      <td>0</td>\n      <td>0</td>\n      <td>0</td>\n      <td>0</td>\n      <td>1</td>\n    </tr>\n    <tr>\n      <th>4</th>\n      <td>Ajudado posicionado</td>\n      <td>3.0</td>\n      <td>4.200000</td>\n      <td>4.200000</td>\n      <td>15.5</td>\n      <td>3</td>\n      <td>3679.795000</td>\n      <td>28.748000</td>\n      <td>31.512599</td>\n      <td>128.001774</td>\n      <td>...</td>\n      <td>0</td>\n      <td>0</td>\n      <td>0</td>\n      <td>0</td>\n      <td>1</td>\n      <td>0</td>\n      <td>0</td>\n      <td>0</td>\n      <td>0</td>\n      <td>1</td>\n    </tr>\n  </tbody>\n</table>\n<p>5 rows × 46 columns</p>\n</div>"
     },
     "metadata": {},
     "execution_count": 220
    }
   ],
   "source": [
    "df2 = pd.get_dummies(df2, columns=[\"Bezerro deste parto\", \"Tipo de prenhez\", \"Multiparidade\", \"Estações do ano\"], drop_first=True)\n",
    "\n",
    "df2.head()"
   ]
  },
  {
   "cell_type": "code",
   "execution_count": 225,
   "metadata": {},
   "outputs": [],
   "source": [
    "X = df2.drop(columns='Situação do parto').copy()\n",
    "y = df2['Situação do parto'].copy()"
   ]
  },
  {
   "source": [
    "# K-NN\n",
    "\n",
    "## Sem padronização dos valores"
   ],
   "cell_type": "markdown",
   "metadata": {}
  },
  {
   "cell_type": "code",
   "execution_count": 226,
   "metadata": {},
   "outputs": [
    {
     "output_type": "execute_result",
     "data": {
      "text/plain": "([<matplotlib.axis.XTick at 0x1ea9780a070>,\n  <matplotlib.axis.XTick at 0x1ea9780a580>,\n  <matplotlib.axis.XTick at 0x1ea978190a0>,\n  <matplotlib.axis.XTick at 0x1ea98fdadc0>,\n  <matplotlib.axis.XTick at 0x1ea95f22160>,\n  <matplotlib.axis.XTick at 0x1ea95cab190>,\n  <matplotlib.axis.XTick at 0x1ea95631550>,\n  <matplotlib.axis.XTick at 0x1ea956310d0>,\n  <matplotlib.axis.XTick at 0x1ea97c91580>,\n  <matplotlib.axis.XTick at 0x1ea92e13eb0>,\n  <matplotlib.axis.XTick at 0x1ea95d3a640>,\n  <matplotlib.axis.XTick at 0x1ea95ee8d60>,\n  <matplotlib.axis.XTick at 0x1ea8403a490>],\n <a list of 13 Text xticklabel objects>)"
     },
     "metadata": {},
     "execution_count": 226
    },
    {
     "output_type": "display_data",
     "data": {
      "text/plain": "<Figure size 432x288 with 1 Axes>",
      "image/svg+xml": "<?xml version=\"1.0\" encoding=\"utf-8\" standalone=\"no\"?>\r\n<!DOCTYPE svg PUBLIC \"-//W3C//DTD SVG 1.1//EN\"\r\n  \"http://www.w3.org/Graphics/SVG/1.1/DTD/svg11.dtd\">\r\n<!-- Created with matplotlib (https://matplotlib.org/) -->\r\n<svg height=\"262.19625pt\" version=\"1.1\" viewBox=\"0 0 392.14375 262.19625\" width=\"392.14375pt\" xmlns=\"http://www.w3.org/2000/svg\" xmlns:xlink=\"http://www.w3.org/1999/xlink\">\r\n <defs>\r\n  <style type=\"text/css\">\r\n*{stroke-linecap:butt;stroke-linejoin:round;}\r\n  </style>\r\n </defs>\r\n <g id=\"figure_1\">\r\n  <g id=\"patch_1\">\r\n   <path d=\"M 0 262.19625 \r\nL 392.14375 262.19625 \r\nL 392.14375 0 \r\nL 0 0 \r\nz\r\n\" style=\"fill:none;\"/>\r\n  </g>\r\n  <g id=\"axes_1\">\r\n   <g id=\"patch_2\">\r\n    <path d=\"M 50.14375 224.64 \r\nL 384.94375 224.64 \r\nL 384.94375 7.2 \r\nL 50.14375 7.2 \r\nz\r\n\" style=\"fill:#ffffff;\"/>\r\n   </g>\r\n   <g id=\"PathCollection_1\">\r\n    <defs>\r\n     <path d=\"M 0 3 \r\nC 0.795609 3 1.55874 2.683901 2.12132 2.12132 \r\nC 2.683901 1.55874 3 0.795609 3 0 \r\nC 3 -0.795609 2.683901 -1.55874 2.12132 -2.12132 \r\nC 1.55874 -2.683901 0.795609 -3 0 -3 \r\nC -0.795609 -3 -1.55874 -2.683901 -2.12132 -2.12132 \r\nC -2.683901 -1.55874 -3 -0.795609 -3 0 \r\nC -3 0.795609 -2.683901 1.55874 -2.12132 2.12132 \r\nC -1.55874 2.683901 -0.795609 3 0 3 \r\nz\r\n\" id=\"ma897749831\" style=\"stroke:#1f77b4;\"/>\r\n    </defs>\r\n    <g clip-path=\"url(#pcec3738fa1)\">\r\n     <use style=\"fill:#1f77b4;stroke:#1f77b4;\" x=\"65.408939\" xlink:href=\"#ma897749831\" y=\"138.718462\"/>\r\n     <use style=\"fill:#1f77b4;stroke:#1f77b4;\" x=\"70.654967\" xlink:href=\"#ma897749831\" y=\"203.807201\"/>\r\n     <use style=\"fill:#1f77b4;stroke:#1f77b4;\" x=\"75.900995\" xlink:href=\"#ma897749831\" y=\"124.099601\"/>\r\n     <use style=\"fill:#1f77b4;stroke:#1f77b4;\" x=\"81.147023\" xlink:href=\"#ma897749831\" y=\"125.143805\"/>\r\n     <use style=\"fill:#1f77b4;stroke:#1f77b4;\" x=\"86.393051\" xlink:href=\"#ma897749831\" y=\"104.607786\"/>\r\n     <use style=\"fill:#1f77b4;stroke:#1f77b4;\" x=\"91.639079\" xlink:href=\"#ma897749831\" y=\"112.961421\"/>\r\n     <use style=\"fill:#1f77b4;stroke:#1f77b4;\" x=\"96.885107\" xlink:href=\"#ma897749831\" y=\"86.856312\"/>\r\n     <use style=\"fill:#1f77b4;stroke:#1f77b4;\" x=\"102.131135\" xlink:href=\"#ma897749831\" y=\"91.033129\"/>\r\n     <use style=\"fill:#1f77b4;stroke:#1f77b4;\" x=\"107.377163\" xlink:href=\"#ma897749831\" y=\"82.679494\"/>\r\n     <use style=\"fill:#1f77b4;stroke:#1f77b4;\" x=\"112.623191\" xlink:href=\"#ma897749831\" y=\"75.370064\"/>\r\n     <use style=\"fill:#1f77b4;stroke:#1f77b4;\" x=\"117.869219\" xlink:href=\"#ma897749831\" y=\"62.491543\"/>\r\n     <use style=\"fill:#1f77b4;stroke:#1f77b4;\" x=\"123.115247\" xlink:href=\"#ma897749831\" y=\"63.883816\"/>\r\n     <use style=\"fill:#1f77b4;stroke:#1f77b4;\" x=\"128.361275\" xlink:href=\"#ma897749831\" y=\"53.441772\"/>\r\n     <use style=\"fill:#1f77b4;stroke:#1f77b4;\" x=\"133.607303\" xlink:href=\"#ma897749831\" y=\"52.0495\"/>\r\n     <use style=\"fill:#1f77b4;stroke:#1f77b4;\" x=\"138.853331\" xlink:href=\"#ma897749831\" y=\"48.916886\"/>\r\n     <use style=\"fill:#1f77b4;stroke:#1f77b4;\" x=\"144.099359\" xlink:href=\"#ma897749831\" y=\"48.22075\"/>\r\n     <use style=\"fill:#1f77b4;stroke:#1f77b4;\" x=\"149.345387\" xlink:href=\"#ma897749831\" y=\"40.215183\"/>\r\n     <use style=\"fill:#1f77b4;stroke:#1f77b4;\" x=\"154.591415\" xlink:href=\"#ma897749831\" y=\"42.999728\"/>\r\n     <use style=\"fill:#1f77b4;stroke:#1f77b4;\" x=\"159.837442\" xlink:href=\"#ma897749831\" y=\"41.955524\"/>\r\n     <use style=\"fill:#1f77b4;stroke:#1f77b4;\" x=\"165.08347\" xlink:href=\"#ma897749831\" y=\"44.043933\"/>\r\n     <use style=\"fill:#1f77b4;stroke:#1f77b4;\" x=\"170.329498\" xlink:href=\"#ma897749831\" y=\"37.08257\"/>\r\n     <use style=\"fill:#1f77b4;stroke:#1f77b4;\" x=\"175.575526\" xlink:href=\"#ma897749831\" y=\"44.043933\"/>\r\n     <use style=\"fill:#1f77b4;stroke:#1f77b4;\" x=\"180.821554\" xlink:href=\"#ma897749831\" y=\"39.519047\"/>\r\n     <use style=\"fill:#1f77b4;stroke:#1f77b4;\" x=\"186.067582\" xlink:href=\"#ma897749831\" y=\"40.91132\"/>\r\n     <use style=\"fill:#1f77b4;stroke:#1f77b4;\" x=\"191.31361\" xlink:href=\"#ma897749831\" y=\"36.038366\"/>\r\n     <use style=\"fill:#1f77b4;stroke:#1f77b4;\" x=\"196.559638\" xlink:href=\"#ma897749831\" y=\"37.430638\"/>\r\n     <use style=\"fill:#1f77b4;stroke:#1f77b4;\" x=\"201.805666\" xlink:href=\"#ma897749831\" y=\"36.386434\"/>\r\n     <use style=\"fill:#1f77b4;stroke:#1f77b4;\" x=\"207.051694\" xlink:href=\"#ma897749831\" y=\"35.34223\"/>\r\n     <use style=\"fill:#1f77b4;stroke:#1f77b4;\" x=\"212.297722\" xlink:href=\"#ma897749831\" y=\"36.386434\"/>\r\n     <use style=\"fill:#1f77b4;stroke:#1f77b4;\" x=\"217.54375\" xlink:href=\"#ma897749831\" y=\"35.34223\"/>\r\n     <use style=\"fill:#1f77b4;stroke:#1f77b4;\" x=\"222.789778\" xlink:href=\"#ma897749831\" y=\"30.469276\"/>\r\n     <use style=\"fill:#1f77b4;stroke:#1f77b4;\" x=\"228.035806\" xlink:href=\"#ma897749831\" y=\"32.557685\"/>\r\n     <use style=\"fill:#1f77b4;stroke:#1f77b4;\" x=\"233.281834\" xlink:href=\"#ma897749831\" y=\"32.905753\"/>\r\n     <use style=\"fill:#1f77b4;stroke:#1f77b4;\" x=\"238.527862\" xlink:href=\"#ma897749831\" y=\"30.817344\"/>\r\n     <use style=\"fill:#1f77b4;stroke:#1f77b4;\" x=\"243.77389\" xlink:href=\"#ma897749831\" y=\"32.209617\"/>\r\n     <use style=\"fill:#1f77b4;stroke:#1f77b4;\" x=\"249.019918\" xlink:href=\"#ma897749831\" y=\"32.557685\"/>\r\n     <use style=\"fill:#1f77b4;stroke:#1f77b4;\" x=\"254.265946\" xlink:href=\"#ma897749831\" y=\"31.861548\"/>\r\n     <use style=\"fill:#1f77b4;stroke:#1f77b4;\" x=\"259.511974\" xlink:href=\"#ma897749831\" y=\"30.469276\"/>\r\n     <use style=\"fill:#1f77b4;stroke:#1f77b4;\" x=\"264.758002\" xlink:href=\"#ma897749831\" y=\"30.469276\"/>\r\n     <use style=\"fill:#1f77b4;stroke:#1f77b4;\" x=\"270.00403\" xlink:href=\"#ma897749831\" y=\"31.51348\"/>\r\n     <use style=\"fill:#1f77b4;stroke:#1f77b4;\" x=\"275.250058\" xlink:href=\"#ma897749831\" y=\"30.817344\"/>\r\n     <use style=\"fill:#1f77b4;stroke:#1f77b4;\" x=\"280.496085\" xlink:href=\"#ma897749831\" y=\"29.425072\"/>\r\n     <use style=\"fill:#1f77b4;stroke:#1f77b4;\" x=\"285.742113\" xlink:href=\"#ma897749831\" y=\"30.469276\"/>\r\n     <use style=\"fill:#1f77b4;stroke:#1f77b4;\" x=\"290.988141\" xlink:href=\"#ma897749831\" y=\"30.121208\"/>\r\n     <use style=\"fill:#1f77b4;stroke:#1f77b4;\" x=\"296.234169\" xlink:href=\"#ma897749831\" y=\"28.728935\"/>\r\n     <use style=\"fill:#1f77b4;stroke:#1f77b4;\" x=\"301.480197\" xlink:href=\"#ma897749831\" y=\"28.728935\"/>\r\n     <use style=\"fill:#1f77b4;stroke:#1f77b4;\" x=\"306.726225\" xlink:href=\"#ma897749831\" y=\"29.077004\"/>\r\n     <use style=\"fill:#1f77b4;stroke:#1f77b4;\" x=\"311.972253\" xlink:href=\"#ma897749831\" y=\"28.032799\"/>\r\n     <use style=\"fill:#1f77b4;stroke:#1f77b4;\" x=\"317.218281\" xlink:href=\"#ma897749831\" y=\"29.77314\"/>\r\n     <use style=\"fill:#1f77b4;stroke:#1f77b4;\" x=\"322.464309\" xlink:href=\"#ma897749831\" y=\"29.77314\"/>\r\n     <use style=\"fill:#1f77b4;stroke:#1f77b4;\" x=\"327.710337\" xlink:href=\"#ma897749831\" y=\"28.728935\"/>\r\n     <use style=\"fill:#1f77b4;stroke:#1f77b4;\" x=\"332.956365\" xlink:href=\"#ma897749831\" y=\"29.425072\"/>\r\n     <use style=\"fill:#1f77b4;stroke:#1f77b4;\" x=\"338.202393\" xlink:href=\"#ma897749831\" y=\"28.032799\"/>\r\n     <use style=\"fill:#1f77b4;stroke:#1f77b4;\" x=\"343.448421\" xlink:href=\"#ma897749831\" y=\"29.077004\"/>\r\n     <use style=\"fill:#1f77b4;stroke:#1f77b4;\" x=\"348.694449\" xlink:href=\"#ma897749831\" y=\"28.032799\"/>\r\n     <use style=\"fill:#1f77b4;stroke:#1f77b4;\" x=\"353.940477\" xlink:href=\"#ma897749831\" y=\"28.728935\"/>\r\n     <use style=\"fill:#1f77b4;stroke:#1f77b4;\" x=\"359.186505\" xlink:href=\"#ma897749831\" y=\"30.121208\"/>\r\n     <use style=\"fill:#1f77b4;stroke:#1f77b4;\" x=\"364.432533\" xlink:href=\"#ma897749831\" y=\"28.380867\"/>\r\n     <use style=\"fill:#1f77b4;stroke:#1f77b4;\" x=\"369.678561\" xlink:href=\"#ma897749831\" y=\"29.77314\"/>\r\n    </g>\r\n   </g>\r\n   <g id=\"matplotlib.axis_1\">\r\n    <g id=\"xtick_1\">\r\n     <g id=\"line2d_1\">\r\n      <defs>\r\n       <path d=\"M 0 0 \r\nL 0 3.5 \r\n\" id=\"md19fa8c46b\" style=\"stroke:#000000;stroke-width:0.8;\"/>\r\n      </defs>\r\n      <g>\r\n       <use style=\"stroke:#000000;stroke-width:0.8;\" x=\"60.162911\" xlink:href=\"#md19fa8c46b\" y=\"224.64\"/>\r\n      </g>\r\n     </g>\r\n     <g id=\"text_1\">\r\n      <!-- 0 -->\r\n      <defs>\r\n       <path d=\"M 31.78125 66.40625 \r\nQ 24.171875 66.40625 20.328125 58.90625 \r\nQ 16.5 51.421875 16.5 36.375 \r\nQ 16.5 21.390625 20.328125 13.890625 \r\nQ 24.171875 6.390625 31.78125 6.390625 \r\nQ 39.453125 6.390625 43.28125 13.890625 \r\nQ 47.125 21.390625 47.125 36.375 \r\nQ 47.125 51.421875 43.28125 58.90625 \r\nQ 39.453125 66.40625 31.78125 66.40625 \r\nz\r\nM 31.78125 74.21875 \r\nQ 44.046875 74.21875 50.515625 64.515625 \r\nQ 56.984375 54.828125 56.984375 36.375 \r\nQ 56.984375 17.96875 50.515625 8.265625 \r\nQ 44.046875 -1.421875 31.78125 -1.421875 \r\nQ 19.53125 -1.421875 13.0625 8.265625 \r\nQ 6.59375 17.96875 6.59375 36.375 \r\nQ 6.59375 54.828125 13.0625 64.515625 \r\nQ 19.53125 74.21875 31.78125 74.21875 \r\nz\r\n\" id=\"DejaVuSans-48\"/>\r\n      </defs>\r\n      <g transform=\"translate(56.981661 239.238437)scale(0.1 -0.1)\">\r\n       <use xlink:href=\"#DejaVuSans-48\"/>\r\n      </g>\r\n     </g>\r\n    </g>\r\n    <g id=\"xtick_2\">\r\n     <g id=\"line2d_2\">\r\n      <g>\r\n       <use style=\"stroke:#000000;stroke-width:0.8;\" x=\"86.393051\" xlink:href=\"#md19fa8c46b\" y=\"224.64\"/>\r\n      </g>\r\n     </g>\r\n     <g id=\"text_2\">\r\n      <!-- 5 -->\r\n      <defs>\r\n       <path d=\"M 10.796875 72.90625 \r\nL 49.515625 72.90625 \r\nL 49.515625 64.59375 \r\nL 19.828125 64.59375 \r\nL 19.828125 46.734375 \r\nQ 21.96875 47.46875 24.109375 47.828125 \r\nQ 26.265625 48.1875 28.421875 48.1875 \r\nQ 40.625 48.1875 47.75 41.5 \r\nQ 54.890625 34.8125 54.890625 23.390625 \r\nQ 54.890625 11.625 47.5625 5.09375 \r\nQ 40.234375 -1.421875 26.90625 -1.421875 \r\nQ 22.3125 -1.421875 17.546875 -0.640625 \r\nQ 12.796875 0.140625 7.71875 1.703125 \r\nL 7.71875 11.625 \r\nQ 12.109375 9.234375 16.796875 8.0625 \r\nQ 21.484375 6.890625 26.703125 6.890625 \r\nQ 35.15625 6.890625 40.078125 11.328125 \r\nQ 45.015625 15.765625 45.015625 23.390625 \r\nQ 45.015625 31 40.078125 35.4375 \r\nQ 35.15625 39.890625 26.703125 39.890625 \r\nQ 22.75 39.890625 18.8125 39.015625 \r\nQ 14.890625 38.140625 10.796875 36.28125 \r\nz\r\n\" id=\"DejaVuSans-53\"/>\r\n      </defs>\r\n      <g transform=\"translate(83.211801 239.238437)scale(0.1 -0.1)\">\r\n       <use xlink:href=\"#DejaVuSans-53\"/>\r\n      </g>\r\n     </g>\r\n    </g>\r\n    <g id=\"xtick_3\">\r\n     <g id=\"line2d_3\">\r\n      <g>\r\n       <use style=\"stroke:#000000;stroke-width:0.8;\" x=\"112.623191\" xlink:href=\"#md19fa8c46b\" y=\"224.64\"/>\r\n      </g>\r\n     </g>\r\n     <g id=\"text_3\">\r\n      <!-- 10 -->\r\n      <defs>\r\n       <path d=\"M 12.40625 8.296875 \r\nL 28.515625 8.296875 \r\nL 28.515625 63.921875 \r\nL 10.984375 60.40625 \r\nL 10.984375 69.390625 \r\nL 28.421875 72.90625 \r\nL 38.28125 72.90625 \r\nL 38.28125 8.296875 \r\nL 54.390625 8.296875 \r\nL 54.390625 0 \r\nL 12.40625 0 \r\nz\r\n\" id=\"DejaVuSans-49\"/>\r\n      </defs>\r\n      <g transform=\"translate(106.260691 239.238437)scale(0.1 -0.1)\">\r\n       <use xlink:href=\"#DejaVuSans-49\"/>\r\n       <use x=\"63.623047\" xlink:href=\"#DejaVuSans-48\"/>\r\n      </g>\r\n     </g>\r\n    </g>\r\n    <g id=\"xtick_4\">\r\n     <g id=\"line2d_4\">\r\n      <g>\r\n       <use style=\"stroke:#000000;stroke-width:0.8;\" x=\"138.853331\" xlink:href=\"#md19fa8c46b\" y=\"224.64\"/>\r\n      </g>\r\n     </g>\r\n     <g id=\"text_4\">\r\n      <!-- 15 -->\r\n      <g transform=\"translate(132.490831 239.238437)scale(0.1 -0.1)\">\r\n       <use xlink:href=\"#DejaVuSans-49\"/>\r\n       <use x=\"63.623047\" xlink:href=\"#DejaVuSans-53\"/>\r\n      </g>\r\n     </g>\r\n    </g>\r\n    <g id=\"xtick_5\">\r\n     <g id=\"line2d_5\">\r\n      <g>\r\n       <use style=\"stroke:#000000;stroke-width:0.8;\" x=\"165.08347\" xlink:href=\"#md19fa8c46b\" y=\"224.64\"/>\r\n      </g>\r\n     </g>\r\n     <g id=\"text_5\">\r\n      <!-- 20 -->\r\n      <defs>\r\n       <path d=\"M 19.1875 8.296875 \r\nL 53.609375 8.296875 \r\nL 53.609375 0 \r\nL 7.328125 0 \r\nL 7.328125 8.296875 \r\nQ 12.9375 14.109375 22.625 23.890625 \r\nQ 32.328125 33.6875 34.8125 36.53125 \r\nQ 39.546875 41.84375 41.421875 45.53125 \r\nQ 43.3125 49.21875 43.3125 52.78125 \r\nQ 43.3125 58.59375 39.234375 62.25 \r\nQ 35.15625 65.921875 28.609375 65.921875 \r\nQ 23.96875 65.921875 18.8125 64.3125 \r\nQ 13.671875 62.703125 7.8125 59.421875 \r\nL 7.8125 69.390625 \r\nQ 13.765625 71.78125 18.9375 73 \r\nQ 24.125 74.21875 28.421875 74.21875 \r\nQ 39.75 74.21875 46.484375 68.546875 \r\nQ 53.21875 62.890625 53.21875 53.421875 \r\nQ 53.21875 48.921875 51.53125 44.890625 \r\nQ 49.859375 40.875 45.40625 35.40625 \r\nQ 44.1875 33.984375 37.640625 27.21875 \r\nQ 31.109375 20.453125 19.1875 8.296875 \r\nz\r\n\" id=\"DejaVuSans-50\"/>\r\n      </defs>\r\n      <g transform=\"translate(158.72097 239.238437)scale(0.1 -0.1)\">\r\n       <use xlink:href=\"#DejaVuSans-50\"/>\r\n       <use x=\"63.623047\" xlink:href=\"#DejaVuSans-48\"/>\r\n      </g>\r\n     </g>\r\n    </g>\r\n    <g id=\"xtick_6\">\r\n     <g id=\"line2d_6\">\r\n      <g>\r\n       <use style=\"stroke:#000000;stroke-width:0.8;\" x=\"191.31361\" xlink:href=\"#md19fa8c46b\" y=\"224.64\"/>\r\n      </g>\r\n     </g>\r\n     <g id=\"text_6\">\r\n      <!-- 25 -->\r\n      <g transform=\"translate(184.95111 239.238437)scale(0.1 -0.1)\">\r\n       <use xlink:href=\"#DejaVuSans-50\"/>\r\n       <use x=\"63.623047\" xlink:href=\"#DejaVuSans-53\"/>\r\n      </g>\r\n     </g>\r\n    </g>\r\n    <g id=\"xtick_7\">\r\n     <g id=\"line2d_7\">\r\n      <g>\r\n       <use style=\"stroke:#000000;stroke-width:0.8;\" x=\"217.54375\" xlink:href=\"#md19fa8c46b\" y=\"224.64\"/>\r\n      </g>\r\n     </g>\r\n     <g id=\"text_7\">\r\n      <!-- 30 -->\r\n      <defs>\r\n       <path d=\"M 40.578125 39.3125 \r\nQ 47.65625 37.796875 51.625 33 \r\nQ 55.609375 28.21875 55.609375 21.1875 \r\nQ 55.609375 10.40625 48.1875 4.484375 \r\nQ 40.765625 -1.421875 27.09375 -1.421875 \r\nQ 22.515625 -1.421875 17.65625 -0.515625 \r\nQ 12.796875 0.390625 7.625 2.203125 \r\nL 7.625 11.71875 \r\nQ 11.71875 9.328125 16.59375 8.109375 \r\nQ 21.484375 6.890625 26.8125 6.890625 \r\nQ 36.078125 6.890625 40.9375 10.546875 \r\nQ 45.796875 14.203125 45.796875 21.1875 \r\nQ 45.796875 27.640625 41.28125 31.265625 \r\nQ 36.765625 34.90625 28.71875 34.90625 \r\nL 20.21875 34.90625 \r\nL 20.21875 43.015625 \r\nL 29.109375 43.015625 \r\nQ 36.375 43.015625 40.234375 45.921875 \r\nQ 44.09375 48.828125 44.09375 54.296875 \r\nQ 44.09375 59.90625 40.109375 62.90625 \r\nQ 36.140625 65.921875 28.71875 65.921875 \r\nQ 24.65625 65.921875 20.015625 65.03125 \r\nQ 15.375 64.15625 9.8125 62.3125 \r\nL 9.8125 71.09375 \r\nQ 15.4375 72.65625 20.34375 73.4375 \r\nQ 25.25 74.21875 29.59375 74.21875 \r\nQ 40.828125 74.21875 47.359375 69.109375 \r\nQ 53.90625 64.015625 53.90625 55.328125 \r\nQ 53.90625 49.265625 50.4375 45.09375 \r\nQ 46.96875 40.921875 40.578125 39.3125 \r\nz\r\n\" id=\"DejaVuSans-51\"/>\r\n      </defs>\r\n      <g transform=\"translate(211.18125 239.238437)scale(0.1 -0.1)\">\r\n       <use xlink:href=\"#DejaVuSans-51\"/>\r\n       <use x=\"63.623047\" xlink:href=\"#DejaVuSans-48\"/>\r\n      </g>\r\n     </g>\r\n    </g>\r\n    <g id=\"xtick_8\">\r\n     <g id=\"line2d_8\">\r\n      <g>\r\n       <use style=\"stroke:#000000;stroke-width:0.8;\" x=\"243.77389\" xlink:href=\"#md19fa8c46b\" y=\"224.64\"/>\r\n      </g>\r\n     </g>\r\n     <g id=\"text_8\">\r\n      <!-- 35 -->\r\n      <g transform=\"translate(237.41139 239.238437)scale(0.1 -0.1)\">\r\n       <use xlink:href=\"#DejaVuSans-51\"/>\r\n       <use x=\"63.623047\" xlink:href=\"#DejaVuSans-53\"/>\r\n      </g>\r\n     </g>\r\n    </g>\r\n    <g id=\"xtick_9\">\r\n     <g id=\"line2d_9\">\r\n      <g>\r\n       <use style=\"stroke:#000000;stroke-width:0.8;\" x=\"270.00403\" xlink:href=\"#md19fa8c46b\" y=\"224.64\"/>\r\n      </g>\r\n     </g>\r\n     <g id=\"text_9\">\r\n      <!-- 40 -->\r\n      <defs>\r\n       <path d=\"M 37.796875 64.3125 \r\nL 12.890625 25.390625 \r\nL 37.796875 25.390625 \r\nz\r\nM 35.203125 72.90625 \r\nL 47.609375 72.90625 \r\nL 47.609375 25.390625 \r\nL 58.015625 25.390625 \r\nL 58.015625 17.1875 \r\nL 47.609375 17.1875 \r\nL 47.609375 0 \r\nL 37.796875 0 \r\nL 37.796875 17.1875 \r\nL 4.890625 17.1875 \r\nL 4.890625 26.703125 \r\nz\r\n\" id=\"DejaVuSans-52\"/>\r\n      </defs>\r\n      <g transform=\"translate(263.64153 239.238437)scale(0.1 -0.1)\">\r\n       <use xlink:href=\"#DejaVuSans-52\"/>\r\n       <use x=\"63.623047\" xlink:href=\"#DejaVuSans-48\"/>\r\n      </g>\r\n     </g>\r\n    </g>\r\n    <g id=\"xtick_10\">\r\n     <g id=\"line2d_10\">\r\n      <g>\r\n       <use style=\"stroke:#000000;stroke-width:0.8;\" x=\"296.234169\" xlink:href=\"#md19fa8c46b\" y=\"224.64\"/>\r\n      </g>\r\n     </g>\r\n     <g id=\"text_10\">\r\n      <!-- 45 -->\r\n      <g transform=\"translate(289.871669 239.238437)scale(0.1 -0.1)\">\r\n       <use xlink:href=\"#DejaVuSans-52\"/>\r\n       <use x=\"63.623047\" xlink:href=\"#DejaVuSans-53\"/>\r\n      </g>\r\n     </g>\r\n    </g>\r\n    <g id=\"xtick_11\">\r\n     <g id=\"line2d_11\">\r\n      <g>\r\n       <use style=\"stroke:#000000;stroke-width:0.8;\" x=\"322.464309\" xlink:href=\"#md19fa8c46b\" y=\"224.64\"/>\r\n      </g>\r\n     </g>\r\n     <g id=\"text_11\">\r\n      <!-- 50 -->\r\n      <g transform=\"translate(316.101809 239.238437)scale(0.1 -0.1)\">\r\n       <use xlink:href=\"#DejaVuSans-53\"/>\r\n       <use x=\"63.623047\" xlink:href=\"#DejaVuSans-48\"/>\r\n      </g>\r\n     </g>\r\n    </g>\r\n    <g id=\"xtick_12\">\r\n     <g id=\"line2d_12\">\r\n      <g>\r\n       <use style=\"stroke:#000000;stroke-width:0.8;\" x=\"348.694449\" xlink:href=\"#md19fa8c46b\" y=\"224.64\"/>\r\n      </g>\r\n     </g>\r\n     <g id=\"text_12\">\r\n      <!-- 55 -->\r\n      <g transform=\"translate(342.331949 239.238437)scale(0.1 -0.1)\">\r\n       <use xlink:href=\"#DejaVuSans-53\"/>\r\n       <use x=\"63.623047\" xlink:href=\"#DejaVuSans-53\"/>\r\n      </g>\r\n     </g>\r\n    </g>\r\n    <g id=\"xtick_13\">\r\n     <g id=\"line2d_13\">\r\n      <g>\r\n       <use style=\"stroke:#000000;stroke-width:0.8;\" x=\"374.924589\" xlink:href=\"#md19fa8c46b\" y=\"224.64\"/>\r\n      </g>\r\n     </g>\r\n     <g id=\"text_13\">\r\n      <!-- 60 -->\r\n      <defs>\r\n       <path d=\"M 33.015625 40.375 \r\nQ 26.375 40.375 22.484375 35.828125 \r\nQ 18.609375 31.296875 18.609375 23.390625 \r\nQ 18.609375 15.53125 22.484375 10.953125 \r\nQ 26.375 6.390625 33.015625 6.390625 \r\nQ 39.65625 6.390625 43.53125 10.953125 \r\nQ 47.40625 15.53125 47.40625 23.390625 \r\nQ 47.40625 31.296875 43.53125 35.828125 \r\nQ 39.65625 40.375 33.015625 40.375 \r\nz\r\nM 52.59375 71.296875 \r\nL 52.59375 62.3125 \r\nQ 48.875 64.0625 45.09375 64.984375 \r\nQ 41.3125 65.921875 37.59375 65.921875 \r\nQ 27.828125 65.921875 22.671875 59.328125 \r\nQ 17.53125 52.734375 16.796875 39.40625 \r\nQ 19.671875 43.65625 24.015625 45.921875 \r\nQ 28.375 48.1875 33.59375 48.1875 \r\nQ 44.578125 48.1875 50.953125 41.515625 \r\nQ 57.328125 34.859375 57.328125 23.390625 \r\nQ 57.328125 12.15625 50.6875 5.359375 \r\nQ 44.046875 -1.421875 33.015625 -1.421875 \r\nQ 20.359375 -1.421875 13.671875 8.265625 \r\nQ 6.984375 17.96875 6.984375 36.375 \r\nQ 6.984375 53.65625 15.1875 63.9375 \r\nQ 23.390625 74.21875 37.203125 74.21875 \r\nQ 40.921875 74.21875 44.703125 73.484375 \r\nQ 48.484375 72.75 52.59375 71.296875 \r\nz\r\n\" id=\"DejaVuSans-54\"/>\r\n      </defs>\r\n      <g transform=\"translate(368.562089 239.238437)scale(0.1 -0.1)\">\r\n       <use xlink:href=\"#DejaVuSans-54\"/>\r\n       <use x=\"63.623047\" xlink:href=\"#DejaVuSans-48\"/>\r\n      </g>\r\n     </g>\r\n    </g>\r\n    <g id=\"text_14\">\r\n     <!-- k -->\r\n     <defs>\r\n      <path d=\"M 9.078125 75.984375 \r\nL 18.109375 75.984375 \r\nL 18.109375 31.109375 \r\nL 44.921875 54.6875 \r\nL 56.390625 54.6875 \r\nL 27.390625 29.109375 \r\nL 57.625 0 \r\nL 45.90625 0 \r\nL 18.109375 26.703125 \r\nL 18.109375 0 \r\nL 9.078125 0 \r\nz\r\n\" id=\"DejaVuSans-107\"/>\r\n     </defs>\r\n     <g transform=\"translate(214.648438 252.916562)scale(0.1 -0.1)\">\r\n      <use xlink:href=\"#DejaVuSans-107\"/>\r\n     </g>\r\n    </g>\r\n   </g>\r\n   <g id=\"matplotlib.axis_2\">\r\n    <g id=\"ytick_1\">\r\n     <g id=\"line2d_14\">\r\n      <defs>\r\n       <path d=\"M 0 0 \r\nL -3.5 0 \r\n\" id=\"mfa07ddd0ce\" style=\"stroke:#000000;stroke-width:0.8;\"/>\r\n      </defs>\r\n      <g>\r\n       <use style=\"stroke:#000000;stroke-width:0.8;\" x=\"50.14375\" xlink:href=\"#mfa07ddd0ce\" y=\"197.541975\"/>\r\n      </g>\r\n     </g>\r\n     <g id=\"text_15\">\r\n      <!-- 0.40 -->\r\n      <defs>\r\n       <path d=\"M 10.6875 12.40625 \r\nL 21 12.40625 \r\nL 21 0 \r\nL 10.6875 0 \r\nz\r\n\" id=\"DejaVuSans-46\"/>\r\n      </defs>\r\n      <g transform=\"translate(20.878125 201.341193)scale(0.1 -0.1)\">\r\n       <use xlink:href=\"#DejaVuSans-48\"/>\r\n       <use x=\"63.623047\" xlink:href=\"#DejaVuSans-46\"/>\r\n       <use x=\"95.410156\" xlink:href=\"#DejaVuSans-52\"/>\r\n       <use x=\"159.033203\" xlink:href=\"#DejaVuSans-48\"/>\r\n      </g>\r\n     </g>\r\n    </g>\r\n    <g id=\"ytick_2\">\r\n     <g id=\"line2d_15\">\r\n      <g>\r\n       <use style=\"stroke:#000000;stroke-width:0.8;\" x=\"50.14375\" xlink:href=\"#mfa07ddd0ce\" y=\"157.862209\"/>\r\n      </g>\r\n     </g>\r\n     <g id=\"text_16\">\r\n      <!-- 0.45 -->\r\n      <g transform=\"translate(20.878125 161.661427)scale(0.1 -0.1)\">\r\n       <use xlink:href=\"#DejaVuSans-48\"/>\r\n       <use x=\"63.623047\" xlink:href=\"#DejaVuSans-46\"/>\r\n       <use x=\"95.410156\" xlink:href=\"#DejaVuSans-52\"/>\r\n       <use x=\"159.033203\" xlink:href=\"#DejaVuSans-53\"/>\r\n      </g>\r\n     </g>\r\n    </g>\r\n    <g id=\"ytick_3\">\r\n     <g id=\"line2d_16\">\r\n      <g>\r\n       <use style=\"stroke:#000000;stroke-width:0.8;\" x=\"50.14375\" xlink:href=\"#mfa07ddd0ce\" y=\"118.182443\"/>\r\n      </g>\r\n     </g>\r\n     <g id=\"text_17\">\r\n      <!-- 0.50 -->\r\n      <g transform=\"translate(20.878125 121.981662)scale(0.1 -0.1)\">\r\n       <use xlink:href=\"#DejaVuSans-48\"/>\r\n       <use x=\"63.623047\" xlink:href=\"#DejaVuSans-46\"/>\r\n       <use x=\"95.410156\" xlink:href=\"#DejaVuSans-53\"/>\r\n       <use x=\"159.033203\" xlink:href=\"#DejaVuSans-48\"/>\r\n      </g>\r\n     </g>\r\n    </g>\r\n    <g id=\"ytick_4\">\r\n     <g id=\"line2d_17\">\r\n      <g>\r\n       <use style=\"stroke:#000000;stroke-width:0.8;\" x=\"50.14375\" xlink:href=\"#mfa07ddd0ce\" y=\"78.502677\"/>\r\n      </g>\r\n     </g>\r\n     <g id=\"text_18\">\r\n      <!-- 0.55 -->\r\n      <g transform=\"translate(20.878125 82.301896)scale(0.1 -0.1)\">\r\n       <use xlink:href=\"#DejaVuSans-48\"/>\r\n       <use x=\"63.623047\" xlink:href=\"#DejaVuSans-46\"/>\r\n       <use x=\"95.410156\" xlink:href=\"#DejaVuSans-53\"/>\r\n       <use x=\"159.033203\" xlink:href=\"#DejaVuSans-53\"/>\r\n      </g>\r\n     </g>\r\n    </g>\r\n    <g id=\"ytick_5\">\r\n     <g id=\"line2d_18\">\r\n      <g>\r\n       <use style=\"stroke:#000000;stroke-width:0.8;\" x=\"50.14375\" xlink:href=\"#mfa07ddd0ce\" y=\"38.822911\"/>\r\n      </g>\r\n     </g>\r\n     <g id=\"text_19\">\r\n      <!-- 0.60 -->\r\n      <g transform=\"translate(20.878125 42.62213)scale(0.1 -0.1)\">\r\n       <use xlink:href=\"#DejaVuSans-48\"/>\r\n       <use x=\"63.623047\" xlink:href=\"#DejaVuSans-46\"/>\r\n       <use x=\"95.410156\" xlink:href=\"#DejaVuSans-54\"/>\r\n       <use x=\"159.033203\" xlink:href=\"#DejaVuSans-48\"/>\r\n      </g>\r\n     </g>\r\n    </g>\r\n    <g id=\"text_20\">\r\n     <!-- Accuracy -->\r\n     <defs>\r\n      <path d=\"M 34.1875 63.1875 \r\nL 20.796875 26.90625 \r\nL 47.609375 26.90625 \r\nz\r\nM 28.609375 72.90625 \r\nL 39.796875 72.90625 \r\nL 67.578125 0 \r\nL 57.328125 0 \r\nL 50.6875 18.703125 \r\nL 17.828125 18.703125 \r\nL 11.1875 0 \r\nL 0.78125 0 \r\nz\r\n\" id=\"DejaVuSans-65\"/>\r\n      <path d=\"M 48.78125 52.59375 \r\nL 48.78125 44.1875 \r\nQ 44.96875 46.296875 41.140625 47.34375 \r\nQ 37.3125 48.390625 33.40625 48.390625 \r\nQ 24.65625 48.390625 19.8125 42.84375 \r\nQ 14.984375 37.3125 14.984375 27.296875 \r\nQ 14.984375 17.28125 19.8125 11.734375 \r\nQ 24.65625 6.203125 33.40625 6.203125 \r\nQ 37.3125 6.203125 41.140625 7.25 \r\nQ 44.96875 8.296875 48.78125 10.40625 \r\nL 48.78125 2.09375 \r\nQ 45.015625 0.34375 40.984375 -0.53125 \r\nQ 36.96875 -1.421875 32.421875 -1.421875 \r\nQ 20.0625 -1.421875 12.78125 6.34375 \r\nQ 5.515625 14.109375 5.515625 27.296875 \r\nQ 5.515625 40.671875 12.859375 48.328125 \r\nQ 20.21875 56 33.015625 56 \r\nQ 37.15625 56 41.109375 55.140625 \r\nQ 45.0625 54.296875 48.78125 52.59375 \r\nz\r\n\" id=\"DejaVuSans-99\"/>\r\n      <path d=\"M 8.5 21.578125 \r\nL 8.5 54.6875 \r\nL 17.484375 54.6875 \r\nL 17.484375 21.921875 \r\nQ 17.484375 14.15625 20.5 10.265625 \r\nQ 23.53125 6.390625 29.59375 6.390625 \r\nQ 36.859375 6.390625 41.078125 11.03125 \r\nQ 45.3125 15.671875 45.3125 23.6875 \r\nL 45.3125 54.6875 \r\nL 54.296875 54.6875 \r\nL 54.296875 0 \r\nL 45.3125 0 \r\nL 45.3125 8.40625 \r\nQ 42.046875 3.421875 37.71875 1 \r\nQ 33.40625 -1.421875 27.6875 -1.421875 \r\nQ 18.265625 -1.421875 13.375 4.4375 \r\nQ 8.5 10.296875 8.5 21.578125 \r\nz\r\nM 31.109375 56 \r\nz\r\n\" id=\"DejaVuSans-117\"/>\r\n      <path d=\"M 41.109375 46.296875 \r\nQ 39.59375 47.171875 37.8125 47.578125 \r\nQ 36.03125 48 33.890625 48 \r\nQ 26.265625 48 22.1875 43.046875 \r\nQ 18.109375 38.09375 18.109375 28.8125 \r\nL 18.109375 0 \r\nL 9.078125 0 \r\nL 9.078125 54.6875 \r\nL 18.109375 54.6875 \r\nL 18.109375 46.1875 \r\nQ 20.953125 51.171875 25.484375 53.578125 \r\nQ 30.03125 56 36.53125 56 \r\nQ 37.453125 56 38.578125 55.875 \r\nQ 39.703125 55.765625 41.0625 55.515625 \r\nz\r\n\" id=\"DejaVuSans-114\"/>\r\n      <path d=\"M 34.28125 27.484375 \r\nQ 23.390625 27.484375 19.1875 25 \r\nQ 14.984375 22.515625 14.984375 16.5 \r\nQ 14.984375 11.71875 18.140625 8.90625 \r\nQ 21.296875 6.109375 26.703125 6.109375 \r\nQ 34.1875 6.109375 38.703125 11.40625 \r\nQ 43.21875 16.703125 43.21875 25.484375 \r\nL 43.21875 27.484375 \r\nz\r\nM 52.203125 31.203125 \r\nL 52.203125 0 \r\nL 43.21875 0 \r\nL 43.21875 8.296875 \r\nQ 40.140625 3.328125 35.546875 0.953125 \r\nQ 30.953125 -1.421875 24.3125 -1.421875 \r\nQ 15.921875 -1.421875 10.953125 3.296875 \r\nQ 6 8.015625 6 15.921875 \r\nQ 6 25.140625 12.171875 29.828125 \r\nQ 18.359375 34.515625 30.609375 34.515625 \r\nL 43.21875 34.515625 \r\nL 43.21875 35.40625 \r\nQ 43.21875 41.609375 39.140625 45 \r\nQ 35.0625 48.390625 27.6875 48.390625 \r\nQ 23 48.390625 18.546875 47.265625 \r\nQ 14.109375 46.140625 10.015625 43.890625 \r\nL 10.015625 52.203125 \r\nQ 14.9375 54.109375 19.578125 55.046875 \r\nQ 24.21875 56 28.609375 56 \r\nQ 40.484375 56 46.34375 49.84375 \r\nQ 52.203125 43.703125 52.203125 31.203125 \r\nz\r\n\" id=\"DejaVuSans-97\"/>\r\n      <path d=\"M 32.171875 -5.078125 \r\nQ 28.375 -14.84375 24.75 -17.8125 \r\nQ 21.140625 -20.796875 15.09375 -20.796875 \r\nL 7.90625 -20.796875 \r\nL 7.90625 -13.28125 \r\nL 13.1875 -13.28125 \r\nQ 16.890625 -13.28125 18.9375 -11.515625 \r\nQ 21 -9.765625 23.484375 -3.21875 \r\nL 25.09375 0.875 \r\nL 2.984375 54.6875 \r\nL 12.5 54.6875 \r\nL 29.59375 11.921875 \r\nL 46.6875 54.6875 \r\nL 56.203125 54.6875 \r\nz\r\n\" id=\"DejaVuSans-121\"/>\r\n     </defs>\r\n     <g transform=\"translate(14.798438 138.834844)rotate(-90)scale(0.1 -0.1)\">\r\n      <use xlink:href=\"#DejaVuSans-65\"/>\r\n      <use x=\"68.392578\" xlink:href=\"#DejaVuSans-99\"/>\r\n      <use x=\"123.373047\" xlink:href=\"#DejaVuSans-99\"/>\r\n      <use x=\"178.353516\" xlink:href=\"#DejaVuSans-117\"/>\r\n      <use x=\"241.732422\" xlink:href=\"#DejaVuSans-114\"/>\r\n      <use x=\"282.845703\" xlink:href=\"#DejaVuSans-97\"/>\r\n      <use x=\"344.125\" xlink:href=\"#DejaVuSans-99\"/>\r\n      <use x=\"399.105469\" xlink:href=\"#DejaVuSans-121\"/>\r\n     </g>\r\n    </g>\r\n   </g>\r\n   <g id=\"patch_3\">\r\n    <path d=\"M 50.14375 224.64 \r\nL 50.14375 7.2 \r\n\" style=\"fill:none;stroke:#000000;stroke-linecap:square;stroke-linejoin:miter;stroke-width:0.8;\"/>\r\n   </g>\r\n   <g id=\"patch_4\">\r\n    <path d=\"M 384.94375 224.64 \r\nL 384.94375 7.2 \r\n\" style=\"fill:none;stroke:#000000;stroke-linecap:square;stroke-linejoin:miter;stroke-width:0.8;\"/>\r\n   </g>\r\n   <g id=\"patch_5\">\r\n    <path d=\"M 50.14375 224.64 \r\nL 384.94375 224.64 \r\n\" style=\"fill:none;stroke:#000000;stroke-linecap:square;stroke-linejoin:miter;stroke-width:0.8;\"/>\r\n   </g>\r\n   <g id=\"patch_6\">\r\n    <path d=\"M 50.14375 7.2 \r\nL 384.94375 7.2 \r\n\" style=\"fill:none;stroke:#000000;stroke-linecap:square;stroke-linejoin:miter;stroke-width:0.8;\"/>\r\n   </g>\r\n  </g>\r\n </g>\r\n <defs>\r\n  <clipPath id=\"pcec3738fa1\">\r\n   <rect height=\"217.44\" width=\"334.8\" x=\"50.14375\" y=\"7.2\"/>\r\n  </clipPath>\r\n </defs>\r\n</svg>\r\n",
      "image/png": "[encoded data removed]"
     },
     "metadata": {
      "needs_background": "light"
     }
    }
   ],
   "source": [
    "from sklearn.neighbors import KNeighborsClassifier\n",
    "\n",
    "X_train, X_test, y_train, y_test = train_test_split(X, y, random_state=0)\n",
    "\n",
    "k_range = range(1,60)\n",
    "scores = []\n",
    "\n",
    "for k in k_range:\n",
    "    knn = KNeighborsClassifier(n_neighbors = k)\n",
    "    knn.fit(X_train, y_train)\n",
    "    scores.append(knn.score(X_test, y_test))\n",
    "\n",
    "%matplotlib inline\n",
    "plt.figure()\n",
    "plt.xlabel('k')\n",
    "plt.ylabel('Accuracy')\n",
    "plt.scatter(k_range, scores)\n",
    "plt.xticks(range(0,65,5))"
   ]
  },
  {
   "source": [
    "## Com padronização dos valores"
   ],
   "cell_type": "markdown",
   "metadata": {}
  },
  {
   "cell_type": "code",
   "execution_count": 227,
   "metadata": {},
   "outputs": [
    {
     "output_type": "execute_result",
     "data": {
      "text/plain": "([<matplotlib.axis.XTick at 0x1ea95ee8700>,\n  <matplotlib.axis.XTick at 0x1ea95ee8250>,\n  <matplotlib.axis.XTick at 0x1ea9460e340>,\n  <matplotlib.axis.XTick at 0x1ea96101a90>,\n  <matplotlib.axis.XTick at 0x1ea95032400>,\n  <matplotlib.axis.XTick at 0x1ea95032b20>,\n  <matplotlib.axis.XTick at 0x1ea877b8cd0>,\n  <matplotlib.axis.XTick at 0x1ea926250a0>,\n  <matplotlib.axis.XTick at 0x1ea94c42610>,\n  <matplotlib.axis.XTick at 0x1ea9850af10>,\n  <matplotlib.axis.XTick at 0x1ea931aac40>,\n  <matplotlib.axis.XTick at 0x1ea86f6cdf0>,\n  <matplotlib.axis.XTick at 0x1ea9850a3a0>],\n <a list of 13 Text xticklabel objects>)"
     },
     "metadata": {},
     "execution_count": 227
    },
    {
     "output_type": "display_data",
     "data": {
      "text/plain": "<Figure size 432x288 with 1 Axes>",
      "image/svg+xml": "<?xml version=\"1.0\" encoding=\"utf-8\" standalone=\"no\"?>\r\n<!DOCTYPE svg PUBLIC \"-//W3C//DTD SVG 1.1//EN\"\r\n  \"http://www.w3.org/Graphics/SVG/1.1/DTD/svg11.dtd\">\r\n<!-- Created with matplotlib (https://matplotlib.org/) -->\r\n<svg height=\"262.19625pt\" version=\"1.1\" viewBox=\"0 0 392.14375 262.19625\" width=\"392.14375pt\" xmlns=\"http://www.w3.org/2000/svg\" xmlns:xlink=\"http://www.w3.org/1999/xlink\">\r\n <defs>\r\n  <style type=\"text/css\">\r\n*{stroke-linecap:butt;stroke-linejoin:round;}\r\n  </style>\r\n </defs>\r\n <g id=\"figure_1\">\r\n  <g id=\"patch_1\">\r\n   <path d=\"M 0 262.19625 \r\nL 392.14375 262.19625 \r\nL 392.14375 0 \r\nL 0 0 \r\nz\r\n\" style=\"fill:none;\"/>\r\n  </g>\r\n  <g id=\"axes_1\">\r\n   <g id=\"patch_2\">\r\n    <path d=\"M 50.14375 224.64 \r\nL 384.94375 224.64 \r\nL 384.94375 7.2 \r\nL 50.14375 7.2 \r\nz\r\n\" style=\"fill:#ffffff;\"/>\r\n   </g>\r\n   <g id=\"PathCollection_1\">\r\n    <defs>\r\n     <path d=\"M 0 3 \r\nC 0.795609 3 1.55874 2.683901 2.12132 2.12132 \r\nC 2.683901 1.55874 3 0.795609 3 0 \r\nC 3 -0.795609 2.683901 -1.55874 2.12132 -2.12132 \r\nC 1.55874 -2.683901 0.795609 -3 0 -3 \r\nC -0.795609 -3 -1.55874 -2.683901 -2.12132 -2.12132 \r\nC -2.683901 -1.55874 -3 -0.795609 -3 0 \r\nC -3 0.795609 -2.683901 1.55874 -2.12132 2.12132 \r\nC -1.55874 2.683901 -0.795609 3 0 3 \r\nz\r\n\" id=\"m50a8e5fb7e\" style=\"stroke:#1f77b4;\"/>\r\n    </defs>\r\n    <g clip-path=\"url(#pd5e4d44215)\">\r\n     <use style=\"fill:#1f77b4;stroke:#1f77b4;\" x=\"65.408939\" xlink:href=\"#m50a8e5fb7e\" y=\"124.559649\"/>\r\n     <use style=\"fill:#1f77b4;stroke:#1f77b4;\" x=\"70.654967\" xlink:href=\"#m50a8e5fb7e\" y=\"202.115571\"/>\r\n     <use style=\"fill:#1f77b4;stroke:#1f77b4;\" x=\"75.900995\" xlink:href=\"#m50a8e5fb7e\" y=\"109.289571\"/>\r\n     <use style=\"fill:#1f77b4;stroke:#1f77b4;\" x=\"81.147023\" xlink:href=\"#m50a8e5fb7e\" y=\"110.09326\"/>\r\n     <use style=\"fill:#1f77b4;stroke:#1f77b4;\" x=\"86.393051\" xlink:href=\"#m50a8e5fb7e\" y=\"96.430559\"/>\r\n     <use style=\"fill:#1f77b4;stroke:#1f77b4;\" x=\"91.639079\" xlink:href=\"#m50a8e5fb7e\" y=\"90.80474\"/>\r\n     <use style=\"fill:#1f77b4;stroke:#1f77b4;\" x=\"96.885107\" xlink:href=\"#m50a8e5fb7e\" y=\"66.694091\"/>\r\n     <use style=\"fill:#1f77b4;stroke:#1f77b4;\" x=\"102.131135\" xlink:href=\"#m50a8e5fb7e\" y=\"71.114377\"/>\r\n     <use style=\"fill:#1f77b4;stroke:#1f77b4;\" x=\"107.377163\" xlink:href=\"#m50a8e5fb7e\" y=\"66.694091\"/>\r\n     <use style=\"fill:#1f77b4;stroke:#1f77b4;\" x=\"112.623191\" xlink:href=\"#m50a8e5fb7e\" y=\"59.862741\"/>\r\n     <use style=\"fill:#1f77b4;stroke:#1f77b4;\" x=\"117.869219\" xlink:href=\"#m50a8e5fb7e\" y=\"64.684871\"/>\r\n     <use style=\"fill:#1f77b4;stroke:#1f77b4;\" x=\"123.115247\" xlink:href=\"#m50a8e5fb7e\" y=\"58.657208\"/>\r\n     <use style=\"fill:#1f77b4;stroke:#1f77b4;\" x=\"128.361275\" xlink:href=\"#m50a8e5fb7e\" y=\"61.871961\"/>\r\n     <use style=\"fill:#1f77b4;stroke:#1f77b4;\" x=\"133.607303\" xlink:href=\"#m50a8e5fb7e\" y=\"57.451676\"/>\r\n     <use style=\"fill:#1f77b4;stroke:#1f77b4;\" x=\"138.853331\" xlink:href=\"#m50a8e5fb7e\" y=\"55.442455\"/>\r\n     <use style=\"fill:#1f77b4;stroke:#1f77b4;\" x=\"144.099359\" xlink:href=\"#m50a8e5fb7e\" y=\"52.629546\"/>\r\n     <use style=\"fill:#1f77b4;stroke:#1f77b4;\" x=\"149.345387\" xlink:href=\"#m50a8e5fb7e\" y=\"54.638767\"/>\r\n     <use style=\"fill:#1f77b4;stroke:#1f77b4;\" x=\"154.591415\" xlink:href=\"#m50a8e5fb7e\" y=\"51.424013\"/>\r\n     <use style=\"fill:#1f77b4;stroke:#1f77b4;\" x=\"159.837442\" xlink:href=\"#m50a8e5fb7e\" y=\"46.20004\"/>\r\n     <use style=\"fill:#1f77b4;stroke:#1f77b4;\" x=\"165.08347\" xlink:href=\"#m50a8e5fb7e\" y=\"45.798195\"/>\r\n     <use style=\"fill:#1f77b4;stroke:#1f77b4;\" x=\"170.329498\" xlink:href=\"#m50a8e5fb7e\" y=\"49.414793\"/>\r\n     <use style=\"fill:#1f77b4;stroke:#1f77b4;\" x=\"175.575526\" xlink:href=\"#m50a8e5fb7e\" y=\"45.396351\"/>\r\n     <use style=\"fill:#1f77b4;stroke:#1f77b4;\" x=\"180.821554\" xlink:href=\"#m50a8e5fb7e\" y=\"43.38713\"/>\r\n     <use style=\"fill:#1f77b4;stroke:#1f77b4;\" x=\"186.067582\" xlink:href=\"#m50a8e5fb7e\" y=\"41.779754\"/>\r\n     <use style=\"fill:#1f77b4;stroke:#1f77b4;\" x=\"191.31361\" xlink:href=\"#m50a8e5fb7e\" y=\"39.770533\"/>\r\n     <use style=\"fill:#1f77b4;stroke:#1f77b4;\" x=\"196.559638\" xlink:href=\"#m50a8e5fb7e\" y=\"44.592663\"/>\r\n     <use style=\"fill:#1f77b4;stroke:#1f77b4;\" x=\"201.805666\" xlink:href=\"#m50a8e5fb7e\" y=\"33.341027\"/>\r\n     <use style=\"fill:#1f77b4;stroke:#1f77b4;\" x=\"207.051694\" xlink:href=\"#m50a8e5fb7e\" y=\"33.742871\"/>\r\n     <use style=\"fill:#1f77b4;stroke:#1f77b4;\" x=\"212.297722\" xlink:href=\"#m50a8e5fb7e\" y=\"37.359468\"/>\r\n     <use style=\"fill:#1f77b4;stroke:#1f77b4;\" x=\"217.54375\" xlink:href=\"#m50a8e5fb7e\" y=\"38.966845\"/>\r\n     <use style=\"fill:#1f77b4;stroke:#1f77b4;\" x=\"222.789778\" xlink:href=\"#m50a8e5fb7e\" y=\"36.957624\"/>\r\n     <use style=\"fill:#1f77b4;stroke:#1f77b4;\" x=\"228.035806\" xlink:href=\"#m50a8e5fb7e\" y=\"41.37791\"/>\r\n     <use style=\"fill:#1f77b4;stroke:#1f77b4;\" x=\"233.281834\" xlink:href=\"#m50a8e5fb7e\" y=\"34.948403\"/>\r\n     <use style=\"fill:#1f77b4;stroke:#1f77b4;\" x=\"238.527862\" xlink:href=\"#m50a8e5fb7e\" y=\"40.976066\"/>\r\n     <use style=\"fill:#1f77b4;stroke:#1f77b4;\" x=\"243.77389\" xlink:href=\"#m50a8e5fb7e\" y=\"36.957624\"/>\r\n     <use style=\"fill:#1f77b4;stroke:#1f77b4;\" x=\"249.019918\" xlink:href=\"#m50a8e5fb7e\" y=\"38.966845\"/>\r\n     <use style=\"fill:#1f77b4;stroke:#1f77b4;\" x=\"254.265946\" xlink:href=\"#m50a8e5fb7e\" y=\"35.752092\"/>\r\n     <use style=\"fill:#1f77b4;stroke:#1f77b4;\" x=\"259.511974\" xlink:href=\"#m50a8e5fb7e\" y=\"38.163156\"/>\r\n     <use style=\"fill:#1f77b4;stroke:#1f77b4;\" x=\"264.758002\" xlink:href=\"#m50a8e5fb7e\" y=\"38.966845\"/>\r\n     <use style=\"fill:#1f77b4;stroke:#1f77b4;\" x=\"270.00403\" xlink:href=\"#m50a8e5fb7e\" y=\"40.976066\"/>\r\n     <use style=\"fill:#1f77b4;stroke:#1f77b4;\" x=\"275.250058\" xlink:href=\"#m50a8e5fb7e\" y=\"37.761312\"/>\r\n     <use style=\"fill:#1f77b4;stroke:#1f77b4;\" x=\"280.496085\" xlink:href=\"#m50a8e5fb7e\" y=\"36.957624\"/>\r\n     <use style=\"fill:#1f77b4;stroke:#1f77b4;\" x=\"285.742113\" xlink:href=\"#m50a8e5fb7e\" y=\"37.359468\"/>\r\n     <use style=\"fill:#1f77b4;stroke:#1f77b4;\" x=\"290.988141\" xlink:href=\"#m50a8e5fb7e\" y=\"38.163156\"/>\r\n     <use style=\"fill:#1f77b4;stroke:#1f77b4;\" x=\"296.234169\" xlink:href=\"#m50a8e5fb7e\" y=\"38.163156\"/>\r\n     <use style=\"fill:#1f77b4;stroke:#1f77b4;\" x=\"301.480197\" xlink:href=\"#m50a8e5fb7e\" y=\"34.546559\"/>\r\n     <use style=\"fill:#1f77b4;stroke:#1f77b4;\" x=\"306.726225\" xlink:href=\"#m50a8e5fb7e\" y=\"36.153936\"/>\r\n     <use style=\"fill:#1f77b4;stroke:#1f77b4;\" x=\"311.972253\" xlink:href=\"#m50a8e5fb7e\" y=\"32.135494\"/>\r\n     <use style=\"fill:#1f77b4;stroke:#1f77b4;\" x=\"317.218281\" xlink:href=\"#m50a8e5fb7e\" y=\"34.546559\"/>\r\n     <use style=\"fill:#1f77b4;stroke:#1f77b4;\" x=\"322.464309\" xlink:href=\"#m50a8e5fb7e\" y=\"32.939182\"/>\r\n     <use style=\"fill:#1f77b4;stroke:#1f77b4;\" x=\"327.710337\" xlink:href=\"#m50a8e5fb7e\" y=\"33.742871\"/>\r\n     <use style=\"fill:#1f77b4;stroke:#1f77b4;\" x=\"332.956365\" xlink:href=\"#m50a8e5fb7e\" y=\"31.331806\"/>\r\n     <use style=\"fill:#1f77b4;stroke:#1f77b4;\" x=\"338.202393\" xlink:href=\"#m50a8e5fb7e\" y=\"29.724429\"/>\r\n     <use style=\"fill:#1f77b4;stroke:#1f77b4;\" x=\"343.448421\" xlink:href=\"#m50a8e5fb7e\" y=\"32.135494\"/>\r\n     <use style=\"fill:#1f77b4;stroke:#1f77b4;\" x=\"348.694449\" xlink:href=\"#m50a8e5fb7e\" y=\"30.528118\"/>\r\n     <use style=\"fill:#1f77b4;stroke:#1f77b4;\" x=\"353.940477\" xlink:href=\"#m50a8e5fb7e\" y=\"30.929962\"/>\r\n     <use style=\"fill:#1f77b4;stroke:#1f77b4;\" x=\"359.186505\" xlink:href=\"#m50a8e5fb7e\" y=\"34.546559\"/>\r\n     <use style=\"fill:#1f77b4;stroke:#1f77b4;\" x=\"364.432533\" xlink:href=\"#m50a8e5fb7e\" y=\"34.546559\"/>\r\n     <use style=\"fill:#1f77b4;stroke:#1f77b4;\" x=\"369.678561\" xlink:href=\"#m50a8e5fb7e\" y=\"33.742871\"/>\r\n    </g>\r\n   </g>\r\n   <g id=\"matplotlib.axis_1\">\r\n    <g id=\"xtick_1\">\r\n     <g id=\"line2d_1\">\r\n      <defs>\r\n       <path d=\"M 0 0 \r\nL 0 3.5 \r\n\" id=\"m5ca6828a6e\" style=\"stroke:#000000;stroke-width:0.8;\"/>\r\n      </defs>\r\n      <g>\r\n       <use style=\"stroke:#000000;stroke-width:0.8;\" x=\"60.162911\" xlink:href=\"#m5ca6828a6e\" y=\"224.64\"/>\r\n      </g>\r\n     </g>\r\n     <g id=\"text_1\">\r\n      <!-- 0 -->\r\n      <defs>\r\n       <path d=\"M 31.78125 66.40625 \r\nQ 24.171875 66.40625 20.328125 58.90625 \r\nQ 16.5 51.421875 16.5 36.375 \r\nQ 16.5 21.390625 20.328125 13.890625 \r\nQ 24.171875 6.390625 31.78125 6.390625 \r\nQ 39.453125 6.390625 43.28125 13.890625 \r\nQ 47.125 21.390625 47.125 36.375 \r\nQ 47.125 51.421875 43.28125 58.90625 \r\nQ 39.453125 66.40625 31.78125 66.40625 \r\nz\r\nM 31.78125 74.21875 \r\nQ 44.046875 74.21875 50.515625 64.515625 \r\nQ 56.984375 54.828125 56.984375 36.375 \r\nQ 56.984375 17.96875 50.515625 8.265625 \r\nQ 44.046875 -1.421875 31.78125 -1.421875 \r\nQ 19.53125 -1.421875 13.0625 8.265625 \r\nQ 6.59375 17.96875 6.59375 36.375 \r\nQ 6.59375 54.828125 13.0625 64.515625 \r\nQ 19.53125 74.21875 31.78125 74.21875 \r\nz\r\n\" id=\"DejaVuSans-48\"/>\r\n      </defs>\r\n      <g transform=\"translate(56.981661 239.238437)scale(0.1 -0.1)\">\r\n       <use xlink:href=\"#DejaVuSans-48\"/>\r\n      </g>\r\n     </g>\r\n    </g>\r\n    <g id=\"xtick_2\">\r\n     <g id=\"line2d_2\">\r\n      <g>\r\n       <use style=\"stroke:#000000;stroke-width:0.8;\" x=\"86.393051\" xlink:href=\"#m5ca6828a6e\" y=\"224.64\"/>\r\n      </g>\r\n     </g>\r\n     <g id=\"text_2\">\r\n      <!-- 5 -->\r\n      <defs>\r\n       <path d=\"M 10.796875 72.90625 \r\nL 49.515625 72.90625 \r\nL 49.515625 64.59375 \r\nL 19.828125 64.59375 \r\nL 19.828125 46.734375 \r\nQ 21.96875 47.46875 24.109375 47.828125 \r\nQ 26.265625 48.1875 28.421875 48.1875 \r\nQ 40.625 48.1875 47.75 41.5 \r\nQ 54.890625 34.8125 54.890625 23.390625 \r\nQ 54.890625 11.625 47.5625 5.09375 \r\nQ 40.234375 -1.421875 26.90625 -1.421875 \r\nQ 22.3125 -1.421875 17.546875 -0.640625 \r\nQ 12.796875 0.140625 7.71875 1.703125 \r\nL 7.71875 11.625 \r\nQ 12.109375 9.234375 16.796875 8.0625 \r\nQ 21.484375 6.890625 26.703125 6.890625 \r\nQ 35.15625 6.890625 40.078125 11.328125 \r\nQ 45.015625 15.765625 45.015625 23.390625 \r\nQ 45.015625 31 40.078125 35.4375 \r\nQ 35.15625 39.890625 26.703125 39.890625 \r\nQ 22.75 39.890625 18.8125 39.015625 \r\nQ 14.890625 38.140625 10.796875 36.28125 \r\nz\r\n\" id=\"DejaVuSans-53\"/>\r\n      </defs>\r\n      <g transform=\"translate(83.211801 239.238437)scale(0.1 -0.1)\">\r\n       <use xlink:href=\"#DejaVuSans-53\"/>\r\n      </g>\r\n     </g>\r\n    </g>\r\n    <g id=\"xtick_3\">\r\n     <g id=\"line2d_3\">\r\n      <g>\r\n       <use style=\"stroke:#000000;stroke-width:0.8;\" x=\"112.623191\" xlink:href=\"#m5ca6828a6e\" y=\"224.64\"/>\r\n      </g>\r\n     </g>\r\n     <g id=\"text_3\">\r\n      <!-- 10 -->\r\n      <defs>\r\n       <path d=\"M 12.40625 8.296875 \r\nL 28.515625 8.296875 \r\nL 28.515625 63.921875 \r\nL 10.984375 60.40625 \r\nL 10.984375 69.390625 \r\nL 28.421875 72.90625 \r\nL 38.28125 72.90625 \r\nL 38.28125 8.296875 \r\nL 54.390625 8.296875 \r\nL 54.390625 0 \r\nL 12.40625 0 \r\nz\r\n\" id=\"DejaVuSans-49\"/>\r\n      </defs>\r\n      <g transform=\"translate(106.260691 239.238437)scale(0.1 -0.1)\">\r\n       <use xlink:href=\"#DejaVuSans-49\"/>\r\n       <use x=\"63.623047\" xlink:href=\"#DejaVuSans-48\"/>\r\n      </g>\r\n     </g>\r\n    </g>\r\n    <g id=\"xtick_4\">\r\n     <g id=\"line2d_4\">\r\n      <g>\r\n       <use style=\"stroke:#000000;stroke-width:0.8;\" x=\"138.853331\" xlink:href=\"#m5ca6828a6e\" y=\"224.64\"/>\r\n      </g>\r\n     </g>\r\n     <g id=\"text_4\">\r\n      <!-- 15 -->\r\n      <g transform=\"translate(132.490831 239.238437)scale(0.1 -0.1)\">\r\n       <use xlink:href=\"#DejaVuSans-49\"/>\r\n       <use x=\"63.623047\" xlink:href=\"#DejaVuSans-53\"/>\r\n      </g>\r\n     </g>\r\n    </g>\r\n    <g id=\"xtick_5\">\r\n     <g id=\"line2d_5\">\r\n      <g>\r\n       <use style=\"stroke:#000000;stroke-width:0.8;\" x=\"165.08347\" xlink:href=\"#m5ca6828a6e\" y=\"224.64\"/>\r\n      </g>\r\n     </g>\r\n     <g id=\"text_5\">\r\n      <!-- 20 -->\r\n      <defs>\r\n       <path d=\"M 19.1875 8.296875 \r\nL 53.609375 8.296875 \r\nL 53.609375 0 \r\nL 7.328125 0 \r\nL 7.328125 8.296875 \r\nQ 12.9375 14.109375 22.625 23.890625 \r\nQ 32.328125 33.6875 34.8125 36.53125 \r\nQ 39.546875 41.84375 41.421875 45.53125 \r\nQ 43.3125 49.21875 43.3125 52.78125 \r\nQ 43.3125 58.59375 39.234375 62.25 \r\nQ 35.15625 65.921875 28.609375 65.921875 \r\nQ 23.96875 65.921875 18.8125 64.3125 \r\nQ 13.671875 62.703125 7.8125 59.421875 \r\nL 7.8125 69.390625 \r\nQ 13.765625 71.78125 18.9375 73 \r\nQ 24.125 74.21875 28.421875 74.21875 \r\nQ 39.75 74.21875 46.484375 68.546875 \r\nQ 53.21875 62.890625 53.21875 53.421875 \r\nQ 53.21875 48.921875 51.53125 44.890625 \r\nQ 49.859375 40.875 45.40625 35.40625 \r\nQ 44.1875 33.984375 37.640625 27.21875 \r\nQ 31.109375 20.453125 19.1875 8.296875 \r\nz\r\n\" id=\"DejaVuSans-50\"/>\r\n      </defs>\r\n      <g transform=\"translate(158.72097 239.238437)scale(0.1 -0.1)\">\r\n       <use xlink:href=\"#DejaVuSans-50\"/>\r\n       <use x=\"63.623047\" xlink:href=\"#DejaVuSans-48\"/>\r\n      </g>\r\n     </g>\r\n    </g>\r\n    <g id=\"xtick_6\">\r\n     <g id=\"line2d_6\">\r\n      <g>\r\n       <use style=\"stroke:#000000;stroke-width:0.8;\" x=\"191.31361\" xlink:href=\"#m5ca6828a6e\" y=\"224.64\"/>\r\n      </g>\r\n     </g>\r\n     <g id=\"text_6\">\r\n      <!-- 25 -->\r\n      <g transform=\"translate(184.95111 239.238437)scale(0.1 -0.1)\">\r\n       <use xlink:href=\"#DejaVuSans-50\"/>\r\n       <use x=\"63.623047\" xlink:href=\"#DejaVuSans-53\"/>\r\n      </g>\r\n     </g>\r\n    </g>\r\n    <g id=\"xtick_7\">\r\n     <g id=\"line2d_7\">\r\n      <g>\r\n       <use style=\"stroke:#000000;stroke-width:0.8;\" x=\"217.54375\" xlink:href=\"#m5ca6828a6e\" y=\"224.64\"/>\r\n      </g>\r\n     </g>\r\n     <g id=\"text_7\">\r\n      <!-- 30 -->\r\n      <defs>\r\n       <path d=\"M 40.578125 39.3125 \r\nQ 47.65625 37.796875 51.625 33 \r\nQ 55.609375 28.21875 55.609375 21.1875 \r\nQ 55.609375 10.40625 48.1875 4.484375 \r\nQ 40.765625 -1.421875 27.09375 -1.421875 \r\nQ 22.515625 -1.421875 17.65625 -0.515625 \r\nQ 12.796875 0.390625 7.625 2.203125 \r\nL 7.625 11.71875 \r\nQ 11.71875 9.328125 16.59375 8.109375 \r\nQ 21.484375 6.890625 26.8125 6.890625 \r\nQ 36.078125 6.890625 40.9375 10.546875 \r\nQ 45.796875 14.203125 45.796875 21.1875 \r\nQ 45.796875 27.640625 41.28125 31.265625 \r\nQ 36.765625 34.90625 28.71875 34.90625 \r\nL 20.21875 34.90625 \r\nL 20.21875 43.015625 \r\nL 29.109375 43.015625 \r\nQ 36.375 43.015625 40.234375 45.921875 \r\nQ 44.09375 48.828125 44.09375 54.296875 \r\nQ 44.09375 59.90625 40.109375 62.90625 \r\nQ 36.140625 65.921875 28.71875 65.921875 \r\nQ 24.65625 65.921875 20.015625 65.03125 \r\nQ 15.375 64.15625 9.8125 62.3125 \r\nL 9.8125 71.09375 \r\nQ 15.4375 72.65625 20.34375 73.4375 \r\nQ 25.25 74.21875 29.59375 74.21875 \r\nQ 40.828125 74.21875 47.359375 69.109375 \r\nQ 53.90625 64.015625 53.90625 55.328125 \r\nQ 53.90625 49.265625 50.4375 45.09375 \r\nQ 46.96875 40.921875 40.578125 39.3125 \r\nz\r\n\" id=\"DejaVuSans-51\"/>\r\n      </defs>\r\n      <g transform=\"translate(211.18125 239.238437)scale(0.1 -0.1)\">\r\n       <use xlink:href=\"#DejaVuSans-51\"/>\r\n       <use x=\"63.623047\" xlink:href=\"#DejaVuSans-48\"/>\r\n      </g>\r\n     </g>\r\n    </g>\r\n    <g id=\"xtick_8\">\r\n     <g id=\"line2d_8\">\r\n      <g>\r\n       <use style=\"stroke:#000000;stroke-width:0.8;\" x=\"243.77389\" xlink:href=\"#m5ca6828a6e\" y=\"224.64\"/>\r\n      </g>\r\n     </g>\r\n     <g id=\"text_8\">\r\n      <!-- 35 -->\r\n      <g transform=\"translate(237.41139 239.238437)scale(0.1 -0.1)\">\r\n       <use xlink:href=\"#DejaVuSans-51\"/>\r\n       <use x=\"63.623047\" xlink:href=\"#DejaVuSans-53\"/>\r\n      </g>\r\n     </g>\r\n    </g>\r\n    <g id=\"xtick_9\">\r\n     <g id=\"line2d_9\">\r\n      <g>\r\n       <use style=\"stroke:#000000;stroke-width:0.8;\" x=\"270.00403\" xlink:href=\"#m5ca6828a6e\" y=\"224.64\"/>\r\n      </g>\r\n     </g>\r\n     <g id=\"text_9\">\r\n      <!-- 40 -->\r\n      <defs>\r\n       <path d=\"M 37.796875 64.3125 \r\nL 12.890625 25.390625 \r\nL 37.796875 25.390625 \r\nz\r\nM 35.203125 72.90625 \r\nL 47.609375 72.90625 \r\nL 47.609375 25.390625 \r\nL 58.015625 25.390625 \r\nL 58.015625 17.1875 \r\nL 47.609375 17.1875 \r\nL 47.609375 0 \r\nL 37.796875 0 \r\nL 37.796875 17.1875 \r\nL 4.890625 17.1875 \r\nL 4.890625 26.703125 \r\nz\r\n\" id=\"DejaVuSans-52\"/>\r\n      </defs>\r\n      <g transform=\"translate(263.64153 239.238437)scale(0.1 -0.1)\">\r\n       <use xlink:href=\"#DejaVuSans-52\"/>\r\n       <use x=\"63.623047\" xlink:href=\"#DejaVuSans-48\"/>\r\n      </g>\r\n     </g>\r\n    </g>\r\n    <g id=\"xtick_10\">\r\n     <g id=\"line2d_10\">\r\n      <g>\r\n       <use style=\"stroke:#000000;stroke-width:0.8;\" x=\"296.234169\" xlink:href=\"#m5ca6828a6e\" y=\"224.64\"/>\r\n      </g>\r\n     </g>\r\n     <g id=\"text_10\">\r\n      <!-- 45 -->\r\n      <g transform=\"translate(289.871669 239.238437)scale(0.1 -0.1)\">\r\n       <use xlink:href=\"#DejaVuSans-52\"/>\r\n       <use x=\"63.623047\" xlink:href=\"#DejaVuSans-53\"/>\r\n      </g>\r\n     </g>\r\n    </g>\r\n    <g id=\"xtick_11\">\r\n     <g id=\"line2d_11\">\r\n      <g>\r\n       <use style=\"stroke:#000000;stroke-width:0.8;\" x=\"322.464309\" xlink:href=\"#m5ca6828a6e\" y=\"224.64\"/>\r\n      </g>\r\n     </g>\r\n     <g id=\"text_11\">\r\n      <!-- 50 -->\r\n      <g transform=\"translate(316.101809 239.238437)scale(0.1 -0.1)\">\r\n       <use xlink:href=\"#DejaVuSans-53\"/>\r\n       <use x=\"63.623047\" xlink:href=\"#DejaVuSans-48\"/>\r\n      </g>\r\n     </g>\r\n    </g>\r\n    <g id=\"xtick_12\">\r\n     <g id=\"line2d_12\">\r\n      <g>\r\n       <use style=\"stroke:#000000;stroke-width:0.8;\" x=\"348.694449\" xlink:href=\"#m5ca6828a6e\" y=\"224.64\"/>\r\n      </g>\r\n     </g>\r\n     <g id=\"text_12\">\r\n      <!-- 55 -->\r\n      <g transform=\"translate(342.331949 239.238437)scale(0.1 -0.1)\">\r\n       <use xlink:href=\"#DejaVuSans-53\"/>\r\n       <use x=\"63.623047\" xlink:href=\"#DejaVuSans-53\"/>\r\n      </g>\r\n     </g>\r\n    </g>\r\n    <g id=\"xtick_13\">\r\n     <g id=\"line2d_13\">\r\n      <g>\r\n       <use style=\"stroke:#000000;stroke-width:0.8;\" x=\"374.924589\" xlink:href=\"#m5ca6828a6e\" y=\"224.64\"/>\r\n      </g>\r\n     </g>\r\n     <g id=\"text_13\">\r\n      <!-- 60 -->\r\n      <defs>\r\n       <path d=\"M 33.015625 40.375 \r\nQ 26.375 40.375 22.484375 35.828125 \r\nQ 18.609375 31.296875 18.609375 23.390625 \r\nQ 18.609375 15.53125 22.484375 10.953125 \r\nQ 26.375 6.390625 33.015625 6.390625 \r\nQ 39.65625 6.390625 43.53125 10.953125 \r\nQ 47.40625 15.53125 47.40625 23.390625 \r\nQ 47.40625 31.296875 43.53125 35.828125 \r\nQ 39.65625 40.375 33.015625 40.375 \r\nz\r\nM 52.59375 71.296875 \r\nL 52.59375 62.3125 \r\nQ 48.875 64.0625 45.09375 64.984375 \r\nQ 41.3125 65.921875 37.59375 65.921875 \r\nQ 27.828125 65.921875 22.671875 59.328125 \r\nQ 17.53125 52.734375 16.796875 39.40625 \r\nQ 19.671875 43.65625 24.015625 45.921875 \r\nQ 28.375 48.1875 33.59375 48.1875 \r\nQ 44.578125 48.1875 50.953125 41.515625 \r\nQ 57.328125 34.859375 57.328125 23.390625 \r\nQ 57.328125 12.15625 50.6875 5.359375 \r\nQ 44.046875 -1.421875 33.015625 -1.421875 \r\nQ 20.359375 -1.421875 13.671875 8.265625 \r\nQ 6.984375 17.96875 6.984375 36.375 \r\nQ 6.984375 53.65625 15.1875 63.9375 \r\nQ 23.390625 74.21875 37.203125 74.21875 \r\nQ 40.921875 74.21875 44.703125 73.484375 \r\nQ 48.484375 72.75 52.59375 71.296875 \r\nz\r\n\" id=\"DejaVuSans-54\"/>\r\n      </defs>\r\n      <g transform=\"translate(368.562089 239.238437)scale(0.1 -0.1)\">\r\n       <use xlink:href=\"#DejaVuSans-54\"/>\r\n       <use x=\"63.623047\" xlink:href=\"#DejaVuSans-48\"/>\r\n      </g>\r\n     </g>\r\n    </g>\r\n    <g id=\"text_14\">\r\n     <!-- k -->\r\n     <defs>\r\n      <path d=\"M 9.078125 75.984375 \r\nL 18.109375 75.984375 \r\nL 18.109375 31.109375 \r\nL 44.921875 54.6875 \r\nL 56.390625 54.6875 \r\nL 27.390625 29.109375 \r\nL 57.625 0 \r\nL 45.90625 0 \r\nL 18.109375 26.703125 \r\nL 18.109375 0 \r\nL 9.078125 0 \r\nz\r\n\" id=\"DejaVuSans-107\"/>\r\n     </defs>\r\n     <g transform=\"translate(214.648438 252.916562)scale(0.1 -0.1)\">\r\n      <use xlink:href=\"#DejaVuSans-107\"/>\r\n     </g>\r\n    </g>\r\n   </g>\r\n   <g id=\"matplotlib.axis_2\">\r\n    <g id=\"ytick_1\">\r\n     <g id=\"line2d_14\">\r\n      <defs>\r\n       <path d=\"M 0 0 \r\nL -3.5 0 \r\n\" id=\"maa62fab6a5\" style=\"stroke:#000000;stroke-width:0.8;\"/>\r\n      </defs>\r\n      <g>\r\n       <use style=\"stroke:#000000;stroke-width:0.8;\" x=\"50.14375\" xlink:href=\"#maa62fab6a5\" y=\"185.238116\"/>\r\n      </g>\r\n     </g>\r\n     <g id=\"text_15\">\r\n      <!-- 0.45 -->\r\n      <defs>\r\n       <path d=\"M 10.6875 12.40625 \r\nL 21 12.40625 \r\nL 21 0 \r\nL 10.6875 0 \r\nz\r\n\" id=\"DejaVuSans-46\"/>\r\n      </defs>\r\n      <g transform=\"translate(20.878125 189.037335)scale(0.1 -0.1)\">\r\n       <use xlink:href=\"#DejaVuSans-48\"/>\r\n       <use x=\"63.623047\" xlink:href=\"#DejaVuSans-46\"/>\r\n       <use x=\"95.410156\" xlink:href=\"#DejaVuSans-52\"/>\r\n       <use x=\"159.033203\" xlink:href=\"#DejaVuSans-53\"/>\r\n      </g>\r\n     </g>\r\n    </g>\r\n    <g id=\"ytick_2\">\r\n     <g id=\"line2d_15\">\r\n      <g>\r\n       <use style=\"stroke:#000000;stroke-width:0.8;\" x=\"50.14375\" xlink:href=\"#maa62fab6a5\" y=\"139.427883\"/>\r\n      </g>\r\n     </g>\r\n     <g id=\"text_16\">\r\n      <!-- 0.50 -->\r\n      <g transform=\"translate(20.878125 143.227102)scale(0.1 -0.1)\">\r\n       <use xlink:href=\"#DejaVuSans-48\"/>\r\n       <use x=\"63.623047\" xlink:href=\"#DejaVuSans-46\"/>\r\n       <use x=\"95.410156\" xlink:href=\"#DejaVuSans-53\"/>\r\n       <use x=\"159.033203\" xlink:href=\"#DejaVuSans-48\"/>\r\n      </g>\r\n     </g>\r\n    </g>\r\n    <g id=\"ytick_3\">\r\n     <g id=\"line2d_16\">\r\n      <g>\r\n       <use style=\"stroke:#000000;stroke-width:0.8;\" x=\"50.14375\" xlink:href=\"#maa62fab6a5\" y=\"93.61765\"/>\r\n      </g>\r\n     </g>\r\n     <g id=\"text_17\">\r\n      <!-- 0.55 -->\r\n      <g transform=\"translate(20.878125 97.416868)scale(0.1 -0.1)\">\r\n       <use xlink:href=\"#DejaVuSans-48\"/>\r\n       <use x=\"63.623047\" xlink:href=\"#DejaVuSans-46\"/>\r\n       <use x=\"95.410156\" xlink:href=\"#DejaVuSans-53\"/>\r\n       <use x=\"159.033203\" xlink:href=\"#DejaVuSans-53\"/>\r\n      </g>\r\n     </g>\r\n    </g>\r\n    <g id=\"ytick_4\">\r\n     <g id=\"line2d_17\">\r\n      <g>\r\n       <use style=\"stroke:#000000;stroke-width:0.8;\" x=\"50.14375\" xlink:href=\"#maa62fab6a5\" y=\"47.807416\"/>\r\n      </g>\r\n     </g>\r\n     <g id=\"text_18\">\r\n      <!-- 0.60 -->\r\n      <g transform=\"translate(20.878125 51.606635)scale(0.1 -0.1)\">\r\n       <use xlink:href=\"#DejaVuSans-48\"/>\r\n       <use x=\"63.623047\" xlink:href=\"#DejaVuSans-46\"/>\r\n       <use x=\"95.410156\" xlink:href=\"#DejaVuSans-54\"/>\r\n       <use x=\"159.033203\" xlink:href=\"#DejaVuSans-48\"/>\r\n      </g>\r\n     </g>\r\n    </g>\r\n    <g id=\"text_19\">\r\n     <!-- Accuracy -->\r\n     <defs>\r\n      <path d=\"M 34.1875 63.1875 \r\nL 20.796875 26.90625 \r\nL 47.609375 26.90625 \r\nz\r\nM 28.609375 72.90625 \r\nL 39.796875 72.90625 \r\nL 67.578125 0 \r\nL 57.328125 0 \r\nL 50.6875 18.703125 \r\nL 17.828125 18.703125 \r\nL 11.1875 0 \r\nL 0.78125 0 \r\nz\r\n\" id=\"DejaVuSans-65\"/>\r\n      <path d=\"M 48.78125 52.59375 \r\nL 48.78125 44.1875 \r\nQ 44.96875 46.296875 41.140625 47.34375 \r\nQ 37.3125 48.390625 33.40625 48.390625 \r\nQ 24.65625 48.390625 19.8125 42.84375 \r\nQ 14.984375 37.3125 14.984375 27.296875 \r\nQ 14.984375 17.28125 19.8125 11.734375 \r\nQ 24.65625 6.203125 33.40625 6.203125 \r\nQ 37.3125 6.203125 41.140625 7.25 \r\nQ 44.96875 8.296875 48.78125 10.40625 \r\nL 48.78125 2.09375 \r\nQ 45.015625 0.34375 40.984375 -0.53125 \r\nQ 36.96875 -1.421875 32.421875 -1.421875 \r\nQ 20.0625 -1.421875 12.78125 6.34375 \r\nQ 5.515625 14.109375 5.515625 27.296875 \r\nQ 5.515625 40.671875 12.859375 48.328125 \r\nQ 20.21875 56 33.015625 56 \r\nQ 37.15625 56 41.109375 55.140625 \r\nQ 45.0625 54.296875 48.78125 52.59375 \r\nz\r\n\" id=\"DejaVuSans-99\"/>\r\n      <path d=\"M 8.5 21.578125 \r\nL 8.5 54.6875 \r\nL 17.484375 54.6875 \r\nL 17.484375 21.921875 \r\nQ 17.484375 14.15625 20.5 10.265625 \r\nQ 23.53125 6.390625 29.59375 6.390625 \r\nQ 36.859375 6.390625 41.078125 11.03125 \r\nQ 45.3125 15.671875 45.3125 23.6875 \r\nL 45.3125 54.6875 \r\nL 54.296875 54.6875 \r\nL 54.296875 0 \r\nL 45.3125 0 \r\nL 45.3125 8.40625 \r\nQ 42.046875 3.421875 37.71875 1 \r\nQ 33.40625 -1.421875 27.6875 -1.421875 \r\nQ 18.265625 -1.421875 13.375 4.4375 \r\nQ 8.5 10.296875 8.5 21.578125 \r\nz\r\nM 31.109375 56 \r\nz\r\n\" id=\"DejaVuSans-117\"/>\r\n      <path d=\"M 41.109375 46.296875 \r\nQ 39.59375 47.171875 37.8125 47.578125 \r\nQ 36.03125 48 33.890625 48 \r\nQ 26.265625 48 22.1875 43.046875 \r\nQ 18.109375 38.09375 18.109375 28.8125 \r\nL 18.109375 0 \r\nL 9.078125 0 \r\nL 9.078125 54.6875 \r\nL 18.109375 54.6875 \r\nL 18.109375 46.1875 \r\nQ 20.953125 51.171875 25.484375 53.578125 \r\nQ 30.03125 56 36.53125 56 \r\nQ 37.453125 56 38.578125 55.875 \r\nQ 39.703125 55.765625 41.0625 55.515625 \r\nz\r\n\" id=\"DejaVuSans-114\"/>\r\n      <path d=\"M 34.28125 27.484375 \r\nQ 23.390625 27.484375 19.1875 25 \r\nQ 14.984375 22.515625 14.984375 16.5 \r\nQ 14.984375 11.71875 18.140625 8.90625 \r\nQ 21.296875 6.109375 26.703125 6.109375 \r\nQ 34.1875 6.109375 38.703125 11.40625 \r\nQ 43.21875 16.703125 43.21875 25.484375 \r\nL 43.21875 27.484375 \r\nz\r\nM 52.203125 31.203125 \r\nL 52.203125 0 \r\nL 43.21875 0 \r\nL 43.21875 8.296875 \r\nQ 40.140625 3.328125 35.546875 0.953125 \r\nQ 30.953125 -1.421875 24.3125 -1.421875 \r\nQ 15.921875 -1.421875 10.953125 3.296875 \r\nQ 6 8.015625 6 15.921875 \r\nQ 6 25.140625 12.171875 29.828125 \r\nQ 18.359375 34.515625 30.609375 34.515625 \r\nL 43.21875 34.515625 \r\nL 43.21875 35.40625 \r\nQ 43.21875 41.609375 39.140625 45 \r\nQ 35.0625 48.390625 27.6875 48.390625 \r\nQ 23 48.390625 18.546875 47.265625 \r\nQ 14.109375 46.140625 10.015625 43.890625 \r\nL 10.015625 52.203125 \r\nQ 14.9375 54.109375 19.578125 55.046875 \r\nQ 24.21875 56 28.609375 56 \r\nQ 40.484375 56 46.34375 49.84375 \r\nQ 52.203125 43.703125 52.203125 31.203125 \r\nz\r\n\" id=\"DejaVuSans-97\"/>\r\n      <path d=\"M 32.171875 -5.078125 \r\nQ 28.375 -14.84375 24.75 -17.8125 \r\nQ 21.140625 -20.796875 15.09375 -20.796875 \r\nL 7.90625 -20.796875 \r\nL 7.90625 -13.28125 \r\nL 13.1875 -13.28125 \r\nQ 16.890625 -13.28125 18.9375 -11.515625 \r\nQ 21 -9.765625 23.484375 -3.21875 \r\nL 25.09375 0.875 \r\nL 2.984375 54.6875 \r\nL 12.5 54.6875 \r\nL 29.59375 11.921875 \r\nL 46.6875 54.6875 \r\nL 56.203125 54.6875 \r\nz\r\n\" id=\"DejaVuSans-121\"/>\r\n     </defs>\r\n     <g transform=\"translate(14.798438 138.834844)rotate(-90)scale(0.1 -0.1)\">\r\n      <use xlink:href=\"#DejaVuSans-65\"/>\r\n      <use x=\"68.392578\" xlink:href=\"#DejaVuSans-99\"/>\r\n      <use x=\"123.373047\" xlink:href=\"#DejaVuSans-99\"/>\r\n      <use x=\"178.353516\" xlink:href=\"#DejaVuSans-117\"/>\r\n      <use x=\"241.732422\" xlink:href=\"#DejaVuSans-114\"/>\r\n      <use x=\"282.845703\" xlink:href=\"#DejaVuSans-97\"/>\r\n      <use x=\"344.125\" xlink:href=\"#DejaVuSans-99\"/>\r\n      <use x=\"399.105469\" xlink:href=\"#DejaVuSans-121\"/>\r\n     </g>\r\n    </g>\r\n   </g>\r\n   <g id=\"patch_3\">\r\n    <path d=\"M 50.14375 224.64 \r\nL 50.14375 7.2 \r\n\" style=\"fill:none;stroke:#000000;stroke-linecap:square;stroke-linejoin:miter;stroke-width:0.8;\"/>\r\n   </g>\r\n   <g id=\"patch_4\">\r\n    <path d=\"M 384.94375 224.64 \r\nL 384.94375 7.2 \r\n\" style=\"fill:none;stroke:#000000;stroke-linecap:square;stroke-linejoin:miter;stroke-width:0.8;\"/>\r\n   </g>\r\n   <g id=\"patch_5\">\r\n    <path d=\"M 50.14375 224.64 \r\nL 384.94375 224.64 \r\n\" style=\"fill:none;stroke:#000000;stroke-linecap:square;stroke-linejoin:miter;stroke-width:0.8;\"/>\r\n   </g>\r\n   <g id=\"patch_6\">\r\n    <path d=\"M 50.14375 7.2 \r\nL 384.94375 7.2 \r\n\" style=\"fill:none;stroke:#000000;stroke-linecap:square;stroke-linejoin:miter;stroke-width:0.8;\"/>\r\n   </g>\r\n  </g>\r\n </g>\r\n <defs>\r\n  <clipPath id=\"pd5e4d44215\">\r\n   <rect height=\"217.44\" width=\"334.8\" x=\"50.14375\" y=\"7.2\"/>\r\n  </clipPath>\r\n </defs>\r\n</svg>\r\n",
      "image/png": "[encoded data removed]"
     },
     "metadata": {
      "needs_background": "light"
     }
    }
   ],
   "source": [
    "from sklearn.preprocessing import MinMaxScaler\n",
    "\n",
    "scaler = MinMaxScaler()\n",
    "\n",
    "X_train_scaled = scaler.fit_transform(X_train)\n",
    "X_test_scaled = scaler.transform(X_test)\n",
    "\n",
    "k_range = range(1,60)\n",
    "scores = []\n",
    "\n",
    "for k in k_range:\n",
    "    knn = KNeighborsClassifier(n_neighbors = k)\n",
    "    knn.fit(X_train_scaled, y_train)\n",
    "    scores.append(knn.score(X_test_scaled, y_test))\n",
    "\n",
    "%matplotlib inline\n",
    "plt.figure()\n",
    "plt.xlabel('k')\n",
    "plt.ylabel('Accuracy')\n",
    "plt.scatter(k_range, scores)\n",
    "plt.xticks(range(0,65,5))"
   ]
  },
  {
   "source": [
    "# Suporte Vector Machine\n",
    "\n",
    "## Sem padronização dos valores"
   ],
   "cell_type": "markdown",
   "metadata": {}
  },
  {
   "cell_type": "code",
   "execution_count": 228,
   "metadata": {
    "tags": []
   },
   "outputs": [
    {
     "output_type": "stream",
     "name": "stdout",
     "text": "Support Vector Classifier:\n\nRBF kernel, gamma = 0.01, C = 0.10, Accuracy = 0.62\nRBF kernel, gamma = 0.01, C = 1.00, Accuracy = 0.61\nRBF kernel, gamma = 0.01, C = 15.00, Accuracy = 0.60\nRBF kernel, gamma = 0.01, C = 250.00, Accuracy = 0.60\nRBF kernel, gamma = 1.00, C = 0.10, Accuracy = 0.62\nRBF kernel, gamma = 1.00, C = 1.00, Accuracy = 0.62\nRBF kernel, gamma = 1.00, C = 15.00, Accuracy = 0.62\nRBF kernel, gamma = 1.00, C = 250.00, Accuracy = 0.62\nRBF kernel, gamma = 5.00, C = 0.10, Accuracy = 0.62\nRBF kernel, gamma = 5.00, C = 1.00, Accuracy = 0.62\nRBF kernel, gamma = 5.00, C = 15.00, Accuracy = 0.62\nRBF kernel, gamma = 5.00, C = 250.00, Accuracy = 0.62\nRBF kernel, gamma = 10.00, C = 0.10, Accuracy = 0.62\nRBF kernel, gamma = 10.00, C = 1.00, Accuracy = 0.62\nRBF kernel, gamma = 10.00, C = 15.00, Accuracy = 0.62\nRBF kernel, gamma = 10.00, C = 250.00, Accuracy = 0.62\n"
    }
   ],
   "source": [
    "from sklearn.svm import SVC\n",
    "\n",
    "X_train, X_test, y_train, y_test = train_test_split(X, y, random_state=0)\n",
    "\n",
    "print('Support Vector Classifier:\\n')\n",
    "for gamma in [0.01, 1, 5, 10]:\n",
    "    for C in [0.1, 1, 15, 250]:\n",
    "        classificador = SVC(kernel = 'rbf', gamma = gamma, C = C).fit(X_train, y_train)\n",
    "        print('RBF kernel, gamma = {:.2f}, C = {:.2f}, Accuracy = {:.2f}'.format(gamma, C, classificador.score(X_test, y_test)))"
   ]
  },
  {
   "cell_type": "code",
   "execution_count": 229,
   "metadata": {
    "tags": []
   },
   "outputs": [
    {
     "output_type": "stream",
     "name": "stdout",
     "text": "Support Vector Classifier:\n\nLinear kernel, C = 1.00, Accuracy = 0.33\nLinear kernel, C = 5.00, Accuracy = 0.38\nLinear kernel, C = 10.00, Accuracy = 0.38\nLinear kernel, C = 15.00, Accuracy = 0.38\nLinear kernel, C = 100.00, Accuracy = 0.38\nLinear kernel, C = 250.00, Accuracy = 0.38\n"
    }
   ],
   "source": [
    "from sklearn.svm import LinearSVC\n",
    "\n",
    "X_train, X_test, y_train, y_test = train_test_split(X, y, random_state=0)\n",
    "\n",
    "C = [1, 5, 10, 15, 100, 250]\n",
    "\n",
    "print('Support Vector Classifier:\\n')\n",
    "for i in C:\n",
    "    svc = LinearSVC(C=i, random_state=0).fit(X_train, y_train)\n",
    "    print('Linear kernel, C = {:.2f}, Accuracy = {:.2f}'.format(i, svc.score(X_test, y_test)))"
   ]
  },
  {
   "source": [
    "## Com padronização dos valores"
   ],
   "cell_type": "markdown",
   "metadata": {}
  },
  {
   "cell_type": "code",
   "execution_count": 230,
   "metadata": {
    "tags": []
   },
   "outputs": [
    {
     "output_type": "stream",
     "name": "stdout",
     "text": "Support Vector Classifier:\n\nRBF kernel, gamma = 0.01, C = 0.10, Accuracy = 0.62\nRBF kernel, gamma = 0.01, C = 1.00, Accuracy = 0.62\nRBF kernel, gamma = 0.01, C = 15.00, Accuracy = 0.62\nRBF kernel, gamma = 0.01, C = 250.00, Accuracy = 0.61\nRBF kernel, gamma = 1.00, C = 0.10, Accuracy = 0.62\nRBF kernel, gamma = 1.00, C = 1.00, Accuracy = 0.61\nRBF kernel, gamma = 1.00, C = 15.00, Accuracy = 0.58\nRBF kernel, gamma = 1.00, C = 250.00, Accuracy = 0.52\nRBF kernel, gamma = 5.00, C = 0.10, Accuracy = 0.62\nRBF kernel, gamma = 5.00, C = 1.00, Accuracy = 0.61\nRBF kernel, gamma = 5.00, C = 15.00, Accuracy = 0.54\nRBF kernel, gamma = 5.00, C = 250.00, Accuracy = 0.51\nRBF kernel, gamma = 10.00, C = 0.10, Accuracy = 0.62\nRBF kernel, gamma = 10.00, C = 1.00, Accuracy = 0.61\nRBF kernel, gamma = 10.00, C = 15.00, Accuracy = 0.55\nRBF kernel, gamma = 10.00, C = 250.00, Accuracy = 0.54\n"
    }
   ],
   "source": [
    "from sklearn.svm import SVC\n",
    "from sklearn.preprocessing import MinMaxScaler\n",
    "\n",
    "X_train, X_test, y_train, y_test = train_test_split(X, y, random_state=0)\n",
    "scaler = MinMaxScaler()\n",
    "\n",
    "X_train_scaled = scaler.fit_transform(X_train)\n",
    "X_test_scaled = scaler.transform(X_test)\n",
    "\n",
    "print('Support Vector Classifier:\\n')\n",
    "for gamma in [0.01, 1, 5, 10]:\n",
    "    for C in [0.1, 1, 15, 250]:\n",
    "        classificador = SVC(kernel = 'rbf', gamma = gamma, C = C).fit(X_train_scaled, y_train)\n",
    "        print('RBF kernel, gamma = {:.2f}, C = {:.2f}, Accuracy = {:.2f}'.format(gamma, C, classificador.score(X_test_scaled, y_test)))"
   ]
  },
  {
   "cell_type": "code",
   "execution_count": 231,
   "metadata": {
    "tags": []
   },
   "outputs": [
    {
     "output_type": "stream",
     "name": "stdout",
     "text": "Support Vector Classifier:\n\nLinear kernel, C = 1.00, Accuracy = 0.61\nLinear kernel, C = 5.00, Accuracy = 0.62\nLinear kernel, C = 10.00, Accuracy = 0.62\nLinear kernel, C = 15.00, Accuracy = 0.62\nLinear kernel, C = 100.00, Accuracy = 0.61\nLinear kernel, C = 250.00, Accuracy = 0.62\n"
    }
   ],
   "source": [
    "from sklearn.svm import LinearSVC\n",
    "from sklearn.preprocessing import MinMaxScaler\n",
    "\n",
    "X_train, X_test, y_train, y_test = train_test_split(X, y, random_state=0)\n",
    "scaler = MinMaxScaler()\n",
    "\n",
    "X_train_scaled = scaler.fit_transform(X_train)\n",
    "X_test_scaled = scaler.transform(X_test)\n",
    "\n",
    "C = [1, 5, 10, 15, 100, 250]\n",
    "\n",
    "print('Support Vector Classifier:\\n')\n",
    "for i in C:\n",
    "    svc = LinearSVC(C=i, random_state=0).fit(X_train_scaled, y_train)\n",
    "    print('Linear kernel, C = {:.2f}, Accuracy = {:.2f}'.format(i, svc.score(X_test_scaled, y_test)))"
   ]
  },
  {
   "source": [
    "# Naive Bayes"
   ],
   "cell_type": "markdown",
   "metadata": {}
  },
  {
   "cell_type": "code",
   "execution_count": 232,
   "metadata": {
    "tags": []
   },
   "outputs": [
    {
     "output_type": "stream",
     "name": "stdout",
     "text": "0.5491228070175439\n"
    }
   ],
   "source": [
    "from sklearn.naive_bayes import GaussianNB\n",
    "\n",
    "X_train, X_test, y_train, y_test = train_test_split(X, y, random_state=0)\n",
    "\n",
    "classificador_NB = GaussianNB().fit(X_train, y_train)\n",
    "print(classificador_NB.score(X_test, y_test))"
   ]
  },
  {
   "source": [
    "# Decision Tree"
   ],
   "cell_type": "markdown",
   "metadata": {}
  },
  {
   "cell_type": "code",
   "execution_count": 233,
   "metadata": {
    "tags": []
   },
   "outputs": [
    {
     "output_type": "stream",
     "name": "stdout",
     "text": "Decision Tree:\n\nCom número máximo de ramos igual a 2, nos retornou accuracy de 0.60 no conjunto de dados Treino\nCom número máximo de ramos igual a 2, nos retornou accuracy de 0.62 no conjunto de dados Teste\n\nCom número máximo de ramos igual a 3, nos retornou accuracy de 0.60 no conjunto de dados Treino\nCom número máximo de ramos igual a 3, nos retornou accuracy de 0.61 no conjunto de dados Teste\n\nCom número máximo de ramos igual a 4, nos retornou accuracy de 0.61 no conjunto de dados Treino\nCom número máximo de ramos igual a 4, nos retornou accuracy de 0.62 no conjunto de dados Teste\n\nCom número máximo de ramos igual a 5, nos retornou accuracy de 0.61 no conjunto de dados Treino\nCom número máximo de ramos igual a 5, nos retornou accuracy de 0.62 no conjunto de dados Teste\n\nCom número máximo de ramos igual a 6, nos retornou accuracy de 0.62 no conjunto de dados Treino\nCom número máximo de ramos igual a 6, nos retornou accuracy de 0.61 no conjunto de dados Teste\n\nCom número máximo de ramos igual a 7, nos retornou accuracy de 0.64 no conjunto de dados Treino\nCom número máximo de ramos igual a 7, nos retornou accuracy de 0.61 no conjunto de dados Teste\n\nCom número máximo de ramos igual a 8, nos retornou accuracy de 0.65 no conjunto de dados Treino\nCom número máximo de ramos igual a 8, nos retornou accuracy de 0.60 no conjunto de dados Teste\n\nCom número máximo de ramos igual a 9, nos retornou accuracy de 0.67 no conjunto de dados Treino\nCom número máximo de ramos igual a 9, nos retornou accuracy de 0.60 no conjunto de dados Teste\n\nCom número máximo de ramos igual a 10, nos retornou accuracy de 0.68 no conjunto de dados Treino\nCom número máximo de ramos igual a 10, nos retornou accuracy de 0.60 no conjunto de dados Teste\n"
    }
   ],
   "source": [
    "from sklearn.tree import DecisionTreeClassifier\n",
    "from sklearn.metrics import accuracy_score\n",
    "\n",
    "X_train, X_test, y_train, y_test = train_test_split(X, y, random_state=0)\n",
    "\n",
    "depths = [2,3,4,5,6,7,8,9,10]\n",
    "\n",
    "print(\"Decision Tree:\")\n",
    "for i in depths:\n",
    "    classificador = DecisionTreeClassifier(max_depth=i, random_state=0).fit(X_train, y_train)\n",
    "    print(\"\\nCom número máximo de ramos igual a {}, nos retornou accuracy de {:.2f} no conjunto de dados Treino\".format(i, classificador.score(X_train, y_train)))\n",
    "    print(\"Com número máximo de ramos igual a {}, nos retornou accuracy de {:.2f} no conjunto de dados Teste\".format(i, classificador.score(X_test, y_test)))"
   ]
  },
  {
   "source": [
    "# Random Forest"
   ],
   "cell_type": "markdown",
   "metadata": {}
  },
  {
   "cell_type": "code",
   "execution_count": 234,
   "metadata": {
    "tags": []
   },
   "outputs": [
    {
     "output_type": "stream",
     "name": "stdout",
     "text": "Random Forest:\n\nCom número máximo de características igual a 2, nos retornou accuracy de 1.00 no conjunto de dados Treino\nCom número máximo de características igual a 2, nos retornou accuracy de 0.62 no conjunto de dados Teste\n\nCom número máximo de características igual a 3, nos retornou accuracy de 1.00 no conjunto de dados Treino\nCom número máximo de características igual a 3, nos retornou accuracy de 0.61 no conjunto de dados Teste\n\nCom número máximo de características igual a 4, nos retornou accuracy de 1.00 no conjunto de dados Treino\nCom número máximo de características igual a 4, nos retornou accuracy de 0.61 no conjunto de dados Teste\n\nCom número máximo de características igual a 5, nos retornou accuracy de 1.00 no conjunto de dados Treino\nCom número máximo de características igual a 5, nos retornou accuracy de 0.61 no conjunto de dados Teste\n\nCom número máximo de características igual a 6, nos retornou accuracy de 1.00 no conjunto de dados Treino\nCom número máximo de características igual a 6, nos retornou accuracy de 0.61 no conjunto de dados Teste\n\nCom número máximo de características igual a 8, nos retornou accuracy de 1.00 no conjunto de dados Treino\nCom número máximo de características igual a 8, nos retornou accuracy de 0.61 no conjunto de dados Teste\n\nCom número máximo de características igual a 10, nos retornou accuracy de 1.00 no conjunto de dados Treino\nCom número máximo de características igual a 10, nos retornou accuracy de 0.62 no conjunto de dados Teste\n"
    }
   ],
   "source": [
    "from sklearn.ensemble import RandomForestClassifier\n",
    "\n",
    "X_train, X_test, y_train, y_test = train_test_split(X, y, random_state=0)\n",
    "\n",
    "features = [2,3,4,5,6,8,10]\n",
    "\n",
    "print(\"Random Forest:\")\n",
    "for i in features:\n",
    "    classificador = RandomForestClassifier(max_features=i, random_state=0).fit(X_train, y_train)\n",
    "    print(\"\\nCom número máximo de características igual a {}, nos retornou accuracy de {:.2f} no conjunto de dados Treino\".format(i, classificador.score(X_train, y_train)))\n",
    "    print(\"Com número máximo de características igual a {}, nos retornou accuracy de {:.2f} no conjunto de dados Teste\".format(i, classificador.score(X_test, y_test)))"
   ]
  },
  {
   "source": [
    "# K-Means"
   ],
   "cell_type": "markdown",
   "metadata": {}
  },
  {
   "cell_type": "code",
   "execution_count": 235,
   "metadata": {
    "tags": []
   },
   "outputs": [
    {
     "output_type": "stream",
     "name": "stdout",
     "text": "Acurácia nos dados de treino 0.35\n"
    }
   ],
   "source": [
    "from sklearn.cluster import KMeans\n",
    "\n",
    "X_train, X_test, y_train, y_test = train_test_split(X, y, random_state=0)\n",
    "\n",
    "k_means = KMeans(n_clusters=3, random_state=0).fit(X_train)\n",
    "predicted = k_means.predict(X_train)\n",
    "\n",
    "df_teste = pd.DataFrame(data = predicted, index=y_train)\n",
    "df_teste.reset_index(inplace=True)\n",
    "\n",
    "df_teste.replace({'Normal':1, 'Ajudado posicionado':0, 'Ajudado difícil':2}, inplace=True)\n",
    "tam2 = df_teste.shape[0]\n",
    "tam1 = df_teste[df_teste['Situação do parto'] == df_teste[0]].shape[0]\n",
    "\n",
    "print('Acurácia nos dados de treino {:.2f}'.format(tam1/tam2))"
   ]
  },
  {
   "source": [
    "# Foi possível verificar que nenhum dos teste apresentados nos retornou um bom resultado em relação a acurácia do teste, mesmo imputando a média de cada variável. Portanto, agora iremos trabalhar com o terceiro método para tratativas dos missing values.\n",
    "\n",
    "## Terceiro método: Predizer valores para os missing values;"
   ],
   "cell_type": "markdown",
   "metadata": {}
  },
  {
   "cell_type": "code",
   "execution_count": 236,
   "metadata": {},
   "outputs": [
    {
     "output_type": "execute_result",
     "data": {
      "text/plain": "(9120, 28)"
     },
     "metadata": {},
     "execution_count": 236
    }
   ],
   "source": [
    "dados.shape"
   ]
  },
  {
   "cell_type": "code",
   "execution_count": 237,
   "metadata": {},
   "outputs": [],
   "source": [
    "df3 = dados.copy()"
   ]
  },
  {
   "source": [
    "## Utilizarei método de Regressão linear para predizer valores numéricos"
   ],
   "cell_type": "markdown",
   "metadata": {}
  },
  {
   "cell_type": "code",
   "execution_count": 238,
   "metadata": {
    "tags": []
   },
   "outputs": [
    {
     "output_type": "stream",
     "name": "stdout",
     "text": "<class 'pandas.core.frame.DataFrame'>\nRangeIndex: 9120 entries, 0 to 9119\nData columns (total 28 columns):\n #   Column                  Non-Null Count  Dtype  \n---  ------                  --------------  -----  \n 0   Situação do parto       9120 non-null   object \n 1   Bezerro deste parto     9120 non-null   object \n 2   Tipo de prenhez         9120 non-null   object \n 3   ECC                     8938 non-null   float64\n 4   Multiparidade           9119 non-null   object \n 5   IPC (mês)               7469 non-null   float64\n 6   PS (mês)                7469 non-null   float64\n 7   IEP (mês)               9112 non-null   float64\n 8   Nº SC                   9120 non-null   int64  \n 9   PA (kg/L/lactação)      8256 non-null   float64\n 10  PMD (kg/L/dia)          8256 non-null   float64\n 11  PLMD (4%G) (kg/L/dias)  4354 non-null   float64\n 12  DEL (dias)              8256 non-null   float64\n 13  PAT (kg/L/lactação)     8218 non-null   float64\n 14  PMDT (kg/L/dia)         8218 non-null   float64\n 15  DELA (dias)             8218 non-null   float64\n 16  GORD (%)                4993 non-null   float64\n 17  PROT (%)                4993 non-null   float64\n 18  LACT (%)                4993 non-null   float64\n 19  ST (%)                  4993 non-null   float64\n 20  ES (%)                  4993 non-null   float64\n 21  CCS 1000x células/ml    4993 non-null   float64\n 22  ECS                     4993 non-null   float64\n 23  Estações do ano         9120 non-null   object \n 24  ITU                     9120 non-null   float64\n 25  Temp (ºC)               9120 non-null   float64\n 26  UR (%)                  9120 non-null   float64\n 27  Precipitação (mm)       9118 non-null   float64\ndtypes: float64(22), int64(1), object(5)\nmemory usage: 1.9+ MB\n"
    }
   ],
   "source": [
    "df3.info()"
   ]
  },
  {
   "source": [
    "### ECC"
   ],
   "cell_type": "markdown",
   "metadata": {}
  },
  {
   "cell_type": "code",
   "execution_count": 249,
   "metadata": {},
   "outputs": [],
   "source": [
    "from sklearn.linear_model import LinearRegression\n",
    "\n",
    "df3_teste = df3[df3['ECC'].isnull()].copy()\n",
    "\n",
    "df3_train = df3.copy()\n",
    "df3_train.dropna(inplace=True)\n",
    "\n",
    "# Criando variáveis Dummies para o X_train\n",
    "df3_train = pd.get_dummies(df3_train, columns=[\"Situação do parto\", \"Bezerro deste parto\", \"Tipo de prenhez\", \"Multiparidade\", \"Estações do ano\"], drop_first=True)\n",
    "df3_teste = pd.get_dummies(df3_teste, columns=[\"Situação do parto\", \"Bezerro deste parto\", \"Tipo de prenhez\", \"Multiparidade\", \"Estações do ano\"], drop_first=True)\n",
    "\n",
    "y_train = df3_train['ECC']\n",
    "X_train = df3_train.drop('ECC', axis=1)\n",
    "X_teste = df3_teste.drop('ECC', axis=1)\n",
    "\n",
    "modelo = LinearRegression().fit(X_train, y_train)\n",
    "\n",
    "#y_pred = modelo.predict(X_teste)\n",
    "#y_pred"
   ]
  },
  {
   "cell_type": "code",
   "execution_count": 250,
   "metadata": {},
   "outputs": [
    {
     "output_type": "execute_result",
     "data": {
      "text/plain": "      IPC (mês)   PS (mês)  IEP (mês)  Nº SC  PA (kg/L/lactação)  \\\n8      2.866667   2.866667        NaN      1            3687.116   \n22     1.966667   4.666667       17.0      7            3355.695   \n71     1.800000   6.466667       28.2     12           10511.040   \n132    1.900000  17.433333        NaN      7           17145.168   \n161         NaN        NaN        NaN      3                 NaN   \n...         ...        ...        ...    ...                 ...   \n8793        NaN        NaN        0.0      2                 NaN   \n8802        NaN        NaN        0.0      2            7887.931   \n8808   1.400000   6.166667        0.0      2           14221.704   \n8843        NaN        NaN        0.0      2           21039.351   \n8851   3.200000   5.200000        0.0      3            3272.565   \n\n      PMD (kg/L/dia)  PLMD (4%G) (kg/L/dias)  DEL (dias)  PAT (kg/L/lactação)  \\\n8             36.871                     NaN  100.000434            61658.363   \n22            18.437                     NaN  182.008732            46771.185   \n71            42.383                     NaN  248.001321            53144.074   \n132           32.471                     NaN  528.014782            57287.523   \n161              NaN                     NaN         NaN            60435.672   \n...              ...                     ...         ...                  ...   \n8793             NaN                     NaN         NaN                  NaN   \n8802          27.872               21.517184  283.005561             7887.931   \n8808          43.759               47.500395  325.000663            14221.704   \n8843          28.165               25.756892  747.003408            21039.351   \n8851          16.868               17.171624  194.010256             3272.565   \n\n      PMDT (kg/L/dia)  ...  Tipo de prenhez_TE/FIV  Multiparidade_quarta  \\\n8              34.216  ...                       0                     0   \n22             23.887  ...                       1                     1   \n71             27.323  ...                       0                     1   \n132            30.310  ...                       1                     0   \n161            25.615  ...                       1                     0   \n...               ...  ...                     ...                   ...   \n8793              NaN  ...                       0                     0   \n8802           27.872  ...                       0                     0   \n8808           43.759  ...                       0                     0   \n8843           28.165  ...                       0                     0   \n8851           16.868  ...                       0                     0   \n\n      Multiparidade_quinta  Multiparidade_segunda  Multiparidade_sexta  \\\n8                        0                      0                    1   \n22                       0                      0                    0   \n71                       0                      0                    0   \n132                      1                      0                    0   \n161                      0                      0                    0   \n...                    ...                    ...                  ...   \n8793                     0                      0                    0   \n8802                     0                      0                    0   \n8808                     0                      0                    0   \n8843                     0                      0                    0   \n8851                     0                      0                    0   \n\n      Multiparidade_sextima  Multiparidade_terceira  Estações do ano_outono  \\\n8                         0                       0                       1   \n22                        0                       0                       0   \n71                        0                       0                       0   \n132                       0                       0                       1   \n161                       1                       0                       0   \n...                     ...                     ...                     ...   \n8793                      0                       0                       0   \n8802                      0                       0                       1   \n8808                      0                       0                       0   \n8843                      0                       0                       0   \n8851                      0                       0                       0   \n\n      Estações do ano_primavera  Estações do ano_verão  \n8                             0                      0  \n22                            0                      0  \n71                            0                      0  \n132                           0                      0  \n161                           0                      0  \n...                         ...                    ...  \n8793                          0                      0  \n8802                          0                      0  \n8808                          1                      0  \n8843                          1                      0  \n8851                          1                      0  \n\n[182 rows x 37 columns]",
      "text/html": "<div>\n<style scoped>\n    .dataframe tbody tr th:only-of-type {\n        vertical-align: middle;\n    }\n\n    .dataframe tbody tr th {\n        vertical-align: top;\n    }\n\n    .dataframe thead th {\n        text-align: right;\n    }\n</style>\n<table border=\"1\" class=\"dataframe\">\n  <thead>\n    <tr style=\"text-align: right;\">\n      <th></th>\n      <th>IPC (mês)</th>\n      <th>PS (mês)</th>\n      <th>IEP (mês)</th>\n      <th>Nº SC</th>\n      <th>PA (kg/L/lactação)</th>\n      <th>PMD (kg/L/dia)</th>\n      <th>PLMD (4%G) (kg/L/dias)</th>\n      <th>DEL (dias)</th>\n      <th>PAT (kg/L/lactação)</th>\n      <th>PMDT (kg/L/dia)</th>\n      <th>...</th>\n      <th>Tipo de prenhez_TE/FIV</th>\n      <th>Multiparidade_quarta</th>\n      <th>Multiparidade_quinta</th>\n      <th>Multiparidade_segunda</th>\n      <th>Multiparidade_sexta</th>\n      <th>Multiparidade_sextima</th>\n      <th>Multiparidade_terceira</th>\n      <th>Estações do ano_outono</th>\n      <th>Estações do ano_primavera</th>\n      <th>Estações do ano_verão</th>\n    </tr>\n  </thead>\n  <tbody>\n    <tr>\n      <th>8</th>\n      <td>2.866667</td>\n      <td>2.866667</td>\n      <td>NaN</td>\n      <td>1</td>\n      <td>3687.116</td>\n      <td>36.871</td>\n      <td>NaN</td>\n      <td>100.000434</td>\n      <td>61658.363</td>\n      <td>34.216</td>\n      <td>...</td>\n      <td>0</td>\n      <td>0</td>\n      <td>0</td>\n      <td>0</td>\n      <td>1</td>\n      <td>0</td>\n      <td>0</td>\n      <td>1</td>\n      <td>0</td>\n      <td>0</td>\n    </tr>\n    <tr>\n      <th>22</th>\n      <td>1.966667</td>\n      <td>4.666667</td>\n      <td>17.0</td>\n      <td>7</td>\n      <td>3355.695</td>\n      <td>18.437</td>\n      <td>NaN</td>\n      <td>182.008732</td>\n      <td>46771.185</td>\n      <td>23.887</td>\n      <td>...</td>\n      <td>1</td>\n      <td>1</td>\n      <td>0</td>\n      <td>0</td>\n      <td>0</td>\n      <td>0</td>\n      <td>0</td>\n      <td>0</td>\n      <td>0</td>\n      <td>0</td>\n    </tr>\n    <tr>\n      <th>71</th>\n      <td>1.800000</td>\n      <td>6.466667</td>\n      <td>28.2</td>\n      <td>12</td>\n      <td>10511.040</td>\n      <td>42.383</td>\n      <td>NaN</td>\n      <td>248.001321</td>\n      <td>53144.074</td>\n      <td>27.323</td>\n      <td>...</td>\n      <td>0</td>\n      <td>1</td>\n      <td>0</td>\n      <td>0</td>\n      <td>0</td>\n      <td>0</td>\n      <td>0</td>\n      <td>0</td>\n      <td>0</td>\n      <td>0</td>\n    </tr>\n    <tr>\n      <th>132</th>\n      <td>1.900000</td>\n      <td>17.433333</td>\n      <td>NaN</td>\n      <td>7</td>\n      <td>17145.168</td>\n      <td>32.471</td>\n      <td>NaN</td>\n      <td>528.014782</td>\n      <td>57287.523</td>\n      <td>30.310</td>\n      <td>...</td>\n      <td>1</td>\n      <td>0</td>\n      <td>1</td>\n      <td>0</td>\n      <td>0</td>\n      <td>0</td>\n      <td>0</td>\n      <td>1</td>\n      <td>0</td>\n      <td>0</td>\n    </tr>\n    <tr>\n      <th>161</th>\n      <td>NaN</td>\n      <td>NaN</td>\n      <td>NaN</td>\n      <td>3</td>\n      <td>NaN</td>\n      <td>NaN</td>\n      <td>NaN</td>\n      <td>NaN</td>\n      <td>60435.672</td>\n      <td>25.615</td>\n      <td>...</td>\n      <td>1</td>\n      <td>0</td>\n      <td>0</td>\n      <td>0</td>\n      <td>0</td>\n      <td>1</td>\n      <td>0</td>\n      <td>0</td>\n      <td>0</td>\n      <td>0</td>\n    </tr>\n    <tr>\n      <th>...</th>\n      <td>...</td>\n      <td>...</td>\n      <td>...</td>\n      <td>...</td>\n      <td>...</td>\n      <td>...</td>\n      <td>...</td>\n      <td>...</td>\n      <td>...</td>\n      <td>...</td>\n      <td>...</td>\n      <td>...</td>\n      <td>...</td>\n      <td>...</td>\n      <td>...</td>\n      <td>...</td>\n      <td>...</td>\n      <td>...</td>\n      <td>...</td>\n      <td>...</td>\n      <td>...</td>\n    </tr>\n    <tr>\n      <th>8793</th>\n      <td>NaN</td>\n      <td>NaN</td>\n      <td>0.0</td>\n      <td>2</td>\n      <td>NaN</td>\n      <td>NaN</td>\n      <td>NaN</td>\n      <td>NaN</td>\n      <td>NaN</td>\n      <td>NaN</td>\n      <td>...</td>\n      <td>0</td>\n      <td>0</td>\n      <td>0</td>\n      <td>0</td>\n      <td>0</td>\n      <td>0</td>\n      <td>0</td>\n      <td>0</td>\n      <td>0</td>\n      <td>0</td>\n    </tr>\n    <tr>\n      <th>8802</th>\n      <td>NaN</td>\n      <td>NaN</td>\n      <td>0.0</td>\n      <td>2</td>\n      <td>7887.931</td>\n      <td>27.872</td>\n      <td>21.517184</td>\n      <td>283.005561</td>\n      <td>7887.931</td>\n      <td>27.872</td>\n      <td>...</td>\n      <td>0</td>\n      <td>0</td>\n      <td>0</td>\n      <td>0</td>\n      <td>0</td>\n      <td>0</td>\n      <td>0</td>\n      <td>1</td>\n      <td>0</td>\n      <td>0</td>\n    </tr>\n    <tr>\n      <th>8808</th>\n      <td>1.400000</td>\n      <td>6.166667</td>\n      <td>0.0</td>\n      <td>2</td>\n      <td>14221.704</td>\n      <td>43.759</td>\n      <td>47.500395</td>\n      <td>325.000663</td>\n      <td>14221.704</td>\n      <td>43.759</td>\n      <td>...</td>\n      <td>0</td>\n      <td>0</td>\n      <td>0</td>\n      <td>0</td>\n      <td>0</td>\n      <td>0</td>\n      <td>0</td>\n      <td>0</td>\n      <td>1</td>\n      <td>0</td>\n    </tr>\n    <tr>\n      <th>8843</th>\n      <td>NaN</td>\n      <td>NaN</td>\n      <td>0.0</td>\n      <td>2</td>\n      <td>21039.351</td>\n      <td>28.165</td>\n      <td>25.756892</td>\n      <td>747.003408</td>\n      <td>21039.351</td>\n      <td>28.165</td>\n      <td>...</td>\n      <td>0</td>\n      <td>0</td>\n      <td>0</td>\n      <td>0</td>\n      <td>0</td>\n      <td>0</td>\n      <td>0</td>\n      <td>0</td>\n      <td>1</td>\n      <td>0</td>\n    </tr>\n    <tr>\n      <th>8851</th>\n      <td>3.200000</td>\n      <td>5.200000</td>\n      <td>0.0</td>\n      <td>3</td>\n      <td>3272.565</td>\n      <td>16.868</td>\n      <td>17.171624</td>\n      <td>194.010256</td>\n      <td>3272.565</td>\n      <td>16.868</td>\n      <td>...</td>\n      <td>0</td>\n      <td>0</td>\n      <td>0</td>\n      <td>0</td>\n      <td>0</td>\n      <td>0</td>\n      <td>0</td>\n      <td>0</td>\n      <td>1</td>\n      <td>0</td>\n    </tr>\n  </tbody>\n</table>\n<p>182 rows × 37 columns</p>\n</div>"
     },
     "metadata": {},
     "execution_count": 250
    }
   ],
   "source": [
    "X_teste"
   ]
  },
  {
   "cell_type": "code",
   "execution_count": null,
   "metadata": {},
   "outputs": [],
   "source": []
  }
 ]
}